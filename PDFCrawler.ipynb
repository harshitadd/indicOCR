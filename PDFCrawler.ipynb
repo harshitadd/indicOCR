{
  "nbformat": 4,
  "nbformat_minor": 0,
  "metadata": {
    "colab": {
      "name": "PDFCrawler.ipynb",
      "provenance": [],
      "authorship_tag": "ABX9TyMEnlqoBBiwX29fxuIao+tx",
      "include_colab_link": true
    },
    "kernelspec": {
      "name": "python3",
      "display_name": "Python 3"
    }
  },
  "cells": [
    {
      "cell_type": "markdown",
      "metadata": {
        "id": "view-in-github",
        "colab_type": "text"
      },
      "source": [
        "<a href=\"https://colab.research.google.com/github/harshitadd/AI4BharatTranslation/blob/main/PDFCrawler.ipynb\" target=\"_parent\"><img src=\"https://colab.research.google.com/assets/colab-badge.svg\" alt=\"Open In Colab\"/></a>"
      ]
    },
    {
      "cell_type": "code",
      "metadata": {
        "id": "9qys6P222jaO"
      },
      "source": [
        "import requests\r\n",
        "import sys \r\n",
        "import os"
      ],
      "execution_count": 1,
      "outputs": []
    },
    {
      "cell_type": "code",
      "metadata": {
        "colab": {
          "base_uri": "https://localhost:8080/"
        },
        "id": "mc8FIs2F2vaB",
        "outputId": "313efc27-fa44-4148-aa2e-ede81ad30193"
      },
      "source": [
        "from google.colab import drive\r\n",
        "drive.mount('/content/gdrive')"
      ],
      "execution_count": 2,
      "outputs": [
        {
          "output_type": "stream",
          "text": [
            "Drive already mounted at /content/gdrive; to attempt to forcibly remount, call drive.mount(\"/content/gdrive\", force_remount=True).\n"
          ],
          "name": "stdout"
        }
      ]
    },
    {
      "cell_type": "code",
      "metadata": {
        "id": "-66WLGNo2zMg"
      },
      "source": [
        "def source_links():\r\n",
        "  with open('/content/gdrive/MyDrive/source_links.txt','r') as file: \r\n",
        "    links = file.read()                                              # l [0] ==> eng link and l[1] ==> tam link \r\n",
        "    links = links.split()\r\n",
        "    source_links = []\r\n",
        "    for link in links:\r\n",
        "      if '_e_' in link:\r\n",
        "        l = []\r\n",
        "        l.append(link)\r\n",
        "        temp = link \r\n",
        "        temp = temp.replace('_e_','_t_')\r\n",
        "        l.append(temp)\r\n",
        "        source_links.append(l)\r\n",
        "    print('Number of Source Links :' + str(len(source_links)))\r\n",
        "  return source_links"
      ],
      "execution_count": 3,
      "outputs": []
    },
    {
      "cell_type": "code",
      "metadata": {
        "id": "_GTRNg6r22s1"
      },
      "source": [
        "def download_pdf(source_links):\r\n",
        "  source_counter = 1\r\n",
        "  failed = []\r\n",
        "  for source in source_links:\r\n",
        "    eng = source[0]\r\n",
        "    tam = source[1]\r\n",
        "    try:\r\n",
        "      response_eng = requests.get(eng)\r\n",
        "      response_tam = requests.get(tam) \r\n",
        "      en = '/content/gdrive/MyDrive/eng/' + 'en_' + str(source_counter) + '_ta.pdf'\r\n",
        "      ta = '/content/gdrive/MyDrive/tam/' + 'ta_' + str(source_counter) + '_ta.pdf'\r\n",
        "      with open(en, 'wb') as e, open(ta, 'wb') as t:\r\n",
        "          e.write(response_eng.content)\r\n",
        "          t.write(response_tam.content)   \r\n",
        "          source_counter+=1\r\n",
        "          print('Successful')\r\n",
        "    except:\r\n",
        "      print('Failed for - ' + eng + ' and ' + tam)\r\n",
        "  print('Batch Complete!')\r\n",
        " "
      ],
      "execution_count": 4,
      "outputs": []
    },
    {
      "cell_type": "code",
      "metadata": {
        "colab": {
          "base_uri": "https://localhost:8080/"
        },
        "id": "leiB7_Xv6p68",
        "outputId": "4a623001-674d-4bae-a6a7-7e568e0f8343"
      },
      "source": [
        "source_links = source_links()\r\n"
      ],
      "execution_count": 5,
      "outputs": [
        {
          "output_type": "stream",
          "text": [
            "Number of Source Links :431\n"
          ],
          "name": "stdout"
        }
      ]
    },
    {
      "cell_type": "code",
      "metadata": {
        "id": "e7CkqNsF9eBx"
      },
      "source": [
        "download_pdf(source_links)"
      ],
      "execution_count": null,
      "outputs": []
    },
    {
      "cell_type": "code",
      "metadata": {
        "id": "aVp0IOqj-Pm7"
      },
      "source": [
        ""
      ],
      "execution_count": null,
      "outputs": []
    }
  ]
}