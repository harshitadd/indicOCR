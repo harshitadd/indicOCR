{
  "nbformat": 4,
  "nbformat_minor": 0,
  "metadata": {
    "colab": {
      "name": "PDFSourceNameScraper_Parallel.ipynb",
      "provenance": [],
      "collapsed_sections": [],
      "authorship_tag": "ABX9TyNDlfI4683pZum37bm7Ba/P",
      "include_colab_link": true
    },
    "kernelspec": {
      "display_name": "Python 3",
      "name": "python3"
    }
  },
  "cells": [
    {
      "cell_type": "markdown",
      "metadata": {
        "id": "view-in-github",
        "colab_type": "text"
      },
      "source": [
        "<a href=\"https://colab.research.google.com/github/harshitadd/AI4BharatTranslation/blob/main/PDFSourceNameScraper_Parallel.ipynb\" target=\"_parent\"><img src=\"https://colab.research.google.com/assets/colab-badge.svg\" alt=\"Open In Colab\"/></a>"
      ]
    },
    {
      "cell_type": "code",
      "metadata": {
        "colab": {
          "base_uri": "https://localhost:8080/"
        },
        "id": "mBecux7M6VAg",
        "outputId": "e087e007-148d-4283-d7d8-f7a0b631e9af"
      },
      "source": [
        "from google.colab import drive\n",
        "drive.mount('/content/gdrive')"
      ],
      "execution_count": 1,
      "outputs": [
        {
          "output_type": "stream",
          "text": [
            "Mounted at /content/gdrive\n"
          ],
          "name": "stdout"
        }
      ]
    },
    {
      "cell_type": "code",
      "metadata": {
        "colab": {
          "base_uri": "https://localhost:8080/"
        },
        "id": "m5X-kG99f6np",
        "outputId": "4a969e59-5ec1-4718-93ef-5403649fafed"
      },
      "source": [
        "import os\n",
        "import requests\n",
        "from urllib.parse import urljoin\n",
        "from bs4 import BeautifulSoup\n",
        "from time import sleep\n",
        "import ssl\n",
        "from collections import OrderedDict\n",
        "ssl._create_default_https_context = ssl._create_unverified_context\n",
        "# lang_ids = {'Assamese', 'Bengali', 'Gujarati', 'Kannada', 'Malayalam', 'Marathi', 'Odia', 'Punjabi', 'Tamil', 'Telugu'}\n",
        "page_limit = 0\n",
        "page_count = 0\n",
        "parent_links = []\n",
        "ordered_urls = OrderedDict()\n",
        "while(page_count<=page_limit):\n",
        "     url = \"http://delhiassembly.nic.in/Legislation/SubLegislation/SubLegislation.htm\" \n",
        "     response = requests.get(url, verify = False)\n",
        "     sleep(0.5)\n",
        "     soup= BeautifulSoup(response.text, \"html.parser\")\n",
        "     links = soup.find_all('a')   \n",
        "     print(\"Total Links Found:\",links.__len__())\n",
        "     print(\"Page Number:\" + str(page_count))\n",
        "     for link in links:\n",
        "       try:\n",
        "          parent_links.append('http://delhiassembly.nic.in/Legislation/SubLegislation/' + link.get('href')) \n",
        "       except:\n",
        "         pass\n",
        "          # if '.pdf' in str(link.get('href')):\n",
        "          #      ordered_urls[ str(link.get('href'))] = '' \n",
        "     page_count+=1\n"
      ],
      "execution_count": 14,
      "outputs": [
        {
          "output_type": "stream",
          "text": [
            "Total Links Found: 7\n",
            "Page Number:0\n"
          ],
          "name": "stdout"
        }
      ]
    },
    {
      "cell_type": "code",
      "metadata": {
        "colab": {
          "base_uri": "https://localhost:8080/"
        },
        "id": "XpjgVvVo_JMj",
        "outputId": "324f5b28-be7c-41af-b589-c49113dadb5c"
      },
      "source": [
        "parent_links"
      ],
      "execution_count": 15,
      "outputs": [
        {
          "output_type": "execute_result",
          "data": {
            "text/plain": [
              "['http://delhiassembly.nic.in/Legislation/SubLegislation/21-03-2011.pdf',\n",
              " 'http://delhiassembly.nic.in/Legislation/SubLegislation/01-09-2011.pdf',\n",
              " 'http://delhiassembly.nic.in/Legislation/SubLegislation/12-01-2012.pdf',\n",
              " 'http://delhiassembly.nic.in/Legislation/SubLegislation/13-01-2012.pdf',\n",
              " 'http://delhiassembly.nic.in/Legislation/SubLegislation/04-06-2012.pdf',\n",
              " 'http://delhiassembly.nic.in/Legislation/SubLegislation/11-06-2012.pdf',\n",
              " 'http://delhiassembly.nic.in/Legislation/SubLegislation/06-09-2012.pdf']"
            ]
          },
          "metadata": {
            "tags": []
          },
          "execution_count": 15
        }
      ]
    },
    {
      "cell_type": "code",
      "metadata": {
        "id": "qfxIt7WITmRv"
      },
      "source": [
        "# import os\n",
        "# import requests\n",
        "# from urllib.parse import urljoin\n",
        "# from bs4 import BeautifulSoup\n",
        "# from time import sleep\n",
        "# import ssl\n",
        "# from collections import OrderedDict\n",
        "# ssl._create_default_https_context = ssl._create_unverified_context\n",
        "# # lang_ids = {'Assamese', 'Bengali', 'Gujarati', 'Kannada', 'Malayalam', 'Marathi', 'Odia', 'Punjabi', 'Tamil', 'Telugu'}\n",
        "# page_limit = 0\n",
        "# page_count = 0\n",
        "# parent_links_hi = []\n",
        "# ordered_urls = OrderedDict()\n",
        "# while(page_count<=page_limit):\n",
        "#      url = \"https://eparlib.nic.in/handle/123456789/14/browse?page-token=3f7a738c22d3&page-token-value=5b135e3f145d2614c465478489d15ad8&type=language&value=Hindi&sort_by=1&order=ASC&rpp=100&submit_browse=Update\" \n",
        "#      response = requests.get(url, verify = False)\n",
        "#      sleep(0.5)\n",
        "#      soup= BeautifulSoup(response.text, \"html.parser\")\n",
        "#      links = soup.find_all('a')   \n",
        "#      print(\"Total Links Found:\",links.__len__())\n",
        "#      print(\"Page Number:\" + str(page_count))\n",
        "#      for link in links:\n",
        "#        if 'handle' in link.get('href'):\n",
        "#           parent_links_hi.append('https://eparlib.nic.in/' + link.get('href') ) \n",
        "#           # if '.pdf' in str(link.get('href')):\n",
        "#           #      ordered_urls[ str(link.get('href'))] = '' \n",
        "#      page_count+=1\n"
      ],
      "execution_count": null,
      "outputs": []
    },
    {
      "cell_type": "code",
      "metadata": {
        "id": "VlVSWEuWCpIi"
      },
      "source": [
        "final_en = []\n",
        "for link in parent_links:\n",
        "  l = link \n",
        "  l = l.split('/')[-1]\n",
        "  l = l.split('?')[0]\n",
        "  if int(l) > 3964:\n",
        "    final_en.append(link)\n"
      ],
      "execution_count": null,
      "outputs": []
    },
    {
      "cell_type": "code",
      "metadata": {
        "id": "NOU666iqT7oU"
      },
      "source": [
        "final_hi = []\n",
        "for link in parent_links_hi:\n",
        "  l = link \n",
        "  l = l.split('/')[-1]\n",
        "  l = l.split('?')[0]\n",
        "  if int(l) > 3964:\n",
        "    final_hi.append(link)\n"
      ],
      "execution_count": null,
      "outputs": []
    },
    {
      "cell_type": "code",
      "metadata": {
        "colab": {
          "base_uri": "https://localhost:8080/"
        },
        "id": "Z-1ByFb4QRRy",
        "outputId": "21d20a12-28b9-4f38-e82e-9ee991c88522"
      },
      "source": [
        "print(len(parent_links))"
      ],
      "execution_count": null,
      "outputs": [
        {
          "output_type": "stream",
          "text": [
            "111\n"
          ],
          "name": "stdout"
        }
      ]
    },
    {
      "cell_type": "code",
      "metadata": {
        "colab": {
          "base_uri": "https://localhost:8080/"
        },
        "id": "xjKD0jCgSxe8",
        "outputId": "d0eed333-bca8-41a8-9222-e1414800284c"
      },
      "source": [
        "print(len(final_en))"
      ],
      "execution_count": null,
      "outputs": [
        {
          "output_type": "stream",
          "text": [
            "81\n"
          ],
          "name": "stdout"
        }
      ]
    },
    {
      "cell_type": "code",
      "metadata": {
        "id": "am92qH9qTfrg"
      },
      "source": [
        "final_en = final_en[9:]"
      ],
      "execution_count": null,
      "outputs": []
    },
    {
      "cell_type": "code",
      "metadata": {
        "id": "k0uZqM0oQFFl"
      },
      "source": [
        "final_en"
      ],
      "execution_count": null,
      "outputs": []
    },
    {
      "cell_type": "code",
      "metadata": {
        "id": "R9OJaxgAQBLN"
      },
      "source": [
        "final_hi"
      ],
      "execution_count": null,
      "outputs": []
    },
    {
      "cell_type": "code",
      "metadata": {
        "colab": {
          "base_uri": "https://localhost:8080/"
        },
        "id": "Qt3L4cVoUBZB",
        "outputId": "1224e3be-6ed8-415e-bcdd-32e256c0fe64"
      },
      "source": [
        "print(len(final_en))\n",
        "print(len(final_hi))"
      ],
      "execution_count": null,
      "outputs": [
        {
          "output_type": "stream",
          "text": [
            "81\n",
            "92\n"
          ],
          "name": "stdout"
        }
      ]
    },
    {
      "cell_type": "code",
      "metadata": {
        "id": "X6eTUgl8UGkS"
      },
      "source": [
        "final_hi = final_hi[:-11]"
      ],
      "execution_count": null,
      "outputs": []
    },
    {
      "cell_type": "code",
      "metadata": {
        "id": "ctckQw33TSN8"
      },
      "source": [
        "final_hi"
      ],
      "execution_count": null,
      "outputs": []
    },
    {
      "cell_type": "markdown",
      "metadata": {
        "id": "TnEIt4gDYDuV"
      },
      "source": [
        "Getting PDFs"
      ]
    },
    {
      "cell_type": "code",
      "metadata": {
        "id": "fNcbHyyNYDfQ"
      },
      "source": [
        "filtered_en = []\n",
        "for link in final_en:\n",
        "     url = link \n",
        "     response = requests.get(url, verify = False)\n",
        "     soup= BeautifulSoup(response.text, \"html.parser\")\n",
        "     links = soup.find_all('a')   \n",
        "     for l in links:\n",
        "          if '.pdf' in str(l.get('href')):\n",
        "               filtered_en.append(l.get('href'))"
      ],
      "execution_count": null,
      "outputs": []
    },
    {
      "cell_type": "code",
      "metadata": {
        "id": "NYOEj2CKYDb9"
      },
      "source": [
        "filtered_en"
      ],
      "execution_count": null,
      "outputs": []
    },
    {
      "cell_type": "code",
      "metadata": {
        "id": "jVtD-c0eSCWM"
      },
      "source": [
        "matched_documents = {}\n",
        "for e,h in zip(filtered_en,filtered_hi):\n",
        "  e_name = e.split('/')[-1]\n",
        "  h_name = h.split('/')[-1]\n",
        "  matched_documents[e]=''"
      ],
      "execution_count": null,
      "outputs": []
    },
    {
      "cell_type": "code",
      "metadata": {
        "colab": {
          "base_uri": "https://localhost:8080/"
        },
        "id": "IEFPlGtgW035",
        "outputId": "5f3ecb7f-0c66-4dc1-937d-fb292d6eb087"
      },
      "source": [
        "print('23-02-2000')"
      ],
      "execution_count": null,
      "outputs": [
        {
          "output_type": "stream",
          "text": [
            "23-02-2000\n"
          ],
          "name": "stdout"
        }
      ]
    },
    {
      "cell_type": "code",
      "metadata": {
        "id": "9me_15pOSwET"
      },
      "source": [
        "final_matched_documents = {}\n",
        "for e in matched_documents:\n",
        "  e_date = e.split('/')[-1]\n",
        "  e_date = e_date.replace('-','')\n",
        "  e_date = e_date.replace('_','')\n",
        "  for h in filtered_hi:\n",
        "    h_name = h.split('/')[-1]\n",
        "    h_name = h_name.replace('_hindi','')\n",
        "    h_name = h_name.replace('_','')\n",
        "    h_name = h_name.replace('-','')\n",
        "    if h_name == e_date:\n",
        "      final_matched_documents['https://eparlib.nic.in/' + e]= 'https://eparlib.nic.in/' + h\n"
      ],
      "execution_count": null,
      "outputs": []
    },
    {
      "cell_type": "code",
      "metadata": {
        "id": "t0PVEt1FTbGb"
      },
      "source": [
        "print(matched_documents)"
      ],
      "execution_count": null,
      "outputs": []
    },
    {
      "cell_type": "code",
      "metadata": {
        "id": "qfCkncn0UK3v"
      },
      "source": [
        "for key in final_matched_documents:\n",
        "    print(final_matched_documents[key])"
      ],
      "execution_count": null,
      "outputs": []
    },
    {
      "cell_type": "markdown",
      "metadata": {
        "id": "1G6NVuEn5ny0"
      },
      "source": [
        "DOWNLOADING"
      ]
    },
    {
      "cell_type": "code",
      "metadata": {
        "id": "tw0eT6k0ROYb"
      },
      "source": [
        "ctr = 0\n",
        "for key in final_matched_documents:\n",
        "  en = requests.get(key)\n",
        "  en_dest = '/content/gdrive/MyDrive/OCR Sources/Hi/PDL_Presidential_Speech/' + str(ctr) + '_en.pdf'\n",
        "  with open(en_dest,'wb') as e:\n",
        "    e.write(en.content)\n",
        "  hi = requests.get(final_matched_documents[key])\n",
        "  hi_dest = '/content/gdrive/MyDrive/OCR Sources/Hi/PDL_Presidential_Speech/' + str(ctr) + '_hi.pdf'\n",
        "  with open(hi_dest,'wb') as h:\n",
        "    h.write(hi.content)\n",
        "  ctr+=1\n"
      ],
      "execution_count": null,
      "outputs": []
    },
    {
      "cell_type": "code",
      "metadata": {
        "id": "82sf4tgZZlpk"
      },
      "source": [
        "ctr = 0\n",
        "for link in parent_links:\n",
        "  inter = requests.get(link)\n",
        "  dest = '/content/gdrive/MyDrive/OCR Sources/Hi/Subordinate Legislations/' + str(ctr) + '.pdf'\n",
        "  with open(dest,'wb') as e:\n",
        "    e.write(inter.content)\n",
        "  ctr+=1"
      ],
      "execution_count": 16,
      "outputs": []
    },
    {
      "cell_type": "code",
      "metadata": {
        "id": "9tmoRWn7AFC8"
      },
      "source": [
        ""
      ],
      "execution_count": null,
      "outputs": []
    }
  ]
}