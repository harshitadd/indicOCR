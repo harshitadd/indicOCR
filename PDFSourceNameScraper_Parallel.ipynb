{
  "nbformat": 4,
  "nbformat_minor": 0,
  "metadata": {
    "colab": {
      "name": "PDFSourceNameScraper_Parallel.ipynb",
      "provenance": [],
      "collapsed_sections": [],
      "authorship_tag": "ABX9TyNqFruSFsQ1Zu5sDig1Sjuv",
      "include_colab_link": true
    },
    "kernelspec": {
      "display_name": "Python 3",
      "name": "python3"
    }
  },
  "cells": [
    {
      "cell_type": "markdown",
      "metadata": {
        "id": "view-in-github",
        "colab_type": "text"
      },
      "source": [
        "<a href=\"https://colab.research.google.com/github/harshitadd/AI4BharatTranslation/blob/main/PDFSourceNameScraper_Parallel.ipynb\" target=\"_parent\"><img src=\"https://colab.research.google.com/assets/colab-badge.svg\" alt=\"Open In Colab\"/></a>"
      ]
    },
    {
      "cell_type": "code",
      "metadata": {
        "colab": {
          "base_uri": "https://localhost:8080/"
        },
        "id": "mBecux7M6VAg",
        "outputId": "64d277f0-134d-4e44-9240-d334b04f0a3d"
      },
      "source": [
        "from google.colab import drive\n",
        "drive.mount('/content/gdrive')"
      ],
      "execution_count": 1,
      "outputs": [
        {
          "output_type": "stream",
          "text": [
            "Mounted at /content/gdrive\n"
          ],
          "name": "stdout"
        }
      ]
    },
    {
      "cell_type": "code",
      "metadata": {
        "colab": {
          "base_uri": "https://localhost:8080/"
        },
        "id": "m5X-kG99f6np",
        "outputId": "59e0419c-6bd1-4aa6-a3a6-641014911a41"
      },
      "source": [
        "import os\n",
        "import requests\n",
        "from urllib.parse import urljoin\n",
        "from bs4 import BeautifulSoup\n",
        "from time import sleep\n",
        "import ssl\n",
        "from collections import OrderedDict\n",
        "ssl._create_default_https_context = ssl._create_unverified_context\n",
        "# lang_ids = {'Assamese', 'Bengali', 'Gujarati', 'Kannada', 'Malayalam', 'Marathi', 'Odia', 'Punjabi', 'Tamil', 'Telugu'}\n",
        "page_limit = 0\n",
        "page_count = 0\n",
        "parent_links = []\n",
        "ordered_urls = OrderedDict()\n",
        "while(page_count<=page_limit):\n",
        "     url = \"https://eparlib.nic.in/handle/123456789/14/browse?page-token=3f7a738c22d3&page-token-value=5b135e3f145d2614c465478489d15ad8&type=language&value=English&sort_by=1&order=ASC&rpp=100&submit_browse=Update\" \n",
        "     response = requests.get(url, verify = False)\n",
        "     sleep(0.5)\n",
        "     soup= BeautifulSoup(response.text, \"html.parser\")\n",
        "     links = soup.find_all('a')   \n",
        "     print(\"Total Links Found:\",links.__len__())\n",
        "     print(\"Page Number:\" + str(page_count))\n",
        "     for link in links:\n",
        "       if 'handle' in link.get('href'):\n",
        "          parent_links.append('https://eparlib.nic.in/' + link.get('href') ) \n",
        "          # if '.pdf' in str(link.get('href')):\n",
        "          #      ordered_urls[ str(link.get('href'))] = '' \n",
        "     page_count+=1\n"
      ],
      "execution_count": 2,
      "outputs": [
        {
          "output_type": "stream",
          "text": [
            "/usr/local/lib/python3.7/dist-packages/urllib3/connectionpool.py:847: InsecureRequestWarning: Unverified HTTPS request is being made. Adding certificate verification is strongly advised. See: https://urllib3.readthedocs.io/en/latest/advanced-usage.html#ssl-warnings\n",
            "  InsecureRequestWarning)\n"
          ],
          "name": "stderr"
        },
        {
          "output_type": "stream",
          "text": [
            "Total Links Found: 157\n",
            "Page Number:0\n"
          ],
          "name": "stdout"
        }
      ]
    },
    {
      "cell_type": "code",
      "metadata": {
        "colab": {
          "base_uri": "https://localhost:8080/"
        },
        "id": "qfxIt7WITmRv",
        "outputId": "a72e3e6e-ac95-465c-ac49-1c0578b9bb7f"
      },
      "source": [
        "import os\n",
        "import requests\n",
        "from urllib.parse import urljoin\n",
        "from bs4 import BeautifulSoup\n",
        "from time import sleep\n",
        "import ssl\n",
        "from collections import OrderedDict\n",
        "ssl._create_default_https_context = ssl._create_unverified_context\n",
        "# lang_ids = {'Assamese', 'Bengali', 'Gujarati', 'Kannada', 'Malayalam', 'Marathi', 'Odia', 'Punjabi', 'Tamil', 'Telugu'}\n",
        "page_limit = 0\n",
        "page_count = 0\n",
        "parent_links_hi = []\n",
        "ordered_urls = OrderedDict()\n",
        "while(page_count<=page_limit):\n",
        "     url = \"https://eparlib.nic.in/handle/123456789/14/browse?page-token=3f7a738c22d3&page-token-value=5b135e3f145d2614c465478489d15ad8&type=language&value=Hindi&sort_by=1&order=ASC&rpp=100&submit_browse=Update\" \n",
        "     response = requests.get(url, verify = False)\n",
        "     sleep(0.5)\n",
        "     soup= BeautifulSoup(response.text, \"html.parser\")\n",
        "     links = soup.find_all('a')   \n",
        "     print(\"Total Links Found:\",links.__len__())\n",
        "     print(\"Page Number:\" + str(page_count))\n",
        "     for link in links:\n",
        "       if 'handle' in link.get('href'):\n",
        "          parent_links_hi.append('https://eparlib.nic.in/' + link.get('href') ) \n",
        "          # if '.pdf' in str(link.get('href')):\n",
        "          #      ordered_urls[ str(link.get('href'))] = '' \n",
        "     page_count+=1\n"
      ],
      "execution_count": 6,
      "outputs": [
        {
          "output_type": "stream",
          "text": [
            "/usr/local/lib/python3.7/dist-packages/urllib3/connectionpool.py:847: InsecureRequestWarning: Unverified HTTPS request is being made. Adding certificate verification is strongly advised. See: https://urllib3.readthedocs.io/en/latest/advanced-usage.html#ssl-warnings\n",
            "  InsecureRequestWarning)\n"
          ],
          "name": "stderr"
        },
        {
          "output_type": "stream",
          "text": [
            "Total Links Found: 156\n",
            "Page Number:0\n"
          ],
          "name": "stdout"
        }
      ]
    },
    {
      "cell_type": "code",
      "metadata": {
        "id": "VlVSWEuWCpIi"
      },
      "source": [
        "final_en = []\n",
        "for link in parent_links:\n",
        "  l = link \n",
        "  l = l.split('/')[-1]\n",
        "  l = l.split('?')[0]\n",
        "  if int(l) > 3964:\n",
        "    final_en.append(link)\n"
      ],
      "execution_count": 3,
      "outputs": []
    },
    {
      "cell_type": "code",
      "metadata": {
        "id": "NOU666iqT7oU"
      },
      "source": [
        "final_hi = []\n",
        "for link in parent_links_hi:\n",
        "  l = link \n",
        "  l = l.split('/')[-1]\n",
        "  l = l.split('?')[0]\n",
        "  if int(l) > 3964:\n",
        "    final_hi.append(link)\n"
      ],
      "execution_count": 7,
      "outputs": []
    },
    {
      "cell_type": "code",
      "metadata": {
        "colab": {
          "base_uri": "https://localhost:8080/"
        },
        "id": "Z-1ByFb4QRRy",
        "outputId": "21d20a12-28b9-4f38-e82e-9ee991c88522"
      },
      "source": [
        "print(len(parent_links))"
      ],
      "execution_count": 4,
      "outputs": [
        {
          "output_type": "stream",
          "text": [
            "111\n"
          ],
          "name": "stdout"
        }
      ]
    },
    {
      "cell_type": "code",
      "metadata": {
        "colab": {
          "base_uri": "https://localhost:8080/"
        },
        "id": "xjKD0jCgSxe8",
        "outputId": "d0eed333-bca8-41a8-9222-e1414800284c"
      },
      "source": [
        "print(len(final_en))"
      ],
      "execution_count": 5,
      "outputs": [
        {
          "output_type": "stream",
          "text": [
            "81\n"
          ],
          "name": "stdout"
        }
      ]
    },
    {
      "cell_type": "code",
      "metadata": {
        "id": "am92qH9qTfrg"
      },
      "source": [
        "final_en = final_en[9:]"
      ],
      "execution_count": null,
      "outputs": []
    },
    {
      "cell_type": "code",
      "metadata": {
        "id": "k0uZqM0oQFFl"
      },
      "source": [
        "final_en"
      ],
      "execution_count": null,
      "outputs": []
    },
    {
      "cell_type": "code",
      "metadata": {
        "id": "R9OJaxgAQBLN"
      },
      "source": [
        "final_hi"
      ],
      "execution_count": null,
      "outputs": []
    },
    {
      "cell_type": "code",
      "metadata": {
        "colab": {
          "base_uri": "https://localhost:8080/"
        },
        "id": "Qt3L4cVoUBZB",
        "outputId": "1224e3be-6ed8-415e-bcdd-32e256c0fe64"
      },
      "source": [
        "print(len(final_en))\n",
        "print(len(final_hi))"
      ],
      "execution_count": 8,
      "outputs": [
        {
          "output_type": "stream",
          "text": [
            "81\n",
            "92\n"
          ],
          "name": "stdout"
        }
      ]
    },
    {
      "cell_type": "code",
      "metadata": {
        "id": "X6eTUgl8UGkS"
      },
      "source": [
        "final_hi = final_hi[:-11]"
      ],
      "execution_count": 11,
      "outputs": []
    },
    {
      "cell_type": "code",
      "metadata": {
        "id": "ctckQw33TSN8"
      },
      "source": [
        "final_hi"
      ],
      "execution_count": null,
      "outputs": []
    },
    {
      "cell_type": "markdown",
      "metadata": {
        "id": "TnEIt4gDYDuV"
      },
      "source": [
        "Getting PDFs"
      ]
    },
    {
      "cell_type": "code",
      "metadata": {
        "id": "fNcbHyyNYDfQ"
      },
      "source": [
        "filtered_en = []\n",
        "for link in final_en:\n",
        "     url = link \n",
        "     response = requests.get(url, verify = False)\n",
        "     soup= BeautifulSoup(response.text, \"html.parser\")\n",
        "     links = soup.find_all('a')   \n",
        "     for l in links:\n",
        "          if '.pdf' in str(l.get('href')):\n",
        "               filtered_en.append(l.get('href'))"
      ],
      "execution_count": null,
      "outputs": []
    },
    {
      "cell_type": "code",
      "metadata": {
        "id": "NYOEj2CKYDb9"
      },
      "source": [
        "filtered_en"
      ],
      "execution_count": null,
      "outputs": []
    },
    {
      "cell_type": "code",
      "metadata": {
        "id": "jVtD-c0eSCWM"
      },
      "source": [
        "matched_documents = {}\n",
        "for e,h in zip(filtered_en,filtered_hi):\n",
        "  e_name = e.split('/')[-1]\n",
        "  h_name = h.split('/')[-1]\n",
        "  matched_documents[e]=''"
      ],
      "execution_count": 20,
      "outputs": []
    },
    {
      "cell_type": "code",
      "metadata": {
        "colab": {
          "base_uri": "https://localhost:8080/"
        },
        "id": "IEFPlGtgW035",
        "outputId": "5f3ecb7f-0c66-4dc1-937d-fb292d6eb087"
      },
      "source": [
        "print('23-02-2000')"
      ],
      "execution_count": 45,
      "outputs": [
        {
          "output_type": "stream",
          "text": [
            "23-02-2000\n"
          ],
          "name": "stdout"
        }
      ]
    },
    {
      "cell_type": "code",
      "metadata": {
        "id": "9me_15pOSwET"
      },
      "source": [
        "final_matched_documents = {}\n",
        "for e in matched_documents:\n",
        "  e_date = e.split('/')[-1]\n",
        "  e_date = e_date.replace('-','')\n",
        "  e_date = e_date.replace('_','')\n",
        "  for h in filtered_hi:\n",
        "    h_name = h.split('/')[-1]\n",
        "    h_name = h_name.replace('_hindi','')\n",
        "    h_name = h_name.replace('_','')\n",
        "    h_name = h_name.replace('-','')\n",
        "    if h_name == e_date:\n",
        "      final_matched_documents['https://eparlib.nic.in/' + e]= 'https://eparlib.nic.in/' + h\n"
      ],
      "execution_count": null,
      "outputs": []
    },
    {
      "cell_type": "code",
      "metadata": {
        "id": "t0PVEt1FTbGb"
      },
      "source": [
        "print(matched_documents)"
      ],
      "execution_count": null,
      "outputs": []
    },
    {
      "cell_type": "code",
      "metadata": {
        "id": "qfCkncn0UK3v"
      },
      "source": [
        "for key in final_matched_documents:\n",
        "    print(final_matched_documents[key])"
      ],
      "execution_count": null,
      "outputs": []
    },
    {
      "cell_type": "markdown",
      "metadata": {
        "id": "1G6NVuEn5ny0"
      },
      "source": [
        "DOWNLOADING"
      ]
    },
    {
      "cell_type": "code",
      "metadata": {
        "id": "tw0eT6k0ROYb"
      },
      "source": [
        "ctr = 0\n",
        "for key in final_matched_documents:\n",
        "  en = requests.get(key)\n",
        "  en_dest = '/content/gdrive/MyDrive/OCR Sources/Hi/PDL_Presidential_Speech/' + str(ctr) + '_en.pdf'\n",
        "  with open(en_dest,'wb') as e:\n",
        "    e.write(en.content)\n",
        "  hi = requests.get(final_matched_documents[key])\n",
        "  hi_dest = '/content/gdrive/MyDrive/OCR Sources/Hi/PDL_Presidential_Speech/' + str(ctr) + '_hi.pdf'\n",
        "  with open(hi_dest,'wb') as h:\n",
        "    h.write(hi.content)\n",
        "  ctr+=1\n"
      ],
      "execution_count": 53,
      "outputs": []
    },
    {
      "cell_type": "code",
      "metadata": {
        "id": "82sf4tgZZlpk"
      },
      "source": [
        ""
      ],
      "execution_count": null,
      "outputs": []
    }
  ]
}