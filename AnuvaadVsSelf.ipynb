{
  "nbformat": 4,
  "nbformat_minor": 0,
  "metadata": {
    "colab": {
      "name": "AnuvaadVsSelf.ipynb",
      "provenance": [],
      "authorship_tag": "ABX9TyNHGupJj59NEgM+1F6FvsTG",
      "include_colab_link": true
    },
    "kernelspec": {
      "name": "python3",
      "display_name": "Python 3"
    },
    "widgets": {
      "application/vnd.jupyter.widget-state+json": {
        "b489f2fd48d948ceb2b48e46063a613a": {
          "model_module": "@jupyter-widgets/controls",
          "model_name": "HBoxModel",
          "state": {
            "_view_name": "HBoxView",
            "_dom_classes": [],
            "_model_name": "HBoxModel",
            "_view_module": "@jupyter-widgets/controls",
            "_model_module_version": "1.5.0",
            "_view_count": null,
            "_view_module_version": "1.5.0",
            "box_style": "",
            "layout": "IPY_MODEL_73ea35b482eb473ab0c873168a2bb7d8",
            "_model_module": "@jupyter-widgets/controls",
            "children": [
              "IPY_MODEL_32e48cf53ac54877bd43e5c3c20acd2f",
              "IPY_MODEL_98167104a44b4104b16d241c8bc29f35"
            ]
          }
        },
        "73ea35b482eb473ab0c873168a2bb7d8": {
          "model_module": "@jupyter-widgets/base",
          "model_name": "LayoutModel",
          "state": {
            "_view_name": "LayoutView",
            "grid_template_rows": null,
            "right": null,
            "justify_content": null,
            "_view_module": "@jupyter-widgets/base",
            "overflow": null,
            "_model_module_version": "1.2.0",
            "_view_count": null,
            "flex_flow": null,
            "width": null,
            "min_width": null,
            "border": null,
            "align_items": null,
            "bottom": null,
            "_model_module": "@jupyter-widgets/base",
            "top": null,
            "grid_column": null,
            "overflow_y": null,
            "overflow_x": null,
            "grid_auto_flow": null,
            "grid_area": null,
            "grid_template_columns": null,
            "flex": null,
            "_model_name": "LayoutModel",
            "justify_items": null,
            "grid_row": null,
            "max_height": null,
            "align_content": null,
            "visibility": null,
            "align_self": null,
            "height": null,
            "min_height": null,
            "padding": null,
            "grid_auto_rows": null,
            "grid_gap": null,
            "max_width": null,
            "order": null,
            "_view_module_version": "1.2.0",
            "grid_template_areas": null,
            "object_position": null,
            "object_fit": null,
            "grid_auto_columns": null,
            "margin": null,
            "display": null,
            "left": null
          }
        },
        "32e48cf53ac54877bd43e5c3c20acd2f": {
          "model_module": "@jupyter-widgets/controls",
          "model_name": "FloatProgressModel",
          "state": {
            "_view_name": "ProgressView",
            "style": "IPY_MODEL_e8a30efd07be4e5f9a71da5a7e767188",
            "_dom_classes": [],
            "description": "Batches: 100%",
            "_model_name": "FloatProgressModel",
            "bar_style": "success",
            "max": 1,
            "_view_module": "@jupyter-widgets/controls",
            "_model_module_version": "1.5.0",
            "value": 1,
            "_view_count": null,
            "_view_module_version": "1.5.0",
            "orientation": "horizontal",
            "min": 0,
            "description_tooltip": null,
            "_model_module": "@jupyter-widgets/controls",
            "layout": "IPY_MODEL_ad373934baf54dfdaf6f214771715d06"
          }
        },
        "98167104a44b4104b16d241c8bc29f35": {
          "model_module": "@jupyter-widgets/controls",
          "model_name": "HTMLModel",
          "state": {
            "_view_name": "HTMLView",
            "style": "IPY_MODEL_32a8045698be438e8041f9ac1bf028f5",
            "_dom_classes": [],
            "description": "",
            "_model_name": "HTMLModel",
            "placeholder": "​",
            "_view_module": "@jupyter-widgets/controls",
            "_model_module_version": "1.5.0",
            "value": " 1/1 [00:00&lt;00:00,  2.61it/s]",
            "_view_count": null,
            "_view_module_version": "1.5.0",
            "description_tooltip": null,
            "_model_module": "@jupyter-widgets/controls",
            "layout": "IPY_MODEL_582042b773004ae8bd067a6061b4a9a6"
          }
        },
        "e8a30efd07be4e5f9a71da5a7e767188": {
          "model_module": "@jupyter-widgets/controls",
          "model_name": "ProgressStyleModel",
          "state": {
            "_view_name": "StyleView",
            "_model_name": "ProgressStyleModel",
            "description_width": "initial",
            "_view_module": "@jupyter-widgets/base",
            "_model_module_version": "1.5.0",
            "_view_count": null,
            "_view_module_version": "1.2.0",
            "bar_color": null,
            "_model_module": "@jupyter-widgets/controls"
          }
        },
        "ad373934baf54dfdaf6f214771715d06": {
          "model_module": "@jupyter-widgets/base",
          "model_name": "LayoutModel",
          "state": {
            "_view_name": "LayoutView",
            "grid_template_rows": null,
            "right": null,
            "justify_content": null,
            "_view_module": "@jupyter-widgets/base",
            "overflow": null,
            "_model_module_version": "1.2.0",
            "_view_count": null,
            "flex_flow": null,
            "width": null,
            "min_width": null,
            "border": null,
            "align_items": null,
            "bottom": null,
            "_model_module": "@jupyter-widgets/base",
            "top": null,
            "grid_column": null,
            "overflow_y": null,
            "overflow_x": null,
            "grid_auto_flow": null,
            "grid_area": null,
            "grid_template_columns": null,
            "flex": null,
            "_model_name": "LayoutModel",
            "justify_items": null,
            "grid_row": null,
            "max_height": null,
            "align_content": null,
            "visibility": null,
            "align_self": null,
            "height": null,
            "min_height": null,
            "padding": null,
            "grid_auto_rows": null,
            "grid_gap": null,
            "max_width": null,
            "order": null,
            "_view_module_version": "1.2.0",
            "grid_template_areas": null,
            "object_position": null,
            "object_fit": null,
            "grid_auto_columns": null,
            "margin": null,
            "display": null,
            "left": null
          }
        },
        "32a8045698be438e8041f9ac1bf028f5": {
          "model_module": "@jupyter-widgets/controls",
          "model_name": "DescriptionStyleModel",
          "state": {
            "_view_name": "StyleView",
            "_model_name": "DescriptionStyleModel",
            "description_width": "",
            "_view_module": "@jupyter-widgets/base",
            "_model_module_version": "1.5.0",
            "_view_count": null,
            "_view_module_version": "1.2.0",
            "_model_module": "@jupyter-widgets/controls"
          }
        },
        "582042b773004ae8bd067a6061b4a9a6": {
          "model_module": "@jupyter-widgets/base",
          "model_name": "LayoutModel",
          "state": {
            "_view_name": "LayoutView",
            "grid_template_rows": null,
            "right": null,
            "justify_content": null,
            "_view_module": "@jupyter-widgets/base",
            "overflow": null,
            "_model_module_version": "1.2.0",
            "_view_count": null,
            "flex_flow": null,
            "width": null,
            "min_width": null,
            "border": null,
            "align_items": null,
            "bottom": null,
            "_model_module": "@jupyter-widgets/base",
            "top": null,
            "grid_column": null,
            "overflow_y": null,
            "overflow_x": null,
            "grid_auto_flow": null,
            "grid_area": null,
            "grid_template_columns": null,
            "flex": null,
            "_model_name": "LayoutModel",
            "justify_items": null,
            "grid_row": null,
            "max_height": null,
            "align_content": null,
            "visibility": null,
            "align_self": null,
            "height": null,
            "min_height": null,
            "padding": null,
            "grid_auto_rows": null,
            "grid_gap": null,
            "max_width": null,
            "order": null,
            "_view_module_version": "1.2.0",
            "grid_template_areas": null,
            "object_position": null,
            "object_fit": null,
            "grid_auto_columns": null,
            "margin": null,
            "display": null,
            "left": null
          }
        },
        "3d26a6804eb24eb4ad080c6519e9b611": {
          "model_module": "@jupyter-widgets/controls",
          "model_name": "HBoxModel",
          "state": {
            "_view_name": "HBoxView",
            "_dom_classes": [],
            "_model_name": "HBoxModel",
            "_view_module": "@jupyter-widgets/controls",
            "_model_module_version": "1.5.0",
            "_view_count": null,
            "_view_module_version": "1.5.0",
            "box_style": "",
            "layout": "IPY_MODEL_68010025c57745ad95043b596715cd06",
            "_model_module": "@jupyter-widgets/controls",
            "children": [
              "IPY_MODEL_64fa0ae23d21414395db5c40d6a3ddc4",
              "IPY_MODEL_95a0122ba50a4f2cba0064b9e27e1055"
            ]
          }
        },
        "68010025c57745ad95043b596715cd06": {
          "model_module": "@jupyter-widgets/base",
          "model_name": "LayoutModel",
          "state": {
            "_view_name": "LayoutView",
            "grid_template_rows": null,
            "right": null,
            "justify_content": null,
            "_view_module": "@jupyter-widgets/base",
            "overflow": null,
            "_model_module_version": "1.2.0",
            "_view_count": null,
            "flex_flow": null,
            "width": null,
            "min_width": null,
            "border": null,
            "align_items": null,
            "bottom": null,
            "_model_module": "@jupyter-widgets/base",
            "top": null,
            "grid_column": null,
            "overflow_y": null,
            "overflow_x": null,
            "grid_auto_flow": null,
            "grid_area": null,
            "grid_template_columns": null,
            "flex": null,
            "_model_name": "LayoutModel",
            "justify_items": null,
            "grid_row": null,
            "max_height": null,
            "align_content": null,
            "visibility": null,
            "align_self": null,
            "height": null,
            "min_height": null,
            "padding": null,
            "grid_auto_rows": null,
            "grid_gap": null,
            "max_width": null,
            "order": null,
            "_view_module_version": "1.2.0",
            "grid_template_areas": null,
            "object_position": null,
            "object_fit": null,
            "grid_auto_columns": null,
            "margin": null,
            "display": null,
            "left": null
          }
        },
        "64fa0ae23d21414395db5c40d6a3ddc4": {
          "model_module": "@jupyter-widgets/controls",
          "model_name": "FloatProgressModel",
          "state": {
            "_view_name": "ProgressView",
            "style": "IPY_MODEL_b286b5689f6042c8b956cf034b1cfacb",
            "_dom_classes": [],
            "description": "Batches: 100%",
            "_model_name": "FloatProgressModel",
            "bar_style": "success",
            "max": 11,
            "_view_module": "@jupyter-widgets/controls",
            "_model_module_version": "1.5.0",
            "value": 11,
            "_view_count": null,
            "_view_module_version": "1.5.0",
            "orientation": "horizontal",
            "min": 0,
            "description_tooltip": null,
            "_model_module": "@jupyter-widgets/controls",
            "layout": "IPY_MODEL_b513902fabb74152a47b4d280df4d2c5"
          }
        },
        "95a0122ba50a4f2cba0064b9e27e1055": {
          "model_module": "@jupyter-widgets/controls",
          "model_name": "HTMLModel",
          "state": {
            "_view_name": "HTMLView",
            "style": "IPY_MODEL_3f66eb92718a4f3082950caa7ccf0e83",
            "_dom_classes": [],
            "description": "",
            "_model_name": "HTMLModel",
            "placeholder": "​",
            "_view_module": "@jupyter-widgets/controls",
            "_model_module_version": "1.5.0",
            "value": " 11/11 [04:52&lt;00:00, 26.62s/it]",
            "_view_count": null,
            "_view_module_version": "1.5.0",
            "description_tooltip": null,
            "_model_module": "@jupyter-widgets/controls",
            "layout": "IPY_MODEL_a98a8fea03784e22b1758657edcc5561"
          }
        },
        "b286b5689f6042c8b956cf034b1cfacb": {
          "model_module": "@jupyter-widgets/controls",
          "model_name": "ProgressStyleModel",
          "state": {
            "_view_name": "StyleView",
            "_model_name": "ProgressStyleModel",
            "description_width": "initial",
            "_view_module": "@jupyter-widgets/base",
            "_model_module_version": "1.5.0",
            "_view_count": null,
            "_view_module_version": "1.2.0",
            "bar_color": null,
            "_model_module": "@jupyter-widgets/controls"
          }
        },
        "b513902fabb74152a47b4d280df4d2c5": {
          "model_module": "@jupyter-widgets/base",
          "model_name": "LayoutModel",
          "state": {
            "_view_name": "LayoutView",
            "grid_template_rows": null,
            "right": null,
            "justify_content": null,
            "_view_module": "@jupyter-widgets/base",
            "overflow": null,
            "_model_module_version": "1.2.0",
            "_view_count": null,
            "flex_flow": null,
            "width": null,
            "min_width": null,
            "border": null,
            "align_items": null,
            "bottom": null,
            "_model_module": "@jupyter-widgets/base",
            "top": null,
            "grid_column": null,
            "overflow_y": null,
            "overflow_x": null,
            "grid_auto_flow": null,
            "grid_area": null,
            "grid_template_columns": null,
            "flex": null,
            "_model_name": "LayoutModel",
            "justify_items": null,
            "grid_row": null,
            "max_height": null,
            "align_content": null,
            "visibility": null,
            "align_self": null,
            "height": null,
            "min_height": null,
            "padding": null,
            "grid_auto_rows": null,
            "grid_gap": null,
            "max_width": null,
            "order": null,
            "_view_module_version": "1.2.0",
            "grid_template_areas": null,
            "object_position": null,
            "object_fit": null,
            "grid_auto_columns": null,
            "margin": null,
            "display": null,
            "left": null
          }
        },
        "3f66eb92718a4f3082950caa7ccf0e83": {
          "model_module": "@jupyter-widgets/controls",
          "model_name": "DescriptionStyleModel",
          "state": {
            "_view_name": "StyleView",
            "_model_name": "DescriptionStyleModel",
            "description_width": "",
            "_view_module": "@jupyter-widgets/base",
            "_model_module_version": "1.5.0",
            "_view_count": null,
            "_view_module_version": "1.2.0",
            "_model_module": "@jupyter-widgets/controls"
          }
        },
        "a98a8fea03784e22b1758657edcc5561": {
          "model_module": "@jupyter-widgets/base",
          "model_name": "LayoutModel",
          "state": {
            "_view_name": "LayoutView",
            "grid_template_rows": null,
            "right": null,
            "justify_content": null,
            "_view_module": "@jupyter-widgets/base",
            "overflow": null,
            "_model_module_version": "1.2.0",
            "_view_count": null,
            "flex_flow": null,
            "width": null,
            "min_width": null,
            "border": null,
            "align_items": null,
            "bottom": null,
            "_model_module": "@jupyter-widgets/base",
            "top": null,
            "grid_column": null,
            "overflow_y": null,
            "overflow_x": null,
            "grid_auto_flow": null,
            "grid_area": null,
            "grid_template_columns": null,
            "flex": null,
            "_model_name": "LayoutModel",
            "justify_items": null,
            "grid_row": null,
            "max_height": null,
            "align_content": null,
            "visibility": null,
            "align_self": null,
            "height": null,
            "min_height": null,
            "padding": null,
            "grid_auto_rows": null,
            "grid_gap": null,
            "max_width": null,
            "order": null,
            "_view_module_version": "1.2.0",
            "grid_template_areas": null,
            "object_position": null,
            "object_fit": null,
            "grid_auto_columns": null,
            "margin": null,
            "display": null,
            "left": null
          }
        },
        "affb7cbaa7ca4c78a7451be75908c4e4": {
          "model_module": "@jupyter-widgets/controls",
          "model_name": "HBoxModel",
          "state": {
            "_view_name": "HBoxView",
            "_dom_classes": [],
            "_model_name": "HBoxModel",
            "_view_module": "@jupyter-widgets/controls",
            "_model_module_version": "1.5.0",
            "_view_count": null,
            "_view_module_version": "1.5.0",
            "box_style": "",
            "layout": "IPY_MODEL_9964f8c63db542cbb96a657cbfc460d6",
            "_model_module": "@jupyter-widgets/controls",
            "children": [
              "IPY_MODEL_6434fff9b06845f899c91107aea8baab",
              "IPY_MODEL_7756feddb06948c7b835715da96eec86"
            ]
          }
        },
        "9964f8c63db542cbb96a657cbfc460d6": {
          "model_module": "@jupyter-widgets/base",
          "model_name": "LayoutModel",
          "state": {
            "_view_name": "LayoutView",
            "grid_template_rows": null,
            "right": null,
            "justify_content": null,
            "_view_module": "@jupyter-widgets/base",
            "overflow": null,
            "_model_module_version": "1.2.0",
            "_view_count": null,
            "flex_flow": null,
            "width": null,
            "min_width": null,
            "border": null,
            "align_items": null,
            "bottom": null,
            "_model_module": "@jupyter-widgets/base",
            "top": null,
            "grid_column": null,
            "overflow_y": null,
            "overflow_x": null,
            "grid_auto_flow": null,
            "grid_area": null,
            "grid_template_columns": null,
            "flex": null,
            "_model_name": "LayoutModel",
            "justify_items": null,
            "grid_row": null,
            "max_height": null,
            "align_content": null,
            "visibility": null,
            "align_self": null,
            "height": null,
            "min_height": null,
            "padding": null,
            "grid_auto_rows": null,
            "grid_gap": null,
            "max_width": null,
            "order": null,
            "_view_module_version": "1.2.0",
            "grid_template_areas": null,
            "object_position": null,
            "object_fit": null,
            "grid_auto_columns": null,
            "margin": null,
            "display": null,
            "left": null
          }
        },
        "6434fff9b06845f899c91107aea8baab": {
          "model_module": "@jupyter-widgets/controls",
          "model_name": "FloatProgressModel",
          "state": {
            "_view_name": "ProgressView",
            "style": "IPY_MODEL_718dbd4eb30e46b0b5a0a34c511cf2be",
            "_dom_classes": [],
            "description": "Batches: 100%",
            "_model_name": "FloatProgressModel",
            "bar_style": "success",
            "max": 1,
            "_view_module": "@jupyter-widgets/controls",
            "_model_module_version": "1.5.0",
            "value": 1,
            "_view_count": null,
            "_view_module_version": "1.5.0",
            "orientation": "horizontal",
            "min": 0,
            "description_tooltip": null,
            "_model_module": "@jupyter-widgets/controls",
            "layout": "IPY_MODEL_48ce227151e842469bd8efd281078b27"
          }
        },
        "7756feddb06948c7b835715da96eec86": {
          "model_module": "@jupyter-widgets/controls",
          "model_name": "HTMLModel",
          "state": {
            "_view_name": "HTMLView",
            "style": "IPY_MODEL_b9fe389cd5d542ff9d55591ddf7dea2d",
            "_dom_classes": [],
            "description": "",
            "_model_name": "HTMLModel",
            "placeholder": "​",
            "_view_module": "@jupyter-widgets/controls",
            "_model_module_version": "1.5.0",
            "value": " 1/1 [00:23&lt;00:00, 23.61s/it]",
            "_view_count": null,
            "_view_module_version": "1.5.0",
            "description_tooltip": null,
            "_model_module": "@jupyter-widgets/controls",
            "layout": "IPY_MODEL_b25f3d56efc64a2c8c68cd0f6fb0d6b0"
          }
        },
        "718dbd4eb30e46b0b5a0a34c511cf2be": {
          "model_module": "@jupyter-widgets/controls",
          "model_name": "ProgressStyleModel",
          "state": {
            "_view_name": "StyleView",
            "_model_name": "ProgressStyleModel",
            "description_width": "initial",
            "_view_module": "@jupyter-widgets/base",
            "_model_module_version": "1.5.0",
            "_view_count": null,
            "_view_module_version": "1.2.0",
            "bar_color": null,
            "_model_module": "@jupyter-widgets/controls"
          }
        },
        "48ce227151e842469bd8efd281078b27": {
          "model_module": "@jupyter-widgets/base",
          "model_name": "LayoutModel",
          "state": {
            "_view_name": "LayoutView",
            "grid_template_rows": null,
            "right": null,
            "justify_content": null,
            "_view_module": "@jupyter-widgets/base",
            "overflow": null,
            "_model_module_version": "1.2.0",
            "_view_count": null,
            "flex_flow": null,
            "width": null,
            "min_width": null,
            "border": null,
            "align_items": null,
            "bottom": null,
            "_model_module": "@jupyter-widgets/base",
            "top": null,
            "grid_column": null,
            "overflow_y": null,
            "overflow_x": null,
            "grid_auto_flow": null,
            "grid_area": null,
            "grid_template_columns": null,
            "flex": null,
            "_model_name": "LayoutModel",
            "justify_items": null,
            "grid_row": null,
            "max_height": null,
            "align_content": null,
            "visibility": null,
            "align_self": null,
            "height": null,
            "min_height": null,
            "padding": null,
            "grid_auto_rows": null,
            "grid_gap": null,
            "max_width": null,
            "order": null,
            "_view_module_version": "1.2.0",
            "grid_template_areas": null,
            "object_position": null,
            "object_fit": null,
            "grid_auto_columns": null,
            "margin": null,
            "display": null,
            "left": null
          }
        },
        "b9fe389cd5d542ff9d55591ddf7dea2d": {
          "model_module": "@jupyter-widgets/controls",
          "model_name": "DescriptionStyleModel",
          "state": {
            "_view_name": "StyleView",
            "_model_name": "DescriptionStyleModel",
            "description_width": "",
            "_view_module": "@jupyter-widgets/base",
            "_model_module_version": "1.5.0",
            "_view_count": null,
            "_view_module_version": "1.2.0",
            "_model_module": "@jupyter-widgets/controls"
          }
        },
        "b25f3d56efc64a2c8c68cd0f6fb0d6b0": {
          "model_module": "@jupyter-widgets/base",
          "model_name": "LayoutModel",
          "state": {
            "_view_name": "LayoutView",
            "grid_template_rows": null,
            "right": null,
            "justify_content": null,
            "_view_module": "@jupyter-widgets/base",
            "overflow": null,
            "_model_module_version": "1.2.0",
            "_view_count": null,
            "flex_flow": null,
            "width": null,
            "min_width": null,
            "border": null,
            "align_items": null,
            "bottom": null,
            "_model_module": "@jupyter-widgets/base",
            "top": null,
            "grid_column": null,
            "overflow_y": null,
            "overflow_x": null,
            "grid_auto_flow": null,
            "grid_area": null,
            "grid_template_columns": null,
            "flex": null,
            "_model_name": "LayoutModel",
            "justify_items": null,
            "grid_row": null,
            "max_height": null,
            "align_content": null,
            "visibility": null,
            "align_self": null,
            "height": null,
            "min_height": null,
            "padding": null,
            "grid_auto_rows": null,
            "grid_gap": null,
            "max_width": null,
            "order": null,
            "_view_module_version": "1.2.0",
            "grid_template_areas": null,
            "object_position": null,
            "object_fit": null,
            "grid_auto_columns": null,
            "margin": null,
            "display": null,
            "left": null
          }
        },
        "176d7ee0401a4b7cb70ebb714b4e5f18": {
          "model_module": "@jupyter-widgets/controls",
          "model_name": "HBoxModel",
          "state": {
            "_view_name": "HBoxView",
            "_dom_classes": [],
            "_model_name": "HBoxModel",
            "_view_module": "@jupyter-widgets/controls",
            "_model_module_version": "1.5.0",
            "_view_count": null,
            "_view_module_version": "1.5.0",
            "box_style": "",
            "layout": "IPY_MODEL_60b34a365b6641bfb78387516130c6d5",
            "_model_module": "@jupyter-widgets/controls",
            "children": [
              "IPY_MODEL_9d813d75b95342c7951e0fad9136122c",
              "IPY_MODEL_9bd73b706ac744a2ac49c31dde6acc26"
            ]
          }
        },
        "60b34a365b6641bfb78387516130c6d5": {
          "model_module": "@jupyter-widgets/base",
          "model_name": "LayoutModel",
          "state": {
            "_view_name": "LayoutView",
            "grid_template_rows": null,
            "right": null,
            "justify_content": null,
            "_view_module": "@jupyter-widgets/base",
            "overflow": null,
            "_model_module_version": "1.2.0",
            "_view_count": null,
            "flex_flow": null,
            "width": null,
            "min_width": null,
            "border": null,
            "align_items": null,
            "bottom": null,
            "_model_module": "@jupyter-widgets/base",
            "top": null,
            "grid_column": null,
            "overflow_y": null,
            "overflow_x": null,
            "grid_auto_flow": null,
            "grid_area": null,
            "grid_template_columns": null,
            "flex": null,
            "_model_name": "LayoutModel",
            "justify_items": null,
            "grid_row": null,
            "max_height": null,
            "align_content": null,
            "visibility": null,
            "align_self": null,
            "height": null,
            "min_height": null,
            "padding": null,
            "grid_auto_rows": null,
            "grid_gap": null,
            "max_width": null,
            "order": null,
            "_view_module_version": "1.2.0",
            "grid_template_areas": null,
            "object_position": null,
            "object_fit": null,
            "grid_auto_columns": null,
            "margin": null,
            "display": null,
            "left": null
          }
        },
        "9d813d75b95342c7951e0fad9136122c": {
          "model_module": "@jupyter-widgets/controls",
          "model_name": "FloatProgressModel",
          "state": {
            "_view_name": "ProgressView",
            "style": "IPY_MODEL_14100c1855224973a67e477cef90e0ca",
            "_dom_classes": [],
            "description": "Batches: 100%",
            "_model_name": "FloatProgressModel",
            "bar_style": "success",
            "max": 11,
            "_view_module": "@jupyter-widgets/controls",
            "_model_module_version": "1.5.0",
            "value": 11,
            "_view_count": null,
            "_view_module_version": "1.5.0",
            "orientation": "horizontal",
            "min": 0,
            "description_tooltip": null,
            "_model_module": "@jupyter-widgets/controls",
            "layout": "IPY_MODEL_6201bb171ac543f58025e8ed6703f073"
          }
        },
        "9bd73b706ac744a2ac49c31dde6acc26": {
          "model_module": "@jupyter-widgets/controls",
          "model_name": "HTMLModel",
          "state": {
            "_view_name": "HTMLView",
            "style": "IPY_MODEL_f7fc16f844f2477aaf2a4ba44da67d65",
            "_dom_classes": [],
            "description": "",
            "_model_name": "HTMLModel",
            "placeholder": "​",
            "_view_module": "@jupyter-widgets/controls",
            "_model_module_version": "1.5.0",
            "value": " 11/11 [03:47&lt;00:00, 20.69s/it]",
            "_view_count": null,
            "_view_module_version": "1.5.0",
            "description_tooltip": null,
            "_model_module": "@jupyter-widgets/controls",
            "layout": "IPY_MODEL_9421e259a9274aa8b1c3aa4d8183fb60"
          }
        },
        "14100c1855224973a67e477cef90e0ca": {
          "model_module": "@jupyter-widgets/controls",
          "model_name": "ProgressStyleModel",
          "state": {
            "_view_name": "StyleView",
            "_model_name": "ProgressStyleModel",
            "description_width": "initial",
            "_view_module": "@jupyter-widgets/base",
            "_model_module_version": "1.5.0",
            "_view_count": null,
            "_view_module_version": "1.2.0",
            "bar_color": null,
            "_model_module": "@jupyter-widgets/controls"
          }
        },
        "6201bb171ac543f58025e8ed6703f073": {
          "model_module": "@jupyter-widgets/base",
          "model_name": "LayoutModel",
          "state": {
            "_view_name": "LayoutView",
            "grid_template_rows": null,
            "right": null,
            "justify_content": null,
            "_view_module": "@jupyter-widgets/base",
            "overflow": null,
            "_model_module_version": "1.2.0",
            "_view_count": null,
            "flex_flow": null,
            "width": null,
            "min_width": null,
            "border": null,
            "align_items": null,
            "bottom": null,
            "_model_module": "@jupyter-widgets/base",
            "top": null,
            "grid_column": null,
            "overflow_y": null,
            "overflow_x": null,
            "grid_auto_flow": null,
            "grid_area": null,
            "grid_template_columns": null,
            "flex": null,
            "_model_name": "LayoutModel",
            "justify_items": null,
            "grid_row": null,
            "max_height": null,
            "align_content": null,
            "visibility": null,
            "align_self": null,
            "height": null,
            "min_height": null,
            "padding": null,
            "grid_auto_rows": null,
            "grid_gap": null,
            "max_width": null,
            "order": null,
            "_view_module_version": "1.2.0",
            "grid_template_areas": null,
            "object_position": null,
            "object_fit": null,
            "grid_auto_columns": null,
            "margin": null,
            "display": null,
            "left": null
          }
        },
        "f7fc16f844f2477aaf2a4ba44da67d65": {
          "model_module": "@jupyter-widgets/controls",
          "model_name": "DescriptionStyleModel",
          "state": {
            "_view_name": "StyleView",
            "_model_name": "DescriptionStyleModel",
            "description_width": "",
            "_view_module": "@jupyter-widgets/base",
            "_model_module_version": "1.5.0",
            "_view_count": null,
            "_view_module_version": "1.2.0",
            "_model_module": "@jupyter-widgets/controls"
          }
        },
        "9421e259a9274aa8b1c3aa4d8183fb60": {
          "model_module": "@jupyter-widgets/base",
          "model_name": "LayoutModel",
          "state": {
            "_view_name": "LayoutView",
            "grid_template_rows": null,
            "right": null,
            "justify_content": null,
            "_view_module": "@jupyter-widgets/base",
            "overflow": null,
            "_model_module_version": "1.2.0",
            "_view_count": null,
            "flex_flow": null,
            "width": null,
            "min_width": null,
            "border": null,
            "align_items": null,
            "bottom": null,
            "_model_module": "@jupyter-widgets/base",
            "top": null,
            "grid_column": null,
            "overflow_y": null,
            "overflow_x": null,
            "grid_auto_flow": null,
            "grid_area": null,
            "grid_template_columns": null,
            "flex": null,
            "_model_name": "LayoutModel",
            "justify_items": null,
            "grid_row": null,
            "max_height": null,
            "align_content": null,
            "visibility": null,
            "align_self": null,
            "height": null,
            "min_height": null,
            "padding": null,
            "grid_auto_rows": null,
            "grid_gap": null,
            "max_width": null,
            "order": null,
            "_view_module_version": "1.2.0",
            "grid_template_areas": null,
            "object_position": null,
            "object_fit": null,
            "grid_auto_columns": null,
            "margin": null,
            "display": null,
            "left": null
          }
        },
        "e723813c6f41459381a9935b32162da3": {
          "model_module": "@jupyter-widgets/controls",
          "model_name": "HBoxModel",
          "state": {
            "_view_name": "HBoxView",
            "_dom_classes": [],
            "_model_name": "HBoxModel",
            "_view_module": "@jupyter-widgets/controls",
            "_model_module_version": "1.5.0",
            "_view_count": null,
            "_view_module_version": "1.5.0",
            "box_style": "",
            "layout": "IPY_MODEL_9f5756f0a540489bbd9d681448c77c0f",
            "_model_module": "@jupyter-widgets/controls",
            "children": [
              "IPY_MODEL_dc163329744444adbc14c910e3863b5e",
              "IPY_MODEL_56cda2cf03e94ed0a210410ece675d8e"
            ]
          }
        },
        "9f5756f0a540489bbd9d681448c77c0f": {
          "model_module": "@jupyter-widgets/base",
          "model_name": "LayoutModel",
          "state": {
            "_view_name": "LayoutView",
            "grid_template_rows": null,
            "right": null,
            "justify_content": null,
            "_view_module": "@jupyter-widgets/base",
            "overflow": null,
            "_model_module_version": "1.2.0",
            "_view_count": null,
            "flex_flow": null,
            "width": null,
            "min_width": null,
            "border": null,
            "align_items": null,
            "bottom": null,
            "_model_module": "@jupyter-widgets/base",
            "top": null,
            "grid_column": null,
            "overflow_y": null,
            "overflow_x": null,
            "grid_auto_flow": null,
            "grid_area": null,
            "grid_template_columns": null,
            "flex": null,
            "_model_name": "LayoutModel",
            "justify_items": null,
            "grid_row": null,
            "max_height": null,
            "align_content": null,
            "visibility": null,
            "align_self": null,
            "height": null,
            "min_height": null,
            "padding": null,
            "grid_auto_rows": null,
            "grid_gap": null,
            "max_width": null,
            "order": null,
            "_view_module_version": "1.2.0",
            "grid_template_areas": null,
            "object_position": null,
            "object_fit": null,
            "grid_auto_columns": null,
            "margin": null,
            "display": null,
            "left": null
          }
        },
        "dc163329744444adbc14c910e3863b5e": {
          "model_module": "@jupyter-widgets/controls",
          "model_name": "FloatProgressModel",
          "state": {
            "_view_name": "ProgressView",
            "style": "IPY_MODEL_48fa6622bb0243a89c86bda563a552aa",
            "_dom_classes": [],
            "description": "Batches: 100%",
            "_model_name": "FloatProgressModel",
            "bar_style": "success",
            "max": 1,
            "_view_module": "@jupyter-widgets/controls",
            "_model_module_version": "1.5.0",
            "value": 1,
            "_view_count": null,
            "_view_module_version": "1.5.0",
            "orientation": "horizontal",
            "min": 0,
            "description_tooltip": null,
            "_model_module": "@jupyter-widgets/controls",
            "layout": "IPY_MODEL_6aaf1c31d3fb441e9249154d67964e07"
          }
        },
        "56cda2cf03e94ed0a210410ece675d8e": {
          "model_module": "@jupyter-widgets/controls",
          "model_name": "HTMLModel",
          "state": {
            "_view_name": "HTMLView",
            "style": "IPY_MODEL_91552dcf72794d7a99f9c021b5a035a3",
            "_dom_classes": [],
            "description": "",
            "_model_name": "HTMLModel",
            "placeholder": "​",
            "_view_module": "@jupyter-widgets/controls",
            "_model_module_version": "1.5.0",
            "value": " 1/1 [00:37&lt;00:00, 37.65s/it]",
            "_view_count": null,
            "_view_module_version": "1.5.0",
            "description_tooltip": null,
            "_model_module": "@jupyter-widgets/controls",
            "layout": "IPY_MODEL_d18a20c5c83444619368ce70e20573e5"
          }
        },
        "48fa6622bb0243a89c86bda563a552aa": {
          "model_module": "@jupyter-widgets/controls",
          "model_name": "ProgressStyleModel",
          "state": {
            "_view_name": "StyleView",
            "_model_name": "ProgressStyleModel",
            "description_width": "initial",
            "_view_module": "@jupyter-widgets/base",
            "_model_module_version": "1.5.0",
            "_view_count": null,
            "_view_module_version": "1.2.0",
            "bar_color": null,
            "_model_module": "@jupyter-widgets/controls"
          }
        },
        "6aaf1c31d3fb441e9249154d67964e07": {
          "model_module": "@jupyter-widgets/base",
          "model_name": "LayoutModel",
          "state": {
            "_view_name": "LayoutView",
            "grid_template_rows": null,
            "right": null,
            "justify_content": null,
            "_view_module": "@jupyter-widgets/base",
            "overflow": null,
            "_model_module_version": "1.2.0",
            "_view_count": null,
            "flex_flow": null,
            "width": null,
            "min_width": null,
            "border": null,
            "align_items": null,
            "bottom": null,
            "_model_module": "@jupyter-widgets/base",
            "top": null,
            "grid_column": null,
            "overflow_y": null,
            "overflow_x": null,
            "grid_auto_flow": null,
            "grid_area": null,
            "grid_template_columns": null,
            "flex": null,
            "_model_name": "LayoutModel",
            "justify_items": null,
            "grid_row": null,
            "max_height": null,
            "align_content": null,
            "visibility": null,
            "align_self": null,
            "height": null,
            "min_height": null,
            "padding": null,
            "grid_auto_rows": null,
            "grid_gap": null,
            "max_width": null,
            "order": null,
            "_view_module_version": "1.2.0",
            "grid_template_areas": null,
            "object_position": null,
            "object_fit": null,
            "grid_auto_columns": null,
            "margin": null,
            "display": null,
            "left": null
          }
        },
        "91552dcf72794d7a99f9c021b5a035a3": {
          "model_module": "@jupyter-widgets/controls",
          "model_name": "DescriptionStyleModel",
          "state": {
            "_view_name": "StyleView",
            "_model_name": "DescriptionStyleModel",
            "description_width": "",
            "_view_module": "@jupyter-widgets/base",
            "_model_module_version": "1.5.0",
            "_view_count": null,
            "_view_module_version": "1.2.0",
            "_model_module": "@jupyter-widgets/controls"
          }
        },
        "d18a20c5c83444619368ce70e20573e5": {
          "model_module": "@jupyter-widgets/base",
          "model_name": "LayoutModel",
          "state": {
            "_view_name": "LayoutView",
            "grid_template_rows": null,
            "right": null,
            "justify_content": null,
            "_view_module": "@jupyter-widgets/base",
            "overflow": null,
            "_model_module_version": "1.2.0",
            "_view_count": null,
            "flex_flow": null,
            "width": null,
            "min_width": null,
            "border": null,
            "align_items": null,
            "bottom": null,
            "_model_module": "@jupyter-widgets/base",
            "top": null,
            "grid_column": null,
            "overflow_y": null,
            "overflow_x": null,
            "grid_auto_flow": null,
            "grid_area": null,
            "grid_template_columns": null,
            "flex": null,
            "_model_name": "LayoutModel",
            "justify_items": null,
            "grid_row": null,
            "max_height": null,
            "align_content": null,
            "visibility": null,
            "align_self": null,
            "height": null,
            "min_height": null,
            "padding": null,
            "grid_auto_rows": null,
            "grid_gap": null,
            "max_width": null,
            "order": null,
            "_view_module_version": "1.2.0",
            "grid_template_areas": null,
            "object_position": null,
            "object_fit": null,
            "grid_auto_columns": null,
            "margin": null,
            "display": null,
            "left": null
          }
        },
        "72f99f84bf574afda52d43548ac2bf5b": {
          "model_module": "@jupyter-widgets/controls",
          "model_name": "HBoxModel",
          "state": {
            "_view_name": "HBoxView",
            "_dom_classes": [],
            "_model_name": "HBoxModel",
            "_view_module": "@jupyter-widgets/controls",
            "_model_module_version": "1.5.0",
            "_view_count": null,
            "_view_module_version": "1.5.0",
            "box_style": "",
            "layout": "IPY_MODEL_0886e21ea57d4b29b202b95e35f54652",
            "_model_module": "@jupyter-widgets/controls",
            "children": [
              "IPY_MODEL_184e32ee715743f4bfbeb548cf193478",
              "IPY_MODEL_36706283242247d4a8236021b72c4321"
            ]
          }
        },
        "0886e21ea57d4b29b202b95e35f54652": {
          "model_module": "@jupyter-widgets/base",
          "model_name": "LayoutModel",
          "state": {
            "_view_name": "LayoutView",
            "grid_template_rows": null,
            "right": null,
            "justify_content": null,
            "_view_module": "@jupyter-widgets/base",
            "overflow": null,
            "_model_module_version": "1.2.0",
            "_view_count": null,
            "flex_flow": null,
            "width": null,
            "min_width": null,
            "border": null,
            "align_items": null,
            "bottom": null,
            "_model_module": "@jupyter-widgets/base",
            "top": null,
            "grid_column": null,
            "overflow_y": null,
            "overflow_x": null,
            "grid_auto_flow": null,
            "grid_area": null,
            "grid_template_columns": null,
            "flex": null,
            "_model_name": "LayoutModel",
            "justify_items": null,
            "grid_row": null,
            "max_height": null,
            "align_content": null,
            "visibility": null,
            "align_self": null,
            "height": null,
            "min_height": null,
            "padding": null,
            "grid_auto_rows": null,
            "grid_gap": null,
            "max_width": null,
            "order": null,
            "_view_module_version": "1.2.0",
            "grid_template_areas": null,
            "object_position": null,
            "object_fit": null,
            "grid_auto_columns": null,
            "margin": null,
            "display": null,
            "left": null
          }
        },
        "184e32ee715743f4bfbeb548cf193478": {
          "model_module": "@jupyter-widgets/controls",
          "model_name": "FloatProgressModel",
          "state": {
            "_view_name": "ProgressView",
            "style": "IPY_MODEL_9d6c0a59d36d40c9a87de52c68be0b3c",
            "_dom_classes": [],
            "description": "Batches: 100%",
            "_model_name": "FloatProgressModel",
            "bar_style": "success",
            "max": 10,
            "_view_module": "@jupyter-widgets/controls",
            "_model_module_version": "1.5.0",
            "value": 10,
            "_view_count": null,
            "_view_module_version": "1.5.0",
            "orientation": "horizontal",
            "min": 0,
            "description_tooltip": null,
            "_model_module": "@jupyter-widgets/controls",
            "layout": "IPY_MODEL_a2e77890d3354d10bcdb183a1a9c2830"
          }
        },
        "36706283242247d4a8236021b72c4321": {
          "model_module": "@jupyter-widgets/controls",
          "model_name": "HTMLModel",
          "state": {
            "_view_name": "HTMLView",
            "style": "IPY_MODEL_b180e8f842e94da8af38f35bd091a1f9",
            "_dom_classes": [],
            "description": "",
            "_model_name": "HTMLModel",
            "placeholder": "​",
            "_view_module": "@jupyter-widgets/controls",
            "_model_module_version": "1.5.0",
            "value": " 10/10 [02:41&lt;00:00, 16.12s/it]",
            "_view_count": null,
            "_view_module_version": "1.5.0",
            "description_tooltip": null,
            "_model_module": "@jupyter-widgets/controls",
            "layout": "IPY_MODEL_59faa2f12e024e3eab665e69d4a9a86c"
          }
        },
        "9d6c0a59d36d40c9a87de52c68be0b3c": {
          "model_module": "@jupyter-widgets/controls",
          "model_name": "ProgressStyleModel",
          "state": {
            "_view_name": "StyleView",
            "_model_name": "ProgressStyleModel",
            "description_width": "initial",
            "_view_module": "@jupyter-widgets/base",
            "_model_module_version": "1.5.0",
            "_view_count": null,
            "_view_module_version": "1.2.0",
            "bar_color": null,
            "_model_module": "@jupyter-widgets/controls"
          }
        },
        "a2e77890d3354d10bcdb183a1a9c2830": {
          "model_module": "@jupyter-widgets/base",
          "model_name": "LayoutModel",
          "state": {
            "_view_name": "LayoutView",
            "grid_template_rows": null,
            "right": null,
            "justify_content": null,
            "_view_module": "@jupyter-widgets/base",
            "overflow": null,
            "_model_module_version": "1.2.0",
            "_view_count": null,
            "flex_flow": null,
            "width": null,
            "min_width": null,
            "border": null,
            "align_items": null,
            "bottom": null,
            "_model_module": "@jupyter-widgets/base",
            "top": null,
            "grid_column": null,
            "overflow_y": null,
            "overflow_x": null,
            "grid_auto_flow": null,
            "grid_area": null,
            "grid_template_columns": null,
            "flex": null,
            "_model_name": "LayoutModel",
            "justify_items": null,
            "grid_row": null,
            "max_height": null,
            "align_content": null,
            "visibility": null,
            "align_self": null,
            "height": null,
            "min_height": null,
            "padding": null,
            "grid_auto_rows": null,
            "grid_gap": null,
            "max_width": null,
            "order": null,
            "_view_module_version": "1.2.0",
            "grid_template_areas": null,
            "object_position": null,
            "object_fit": null,
            "grid_auto_columns": null,
            "margin": null,
            "display": null,
            "left": null
          }
        },
        "b180e8f842e94da8af38f35bd091a1f9": {
          "model_module": "@jupyter-widgets/controls",
          "model_name": "DescriptionStyleModel",
          "state": {
            "_view_name": "StyleView",
            "_model_name": "DescriptionStyleModel",
            "description_width": "",
            "_view_module": "@jupyter-widgets/base",
            "_model_module_version": "1.5.0",
            "_view_count": null,
            "_view_module_version": "1.2.0",
            "_model_module": "@jupyter-widgets/controls"
          }
        },
        "59faa2f12e024e3eab665e69d4a9a86c": {
          "model_module": "@jupyter-widgets/base",
          "model_name": "LayoutModel",
          "state": {
            "_view_name": "LayoutView",
            "grid_template_rows": null,
            "right": null,
            "justify_content": null,
            "_view_module": "@jupyter-widgets/base",
            "overflow": null,
            "_model_module_version": "1.2.0",
            "_view_count": null,
            "flex_flow": null,
            "width": null,
            "min_width": null,
            "border": null,
            "align_items": null,
            "bottom": null,
            "_model_module": "@jupyter-widgets/base",
            "top": null,
            "grid_column": null,
            "overflow_y": null,
            "overflow_x": null,
            "grid_auto_flow": null,
            "grid_area": null,
            "grid_template_columns": null,
            "flex": null,
            "_model_name": "LayoutModel",
            "justify_items": null,
            "grid_row": null,
            "max_height": null,
            "align_content": null,
            "visibility": null,
            "align_self": null,
            "height": null,
            "min_height": null,
            "padding": null,
            "grid_auto_rows": null,
            "grid_gap": null,
            "max_width": null,
            "order": null,
            "_view_module_version": "1.2.0",
            "grid_template_areas": null,
            "object_position": null,
            "object_fit": null,
            "grid_auto_columns": null,
            "margin": null,
            "display": null,
            "left": null
          }
        },
        "4a0d0173d42f436094df3b43d96bc9d6": {
          "model_module": "@jupyter-widgets/controls",
          "model_name": "HBoxModel",
          "state": {
            "_view_name": "HBoxView",
            "_dom_classes": [],
            "_model_name": "HBoxModel",
            "_view_module": "@jupyter-widgets/controls",
            "_model_module_version": "1.5.0",
            "_view_count": null,
            "_view_module_version": "1.5.0",
            "box_style": "",
            "layout": "IPY_MODEL_d86cc7f8aa014efba779b2e59d0f16ac",
            "_model_module": "@jupyter-widgets/controls",
            "children": [
              "IPY_MODEL_2ef4998e304444b798085c489431adb5",
              "IPY_MODEL_debf931d351344a0ab43ee573b454071"
            ]
          }
        },
        "d86cc7f8aa014efba779b2e59d0f16ac": {
          "model_module": "@jupyter-widgets/base",
          "model_name": "LayoutModel",
          "state": {
            "_view_name": "LayoutView",
            "grid_template_rows": null,
            "right": null,
            "justify_content": null,
            "_view_module": "@jupyter-widgets/base",
            "overflow": null,
            "_model_module_version": "1.2.0",
            "_view_count": null,
            "flex_flow": null,
            "width": null,
            "min_width": null,
            "border": null,
            "align_items": null,
            "bottom": null,
            "_model_module": "@jupyter-widgets/base",
            "top": null,
            "grid_column": null,
            "overflow_y": null,
            "overflow_x": null,
            "grid_auto_flow": null,
            "grid_area": null,
            "grid_template_columns": null,
            "flex": null,
            "_model_name": "LayoutModel",
            "justify_items": null,
            "grid_row": null,
            "max_height": null,
            "align_content": null,
            "visibility": null,
            "align_self": null,
            "height": null,
            "min_height": null,
            "padding": null,
            "grid_auto_rows": null,
            "grid_gap": null,
            "max_width": null,
            "order": null,
            "_view_module_version": "1.2.0",
            "grid_template_areas": null,
            "object_position": null,
            "object_fit": null,
            "grid_auto_columns": null,
            "margin": null,
            "display": null,
            "left": null
          }
        },
        "2ef4998e304444b798085c489431adb5": {
          "model_module": "@jupyter-widgets/controls",
          "model_name": "FloatProgressModel",
          "state": {
            "_view_name": "ProgressView",
            "style": "IPY_MODEL_0d6401ac3877477c86afd30f3fa7964e",
            "_dom_classes": [],
            "description": "Batches: 100%",
            "_model_name": "FloatProgressModel",
            "bar_style": "success",
            "max": 1,
            "_view_module": "@jupyter-widgets/controls",
            "_model_module_version": "1.5.0",
            "value": 1,
            "_view_count": null,
            "_view_module_version": "1.5.0",
            "orientation": "horizontal",
            "min": 0,
            "description_tooltip": null,
            "_model_module": "@jupyter-widgets/controls",
            "layout": "IPY_MODEL_3800c3ae6d5c4f5a83fe086bd00db151"
          }
        },
        "debf931d351344a0ab43ee573b454071": {
          "model_module": "@jupyter-widgets/controls",
          "model_name": "HTMLModel",
          "state": {
            "_view_name": "HTMLView",
            "style": "IPY_MODEL_0a05bd3c86694507a0b9ace9f5176eba",
            "_dom_classes": [],
            "description": "",
            "_model_name": "HTMLModel",
            "placeholder": "​",
            "_view_module": "@jupyter-widgets/controls",
            "_model_module_version": "1.5.0",
            "value": " 1/1 [00:11&lt;00:00, 11.56s/it]",
            "_view_count": null,
            "_view_module_version": "1.5.0",
            "description_tooltip": null,
            "_model_module": "@jupyter-widgets/controls",
            "layout": "IPY_MODEL_cd7b016372f64d05b29b4ad5779c09c4"
          }
        },
        "0d6401ac3877477c86afd30f3fa7964e": {
          "model_module": "@jupyter-widgets/controls",
          "model_name": "ProgressStyleModel",
          "state": {
            "_view_name": "StyleView",
            "_model_name": "ProgressStyleModel",
            "description_width": "initial",
            "_view_module": "@jupyter-widgets/base",
            "_model_module_version": "1.5.0",
            "_view_count": null,
            "_view_module_version": "1.2.0",
            "bar_color": null,
            "_model_module": "@jupyter-widgets/controls"
          }
        },
        "3800c3ae6d5c4f5a83fe086bd00db151": {
          "model_module": "@jupyter-widgets/base",
          "model_name": "LayoutModel",
          "state": {
            "_view_name": "LayoutView",
            "grid_template_rows": null,
            "right": null,
            "justify_content": null,
            "_view_module": "@jupyter-widgets/base",
            "overflow": null,
            "_model_module_version": "1.2.0",
            "_view_count": null,
            "flex_flow": null,
            "width": null,
            "min_width": null,
            "border": null,
            "align_items": null,
            "bottom": null,
            "_model_module": "@jupyter-widgets/base",
            "top": null,
            "grid_column": null,
            "overflow_y": null,
            "overflow_x": null,
            "grid_auto_flow": null,
            "grid_area": null,
            "grid_template_columns": null,
            "flex": null,
            "_model_name": "LayoutModel",
            "justify_items": null,
            "grid_row": null,
            "max_height": null,
            "align_content": null,
            "visibility": null,
            "align_self": null,
            "height": null,
            "min_height": null,
            "padding": null,
            "grid_auto_rows": null,
            "grid_gap": null,
            "max_width": null,
            "order": null,
            "_view_module_version": "1.2.0",
            "grid_template_areas": null,
            "object_position": null,
            "object_fit": null,
            "grid_auto_columns": null,
            "margin": null,
            "display": null,
            "left": null
          }
        },
        "0a05bd3c86694507a0b9ace9f5176eba": {
          "model_module": "@jupyter-widgets/controls",
          "model_name": "DescriptionStyleModel",
          "state": {
            "_view_name": "StyleView",
            "_model_name": "DescriptionStyleModel",
            "description_width": "",
            "_view_module": "@jupyter-widgets/base",
            "_model_module_version": "1.5.0",
            "_view_count": null,
            "_view_module_version": "1.2.0",
            "_model_module": "@jupyter-widgets/controls"
          }
        },
        "cd7b016372f64d05b29b4ad5779c09c4": {
          "model_module": "@jupyter-widgets/base",
          "model_name": "LayoutModel",
          "state": {
            "_view_name": "LayoutView",
            "grid_template_rows": null,
            "right": null,
            "justify_content": null,
            "_view_module": "@jupyter-widgets/base",
            "overflow": null,
            "_model_module_version": "1.2.0",
            "_view_count": null,
            "flex_flow": null,
            "width": null,
            "min_width": null,
            "border": null,
            "align_items": null,
            "bottom": null,
            "_model_module": "@jupyter-widgets/base",
            "top": null,
            "grid_column": null,
            "overflow_y": null,
            "overflow_x": null,
            "grid_auto_flow": null,
            "grid_area": null,
            "grid_template_columns": null,
            "flex": null,
            "_model_name": "LayoutModel",
            "justify_items": null,
            "grid_row": null,
            "max_height": null,
            "align_content": null,
            "visibility": null,
            "align_self": null,
            "height": null,
            "min_height": null,
            "padding": null,
            "grid_auto_rows": null,
            "grid_gap": null,
            "max_width": null,
            "order": null,
            "_view_module_version": "1.2.0",
            "grid_template_areas": null,
            "object_position": null,
            "object_fit": null,
            "grid_auto_columns": null,
            "margin": null,
            "display": null,
            "left": null
          }
        },
        "2129ecaa57524a0780530d6f941d40fe": {
          "model_module": "@jupyter-widgets/controls",
          "model_name": "HBoxModel",
          "state": {
            "_view_name": "HBoxView",
            "_dom_classes": [],
            "_model_name": "HBoxModel",
            "_view_module": "@jupyter-widgets/controls",
            "_model_module_version": "1.5.0",
            "_view_count": null,
            "_view_module_version": "1.5.0",
            "box_style": "",
            "layout": "IPY_MODEL_e00964fd75a5456e90c719cae33ab05d",
            "_model_module": "@jupyter-widgets/controls",
            "children": [
              "IPY_MODEL_69289bef70ea4edc8b45c8f5188a6f1d",
              "IPY_MODEL_a6d0beaaa4334d42bd16beb26c11ed3f"
            ]
          }
        },
        "e00964fd75a5456e90c719cae33ab05d": {
          "model_module": "@jupyter-widgets/base",
          "model_name": "LayoutModel",
          "state": {
            "_view_name": "LayoutView",
            "grid_template_rows": null,
            "right": null,
            "justify_content": null,
            "_view_module": "@jupyter-widgets/base",
            "overflow": null,
            "_model_module_version": "1.2.0",
            "_view_count": null,
            "flex_flow": null,
            "width": null,
            "min_width": null,
            "border": null,
            "align_items": null,
            "bottom": null,
            "_model_module": "@jupyter-widgets/base",
            "top": null,
            "grid_column": null,
            "overflow_y": null,
            "overflow_x": null,
            "grid_auto_flow": null,
            "grid_area": null,
            "grid_template_columns": null,
            "flex": null,
            "_model_name": "LayoutModel",
            "justify_items": null,
            "grid_row": null,
            "max_height": null,
            "align_content": null,
            "visibility": null,
            "align_self": null,
            "height": null,
            "min_height": null,
            "padding": null,
            "grid_auto_rows": null,
            "grid_gap": null,
            "max_width": null,
            "order": null,
            "_view_module_version": "1.2.0",
            "grid_template_areas": null,
            "object_position": null,
            "object_fit": null,
            "grid_auto_columns": null,
            "margin": null,
            "display": null,
            "left": null
          }
        },
        "69289bef70ea4edc8b45c8f5188a6f1d": {
          "model_module": "@jupyter-widgets/controls",
          "model_name": "FloatProgressModel",
          "state": {
            "_view_name": "ProgressView",
            "style": "IPY_MODEL_27ed26754cda41a6a74db263832a3f77",
            "_dom_classes": [],
            "description": "Batches: 100%",
            "_model_name": "FloatProgressModel",
            "bar_style": "success",
            "max": 13,
            "_view_module": "@jupyter-widgets/controls",
            "_model_module_version": "1.5.0",
            "value": 13,
            "_view_count": null,
            "_view_module_version": "1.5.0",
            "orientation": "horizontal",
            "min": 0,
            "description_tooltip": null,
            "_model_module": "@jupyter-widgets/controls",
            "layout": "IPY_MODEL_5a1233fbf9a7427cb37bca6af5e66f97"
          }
        },
        "a6d0beaaa4334d42bd16beb26c11ed3f": {
          "model_module": "@jupyter-widgets/controls",
          "model_name": "HTMLModel",
          "state": {
            "_view_name": "HTMLView",
            "style": "IPY_MODEL_f7a3ec8211d54209a114ab3667883624",
            "_dom_classes": [],
            "description": "",
            "_model_name": "HTMLModel",
            "placeholder": "​",
            "_view_module": "@jupyter-widgets/controls",
            "_model_module_version": "1.5.0",
            "value": " 13/13 [01:29&lt;00:00,  6.85s/it]",
            "_view_count": null,
            "_view_module_version": "1.5.0",
            "description_tooltip": null,
            "_model_module": "@jupyter-widgets/controls",
            "layout": "IPY_MODEL_06c46f45414d4e9da188b2a7028597dd"
          }
        },
        "27ed26754cda41a6a74db263832a3f77": {
          "model_module": "@jupyter-widgets/controls",
          "model_name": "ProgressStyleModel",
          "state": {
            "_view_name": "StyleView",
            "_model_name": "ProgressStyleModel",
            "description_width": "initial",
            "_view_module": "@jupyter-widgets/base",
            "_model_module_version": "1.5.0",
            "_view_count": null,
            "_view_module_version": "1.2.0",
            "bar_color": null,
            "_model_module": "@jupyter-widgets/controls"
          }
        },
        "5a1233fbf9a7427cb37bca6af5e66f97": {
          "model_module": "@jupyter-widgets/base",
          "model_name": "LayoutModel",
          "state": {
            "_view_name": "LayoutView",
            "grid_template_rows": null,
            "right": null,
            "justify_content": null,
            "_view_module": "@jupyter-widgets/base",
            "overflow": null,
            "_model_module_version": "1.2.0",
            "_view_count": null,
            "flex_flow": null,
            "width": null,
            "min_width": null,
            "border": null,
            "align_items": null,
            "bottom": null,
            "_model_module": "@jupyter-widgets/base",
            "top": null,
            "grid_column": null,
            "overflow_y": null,
            "overflow_x": null,
            "grid_auto_flow": null,
            "grid_area": null,
            "grid_template_columns": null,
            "flex": null,
            "_model_name": "LayoutModel",
            "justify_items": null,
            "grid_row": null,
            "max_height": null,
            "align_content": null,
            "visibility": null,
            "align_self": null,
            "height": null,
            "min_height": null,
            "padding": null,
            "grid_auto_rows": null,
            "grid_gap": null,
            "max_width": null,
            "order": null,
            "_view_module_version": "1.2.0",
            "grid_template_areas": null,
            "object_position": null,
            "object_fit": null,
            "grid_auto_columns": null,
            "margin": null,
            "display": null,
            "left": null
          }
        },
        "f7a3ec8211d54209a114ab3667883624": {
          "model_module": "@jupyter-widgets/controls",
          "model_name": "DescriptionStyleModel",
          "state": {
            "_view_name": "StyleView",
            "_model_name": "DescriptionStyleModel",
            "description_width": "",
            "_view_module": "@jupyter-widgets/base",
            "_model_module_version": "1.5.0",
            "_view_count": null,
            "_view_module_version": "1.2.0",
            "_model_module": "@jupyter-widgets/controls"
          }
        },
        "06c46f45414d4e9da188b2a7028597dd": {
          "model_module": "@jupyter-widgets/base",
          "model_name": "LayoutModel",
          "state": {
            "_view_name": "LayoutView",
            "grid_template_rows": null,
            "right": null,
            "justify_content": null,
            "_view_module": "@jupyter-widgets/base",
            "overflow": null,
            "_model_module_version": "1.2.0",
            "_view_count": null,
            "flex_flow": null,
            "width": null,
            "min_width": null,
            "border": null,
            "align_items": null,
            "bottom": null,
            "_model_module": "@jupyter-widgets/base",
            "top": null,
            "grid_column": null,
            "overflow_y": null,
            "overflow_x": null,
            "grid_auto_flow": null,
            "grid_area": null,
            "grid_template_columns": null,
            "flex": null,
            "_model_name": "LayoutModel",
            "justify_items": null,
            "grid_row": null,
            "max_height": null,
            "align_content": null,
            "visibility": null,
            "align_self": null,
            "height": null,
            "min_height": null,
            "padding": null,
            "grid_auto_rows": null,
            "grid_gap": null,
            "max_width": null,
            "order": null,
            "_view_module_version": "1.2.0",
            "grid_template_areas": null,
            "object_position": null,
            "object_fit": null,
            "grid_auto_columns": null,
            "margin": null,
            "display": null,
            "left": null
          }
        },
        "0ec76ca956e5456c9ab3dac2e3a3aa16": {
          "model_module": "@jupyter-widgets/controls",
          "model_name": "HBoxModel",
          "state": {
            "_view_name": "HBoxView",
            "_dom_classes": [],
            "_model_name": "HBoxModel",
            "_view_module": "@jupyter-widgets/controls",
            "_model_module_version": "1.5.0",
            "_view_count": null,
            "_view_module_version": "1.5.0",
            "box_style": "",
            "layout": "IPY_MODEL_950d52c6763d41b4a5a655c35fb07300",
            "_model_module": "@jupyter-widgets/controls",
            "children": [
              "IPY_MODEL_8203efe12a364bbf94472ec780f31404",
              "IPY_MODEL_1269f2c8259e4c8bb92bc248569e5041"
            ]
          }
        },
        "950d52c6763d41b4a5a655c35fb07300": {
          "model_module": "@jupyter-widgets/base",
          "model_name": "LayoutModel",
          "state": {
            "_view_name": "LayoutView",
            "grid_template_rows": null,
            "right": null,
            "justify_content": null,
            "_view_module": "@jupyter-widgets/base",
            "overflow": null,
            "_model_module_version": "1.2.0",
            "_view_count": null,
            "flex_flow": null,
            "width": null,
            "min_width": null,
            "border": null,
            "align_items": null,
            "bottom": null,
            "_model_module": "@jupyter-widgets/base",
            "top": null,
            "grid_column": null,
            "overflow_y": null,
            "overflow_x": null,
            "grid_auto_flow": null,
            "grid_area": null,
            "grid_template_columns": null,
            "flex": null,
            "_model_name": "LayoutModel",
            "justify_items": null,
            "grid_row": null,
            "max_height": null,
            "align_content": null,
            "visibility": null,
            "align_self": null,
            "height": null,
            "min_height": null,
            "padding": null,
            "grid_auto_rows": null,
            "grid_gap": null,
            "max_width": null,
            "order": null,
            "_view_module_version": "1.2.0",
            "grid_template_areas": null,
            "object_position": null,
            "object_fit": null,
            "grid_auto_columns": null,
            "margin": null,
            "display": null,
            "left": null
          }
        },
        "8203efe12a364bbf94472ec780f31404": {
          "model_module": "@jupyter-widgets/controls",
          "model_name": "FloatProgressModel",
          "state": {
            "_view_name": "ProgressView",
            "style": "IPY_MODEL_7818a30abed24a98afc7b3b4064b05d0",
            "_dom_classes": [],
            "description": "Batches: 100%",
            "_model_name": "FloatProgressModel",
            "bar_style": "success",
            "max": 1,
            "_view_module": "@jupyter-widgets/controls",
            "_model_module_version": "1.5.0",
            "value": 1,
            "_view_count": null,
            "_view_module_version": "1.5.0",
            "orientation": "horizontal",
            "min": 0,
            "description_tooltip": null,
            "_model_module": "@jupyter-widgets/controls",
            "layout": "IPY_MODEL_4ee5f73a97644b4cbe31073550f9b373"
          }
        },
        "1269f2c8259e4c8bb92bc248569e5041": {
          "model_module": "@jupyter-widgets/controls",
          "model_name": "HTMLModel",
          "state": {
            "_view_name": "HTMLView",
            "style": "IPY_MODEL_3943838a4aae4db3ac609066a4282871",
            "_dom_classes": [],
            "description": "",
            "_model_name": "HTMLModel",
            "placeholder": "​",
            "_view_module": "@jupyter-widgets/controls",
            "_model_module_version": "1.5.0",
            "value": " 1/1 [00:01&lt;00:00,  1.10s/it]",
            "_view_count": null,
            "_view_module_version": "1.5.0",
            "description_tooltip": null,
            "_model_module": "@jupyter-widgets/controls",
            "layout": "IPY_MODEL_044fddb550a44b32ab908b9029bfc810"
          }
        },
        "7818a30abed24a98afc7b3b4064b05d0": {
          "model_module": "@jupyter-widgets/controls",
          "model_name": "ProgressStyleModel",
          "state": {
            "_view_name": "StyleView",
            "_model_name": "ProgressStyleModel",
            "description_width": "initial",
            "_view_module": "@jupyter-widgets/base",
            "_model_module_version": "1.5.0",
            "_view_count": null,
            "_view_module_version": "1.2.0",
            "bar_color": null,
            "_model_module": "@jupyter-widgets/controls"
          }
        },
        "4ee5f73a97644b4cbe31073550f9b373": {
          "model_module": "@jupyter-widgets/base",
          "model_name": "LayoutModel",
          "state": {
            "_view_name": "LayoutView",
            "grid_template_rows": null,
            "right": null,
            "justify_content": null,
            "_view_module": "@jupyter-widgets/base",
            "overflow": null,
            "_model_module_version": "1.2.0",
            "_view_count": null,
            "flex_flow": null,
            "width": null,
            "min_width": null,
            "border": null,
            "align_items": null,
            "bottom": null,
            "_model_module": "@jupyter-widgets/base",
            "top": null,
            "grid_column": null,
            "overflow_y": null,
            "overflow_x": null,
            "grid_auto_flow": null,
            "grid_area": null,
            "grid_template_columns": null,
            "flex": null,
            "_model_name": "LayoutModel",
            "justify_items": null,
            "grid_row": null,
            "max_height": null,
            "align_content": null,
            "visibility": null,
            "align_self": null,
            "height": null,
            "min_height": null,
            "padding": null,
            "grid_auto_rows": null,
            "grid_gap": null,
            "max_width": null,
            "order": null,
            "_view_module_version": "1.2.0",
            "grid_template_areas": null,
            "object_position": null,
            "object_fit": null,
            "grid_auto_columns": null,
            "margin": null,
            "display": null,
            "left": null
          }
        },
        "3943838a4aae4db3ac609066a4282871": {
          "model_module": "@jupyter-widgets/controls",
          "model_name": "DescriptionStyleModel",
          "state": {
            "_view_name": "StyleView",
            "_model_name": "DescriptionStyleModel",
            "description_width": "",
            "_view_module": "@jupyter-widgets/base",
            "_model_module_version": "1.5.0",
            "_view_count": null,
            "_view_module_version": "1.2.0",
            "_model_module": "@jupyter-widgets/controls"
          }
        },
        "044fddb550a44b32ab908b9029bfc810": {
          "model_module": "@jupyter-widgets/base",
          "model_name": "LayoutModel",
          "state": {
            "_view_name": "LayoutView",
            "grid_template_rows": null,
            "right": null,
            "justify_content": null,
            "_view_module": "@jupyter-widgets/base",
            "overflow": null,
            "_model_module_version": "1.2.0",
            "_view_count": null,
            "flex_flow": null,
            "width": null,
            "min_width": null,
            "border": null,
            "align_items": null,
            "bottom": null,
            "_model_module": "@jupyter-widgets/base",
            "top": null,
            "grid_column": null,
            "overflow_y": null,
            "overflow_x": null,
            "grid_auto_flow": null,
            "grid_area": null,
            "grid_template_columns": null,
            "flex": null,
            "_model_name": "LayoutModel",
            "justify_items": null,
            "grid_row": null,
            "max_height": null,
            "align_content": null,
            "visibility": null,
            "align_self": null,
            "height": null,
            "min_height": null,
            "padding": null,
            "grid_auto_rows": null,
            "grid_gap": null,
            "max_width": null,
            "order": null,
            "_view_module_version": "1.2.0",
            "grid_template_areas": null,
            "object_position": null,
            "object_fit": null,
            "grid_auto_columns": null,
            "margin": null,
            "display": null,
            "left": null
          }
        },
        "6ed0696ebd83451f879c30df07b0deab": {
          "model_module": "@jupyter-widgets/controls",
          "model_name": "HBoxModel",
          "state": {
            "_view_name": "HBoxView",
            "_dom_classes": [],
            "_model_name": "HBoxModel",
            "_view_module": "@jupyter-widgets/controls",
            "_model_module_version": "1.5.0",
            "_view_count": null,
            "_view_module_version": "1.5.0",
            "box_style": "",
            "layout": "IPY_MODEL_143f8a41ce23407f9ae743a15bd31e95",
            "_model_module": "@jupyter-widgets/controls",
            "children": [
              "IPY_MODEL_887a66f6d9a5465d8ee8b5a9ba511f40",
              "IPY_MODEL_2d06c95e31a746dd96f7bc1edaf4b87e"
            ]
          }
        },
        "143f8a41ce23407f9ae743a15bd31e95": {
          "model_module": "@jupyter-widgets/base",
          "model_name": "LayoutModel",
          "state": {
            "_view_name": "LayoutView",
            "grid_template_rows": null,
            "right": null,
            "justify_content": null,
            "_view_module": "@jupyter-widgets/base",
            "overflow": null,
            "_model_module_version": "1.2.0",
            "_view_count": null,
            "flex_flow": null,
            "width": null,
            "min_width": null,
            "border": null,
            "align_items": null,
            "bottom": null,
            "_model_module": "@jupyter-widgets/base",
            "top": null,
            "grid_column": null,
            "overflow_y": null,
            "overflow_x": null,
            "grid_auto_flow": null,
            "grid_area": null,
            "grid_template_columns": null,
            "flex": null,
            "_model_name": "LayoutModel",
            "justify_items": null,
            "grid_row": null,
            "max_height": null,
            "align_content": null,
            "visibility": null,
            "align_self": null,
            "height": null,
            "min_height": null,
            "padding": null,
            "grid_auto_rows": null,
            "grid_gap": null,
            "max_width": null,
            "order": null,
            "_view_module_version": "1.2.0",
            "grid_template_areas": null,
            "object_position": null,
            "object_fit": null,
            "grid_auto_columns": null,
            "margin": null,
            "display": null,
            "left": null
          }
        },
        "887a66f6d9a5465d8ee8b5a9ba511f40": {
          "model_module": "@jupyter-widgets/controls",
          "model_name": "FloatProgressModel",
          "state": {
            "_view_name": "ProgressView",
            "style": "IPY_MODEL_8cdc3468565749d383655e9924c228a2",
            "_dom_classes": [],
            "description": "Batches: 100%",
            "_model_name": "FloatProgressModel",
            "bar_style": "success",
            "max": 1,
            "_view_module": "@jupyter-widgets/controls",
            "_model_module_version": "1.5.0",
            "value": 1,
            "_view_count": null,
            "_view_module_version": "1.5.0",
            "orientation": "horizontal",
            "min": 0,
            "description_tooltip": null,
            "_model_module": "@jupyter-widgets/controls",
            "layout": "IPY_MODEL_dda03c1491594d3e87b4afd674271746"
          }
        },
        "2d06c95e31a746dd96f7bc1edaf4b87e": {
          "model_module": "@jupyter-widgets/controls",
          "model_name": "HTMLModel",
          "state": {
            "_view_name": "HTMLView",
            "style": "IPY_MODEL_6f2a0b8c73aa481d88fff5f4765397b2",
            "_dom_classes": [],
            "description": "",
            "_model_name": "HTMLModel",
            "placeholder": "​",
            "_view_module": "@jupyter-widgets/controls",
            "_model_module_version": "1.5.0",
            "value": " 1/1 [00:01&lt;00:00,  1.03s/it]",
            "_view_count": null,
            "_view_module_version": "1.5.0",
            "description_tooltip": null,
            "_model_module": "@jupyter-widgets/controls",
            "layout": "IPY_MODEL_dfed8e5b905842aabfac76de79e25b45"
          }
        },
        "8cdc3468565749d383655e9924c228a2": {
          "model_module": "@jupyter-widgets/controls",
          "model_name": "ProgressStyleModel",
          "state": {
            "_view_name": "StyleView",
            "_model_name": "ProgressStyleModel",
            "description_width": "initial",
            "_view_module": "@jupyter-widgets/base",
            "_model_module_version": "1.5.0",
            "_view_count": null,
            "_view_module_version": "1.2.0",
            "bar_color": null,
            "_model_module": "@jupyter-widgets/controls"
          }
        },
        "dda03c1491594d3e87b4afd674271746": {
          "model_module": "@jupyter-widgets/base",
          "model_name": "LayoutModel",
          "state": {
            "_view_name": "LayoutView",
            "grid_template_rows": null,
            "right": null,
            "justify_content": null,
            "_view_module": "@jupyter-widgets/base",
            "overflow": null,
            "_model_module_version": "1.2.0",
            "_view_count": null,
            "flex_flow": null,
            "width": null,
            "min_width": null,
            "border": null,
            "align_items": null,
            "bottom": null,
            "_model_module": "@jupyter-widgets/base",
            "top": null,
            "grid_column": null,
            "overflow_y": null,
            "overflow_x": null,
            "grid_auto_flow": null,
            "grid_area": null,
            "grid_template_columns": null,
            "flex": null,
            "_model_name": "LayoutModel",
            "justify_items": null,
            "grid_row": null,
            "max_height": null,
            "align_content": null,
            "visibility": null,
            "align_self": null,
            "height": null,
            "min_height": null,
            "padding": null,
            "grid_auto_rows": null,
            "grid_gap": null,
            "max_width": null,
            "order": null,
            "_view_module_version": "1.2.0",
            "grid_template_areas": null,
            "object_position": null,
            "object_fit": null,
            "grid_auto_columns": null,
            "margin": null,
            "display": null,
            "left": null
          }
        },
        "6f2a0b8c73aa481d88fff5f4765397b2": {
          "model_module": "@jupyter-widgets/controls",
          "model_name": "DescriptionStyleModel",
          "state": {
            "_view_name": "StyleView",
            "_model_name": "DescriptionStyleModel",
            "description_width": "",
            "_view_module": "@jupyter-widgets/base",
            "_model_module_version": "1.5.0",
            "_view_count": null,
            "_view_module_version": "1.2.0",
            "_model_module": "@jupyter-widgets/controls"
          }
        },
        "dfed8e5b905842aabfac76de79e25b45": {
          "model_module": "@jupyter-widgets/base",
          "model_name": "LayoutModel",
          "state": {
            "_view_name": "LayoutView",
            "grid_template_rows": null,
            "right": null,
            "justify_content": null,
            "_view_module": "@jupyter-widgets/base",
            "overflow": null,
            "_model_module_version": "1.2.0",
            "_view_count": null,
            "flex_flow": null,
            "width": null,
            "min_width": null,
            "border": null,
            "align_items": null,
            "bottom": null,
            "_model_module": "@jupyter-widgets/base",
            "top": null,
            "grid_column": null,
            "overflow_y": null,
            "overflow_x": null,
            "grid_auto_flow": null,
            "grid_area": null,
            "grid_template_columns": null,
            "flex": null,
            "_model_name": "LayoutModel",
            "justify_items": null,
            "grid_row": null,
            "max_height": null,
            "align_content": null,
            "visibility": null,
            "align_self": null,
            "height": null,
            "min_height": null,
            "padding": null,
            "grid_auto_rows": null,
            "grid_gap": null,
            "max_width": null,
            "order": null,
            "_view_module_version": "1.2.0",
            "grid_template_areas": null,
            "object_position": null,
            "object_fit": null,
            "grid_auto_columns": null,
            "margin": null,
            "display": null,
            "left": null
          }
        }
      }
    }
  },
  "cells": [
    {
      "cell_type": "markdown",
      "metadata": {
        "id": "view-in-github",
        "colab_type": "text"
      },
      "source": [
        "<a href=\"https://colab.research.google.com/github/harshitadd/AI4BharatTranslation/blob/main/AnuvaadVsSelf.ipynb\" target=\"_parent\"><img src=\"https://colab.research.google.com/assets/colab-badge.svg\" alt=\"Open In Colab\"/></a>"
      ]
    },
    {
      "cell_type": "code",
      "metadata": {
        "id": "-_SRarMhD5TD"
      },
      "source": [
        "!pip install sentence_transformers"
      ],
      "execution_count": null,
      "outputs": []
    },
    {
      "cell_type": "code",
      "metadata": {
        "id": "fJLyAZjGEAiv"
      },
      "source": [
        "!pip install scipy"
      ],
      "execution_count": null,
      "outputs": []
    },
    {
      "cell_type": "code",
      "metadata": {
        "id": "7HvW_MbGJKiB"
      },
      "source": [
        "!pip install sentence-splitter"
      ],
      "execution_count": null,
      "outputs": []
    },
    {
      "cell_type": "code",
      "metadata": {
        "id": "BquFyh66EZeW"
      },
      "source": [
        "!pip install indic-nlp-library"
      ],
      "execution_count": null,
      "outputs": []
    },
    {
      "cell_type": "code",
      "metadata": {
        "id": "6e31UQsBJH0W"
      },
      "source": [
        "import sys\r\n",
        "from indicnlp.tokenize import indic_tokenize\r\n",
        "from indicnlp.tokenize import sentence_tokenize \r\n",
        "from sentence_transformers import SentenceTransformer\r\n",
        "import numpy as np\r\n",
        "import re \r\n",
        "from sentence_splitter import SentenceSplitter, split_text_into_sentences\r\n",
        "from scipy.spatial import distance"
      ],
      "execution_count": 28,
      "outputs": []
    },
    {
      "cell_type": "code",
      "metadata": {
        "colab": {
          "base_uri": "https://localhost:8080/"
        },
        "id": "4AiW7zbjAWiO",
        "outputId": "f38224d8-e972-4728-f738-1ba944c51c8e"
      },
      "source": [
        "model = SentenceTransformer('LaBSE')"
      ],
      "execution_count": 6,
      "outputs": [
        {
          "output_type": "stream",
          "text": [
            "100%|██████████| 1.75G/1.75G [01:05<00:00, 26.8MB/s]\n"
          ],
          "name": "stderr"
        }
      ]
    },
    {
      "cell_type": "code",
      "metadata": {
        "id": "awjpL4vVW9W4"
      },
      "source": [
        "def anuvaad_aligner(src, tgtp):\r\n",
        "      '''\r\n",
        "      This function is meant to align src phrases with best possible tgt phrase using LABSE model\r\n",
        "      '''\r\n",
        "      out = {}\r\n",
        "      aligned_phrases = {}\r\n",
        "      print(\"Performing phrase alignenment using LABSE\")\r\n",
        "      src_phrases, tgt = src, tgtp\r\n",
        "      \r\n",
        "      for src_phrase in src_phrases:\r\n",
        "          length_src_phrase = len(src_phrase.split())           \r\n",
        "          tgt_token_list = split_tgt(length_src_phrase,tgt)\r\n",
        "          embeddings_src_phrase, embeddings_tgt_tokens = generate_embeddings([src_phrase],tgt_token_list)\r\n",
        "          alignments = get_target_sentence(embeddings_tgt_tokens, embeddings_src_phrase, length_src_phrase)\r\n",
        "      \r\n",
        "          if alignments is not None and alignments[2] is \"MATCH\":\r\n",
        "              aligned_phrases[src_phrase] = tgt_token_list[alignments[0]]\r\n",
        "          elif alignments is not None and alignments[2] is \"NOMATCH\": \r\n",
        "              print(\"No exact match found for:{} . Possible alignment {}\".format(src_phrase,tgt_token_list[alignments[0]]))  \r\n",
        "                      \r\n",
        "      print(\"Aligned Phrases: {}\".format(aligned_phrases))\r\n",
        "      out = {\"tgt\":tgt,\"src_phrases\":src_phrases,\"aligned_phrases\":aligned_phrases}     \r\n",
        "\r\n",
        "      return out\r\n",
        "\r\n",
        "def split_tgt(length_src_phrase,tgt):\r\n",
        "  tgt_token_list = list()\r\n",
        "  tokenised_tgt = tgt.split()\r\n",
        "  tgt_token_list = [tokenised_tgt[i:i+length_src_phrase] for i in range(len(tokenised_tgt)) if (i + length_src_phrase) <= len(tokenised_tgt)]\r\n",
        "  tgt_token_list_plus = [tokenised_tgt[i:i+length_src_phrase+1] for i in range(len(tokenised_tgt)) if (i + length_src_phrase+1) <= len(tokenised_tgt)]\r\n",
        "  tgt_token_list_minus = [tokenised_tgt[i:i+length_src_phrase-1] for i in range(len(tokenised_tgt)) if (i + length_src_phrase-1) <= len(tokenised_tgt) and \r\n",
        "                          length_src_phrase != 1]\r\n",
        "  tgt_token_list = tgt_token_list + tgt_token_list_plus + tgt_token_list_minus\r\n",
        "  tgt_token_list = [\" \".join(j) for j in tgt_token_list]\r\n",
        "  return tgt_token_list\r\n",
        "      \r\n",
        "def generate_embeddings(input_1, input_2):\r\n",
        "  '''\r\n",
        "  Generate LABSE embeddings\r\n",
        "  Note: Inputs are array of strings\r\n",
        "  '''           \r\n",
        "  embeddings_input_1 = model.encode(input_1,show_progress_bar=True)\r\n",
        "  embeddings_input_2 = model.encode(input_2,show_progress_bar=True)    \r\n",
        "  print(\"LABSE embedding generation finished\")\r\n",
        "  return embeddings_input_1, embeddings_input_2\r\n",
        "  \r\n",
        "def get_target_sentence(target_embeddings, source_embedding, length_src_phrase):\r\n",
        "  '''\r\n",
        "  Calculate cosine similarity using scipy distance method\r\n",
        "  '''\r\n",
        "  distances = distance.cdist(source_embedding, target_embeddings, \"cosine\")[0]\r\n",
        "  min_index = np.argmin(distances)\r\n",
        "  min_distance = 1 - distances[min_index]\r\n",
        "  print(\"Match score: {}\".format(min_distance))\r\n",
        "  if min_distance >= 0.5:\r\n",
        "      return min_index, min_distance, \"MATCH\"\r\n",
        "  else:\r\n",
        "      return min_index, min_distance, \"NOMATCH\"     \r\n",
        "      "
      ],
      "execution_count": 7,
      "outputs": []
    },
    {
      "cell_type": "code",
      "metadata": {
        "colab": {
          "base_uri": "https://localhost:8080/",
          "height": 605,
          "referenced_widgets": [
            "b489f2fd48d948ceb2b48e46063a613a",
            "73ea35b482eb473ab0c873168a2bb7d8",
            "32e48cf53ac54877bd43e5c3c20acd2f",
            "98167104a44b4104b16d241c8bc29f35",
            "e8a30efd07be4e5f9a71da5a7e767188",
            "ad373934baf54dfdaf6f214771715d06",
            "32a8045698be438e8041f9ac1bf028f5",
            "582042b773004ae8bd067a6061b4a9a6",
            "3d26a6804eb24eb4ad080c6519e9b611",
            "68010025c57745ad95043b596715cd06",
            "64fa0ae23d21414395db5c40d6a3ddc4",
            "95a0122ba50a4f2cba0064b9e27e1055",
            "b286b5689f6042c8b956cf034b1cfacb",
            "b513902fabb74152a47b4d280df4d2c5",
            "3f66eb92718a4f3082950caa7ccf0e83",
            "a98a8fea03784e22b1758657edcc5561",
            "affb7cbaa7ca4c78a7451be75908c4e4",
            "9964f8c63db542cbb96a657cbfc460d6",
            "6434fff9b06845f899c91107aea8baab",
            "7756feddb06948c7b835715da96eec86",
            "718dbd4eb30e46b0b5a0a34c511cf2be",
            "48ce227151e842469bd8efd281078b27",
            "b9fe389cd5d542ff9d55591ddf7dea2d",
            "b25f3d56efc64a2c8c68cd0f6fb0d6b0",
            "176d7ee0401a4b7cb70ebb714b4e5f18",
            "60b34a365b6641bfb78387516130c6d5",
            "9d813d75b95342c7951e0fad9136122c",
            "9bd73b706ac744a2ac49c31dde6acc26",
            "14100c1855224973a67e477cef90e0ca",
            "6201bb171ac543f58025e8ed6703f073",
            "f7fc16f844f2477aaf2a4ba44da67d65",
            "9421e259a9274aa8b1c3aa4d8183fb60",
            "e723813c6f41459381a9935b32162da3",
            "9f5756f0a540489bbd9d681448c77c0f",
            "dc163329744444adbc14c910e3863b5e",
            "56cda2cf03e94ed0a210410ece675d8e",
            "48fa6622bb0243a89c86bda563a552aa",
            "6aaf1c31d3fb441e9249154d67964e07",
            "91552dcf72794d7a99f9c021b5a035a3",
            "d18a20c5c83444619368ce70e20573e5",
            "72f99f84bf574afda52d43548ac2bf5b",
            "0886e21ea57d4b29b202b95e35f54652",
            "184e32ee715743f4bfbeb548cf193478",
            "36706283242247d4a8236021b72c4321",
            "9d6c0a59d36d40c9a87de52c68be0b3c",
            "a2e77890d3354d10bcdb183a1a9c2830",
            "b180e8f842e94da8af38f35bd091a1f9",
            "59faa2f12e024e3eab665e69d4a9a86c",
            "4a0d0173d42f436094df3b43d96bc9d6",
            "d86cc7f8aa014efba779b2e59d0f16ac",
            "2ef4998e304444b798085c489431adb5",
            "debf931d351344a0ab43ee573b454071",
            "0d6401ac3877477c86afd30f3fa7964e",
            "3800c3ae6d5c4f5a83fe086bd00db151",
            "0a05bd3c86694507a0b9ace9f5176eba",
            "cd7b016372f64d05b29b4ad5779c09c4",
            "2129ecaa57524a0780530d6f941d40fe",
            "e00964fd75a5456e90c719cae33ab05d",
            "69289bef70ea4edc8b45c8f5188a6f1d",
            "a6d0beaaa4334d42bd16beb26c11ed3f",
            "27ed26754cda41a6a74db263832a3f77",
            "5a1233fbf9a7427cb37bca6af5e66f97",
            "f7a3ec8211d54209a114ab3667883624",
            "06c46f45414d4e9da188b2a7028597dd"
          ]
        },
        "id": "WCgJnSdAXGxJ",
        "outputId": "bbc17ef3-3038-4632-d08b-8b9b47e461e5"
      },
      "source": [
        "content = '''Manisha Gulati to meet Naudip Kaur in Karnal jail on 15th February\r\n",
        "\r\n",
        "Chandigarh, 12 February:\r\n",
        "\r\n",
        "Punjab State Women's Commission chairperson Smt Manisha Gulati will meet Naudip Kaur, who is in Karnal jail, on 15 February 2021 at 12 noon.\r\n",
        "\r\n",
        "Giving this information, the spokesperson of the commission said that the matter was raised by the chairperson of the Punjab State Women's Commission before the counterpart of the state of Haryana and appealed to them to intervene in the matter. Taking immediate action on this, Haryana State Women's Commission, Mr. K.K. A letter was written to Selvaraja instructing that according to Section 3 (10), (1) (f) (k) of the Haryana State Women's Commission Act, ensure legal aid to Naudip Kaur, a resident of village Giadad in Muktsar district of Punjab state. Along with making, the security of the hawatis should also be made sure.'''\r\n",
        "content = content.replace('\\n',' ')\r\n",
        "splitter = SentenceSplitter(language='en')\r\n",
        "so_sentences = splitter.split(content)\r\n",
        "tgtp = '''करनाल जेल में बंद नौदीप कौर से मनीषा गुलाटी करेंगी 15 फऱवरी को मुलाकात\r\n",
        "\r\n",
        "चंडीगढ़, 12 फरवरी:\r\n",
        "\r\n",
        "करनाल जेल में बंद नौदीप कौर से पंजाब राज्य महिला आयोग की चेयरपर्सन श्रीमती मनीषा गुलाटी 15 फऱवरी, 2021 को दोपहर 12 बजे मुलाकात करेंगी। \r\n",
        "\r\n",
        "इस सम्बन्धी जानकारी देते हुए आयोग के प्रवक्ता ने बताया कि पंजाब राज्य महिला आयोग की चेयरपर्सन द्वारा यह मामला हरियाणा राज्य की समकक्ष के समक्ष उठाया था और उनको इस मामले में दख़ल देने की अपील की थी। इस पर तुरंत कार्यवाही करते हुए हरियाणा राज्य महिला आयोग द्वारा हरियाणा के जेल विभाग के डायरैक्टर जनरल श्री के. सेल्वाराज को पत्र लिखकर हिदायत की गई कि हरियाणा राज्य महिला आयोग एक्ट की धारा 3(10), (1)(एफ)(के) के अनुसार पंजाब राज्य के मुक्तसर जि़ले के गाँव गियादड़ की निवासी नौदीप कौर को कानूनी सहायता मुहैया करवाने को सुनिश्चित बनाने के साथ-साथ हवालाती की सुरक्षा को भी यकीनी बनाया जाए। \r\n",
        "'''\r\n",
        "src = so_sentences \r\n",
        "res = anuvaad_aligner(src, tgtp)"
      ],
      "execution_count": 43,
      "outputs": [
        {
          "output_type": "stream",
          "text": [
            "Performing phrase alignenment using LABSE\n"
          ],
          "name": "stdout"
        },
        {
          "output_type": "display_data",
          "data": {
            "application/vnd.jupyter.widget-view+json": {
              "model_id": "b489f2fd48d948ceb2b48e46063a613a",
              "version_minor": 0,
              "version_major": 2
            },
            "text/plain": [
              "HBox(children=(FloatProgress(value=0.0, description='Batches', max=1.0, style=ProgressStyle(description_width=…"
            ]
          },
          "metadata": {
            "tags": []
          }
        },
        {
          "output_type": "stream",
          "text": [
            "\n"
          ],
          "name": "stdout"
        },
        {
          "output_type": "display_data",
          "data": {
            "application/vnd.jupyter.widget-view+json": {
              "model_id": "3d26a6804eb24eb4ad080c6519e9b611",
              "version_minor": 0,
              "version_major": 2
            },
            "text/plain": [
              "HBox(children=(FloatProgress(value=0.0, description='Batches', max=11.0, style=ProgressStyle(description_width…"
            ]
          },
          "metadata": {
            "tags": []
          }
        },
        {
          "output_type": "stream",
          "text": [
            "\n",
            "LABSE embedding generation finished\n",
            "Match score: 0.9515082939906941\n"
          ],
          "name": "stdout"
        },
        {
          "output_type": "display_data",
          "data": {
            "application/vnd.jupyter.widget-view+json": {
              "model_id": "affb7cbaa7ca4c78a7451be75908c4e4",
              "version_minor": 0,
              "version_major": 2
            },
            "text/plain": [
              "HBox(children=(FloatProgress(value=0.0, description='Batches', max=1.0, style=ProgressStyle(description_width=…"
            ]
          },
          "metadata": {
            "tags": []
          }
        },
        {
          "output_type": "stream",
          "text": [
            "\n"
          ],
          "name": "stdout"
        },
        {
          "output_type": "display_data",
          "data": {
            "application/vnd.jupyter.widget-view+json": {
              "model_id": "176d7ee0401a4b7cb70ebb714b4e5f18",
              "version_minor": 0,
              "version_major": 2
            },
            "text/plain": [
              "HBox(children=(FloatProgress(value=0.0, description='Batches', max=11.0, style=ProgressStyle(description_width…"
            ]
          },
          "metadata": {
            "tags": []
          }
        },
        {
          "output_type": "stream",
          "text": [
            "\n",
            "LABSE embedding generation finished\n",
            "Match score: 0.9125870724667297\n"
          ],
          "name": "stdout"
        },
        {
          "output_type": "display_data",
          "data": {
            "application/vnd.jupyter.widget-view+json": {
              "model_id": "e723813c6f41459381a9935b32162da3",
              "version_minor": 0,
              "version_major": 2
            },
            "text/plain": [
              "HBox(children=(FloatProgress(value=0.0, description='Batches', max=1.0, style=ProgressStyle(description_width=…"
            ]
          },
          "metadata": {
            "tags": []
          }
        },
        {
          "output_type": "stream",
          "text": [
            "\n"
          ],
          "name": "stdout"
        },
        {
          "output_type": "display_data",
          "data": {
            "application/vnd.jupyter.widget-view+json": {
              "model_id": "72f99f84bf574afda52d43548ac2bf5b",
              "version_minor": 0,
              "version_major": 2
            },
            "text/plain": [
              "HBox(children=(FloatProgress(value=0.0, description='Batches', max=10.0, style=ProgressStyle(description_width…"
            ]
          },
          "metadata": {
            "tags": []
          }
        },
        {
          "output_type": "stream",
          "text": [
            "\n",
            "LABSE embedding generation finished\n",
            "Match score: 0.8503684323609959\n"
          ],
          "name": "stdout"
        },
        {
          "output_type": "display_data",
          "data": {
            "application/vnd.jupyter.widget-view+json": {
              "model_id": "4a0d0173d42f436094df3b43d96bc9d6",
              "version_minor": 0,
              "version_major": 2
            },
            "text/plain": [
              "HBox(children=(FloatProgress(value=0.0, description='Batches', max=1.0, style=ProgressStyle(description_width=…"
            ]
          },
          "metadata": {
            "tags": []
          }
        },
        {
          "output_type": "stream",
          "text": [
            "\n"
          ],
          "name": "stdout"
        },
        {
          "output_type": "display_data",
          "data": {
            "application/vnd.jupyter.widget-view+json": {
              "model_id": "2129ecaa57524a0780530d6f941d40fe",
              "version_minor": 0,
              "version_major": 2
            },
            "text/plain": [
              "HBox(children=(FloatProgress(value=0.0, description='Batches', max=13.0, style=ProgressStyle(description_width…"
            ]
          },
          "metadata": {
            "tags": []
          }
        },
        {
          "output_type": "stream",
          "text": [
            "\n",
            "LABSE embedding generation finished\n",
            "Match score: 0.7746197979584467\n",
            "Aligned Phrases: {\"Manisha Gulati to meet Naudip Kaur in Karnal jail on 15th February Chandigarh, 12 February: Punjab State Women's Commission chairperson Smt Manisha Gulati will meet Naudip Kaur, who is in Karnal jail, on 15 February 2021 at 12 noon.\": 'नौदीप कौर से मनीषा गुलाटी करेंगी 15 फऱवरी को मुलाकात चंडीगढ़, 12 फरवरी: करनाल जेल में बंद नौदीप कौर से पंजाब राज्य महिला आयोग की चेयरपर्सन श्रीमती मनीषा गुलाटी 15 फऱवरी, 2021 को दोपहर 12 बजे मुलाकात करेंगी। इस सम्बन्धी', \"Giving this information, the spokesperson of the commission said that the matter was raised by the chairperson of the Punjab State Women's Commission before the counterpart of the state of Haryana and appealed to them to intervene in the matter.\": 'करेंगी। इस सम्बन्धी जानकारी देते हुए आयोग के प्रवक्ता ने बताया कि पंजाब राज्य महिला आयोग की चेयरपर्सन द्वारा यह मामला हरियाणा राज्य की समकक्ष के समक्ष उठाया था और उनको इस मामले में दख़ल देने की अपील की थी। इस', \"Taking immediate action on this, Haryana State Women's Commission, Mr. K.K. A letter was written to Selvaraja instructing that according to Section 3 (10), (1) (f) (k) of the Haryana State Women's Commission Act, ensure legal aid to Naudip Kaur, a resident of village Giadad in Muktsar district of Punjab state.\": 'इस पर तुरंत कार्यवाही करते हुए हरियाणा राज्य महिला आयोग द्वारा हरियाणा के जेल विभाग के डायरैक्टर जनरल श्री के. सेल्वाराज को पत्र लिखकर हिदायत की गई कि हरियाणा राज्य महिला आयोग एक्ट की धारा 3(10), (1)(एफ)(के) के अनुसार पंजाब राज्य के मुक्तसर जि़ले के गाँव गियादड़ की निवासी नौदीप कौर', 'Along with making, the security of the hawatis should also be made sure.': 'सुनिश्चित बनाने के साथ-साथ हवालाती की सुरक्षा को भी यकीनी बनाया जाए।'}\n"
          ],
          "name": "stdout"
        }
      ]
    },
    {
      "cell_type": "code",
      "metadata": {
        "colab": {
          "base_uri": "https://localhost:8080/"
        },
        "id": "5hQj3DklXKj2",
        "outputId": "52ad0f91-d8d2-4695-81aa-0aa3a14a43f8"
      },
      "source": [
        "for key in res['aligned_phrases']:\r\n",
        "  print(key)                                                                                                                                                                                                                                                                                                                                                                                                                                                                                                                                                                                                                                                                                                                                                                                                                                                                                                                                                                                                                                                                                                                                                                                                                                                                                                                                                                                                                                                                                                                                                                                                                                                                                                                                                                                                                                                                                                                                                                                                                                                                                                                                                                                                                                                                                                                                                                                                                                                                                                                                                                                                                                                                                                                                                                                                                                                                                                                                                                                                                                                                                                                                                                                                                                                                                                                                                                                                                                                                                                                                                                                                                                                                                                                                                                                                                                                                                                                                                                                                                                                                                                                                                                                                                                                                                                                                                                                                                                                                                                                                                                                                                                                                                                                                                                                                                                                                                                                                                                                                                                                                                                                                                                                                                                                                                                                                                                                                                                                                                                                                                                                                                                                                                                                                                                                                                                                                                                                                                                                                                                                                                                                                                                                                                                                                                                                                                                                                                                                                                                                                                                                                                                                                                                                                                                                                                                                                                                                                                                                                                                                                                                                                                                                                                                                                                                                                                                                                                                                                                                                                                                                                                                                                                                                                                                                                                                                                                                                                                                                                                                                                                                                                                                                                                                                                                                                                                                                                                                                                                                                                                                                                                                                                                                                                                                                                                                                                                                                                                                                                                                                                                                                                                                                                                                                                                                                                                                                                                                                                                                                                                                                                                                                                                                                                                                                                                                                                                                                                                                                                                                                                                                                                                                                                                                                                                                                                                                                                                                                                                                                                                                                                                                                                                                                                                                                                                                                                                                                                                                                                                                                                                                                                                                                                                                                                                                                                                                                                                                                                                                                                                                                                                                                                                                                                                                                                                                                                                                                                                                                                                                                                                                                                                                                                                                                                                                                                                                                                                                                                                                                                                                                                                                                                                                                                                                                                                                                                                                                                                                                                                                                                                                                                                                                                                                                                                                                                                                                                                                                                                                                                                                                                                                                                                                                                                                                                                                                                                                                                                                                                                                                                                                                                                                                                                                                                                                                                                                                                                                                                                                                                                                                                                                                                                                                                                                                                                                                                                                                                                                                                                                                                                                                                                                                                                                                                                                                                                                                                                                                                                                                                                                                                                                                                                                                                                                                                                                                                                                                                                                                                                                                                                                                                                                                                                                                                                                                                                                                                                                                                                                                                                                                                                                                                                                                                                                                                                                                                                                                                                                                                                                                                                                                                                                                                                                                                                                                                                                                                                                                                                                                                                                                                                                                                                                                                                                                                                                                                                                                                                                                                                                                                                                                                                                                                                                                                                                                                                                                                                                                                                                                                                                                                                                                                                                                                                                                                                                                                                                                                                                                                                                                                                                                                                                                                                                                                                                                                                                                                                                                                                                                                                                                                                                                                                                                                                                                                                                                                                                                                                                                                                                                                                                                                                                                                                                                                                                                                                                                                                                                                                                                                                                                                                                                                                                                                                                                                                                                                                                                                                                                                                                                                                                                                                                                                                                                                                                                                                                                                                                                                                                                                                                                                                                                                                                                                                                                                                                                                                                                                                                                                                                                                                                                                                                                                                                                                                                                                                                                                                                                                                                                                                                                                                                                                                                                                                                                                                                                                                                                                                                                                                                                                                                                                                                                                                                                                                                                                                                                                                                                                                                                                                                                                                                                                                                                                                                                                                                                                                                                                                                                                                                                                                                                                                                                                                                                                                                                                                                                                                                                                                                                                                                                                                                                                                                                                                                                                                                                                                                                                                                                                                                                                                                                                                                                                                                                                                                                                                                                                                                                                                                                                                                                                                                                                                                                                                                                                                                                                                                                                                                                                                                                                                                                                                                                                                                                                                                                                                                                                                                                                                                                                                                                                                                                                                                                                                                                                                                                                                                                                                                                                                                                                                                                                                                                                                                                                                                                                                                                                                                                                                                                                                                                                                                                                                                                                                                                                                                                                                                                                                                                                                                                                                                                                                                                                                                                                                                                                                                                                                                                                                                                                                                                                                                                                                                                                                                                                                                                                                                                                                                                                                                                                                                                                                                                                                                                                                                                                                                                                                                                                                                                                                                                                                                                                                                                                                                                                                                                                                                                                                                                                                                                                                                                                                                                                                                                                                                                                                                                                                                                                                                                                                                                                                                                                                                                                                                                                                                                                                                                                                                                                                                                                                                                                                                                                                                                                                                                                                                                                                                                                                                                                                                                                                                                                                                                                                                                                                                                                                                                                                                                                                                                                                                                                                                                                                                                                                                                                                                                                                                                                                                                                                                                                                                                                                                                                                                                                                                                                                                                                                                                                                                                                                                                                                                                                                                                                                                                                                                                                                                                                                                                                                                                                                                                                                                                                                                                                                                                                                                                                                                                                                                                                                                                                                                                                                                                                                                                                                                                                                                                                                                                                                                                                                                                                                                                                                                                                                                                                                                                                                                                                                                                                                                                                                                                                                                                                                                                                                                                                                                                                                                                                                                                                                                                                                                                                                                                                                                                                                                                                                                                                                                                                                                                                                                                                                                                                                                                                                                                                                                                                                                                                                                                                                                                                                                                                                                                                                                                                                                                                                                                                                                                                                                                                                                                                                                                 \r\n",
        "  print(res['aligned_phrases'][key])  "
      ],
      "execution_count": 44,
      "outputs": [
        {
          "output_type": "stream",
          "text": [
            "Manisha Gulati to meet Naudip Kaur in Karnal jail on 15th February Chandigarh, 12 February: Punjab State Women's Commission chairperson Smt Manisha Gulati will meet Naudip Kaur, who is in Karnal jail, on 15 February 2021 at 12 noon.\n",
            "नौदीप कौर से मनीषा गुलाटी करेंगी 15 फऱवरी को मुलाकात चंडीगढ़, 12 फरवरी: करनाल जेल में बंद नौदीप कौर से पंजाब राज्य महिला आयोग की चेयरपर्सन श्रीमती मनीषा गुलाटी 15 फऱवरी, 2021 को दोपहर 12 बजे मुलाकात करेंगी। इस सम्बन्धी\n",
            "Giving this information, the spokesperson of the commission said that the matter was raised by the chairperson of the Punjab State Women's Commission before the counterpart of the state of Haryana and appealed to them to intervene in the matter.\n",
            "करेंगी। इस सम्बन्धी जानकारी देते हुए आयोग के प्रवक्ता ने बताया कि पंजाब राज्य महिला आयोग की चेयरपर्सन द्वारा यह मामला हरियाणा राज्य की समकक्ष के समक्ष उठाया था और उनको इस मामले में दख़ल देने की अपील की थी। इस\n",
            "Taking immediate action on this, Haryana State Women's Commission, Mr. K.K. A letter was written to Selvaraja instructing that according to Section 3 (10), (1) (f) (k) of the Haryana State Women's Commission Act, ensure legal aid to Naudip Kaur, a resident of village Giadad in Muktsar district of Punjab state.\n",
            "इस पर तुरंत कार्यवाही करते हुए हरियाणा राज्य महिला आयोग द्वारा हरियाणा के जेल विभाग के डायरैक्टर जनरल श्री के. सेल्वाराज को पत्र लिखकर हिदायत की गई कि हरियाणा राज्य महिला आयोग एक्ट की धारा 3(10), (1)(एफ)(के) के अनुसार पंजाब राज्य के मुक्तसर जि़ले के गाँव गियादड़ की निवासी नौदीप कौर\n",
            "Along with making, the security of the hawatis should also be made sure.\n",
            "सुनिश्चित बनाने के साथ-साथ हवालाती की सुरक्षा को भी यकीनी बनाया जाए।\n"
          ],
          "name": "stdout"
        }
      ]
    },
    {
      "cell_type": "markdown",
      "metadata": {
        "id": "3O4quHKUZye_"
      },
      "source": [
        "My Version"
      ]
    },
    {
      "cell_type": "code",
      "metadata": {
        "id": "orDbzqpd7CAx"
      },
      "source": [
        "def LaBSEembeddings(source, target):\r\n",
        "  '''\r\n",
        "  Generate LABSE embeddings\r\n",
        "  Note: Inputs are array of strings\r\n",
        "  '''           \r\n",
        "  embeddings_input_1 = model.encode(source,show_progress_bar=True)\r\n",
        "  embeddings_input_2 = model.encode(target,show_progress_bar=True)    \r\n",
        "  print(\"LABSE embedding generation finished\")\r\n",
        "  return embeddings_input_1, embeddings_input_2\r\n",
        "  "
      ],
      "execution_count": 10,
      "outputs": []
    },
    {
      "cell_type": "code",
      "metadata": {
        "id": "2qOlbPq98GCh"
      },
      "source": [
        "def match_target_sentence(source_embedding, target_embeddings):\r\n",
        "  '''\r\n",
        "  Calculate cosine similarity using scipy distance method\r\n",
        "  '''\r\n",
        "  distances = distance.cdist(source_embedding, target_embeddings, \"cosine\")[0]\r\n",
        "  min_index = np.argmin(distances)\r\n",
        "  min_distance = 1 - distances[min_index]\r\n",
        "  if min_distance >= 0.3:\r\n",
        "      return min_index, min_distance, \"MATCH\"\r\n",
        "  else:\r\n",
        "      return min_index, min_distance, \"NOMATCH\"     "
      ],
      "execution_count": 50,
      "outputs": []
    },
    {
      "cell_type": "code",
      "metadata": {
        "id": "GceylYunEIAC"
      },
      "source": [
        "def self_aligner(source_embeddings, target_embeddings):\r\n",
        "  target_map = {}\r\n",
        "  source_map = {}\r\n",
        "  for s in range(len(source_embeddings)):\r\n",
        "    source_map[s] = so_sentences[s]\r\n",
        "  for t in range(len(target_embeddings)):\r\n",
        "    target_map[t] = ta_sentences[t]\r\n",
        "  print(source_map, target_map)\r\n",
        "  aligned_phrases= {}\r\n",
        "  for s in range(len(source_embeddings)) :\r\n",
        "      alignments = match_target_sentence([source_embeddings[s]], target_embeddings)\r\n",
        "      if alignments is not None and alignments[2] is \"MATCH\":\r\n",
        "        l = []\r\n",
        "        l.append(target_map[alignments[0]])\r\n",
        "        l.append(alignments[1])\r\n",
        "        aligned_phrases[source_map[s]] = l\r\n",
        "  return aligned_phrases   "
      ],
      "execution_count": 51,
      "outputs": []
    },
    {
      "cell_type": "code",
      "metadata": {
        "colab": {
          "base_uri": "https://localhost:8080/",
          "height": 171,
          "referenced_widgets": [
            "0ec76ca956e5456c9ab3dac2e3a3aa16",
            "950d52c6763d41b4a5a655c35fb07300",
            "8203efe12a364bbf94472ec780f31404",
            "1269f2c8259e4c8bb92bc248569e5041",
            "7818a30abed24a98afc7b3b4064b05d0",
            "4ee5f73a97644b4cbe31073550f9b373",
            "3943838a4aae4db3ac609066a4282871",
            "044fddb550a44b32ab908b9029bfc810",
            "6ed0696ebd83451f879c30df07b0deab",
            "143f8a41ce23407f9ae743a15bd31e95",
            "887a66f6d9a5465d8ee8b5a9ba511f40",
            "2d06c95e31a746dd96f7bc1edaf4b87e",
            "8cdc3468565749d383655e9924c228a2",
            "dda03c1491594d3e87b4afd674271746",
            "6f2a0b8c73aa481d88fff5f4765397b2",
            "dfed8e5b905842aabfac76de79e25b45"
          ]
        },
        "id": "golEP1HiZyGS",
        "outputId": "aeb703c4-5290-49f3-ae33-20bb3878fdf5"
      },
      "source": [
        "content =  '''Manisha Gulati to meet Naudip Kaur in Karnal jail on 15th February\r\n",
        "Chandigarh, 12 February:\r\n",
        "Punjab State Women's Commission chairperson Smt Manisha Gulati will meet Naudip Kaur, who is in Karnal jail, on 15 February 2021 at 12 noon.\r\n",
        "Giving this information, the spokesperson of the commission said that the matter was raised by the chairperson of the Punjab State Women's Commission before the counterpart of the state of Haryana and appealed to them to intervene in the matter. Taking immediate action on this, Haryana State Women's Commission, Mr. K.K. A letter was written to Selvaraja instructing that according to Section 3 (10), (1) (f) (k) of the Haryana State Women's Commission Act, ensure legal aid to Naudip Kaur, a resident of village Giadad in Muktsar district of Punjab state. \r\n",
        "Along with making, the security of the hawatis should also be made sure.'''\r\n",
        "content = content.replace('\\n',' ')\r\n",
        "splitter = SentenceSplitter(language='en')\r\n",
        "so_sentences = splitter.split(content)\r\n",
        "content = tgtp\r\n",
        "content = content.replace('\\n',' ')\r\n",
        "ta_sentences = sentence_tokenize.sentence_split(content, lang='hi')\r\n",
        "source_embeddings, target_embeddings = LaBSEembeddings(so_sentences, ta_sentences)\r\n",
        "res_m = self_aligner(source_embeddings, target_embeddings)"
      ],
      "execution_count": 54,
      "outputs": [
        {
          "output_type": "display_data",
          "data": {
            "application/vnd.jupyter.widget-view+json": {
              "model_id": "0ec76ca956e5456c9ab3dac2e3a3aa16",
              "version_minor": 0,
              "version_major": 2
            },
            "text/plain": [
              "HBox(children=(FloatProgress(value=0.0, description='Batches', max=1.0, style=ProgressStyle(description_width=…"
            ]
          },
          "metadata": {
            "tags": []
          }
        },
        {
          "output_type": "stream",
          "text": [
            "\n"
          ],
          "name": "stdout"
        },
        {
          "output_type": "display_data",
          "data": {
            "application/vnd.jupyter.widget-view+json": {
              "model_id": "6ed0696ebd83451f879c30df07b0deab",
              "version_minor": 0,
              "version_major": 2
            },
            "text/plain": [
              "HBox(children=(FloatProgress(value=0.0, description='Batches', max=1.0, style=ProgressStyle(description_width=…"
            ]
          },
          "metadata": {
            "tags": []
          }
        },
        {
          "output_type": "stream",
          "text": [
            "\n",
            "LABSE embedding generation finished\n",
            "{0: \"Manisha Gulati to meet Naudip Kaur in Karnal jail on 15th February Chandigarh, 12 February: Punjab State Women's Commission chairperson Smt Manisha Gulati will meet Naudip Kaur, who is in Karnal jail, on 15 February 2021 at 12 noon.\", 1: \"Giving this information, the spokesperson of the commission said that the matter was raised by the chairperson of the Punjab State Women's Commission before the counterpart of the state of Haryana and appealed to them to intervene in the matter.\", 2: \"Taking immediate action on this, Haryana State Women's Commission, Mr. K.K. A letter was written to Selvaraja instructing that according to Section 3 (10), (1) (f) (k) of the Haryana State Women's Commission Act, ensure legal aid to Naudip Kaur, a resident of village Giadad in Muktsar district of Punjab state.\", 3: 'Along with making, the security of the hawatis should also be made sure.'} {0: 'करनाल जेल में बंद नौदीप कौर से मनीषा गुलाटी करेंगी 15 फऱवरी को मुलाकात  चंडीगढ़, 12 फरवरी:  करनाल जेल में बंद नौदीप कौर से पंजाब राज्य महिला आयोग की चेयरपर्सन श्रीमती मनीषा गुलाटी 15 फऱवरी, 2021 को दोपहर 12 बजे मुलाकात करेंगी।', 1: 'इस सम्बन्धी जानकारी देते हुए आयोग के प्रवक्ता ने बताया कि पंजाब राज्य महिला आयोग की चेयरपर्सन द्वारा यह मामला हरियाणा राज्य की समकक्ष के समक्ष उठाया था और उनको इस मामले में दख़ल देने की अपील की थी।', 2: 'इस पर तुरंत कार्यवाही करते हुए हरियाणा राज्य महिला आयोग द्वारा हरियाणा के जेल विभाग के डायरैक्टर जनरल श्री के. सेल्वाराज को पत्र लिखकर हिदायत की गई कि हरियाणा राज्य महिला आयोग एक्ट की धारा 3(10), (1)(एफ)(के) के अनुसार पंजाब राज्य के मुक्तसर जि़ले के गाँव गियादड़ की निवासी नौदीप कौर को कानूनी सहायता मुहैया करवाने को सुनिश्चित बनाने के साथ-साथ हवालाती की सुरक्षा को भी यकीनी बनाया जाए।'}\n"
          ],
          "name": "stdout"
        }
      ]
    },
    {
      "cell_type": "code",
      "metadata": {
        "colab": {
          "base_uri": "https://localhost:8080/"
        },
        "id": "be9zSuzIZM3j",
        "outputId": "69be85b5-a38a-4c2e-e78d-3ff4e814db71"
      },
      "source": [
        "res_m"
      ],
      "execution_count": 53,
      "outputs": [
        {
          "output_type": "execute_result",
          "data": {
            "text/plain": [
              "{\"Giving this information, the spokesperson of the commission said that the matter was raised by the chairperson of the Punjab State Women's Commission before the counterpart of the state of Haryana and appealed to them to intervene in the matter.\": ['इस सम्बन्धी जानकारी देते हुए आयोग के प्रवक्ता ने बताया कि पंजाब राज्य महिला आयोग की चेयरपर्सन द्वारा यह मामला हरियाणा राज्य की समकक्ष के समक्ष उठाया था और उनको इस मामले में दख़ल देने की अपील की थी।',\n",
              "  0.8991213259493398],\n",
              " \"Manisha Gulati to meet Naudip Kaur in Karnal jail on 15th February Chandigarh, 12 February: Punjab State Women's Commission chairperson Smt Manisha Gulati will meet Naudip Kaur, who is in Karnal jail, on 15 February 2021 at 12 noon.\": ['करनाल जेल में बंद नौदीप कौर से मनीषा गुलाटी करेंगी 15 फऱवरी को मुलाकात    चंडीगढ़, 12 फरवरी:    करनाल जेल में बंद नौदीप कौर से पंजाब राज्य महिला आयोग की चेयरपर्सन श्रीमती मनीषा गुलाटी 15 फऱवरी, 2021 को दोपहर 12 बजे मुलाकात करेंगी।',\n",
              "  0.9571049857044178],\n",
              " \"Taking immediate action on this, Haryana State Women's Commission, Mr. K.K. A letter was written to Selvaraja instructing that according to Section 3 (10), (1) (f) (k) of the Haryana State Women's Commission Act, ensure legal aid to Naudip Kaur, a resident of village Giadad in Muktsar district of Punjab state.\": ['इस पर तुरंत कार्यवाही करते हुए हरियाणा राज्य महिला आयोग द्वारा हरियाणा के जेल विभाग के डायरैक्टर जनरल श्री के. सेल्वाराज को पत्र लिखकर हिदायत की गई कि हरियाणा राज्य महिला आयोग एक्ट की धारा 3(10), (1)(एफ)(के) के अनुसार पंजाब राज्य के मुक्तसर जि़ले के गाँव गियादड़ की निवासी नौदीप कौर को कानूनी सहायता मुहैया करवाने को सुनिश्चित बनाने के साथ-साथ हवालाती की सुरक्षा को भी यकीनी बनाया जाए।',\n",
              "  0.8593290193754998]}"
            ]
          },
          "metadata": {
            "tags": []
          },
          "execution_count": 53
        }
      ]
    },
    {
      "cell_type": "code",
      "metadata": {
        "colab": {
          "base_uri": "https://localhost:8080/"
        },
        "id": "THR7PDHDmJ4X",
        "outputId": "7b7dcd08-c39a-43d4-8005-fcede602b74a"
      },
      "source": [
        "res_m"
      ],
      "execution_count": 45,
      "outputs": [
        {
          "output_type": "execute_result",
          "data": {
            "text/plain": [
              "{\"Giving this information, the spokesperson of the commission said that the matter was raised by the chairperson of the Punjab State Women's Commission before the counterpart of the state of Haryana and appealed to them to intervene in the matter.\": ['इस सम्बन्धी जानकारी देते हुए आयोग के प्रवक्ता ने बताया कि पंजाब राज्य महिला आयोग की चेयरपर्सन द्वारा यह मामला हरियाणा राज्य की समकक्ष के समक्ष उठाया था और उनको इस मामले में दख़ल देने की अपील की थी।',\n",
              "  0.8991213259493398],\n",
              " \"Manisha Gulati to meet Naudip Kaur in Karnal jail on 15th February Chandigarh, 12 February: Punjab State Women's Commission chairperson Smt Manisha Gulati will meet Naudip Kaur, who is in Karnal jail, on 15 February 2021 at 12 noon.\": ['करनाल जेल में बंद नौदीप कौर से मनीषा गुलाटी करेंगी 15 फऱवरी को मुलाकात    चंडीगढ़, 12 फरवरी:    करनाल जेल में बंद नौदीप कौर से पंजाब राज्य महिला आयोग की चेयरपर्सन श्रीमती मनीषा गुलाटी 15 फऱवरी, 2021 को दोपहर 12 बजे मुलाकात करेंगी।',\n",
              "  0.9571049857044178],\n",
              " \"Taking immediate action on this, Haryana State Women's Commission, Mr. K.K. A letter was written to Selvaraja instructing that according to Section 3 (10), (1) (f) (k) of the Haryana State Women's Commission Act, ensure legal aid to Naudip Kaur, a resident of village Giadad in Muktsar district of Punjab state.\": ['इस पर तुरंत कार्यवाही करते हुए हरियाणा राज्य महिला आयोग द्वारा हरियाणा के जेल विभाग के डायरैक्टर जनरल श्री के. सेल्वाराज को पत्र लिखकर हिदायत की गई कि हरियाणा राज्य महिला आयोग एक्ट की धारा 3(10), (1)(एफ)(के) के अनुसार पंजाब राज्य के मुक्तसर जि़ले के गाँव गियादड़ की निवासी नौदीप कौर को कानूनी सहायता मुहैया करवाने को सुनिश्चित बनाने के साथ-साथ हवालाती की सुरक्षा को भी यकीनी बनाया जाए।',\n",
              "  0.8593290193754998]}"
            ]
          },
          "metadata": {
            "tags": []
          },
          "execution_count": 45
        }
      ]
    },
    {
      "cell_type": "code",
      "metadata": {
        "colab": {
          "base_uri": "https://localhost:8080/"
        },
        "id": "yOEjrL-jmJ06",
        "outputId": "ffcfca59-ad42-45ef-ac7a-ec9ce40d25e1"
      },
      "source": [
        "res['aligned_phrases']"
      ],
      "execution_count": 47,
      "outputs": [
        {
          "output_type": "execute_result",
          "data": {
            "text/plain": [
              "{'Along with making, the security of the hawatis should also be made sure.': 'सुनिश्चित बनाने के साथ-साथ हवालाती की सुरक्षा को भी यकीनी बनाया जाए।',\n",
              " \"Giving this information, the spokesperson of the commission said that the matter was raised by the chairperson of the Punjab State Women's Commission before the counterpart of the state of Haryana and appealed to them to intervene in the matter.\": 'करेंगी। इस सम्बन्धी जानकारी देते हुए आयोग के प्रवक्ता ने बताया कि पंजाब राज्य महिला आयोग की चेयरपर्सन द्वारा यह मामला हरियाणा राज्य की समकक्ष के समक्ष उठाया था और उनको इस मामले में दख़ल देने की अपील की थी। इस',\n",
              " \"Manisha Gulati to meet Naudip Kaur in Karnal jail on 15th February Chandigarh, 12 February: Punjab State Women's Commission chairperson Smt Manisha Gulati will meet Naudip Kaur, who is in Karnal jail, on 15 February 2021 at 12 noon.\": 'नौदीप कौर से मनीषा गुलाटी करेंगी 15 फऱवरी को मुलाकात चंडीगढ़, 12 फरवरी: करनाल जेल में बंद नौदीप कौर से पंजाब राज्य महिला आयोग की चेयरपर्सन श्रीमती मनीषा गुलाटी 15 फऱवरी, 2021 को दोपहर 12 बजे मुलाकात करेंगी। इस सम्बन्धी',\n",
              " \"Taking immediate action on this, Haryana State Women's Commission, Mr. K.K. A letter was written to Selvaraja instructing that according to Section 3 (10), (1) (f) (k) of the Haryana State Women's Commission Act, ensure legal aid to Naudip Kaur, a resident of village Giadad in Muktsar district of Punjab state.\": 'इस पर तुरंत कार्यवाही करते हुए हरियाणा राज्य महिला आयोग द्वारा हरियाणा के जेल विभाग के डायरैक्टर जनरल श्री के. सेल्वाराज को पत्र लिखकर हिदायत की गई कि हरियाणा राज्य महिला आयोग एक्ट की धारा 3(10), (1)(एफ)(के) के अनुसार पंजाब राज्य के मुक्तसर जि़ले के गाँव गियादड़ की निवासी नौदीप कौर'}"
            ]
          },
          "metadata": {
            "tags": []
          },
          "execution_count": 47
        }
      ]
    },
    {
      "cell_type": "code",
      "metadata": {
        "id": "QIVGfRsRmJyn"
      },
      "source": [
        ""
      ],
      "execution_count": null,
      "outputs": []
    }
  ]
}