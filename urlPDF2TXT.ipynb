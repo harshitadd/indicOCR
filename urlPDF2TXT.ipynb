{
  "nbformat": 4,
  "nbformat_minor": 0,
  "metadata": {
    "colab": {
      "name": "urlPDF2TXT.ipynb",
      "provenance": [],
      "authorship_tag": "ABX9TyOUu6keEmkMdVx819dOgBum",
      "include_colab_link": true
    },
    "kernelspec": {
      "display_name": "Python 3",
      "name": "python3"
    }
  },
  "cells": [
    {
      "cell_type": "markdown",
      "metadata": {
        "id": "view-in-github",
        "colab_type": "text"
      },
      "source": [
        "<a href=\"https://colab.research.google.com/github/harshitadd/AI4BharatTranslation/blob/main/urlPDF2TXT.ipynb\" target=\"_parent\"><img src=\"https://colab.research.google.com/assets/colab-badge.svg\" alt=\"Open In Colab\"/></a>"
      ]
    },
    {
      "cell_type": "code",
      "metadata": {
        "colab": {
          "base_uri": "https://localhost:8080/"
        },
        "id": "U-N9iAjHXMU-",
        "outputId": "af8771f0-4c44-4446-d910-d3481c1c2723"
      },
      "source": [
        "!sudo apt install tesseract-ocr\r\n",
        "!apt-get install poppler-utils\r\n",
        "!pip install pytesseract\r\n",
        "!pip install pdf2image\r\n"
      ],
      "execution_count": 1,
      "outputs": [
        {
          "output_type": "stream",
          "text": [
            "Reading package lists... Done\n",
            "Building dependency tree       \n",
            "Reading state information... Done\n",
            "tesseract-ocr is already the newest version (4.00~git2288-10f4998a-2).\n",
            "0 upgraded, 0 newly installed, 0 to remove and 15 not upgraded.\n",
            "Reading package lists... Done\n",
            "Building dependency tree       \n",
            "Reading state information... Done\n",
            "poppler-utils is already the newest version (0.62.0-2ubuntu2.12).\n",
            "0 upgraded, 0 newly installed, 0 to remove and 15 not upgraded.\n",
            "Requirement already satisfied: pytesseract in /usr/local/lib/python3.6/dist-packages (0.3.7)\n",
            "Requirement already satisfied: Pillow in /usr/local/lib/python3.6/dist-packages (from pytesseract) (7.0.0)\n",
            "Requirement already satisfied: pdf2image in /usr/local/lib/python3.6/dist-packages (1.14.0)\n",
            "Requirement already satisfied: pillow in /usr/local/lib/python3.6/dist-packages (from pdf2image) (7.0.0)\n"
          ],
          "name": "stdout"
        }
      ]
    },
    {
      "cell_type": "code",
      "metadata": {
        "id": "mf3rS84hW1Sn"
      },
      "source": [
        "import requests\r\n",
        "from PIL import Image \r\n",
        "import pytesseract \r\n",
        "import sys \r\n",
        "from pdf2image import convert_from_path \r\n",
        "import os\r\n",
        "pytesseract.pytesseract.tesseract_cmd = (r'/usr/bin/tesseract')"
      ],
      "execution_count": 2,
      "outputs": []
    },
    {
      "cell_type": "code",
      "metadata": {
        "colab": {
          "base_uri": "https://localhost:8080/"
        },
        "id": "NZEVhyXCIOoR",
        "outputId": "1aa3155f-b3c7-4999-9b05-ee275e06ffe6"
      },
      "source": [
        "# Data Source \r\n",
        "from google.colab import drive\r\n",
        "drive.mount('/content/gdrive')"
      ],
      "execution_count": 3,
      "outputs": [
        {
          "output_type": "stream",
          "text": [
            "Mounted at /content/gdrive\n"
          ],
          "name": "stdout"
        }
      ]
    },
    {
      "cell_type": "code",
      "metadata": {
        "id": "lCvNg-vwMeUI"
      },
      "source": [
        "with open('/content/gdrive/MyDrive/source_links.txt','r') as file:\r\n",
        "  links = file.read()"
      ],
      "execution_count": 4,
      "outputs": []
    },
    {
      "cell_type": "code",
      "metadata": {
        "id": "p-WEWhFpMeOH"
      },
      "source": [
        "links = links.split()"
      ],
      "execution_count": 5,
      "outputs": []
    },
    {
      "cell_type": "code",
      "metadata": {
        "id": "1oLqRXsDND5Q"
      },
      "source": [
        "source_en_links = []\r\n",
        "source_ta_links = []\r\n",
        "for link in links:\r\n",
        "  if '_e_' in link:\r\n",
        "    source_en_links.append(link)\r\n",
        "    temp = link \r\n",
        "    temp = temp.replace('_e_','_t_')\r\n",
        "    source_ta_links.append(temp)\r\n"
      ],
      "execution_count": 6,
      "outputs": []
    },
    {
      "cell_type": "code",
      "metadata": {
        "colab": {
          "base_uri": "https://localhost:8080/"
        },
        "id": "Swty9rlMOEme",
        "outputId": "3dde67cf-bfc1-4158-9d6c-3fd013488039"
      },
      "source": [
        "print(len(source_en_links))\r\n",
        "print(len(source_ta_links))\r\n"
      ],
      "execution_count": 7,
      "outputs": [
        {
          "output_type": "stream",
          "text": [
            "431\n",
            "431\n"
          ],
          "name": "stdout"
        }
      ]
    },
    {
      "cell_type": "code",
      "metadata": {
        "id": "-mBW__GwsXqp"
      },
      "source": [
        "i = 0\r\n",
        "batched_links = []\r\n",
        "# Making Mini Batches for download+preprocess\r\n",
        "def minibatch(source_links):\r\n",
        "  for j in range(0, len(source_links),20):\r\n",
        "    batched_links.append(source_links[j:j+20])\r\n",
        "  return batched_links \r\n"
      ],
      "execution_count": 8,
      "outputs": []
    },
    {
      "cell_type": "code",
      "metadata": {
        "id": "Het4jGbBon8z"
      },
      "source": [
        "def download_pdf_to_image(prim_lid, sec_lid, source_links, batch_index):\r\n",
        "  source_counter = 1\r\n",
        "  failed = []\r\n",
        "  for source in source_links:\r\n",
        "    url = source\r\n",
        "    try: \r\n",
        "      response = requests.get(url)\r\n",
        "      fn = '/content/gdrive/MyDrive/' + prim_lid + '_' + str(batch_index) + '_' + str(source_counter) + '.pdf' \r\n",
        "      with open(fn, 'wb') as f:\r\n",
        "          f.write(response.content)\r\n",
        "          pages = convert_from_path(fn, 200) \r\n",
        "          image_counter = 1\r\n",
        "          skipped = 0\r\n",
        "          for page in pages: \r\n",
        "            filename = \"page_\"+str(image_counter)+\".jpg\"\r\n",
        "            page.save(filename, 'JPEG') \r\n",
        "            image_counter = image_counter + 1\r\n",
        "          filelimit = image_counter-1\r\n",
        "          print(str(source_counter) + ' PDF Succesfully Saved as Images')\r\n",
        "  \r\n",
        "          outfile = '/content/gdrive/MyDrive/' + prim_lid + '_' + str(batch_index) + '_' + str(source_counter) + '.txt' #Rewriting the original document with the processed version \r\n",
        "          f = open(outfile, \"a\") \r\n",
        "          for i in range(1, filelimit + 1):\r\n",
        "            filename = \"page_\"+str(i)+\".jpg\" \r\n",
        "            try: \r\n",
        "              text = str(((pytesseract.image_to_string(Image.open(filename),lang=prim_lid+'+'+sec_lid))))  #  ORDER OF Languages Matter\r\n",
        "            except:\r\n",
        "              skipped+=1\r\n",
        "              text =''\r\n",
        "            f.write(text) \r\n",
        "          f.close() \r\n",
        "          source_counter+=1 \r\n",
        "    except: \r\n",
        "      failed.append(url)\r\n",
        "      print(url + ' PDF Failed to Process')\r\n",
        "    print(str(source_counter) + ' PDF Succesfully Processed')\r\n",
        "  \r\n",
        "  print('Batch Complete!')\r\n",
        "  print('Total Documents in :' + prim_lid + ' were ' + str(len(source_en_links)))\r\n",
        "  print('URL fetch failed for :' + str(len(failed)))\r\n",
        "  "
      ],
      "execution_count": 9,
      "outputs": []
    },
    {
      "cell_type": "code",
      "metadata": {
        "id": "FM7JoW1FUdh0"
      },
      "source": [
        "# main.py \r\n",
        "\r\n",
        "# CHANGE THIS\r\n",
        "source_links = source_ta_links \r\n",
        "prim_lid = 'tam' # Primary lang\r\n",
        "sec_lid = 'eng' # Depending upon which language is codeswitched.\r\n",
        "batch_index = 0 #Change for different batches \r\n",
        "# # # \r\n",
        "\r\n",
        "batched_links = minibatch(source_links)\r\n",
        "download_pdf_to_image(prim_lid, sec_lid, batched_links[batch_index], batch_index) # Downloading PDFs and storing them on Gdrive \r\n",
        "\r\n"
      ],
      "execution_count": null,
      "outputs": []
    },
    {
      "cell_type": "code",
      "metadata": {
        "id": "MiZ-SVeHgIsh"
      },
      "source": [
        ""
      ],
      "execution_count": null,
      "outputs": []
    }
  ]
}