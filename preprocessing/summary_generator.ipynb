{
  "cells": [
    {
      "cell_type": "markdown",
      "metadata": {
        "colab_type": "text",
        "id": "view-in-github"
      },
      "source": [
        "<a href=\"https://colab.research.google.com/github/harshitadd/AI4BharatTranslation/blob/main/VakyaanshPeriod.ipynb\" target=\"_parent\"><img src=\"https://colab.research.google.com/assets/colab-badge.svg\" alt=\"Open In Colab\"/></a>"
      ]
    },
    {
      "cell_type": "code",
      "execution_count": 1,
      "metadata": {
        "colab": {
          "base_uri": "https://localhost:8080/"
        },
        "id": "LaAM7C4n6Tmy",
        "outputId": "954562d7-d283-4298-af43-0ba9bcccf60d"
      },
      "outputs": [
        {
          "name": "stdout",
          "output_type": "stream",
          "text": [
            "Requirement already satisfied: wikipedia in /usr/local/lib/python3.7/dist-packages (1.4.0)\n",
            "Requirement already satisfied: requests<3.0.0,>=2.0.0 in /usr/local/lib/python3.7/dist-packages (from wikipedia) (2.23.0)\n",
            "Requirement already satisfied: beautifulsoup4 in /usr/local/lib/python3.7/dist-packages (from wikipedia) (4.6.3)\n",
            "Requirement already satisfied: chardet<4,>=3.0.2 in /usr/local/lib/python3.7/dist-packages (from requests<3.0.0,>=2.0.0->wikipedia) (3.0.4)\n",
            "Requirement already satisfied: certifi>=2017.4.17 in /usr/local/lib/python3.7/dist-packages (from requests<3.0.0,>=2.0.0->wikipedia) (2020.12.5)\n",
            "Requirement already satisfied: urllib3!=1.25.0,!=1.25.1,<1.26,>=1.21.1 in /usr/local/lib/python3.7/dist-packages (from requests<3.0.0,>=2.0.0->wikipedia) (1.24.3)\n",
            "Requirement already satisfied: idna<3,>=2.5 in /usr/local/lib/python3.7/dist-packages (from requests<3.0.0,>=2.0.0->wikipedia) (2.10)\n"
          ]
        }
      ],
      "source": [
        "!pip install wikipedia"
      ]
    },
    {
      "cell_type": "code",
      "execution_count": 2,
      "metadata": {
        "id": "b6h1DrDtObYV"
      },
      "outputs": [],
      "source": [
        "pages = ['Chennai','Ahmedabad','Kolkata','Mumbai']\n"
      ]
    },
    {
      "cell_type": "code",
      "execution_count": 13,
      "metadata": {
        "colab": {
          "base_uri": "https://localhost:8080/"
        },
        "id": "E0aHNfvtRPmC",
        "outputId": "4ab9017a-934a-4b48-854c-18fbcaf13522"
      },
      "outputs": [
        {
          "name": "stdout",
          "output_type": "stream",
          "text": [
            "గంగానది (హిందీ భాష: गंगा ; ఆంగ్లం: Ganga River) భారతదేశంలోను, బంగ్లాదేశ్‌లోను ప్రధానమైన నదులలో ఒకటి. భారతదేశం ఆర్థిక వ్యవస్థ, చరిత్ర, సంస్కృతి గంగానదితో అవినాభావంగా ముడివడి ఉన్నాయి. హిందూమతంలో గంగానదికి ఉన్న ప్రాముఖ్యత అత్యున్నతమైనది. \"గంగమ్మ తల్లి\" అనీ, \"పావన గంగ\" అనీ, \"గంగా భవాని\" అనీ ఈ నదిని హిందువులు స్మరిస్తారు.\n"
          ]
        }
      ],
      "source": [
        "page = 'Ganges'\n",
        "wikipedia.set_lang('te')\n",
        "wiki = wikipedia.summary(page, sentences = 4)\n",
        "print(wiki)"
      ]
    },
    {
      "cell_type": "code",
      "execution_count": null,
      "metadata": {
        "id": "InlPg2Eb6OS-"
      },
      "outputs": [],
      "source": [
        "import wikipedia\n",
        "import re\n",
        "\n",
        "list_of_sentences = []\n",
        "wikipedia.set_lang('kn')\n",
        "for page in pages:\n",
        "  try: \n",
        "    wiki = wikipedia.summary(page, sentences = 7)\n",
        "    sentences = wiki.split('.')\n",
        "    for sentence in sentences:\n",
        "      tokens = sentence.split(' ')\n",
        "      if len(tokens) >= 8 and len(tokens) <= 15:\n",
        "          list_of_sentences.append(sentence)\n",
        "          print(sentence)\n",
        "  except:\n",
        "      print('Could not do for: -' + page)\n",
        "\n"
      ]
    },
    {
      "cell_type": "code",
      "execution_count": null,
      "metadata": {
        "colab": {
          "base_uri": "https://localhost:8080/"
        },
        "id": "VS0ekqe5mxfQ",
        "outputId": "b421ae0c-d468-4cf9-b348-f2b4a9b22596"
      },
      "outputs": [],
      "source": [
        "print(list_of_sentences)"
      ]
    },
    {
      "cell_type": "code",
      "execution_count": 16,
      "metadata": {
        "id": "nZSg6eLcm23a"
      },
      "outputs": [],
      "source": [
        "temp = list_of_sentences"
      ]
    },
    {
      "cell_type": "code",
      "execution_count": 17,
      "metadata": {
        "id": "VyPd1aJj_fyP"
      },
      "outputs": [],
      "source": [
        "import re \n",
        "final = set()\n",
        "for sentence in temp:\n",
        "  if not re.search(r'\\d',sentence):\n",
        "    if ')' not in sentence and '[' not in sentence and '(' not in sentence and '===' not in sentence and '-' not in sentence and '\"' not in sentence and '==' not in sentence:\n",
        "     final.add(sentence)"
      ]
    },
    {
      "cell_type": "code",
      "execution_count": null,
      "metadata": {
        "id": "FRa2cbvgXgKL"
      },
      "outputs": [],
      "source": [
        "final"
      ]
    },
    {
      "cell_type": "code",
      "execution_count": 19,
      "metadata": {
        "id": "PzBQK5qZ2ZUF"
      },
      "outputs": [],
      "source": [
        "final = list(final)"
      ]
    },
    {
      "cell_type": "code",
      "execution_count": 20,
      "metadata": {
        "id": "oDkVp8y4CqPD"
      },
      "outputs": [],
      "source": [
        "for sent in final:\n",
        "  if sent[0]=='\\n':\n",
        "    sent = sent.replace('\\n','')"
      ]
    },
    {
      "cell_type": "code",
      "execution_count": 21,
      "metadata": {
        "colab": {
          "base_uri": "https://localhost:8080/"
        },
        "id": "v-tB1yys_mYi",
        "outputId": "f8d2d8b4-8ff0-4504-abf5-8bec26201806"
      },
      "outputs": [
        {
          "name": "stdout",
          "output_type": "stream",
          "text": [
            "234\n"
          ]
        }
      ],
      "source": [
        "print(len(final))"
      ]
    },
    {
      "cell_type": "code",
      "execution_count": 24,
      "metadata": {
        "id": "Rc_EGDusCQCO"
      },
      "outputs": [],
      "source": [
        "with open('/content/telugu_summary.txt','a') as file:\n",
        "  file.write('\\n'.join(final))"
      ]
    },
    {
      "cell_type": "code",
      "execution_count": null,
      "metadata": {
        "id": "PIa6thrJIX8H"
      },
      "outputs": [],
      "source": []
    }
  ],
  "metadata": {
    "colab": {
      "authorship_tag": "ABX9TyM4zB6t6WmPX9jMyR8r/E7O",
      "collapsed_sections": [],
      "include_colab_link": true,
      "name": "VakyaanshPeriod.ipynb",
      "provenance": []
    },
    "kernelspec": {
      "display_name": "Python 3",
      "name": "python3"
    },
    "language_info": {
      "name": "python"
    }
  },
  "nbformat": 4,
  "nbformat_minor": 0
}
