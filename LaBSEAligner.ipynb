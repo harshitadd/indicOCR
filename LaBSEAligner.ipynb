{
  "nbformat": 4,
  "nbformat_minor": 0,
  "metadata": {
    "colab": {
      "name": "LaBSEAligner.ipynb",
      "provenance": [],
      "authorship_tag": "ABX9TyOFyBLwsBSyJsXiZevYVuQx",
      "include_colab_link": true
    },
    "kernelspec": {
      "name": "python3",
      "display_name": "Python 3"
    },
    "widgets": {
      "application/vnd.jupyter.widget-state+json": {
        "ca8832a3c61e48d8890136cb76444956": {
          "model_module": "@jupyter-widgets/controls",
          "model_name": "HBoxModel",
          "state": {
            "_view_name": "HBoxView",
            "_dom_classes": [],
            "_model_name": "HBoxModel",
            "_view_module": "@jupyter-widgets/controls",
            "_model_module_version": "1.5.0",
            "_view_count": null,
            "_view_module_version": "1.5.0",
            "box_style": "",
            "layout": "IPY_MODEL_a46a4e862d574848ad304221c0bfa1b8",
            "_model_module": "@jupyter-widgets/controls",
            "children": [
              "IPY_MODEL_39e2720b73da44db9357b4421007872f",
              "IPY_MODEL_117303b2c57c4a3692f2c11116774edc"
            ]
          }
        },
        "a46a4e862d574848ad304221c0bfa1b8": {
          "model_module": "@jupyter-widgets/base",
          "model_name": "LayoutModel",
          "state": {
            "_view_name": "LayoutView",
            "grid_template_rows": null,
            "right": null,
            "justify_content": null,
            "_view_module": "@jupyter-widgets/base",
            "overflow": null,
            "_model_module_version": "1.2.0",
            "_view_count": null,
            "flex_flow": null,
            "width": null,
            "min_width": null,
            "border": null,
            "align_items": null,
            "bottom": null,
            "_model_module": "@jupyter-widgets/base",
            "top": null,
            "grid_column": null,
            "overflow_y": null,
            "overflow_x": null,
            "grid_auto_flow": null,
            "grid_area": null,
            "grid_template_columns": null,
            "flex": null,
            "_model_name": "LayoutModel",
            "justify_items": null,
            "grid_row": null,
            "max_height": null,
            "align_content": null,
            "visibility": null,
            "align_self": null,
            "height": null,
            "min_height": null,
            "padding": null,
            "grid_auto_rows": null,
            "grid_gap": null,
            "max_width": null,
            "order": null,
            "_view_module_version": "1.2.0",
            "grid_template_areas": null,
            "object_position": null,
            "object_fit": null,
            "grid_auto_columns": null,
            "margin": null,
            "display": null,
            "left": null
          }
        },
        "39e2720b73da44db9357b4421007872f": {
          "model_module": "@jupyter-widgets/controls",
          "model_name": "FloatProgressModel",
          "state": {
            "_view_name": "ProgressView",
            "style": "IPY_MODEL_6b7faeef26374bf6a6dca07e2964aacb",
            "_dom_classes": [],
            "description": "Batches: 100%",
            "_model_name": "FloatProgressModel",
            "bar_style": "success",
            "max": 1,
            "_view_module": "@jupyter-widgets/controls",
            "_model_module_version": "1.5.0",
            "value": 1,
            "_view_count": null,
            "_view_module_version": "1.5.0",
            "orientation": "horizontal",
            "min": 0,
            "description_tooltip": null,
            "_model_module": "@jupyter-widgets/controls",
            "layout": "IPY_MODEL_115e6696e6064a2596c2e631dd00c91d"
          }
        },
        "117303b2c57c4a3692f2c11116774edc": {
          "model_module": "@jupyter-widgets/controls",
          "model_name": "HTMLModel",
          "state": {
            "_view_name": "HTMLView",
            "style": "IPY_MODEL_80014355b02946faadc25dea32a5b446",
            "_dom_classes": [],
            "description": "",
            "_model_name": "HTMLModel",
            "placeholder": "​",
            "_view_module": "@jupyter-widgets/controls",
            "_model_module_version": "1.5.0",
            "value": " 1/1 [00:03&lt;00:00,  3.42s/it]",
            "_view_count": null,
            "_view_module_version": "1.5.0",
            "description_tooltip": null,
            "_model_module": "@jupyter-widgets/controls",
            "layout": "IPY_MODEL_ac718fab1ab147a7ab72f153a0f42d21"
          }
        },
        "6b7faeef26374bf6a6dca07e2964aacb": {
          "model_module": "@jupyter-widgets/controls",
          "model_name": "ProgressStyleModel",
          "state": {
            "_view_name": "StyleView",
            "_model_name": "ProgressStyleModel",
            "description_width": "initial",
            "_view_module": "@jupyter-widgets/base",
            "_model_module_version": "1.5.0",
            "_view_count": null,
            "_view_module_version": "1.2.0",
            "bar_color": null,
            "_model_module": "@jupyter-widgets/controls"
          }
        },
        "115e6696e6064a2596c2e631dd00c91d": {
          "model_module": "@jupyter-widgets/base",
          "model_name": "LayoutModel",
          "state": {
            "_view_name": "LayoutView",
            "grid_template_rows": null,
            "right": null,
            "justify_content": null,
            "_view_module": "@jupyter-widgets/base",
            "overflow": null,
            "_model_module_version": "1.2.0",
            "_view_count": null,
            "flex_flow": null,
            "width": null,
            "min_width": null,
            "border": null,
            "align_items": null,
            "bottom": null,
            "_model_module": "@jupyter-widgets/base",
            "top": null,
            "grid_column": null,
            "overflow_y": null,
            "overflow_x": null,
            "grid_auto_flow": null,
            "grid_area": null,
            "grid_template_columns": null,
            "flex": null,
            "_model_name": "LayoutModel",
            "justify_items": null,
            "grid_row": null,
            "max_height": null,
            "align_content": null,
            "visibility": null,
            "align_self": null,
            "height": null,
            "min_height": null,
            "padding": null,
            "grid_auto_rows": null,
            "grid_gap": null,
            "max_width": null,
            "order": null,
            "_view_module_version": "1.2.0",
            "grid_template_areas": null,
            "object_position": null,
            "object_fit": null,
            "grid_auto_columns": null,
            "margin": null,
            "display": null,
            "left": null
          }
        },
        "80014355b02946faadc25dea32a5b446": {
          "model_module": "@jupyter-widgets/controls",
          "model_name": "DescriptionStyleModel",
          "state": {
            "_view_name": "StyleView",
            "_model_name": "DescriptionStyleModel",
            "description_width": "",
            "_view_module": "@jupyter-widgets/base",
            "_model_module_version": "1.5.0",
            "_view_count": null,
            "_view_module_version": "1.2.0",
            "_model_module": "@jupyter-widgets/controls"
          }
        },
        "ac718fab1ab147a7ab72f153a0f42d21": {
          "model_module": "@jupyter-widgets/base",
          "model_name": "LayoutModel",
          "state": {
            "_view_name": "LayoutView",
            "grid_template_rows": null,
            "right": null,
            "justify_content": null,
            "_view_module": "@jupyter-widgets/base",
            "overflow": null,
            "_model_module_version": "1.2.0",
            "_view_count": null,
            "flex_flow": null,
            "width": null,
            "min_width": null,
            "border": null,
            "align_items": null,
            "bottom": null,
            "_model_module": "@jupyter-widgets/base",
            "top": null,
            "grid_column": null,
            "overflow_y": null,
            "overflow_x": null,
            "grid_auto_flow": null,
            "grid_area": null,
            "grid_template_columns": null,
            "flex": null,
            "_model_name": "LayoutModel",
            "justify_items": null,
            "grid_row": null,
            "max_height": null,
            "align_content": null,
            "visibility": null,
            "align_self": null,
            "height": null,
            "min_height": null,
            "padding": null,
            "grid_auto_rows": null,
            "grid_gap": null,
            "max_width": null,
            "order": null,
            "_view_module_version": "1.2.0",
            "grid_template_areas": null,
            "object_position": null,
            "object_fit": null,
            "grid_auto_columns": null,
            "margin": null,
            "display": null,
            "left": null
          }
        },
        "a3603cc0d0c448eba7b1a79642cfc3ba": {
          "model_module": "@jupyter-widgets/controls",
          "model_name": "HBoxModel",
          "state": {
            "_view_name": "HBoxView",
            "_dom_classes": [],
            "_model_name": "HBoxModel",
            "_view_module": "@jupyter-widgets/controls",
            "_model_module_version": "1.5.0",
            "_view_count": null,
            "_view_module_version": "1.5.0",
            "box_style": "",
            "layout": "IPY_MODEL_2877b14861f048dc91cbfaf3b9d84dd6",
            "_model_module": "@jupyter-widgets/controls",
            "children": [
              "IPY_MODEL_dc6ecd59a85740078668cf23ffda80bd",
              "IPY_MODEL_e6a3093ea5bf45c29e1cf947735549cb"
            ]
          }
        },
        "2877b14861f048dc91cbfaf3b9d84dd6": {
          "model_module": "@jupyter-widgets/base",
          "model_name": "LayoutModel",
          "state": {
            "_view_name": "LayoutView",
            "grid_template_rows": null,
            "right": null,
            "justify_content": null,
            "_view_module": "@jupyter-widgets/base",
            "overflow": null,
            "_model_module_version": "1.2.0",
            "_view_count": null,
            "flex_flow": null,
            "width": null,
            "min_width": null,
            "border": null,
            "align_items": null,
            "bottom": null,
            "_model_module": "@jupyter-widgets/base",
            "top": null,
            "grid_column": null,
            "overflow_y": null,
            "overflow_x": null,
            "grid_auto_flow": null,
            "grid_area": null,
            "grid_template_columns": null,
            "flex": null,
            "_model_name": "LayoutModel",
            "justify_items": null,
            "grid_row": null,
            "max_height": null,
            "align_content": null,
            "visibility": null,
            "align_self": null,
            "height": null,
            "min_height": null,
            "padding": null,
            "grid_auto_rows": null,
            "grid_gap": null,
            "max_width": null,
            "order": null,
            "_view_module_version": "1.2.0",
            "grid_template_areas": null,
            "object_position": null,
            "object_fit": null,
            "grid_auto_columns": null,
            "margin": null,
            "display": null,
            "left": null
          }
        },
        "dc6ecd59a85740078668cf23ffda80bd": {
          "model_module": "@jupyter-widgets/controls",
          "model_name": "FloatProgressModel",
          "state": {
            "_view_name": "ProgressView",
            "style": "IPY_MODEL_9fa2ee274fff44f6afd0a58ab2546c24",
            "_dom_classes": [],
            "description": "Batches:   0%",
            "_model_name": "FloatProgressModel",
            "bar_style": "danger",
            "max": 38,
            "_view_module": "@jupyter-widgets/controls",
            "_model_module_version": "1.5.0",
            "value": 0,
            "_view_count": null,
            "_view_module_version": "1.5.0",
            "orientation": "horizontal",
            "min": 0,
            "description_tooltip": null,
            "_model_module": "@jupyter-widgets/controls",
            "layout": "IPY_MODEL_ac0fb620f0f64f55b3bc25cd844d2dd7"
          }
        },
        "e6a3093ea5bf45c29e1cf947735549cb": {
          "model_module": "@jupyter-widgets/controls",
          "model_name": "HTMLModel",
          "state": {
            "_view_name": "HTMLView",
            "style": "IPY_MODEL_97cb19054b5d46c9b735013288603662",
            "_dom_classes": [],
            "description": "",
            "_model_name": "HTMLModel",
            "placeholder": "​",
            "_view_module": "@jupyter-widgets/controls",
            "_model_module_version": "1.5.0",
            "value": " 0/38 [00:01&lt;?, ?it/s]",
            "_view_count": null,
            "_view_module_version": "1.5.0",
            "description_tooltip": null,
            "_model_module": "@jupyter-widgets/controls",
            "layout": "IPY_MODEL_68772fd5e5b94fd3866f7beecdd52961"
          }
        },
        "9fa2ee274fff44f6afd0a58ab2546c24": {
          "model_module": "@jupyter-widgets/controls",
          "model_name": "ProgressStyleModel",
          "state": {
            "_view_name": "StyleView",
            "_model_name": "ProgressStyleModel",
            "description_width": "initial",
            "_view_module": "@jupyter-widgets/base",
            "_model_module_version": "1.5.0",
            "_view_count": null,
            "_view_module_version": "1.2.0",
            "bar_color": null,
            "_model_module": "@jupyter-widgets/controls"
          }
        },
        "ac0fb620f0f64f55b3bc25cd844d2dd7": {
          "model_module": "@jupyter-widgets/base",
          "model_name": "LayoutModel",
          "state": {
            "_view_name": "LayoutView",
            "grid_template_rows": null,
            "right": null,
            "justify_content": null,
            "_view_module": "@jupyter-widgets/base",
            "overflow": null,
            "_model_module_version": "1.2.0",
            "_view_count": null,
            "flex_flow": null,
            "width": null,
            "min_width": null,
            "border": null,
            "align_items": null,
            "bottom": null,
            "_model_module": "@jupyter-widgets/base",
            "top": null,
            "grid_column": null,
            "overflow_y": null,
            "overflow_x": null,
            "grid_auto_flow": null,
            "grid_area": null,
            "grid_template_columns": null,
            "flex": null,
            "_model_name": "LayoutModel",
            "justify_items": null,
            "grid_row": null,
            "max_height": null,
            "align_content": null,
            "visibility": null,
            "align_self": null,
            "height": null,
            "min_height": null,
            "padding": null,
            "grid_auto_rows": null,
            "grid_gap": null,
            "max_width": null,
            "order": null,
            "_view_module_version": "1.2.0",
            "grid_template_areas": null,
            "object_position": null,
            "object_fit": null,
            "grid_auto_columns": null,
            "margin": null,
            "display": null,
            "left": null
          }
        },
        "97cb19054b5d46c9b735013288603662": {
          "model_module": "@jupyter-widgets/controls",
          "model_name": "DescriptionStyleModel",
          "state": {
            "_view_name": "StyleView",
            "_model_name": "DescriptionStyleModel",
            "description_width": "",
            "_view_module": "@jupyter-widgets/base",
            "_model_module_version": "1.5.0",
            "_view_count": null,
            "_view_module_version": "1.2.0",
            "_model_module": "@jupyter-widgets/controls"
          }
        },
        "68772fd5e5b94fd3866f7beecdd52961": {
          "model_module": "@jupyter-widgets/base",
          "model_name": "LayoutModel",
          "state": {
            "_view_name": "LayoutView",
            "grid_template_rows": null,
            "right": null,
            "justify_content": null,
            "_view_module": "@jupyter-widgets/base",
            "overflow": null,
            "_model_module_version": "1.2.0",
            "_view_count": null,
            "flex_flow": null,
            "width": null,
            "min_width": null,
            "border": null,
            "align_items": null,
            "bottom": null,
            "_model_module": "@jupyter-widgets/base",
            "top": null,
            "grid_column": null,
            "overflow_y": null,
            "overflow_x": null,
            "grid_auto_flow": null,
            "grid_area": null,
            "grid_template_columns": null,
            "flex": null,
            "_model_name": "LayoutModel",
            "justify_items": null,
            "grid_row": null,
            "max_height": null,
            "align_content": null,
            "visibility": null,
            "align_self": null,
            "height": null,
            "min_height": null,
            "padding": null,
            "grid_auto_rows": null,
            "grid_gap": null,
            "max_width": null,
            "order": null,
            "_view_module_version": "1.2.0",
            "grid_template_areas": null,
            "object_position": null,
            "object_fit": null,
            "grid_auto_columns": null,
            "margin": null,
            "display": null,
            "left": null
          }
        }
      }
    }
  },
  "cells": [
    {
      "cell_type": "markdown",
      "metadata": {
        "id": "view-in-github",
        "colab_type": "text"
      },
      "source": [
        "<a href=\"https://colab.research.google.com/github/harshitadd/AI4BharatTranslation/blob/main/LaBSEAligner.ipynb\" target=\"_parent\"><img src=\"https://colab.research.google.com/assets/colab-badge.svg\" alt=\"Open In Colab\"/></a>"
      ]
    },
    {
      "cell_type": "code",
      "metadata": {
        "id": "-_SRarMhD5TD",
        "colab": {
          "base_uri": "https://localhost:8080/"
        },
        "outputId": "b5d2e33e-aa63-4a42-811f-1bc8764d8786"
      },
      "source": [
        "!pip install sentence_transformers"
      ],
      "execution_count": 1,
      "outputs": [
        {
          "output_type": "stream",
          "text": [
            "Collecting sentence_transformers\n",
            "\u001b[?25l  Downloading https://files.pythonhosted.org/packages/6a/e2/84d6acfcee2d83164149778a33b6bdd1a74e1bcb59b2b2cd1b861359b339/sentence-transformers-0.4.1.2.tar.gz (64kB)\n",
            "\u001b[K     |████████████████████████████████| 71kB 5.0MB/s \n",
            "\u001b[?25hCollecting transformers<5.0.0,>=3.1.0\n",
            "\u001b[?25l  Downloading https://files.pythonhosted.org/packages/88/b1/41130a228dd656a1a31ba281598a968320283f48d42782845f6ba567f00b/transformers-4.2.2-py3-none-any.whl (1.8MB)\n",
            "\u001b[K     |████████████████████████████████| 1.8MB 15.5MB/s \n",
            "\u001b[?25hRequirement already satisfied: tqdm in /usr/local/lib/python3.6/dist-packages (from sentence_transformers) (4.41.1)\n",
            "Requirement already satisfied: torch>=1.6.0 in /usr/local/lib/python3.6/dist-packages (from sentence_transformers) (1.7.0+cu101)\n",
            "Requirement already satisfied: numpy in /usr/local/lib/python3.6/dist-packages (from sentence_transformers) (1.19.5)\n",
            "Requirement already satisfied: scikit-learn in /usr/local/lib/python3.6/dist-packages (from sentence_transformers) (0.22.2.post1)\n",
            "Requirement already satisfied: scipy in /usr/local/lib/python3.6/dist-packages (from sentence_transformers) (1.4.1)\n",
            "Requirement already satisfied: nltk in /usr/local/lib/python3.6/dist-packages (from sentence_transformers) (3.2.5)\n",
            "Collecting sentencepiece\n",
            "\u001b[?25l  Downloading https://files.pythonhosted.org/packages/14/67/e42bd1181472c95c8cda79305df848264f2a7f62740995a46945d9797b67/sentencepiece-0.1.95-cp36-cp36m-manylinux2014_x86_64.whl (1.2MB)\n",
            "\u001b[K     |████████████████████████████████| 1.2MB 38.6MB/s \n",
            "\u001b[?25hRequirement already satisfied: dataclasses; python_version < \"3.7\" in /usr/local/lib/python3.6/dist-packages (from transformers<5.0.0,>=3.1.0->sentence_transformers) (0.8)\n",
            "Requirement already satisfied: regex!=2019.12.17 in /usr/local/lib/python3.6/dist-packages (from transformers<5.0.0,>=3.1.0->sentence_transformers) (2019.12.20)\n",
            "Requirement already satisfied: packaging in /usr/local/lib/python3.6/dist-packages (from transformers<5.0.0,>=3.1.0->sentence_transformers) (20.9)\n",
            "Requirement already satisfied: requests in /usr/local/lib/python3.6/dist-packages (from transformers<5.0.0,>=3.1.0->sentence_transformers) (2.23.0)\n",
            "Requirement already satisfied: filelock in /usr/local/lib/python3.6/dist-packages (from transformers<5.0.0,>=3.1.0->sentence_transformers) (3.0.12)\n",
            "Requirement already satisfied: importlib-metadata; python_version < \"3.8\" in /usr/local/lib/python3.6/dist-packages (from transformers<5.0.0,>=3.1.0->sentence_transformers) (3.4.0)\n",
            "Collecting tokenizers==0.9.4\n",
            "\u001b[?25l  Downloading https://files.pythonhosted.org/packages/0f/1c/e789a8b12e28be5bc1ce2156cf87cb522b379be9cadc7ad8091a4cc107c4/tokenizers-0.9.4-cp36-cp36m-manylinux2010_x86_64.whl (2.9MB)\n",
            "\u001b[K     |████████████████████████████████| 2.9MB 69.8MB/s \n",
            "\u001b[?25hCollecting sacremoses\n",
            "\u001b[?25l  Downloading https://files.pythonhosted.org/packages/7d/34/09d19aff26edcc8eb2a01bed8e98f13a1537005d31e95233fd48216eed10/sacremoses-0.0.43.tar.gz (883kB)\n",
            "\u001b[K     |████████████████████████████████| 890kB 20.4MB/s \n",
            "\u001b[?25hRequirement already satisfied: typing-extensions in /usr/local/lib/python3.6/dist-packages (from torch>=1.6.0->sentence_transformers) (3.7.4.3)\n",
            "Requirement already satisfied: future in /usr/local/lib/python3.6/dist-packages (from torch>=1.6.0->sentence_transformers) (0.16.0)\n",
            "Requirement already satisfied: joblib>=0.11 in /usr/local/lib/python3.6/dist-packages (from scikit-learn->sentence_transformers) (1.0.0)\n",
            "Requirement already satisfied: six in /usr/local/lib/python3.6/dist-packages (from nltk->sentence_transformers) (1.15.0)\n",
            "Requirement already satisfied: pyparsing>=2.0.2 in /usr/local/lib/python3.6/dist-packages (from packaging->transformers<5.0.0,>=3.1.0->sentence_transformers) (2.4.7)\n",
            "Requirement already satisfied: idna<3,>=2.5 in /usr/local/lib/python3.6/dist-packages (from requests->transformers<5.0.0,>=3.1.0->sentence_transformers) (2.10)\n",
            "Requirement already satisfied: certifi>=2017.4.17 in /usr/local/lib/python3.6/dist-packages (from requests->transformers<5.0.0,>=3.1.0->sentence_transformers) (2020.12.5)\n",
            "Requirement already satisfied: chardet<4,>=3.0.2 in /usr/local/lib/python3.6/dist-packages (from requests->transformers<5.0.0,>=3.1.0->sentence_transformers) (3.0.4)\n",
            "Requirement already satisfied: urllib3!=1.25.0,!=1.25.1,<1.26,>=1.21.1 in /usr/local/lib/python3.6/dist-packages (from requests->transformers<5.0.0,>=3.1.0->sentence_transformers) (1.24.3)\n",
            "Requirement already satisfied: zipp>=0.5 in /usr/local/lib/python3.6/dist-packages (from importlib-metadata; python_version < \"3.8\"->transformers<5.0.0,>=3.1.0->sentence_transformers) (3.4.0)\n",
            "Requirement already satisfied: click in /usr/local/lib/python3.6/dist-packages (from sacremoses->transformers<5.0.0,>=3.1.0->sentence_transformers) (7.1.2)\n",
            "Building wheels for collected packages: sentence-transformers, sacremoses\n",
            "  Building wheel for sentence-transformers (setup.py) ... \u001b[?25l\u001b[?25hdone\n",
            "  Created wheel for sentence-transformers: filename=sentence_transformers-0.4.1.2-cp36-none-any.whl size=103068 sha256=f92bd7930af685566a3be1d70774a436a0d7f20259e0011bd6f334c7e3152b00\n",
            "  Stored in directory: /root/.cache/pip/wheels/3d/33/d1/5703dd56199c09d4a1b41e0c07fb4e7765a84d787cbdc48ac3\n",
            "  Building wheel for sacremoses (setup.py) ... \u001b[?25l\u001b[?25hdone\n",
            "  Created wheel for sacremoses: filename=sacremoses-0.0.43-cp36-none-any.whl size=893261 sha256=a48c10b25971ea74660feadaa53f983abad7b38a2325379f78dcc1c96e3bde81\n",
            "  Stored in directory: /root/.cache/pip/wheels/29/3c/fd/7ce5c3f0666dab31a50123635e6fb5e19ceb42ce38d4e58f45\n",
            "Successfully built sentence-transformers sacremoses\n",
            "Installing collected packages: tokenizers, sacremoses, transformers, sentencepiece, sentence-transformers\n",
            "Successfully installed sacremoses-0.0.43 sentence-transformers-0.4.1.2 sentencepiece-0.1.95 tokenizers-0.9.4 transformers-4.2.2\n"
          ],
          "name": "stdout"
        }
      ]
    },
    {
      "cell_type": "code",
      "metadata": {
        "id": "fJLyAZjGEAiv",
        "colab": {
          "base_uri": "https://localhost:8080/"
        },
        "outputId": "999b9b3b-a5c2-4344-92ef-0e54e060b651"
      },
      "source": [
        "!pip install scipy"
      ],
      "execution_count": 2,
      "outputs": [
        {
          "output_type": "stream",
          "text": [
            "Requirement already satisfied: scipy in /usr/local/lib/python3.6/dist-packages (1.4.1)\n",
            "Requirement already satisfied: numpy>=1.13.3 in /usr/local/lib/python3.6/dist-packages (from scipy) (1.19.5)\n"
          ],
          "name": "stdout"
        }
      ]
    },
    {
      "cell_type": "code",
      "metadata": {
        "id": "BquFyh66EZeW",
        "colab": {
          "base_uri": "https://localhost:8080/"
        },
        "outputId": "4a2c81fa-4138-4de4-fa17-7d877d86a5f7"
      },
      "source": [
        "!pip install indic-nlp-library"
      ],
      "execution_count": 3,
      "outputs": [
        {
          "output_type": "stream",
          "text": [
            "Collecting indic-nlp-library\n",
            "  Downloading https://files.pythonhosted.org/packages/2f/51/f4e4542a226055b73a621ad442c16ae2c913d6b497283c99cae7a9661e6c/indic_nlp_library-0.71-py3-none-any.whl\n",
            "Requirement already satisfied: pandas in /usr/local/lib/python3.6/dist-packages (from indic-nlp-library) (1.1.5)\n",
            "Collecting morfessor\n",
            "  Downloading https://files.pythonhosted.org/packages/39/e6/7afea30be2ee4d29ce9de0fa53acbb033163615f849515c0b1956ad074ee/Morfessor-2.0.6-py3-none-any.whl\n",
            "Requirement already satisfied: numpy in /usr/local/lib/python3.6/dist-packages (from indic-nlp-library) (1.19.5)\n",
            "Requirement already satisfied: pytz>=2017.2 in /usr/local/lib/python3.6/dist-packages (from pandas->indic-nlp-library) (2018.9)\n",
            "Requirement already satisfied: python-dateutil>=2.7.3 in /usr/local/lib/python3.6/dist-packages (from pandas->indic-nlp-library) (2.8.1)\n",
            "Requirement already satisfied: six>=1.5 in /usr/local/lib/python3.6/dist-packages (from python-dateutil>=2.7.3->pandas->indic-nlp-library) (1.15.0)\n",
            "Installing collected packages: morfessor, indic-nlp-library\n",
            "Successfully installed indic-nlp-library-0.71 morfessor-2.0.6\n"
          ],
          "name": "stdout"
        }
      ]
    },
    {
      "cell_type": "code",
      "metadata": {
        "colab": {
          "base_uri": "https://localhost:8080/"
        },
        "id": "4AiW7zbjAWiO",
        "outputId": "4cbdc3f3-c36c-4169-fae4-599fe3b887ce"
      },
      "source": [
        "import sys\n",
        "from indicnlp.tokenize import indic_tokenize\n",
        "from sentence_transformers import SentenceTransformer\n",
        "import numpy as np\n",
        "from scipy.spatial import distance\n",
        "from transformers import AutoTokenizer, AutoModel\n",
        "\n",
        "# tokenizer = AutoTokenizer.from_pretrained(\"sentence-transformers/LaBSE\")\n",
        "# model = AutoModel.from_pretrained(\"sentence-transformers/LaBSE\")\n",
        "model = SentenceTransformer('LaBSE')\n",
        "\n"
      ],
      "execution_count": 4,
      "outputs": [
        {
          "output_type": "stream",
          "text": [
            "100%|██████████| 1.75G/1.75G [00:30<00:00, 58.0MB/s]\n"
          ],
          "name": "stderr"
        }
      ]
    },
    {
      "cell_type": "code",
      "metadata": {
        "colab": {
          "base_uri": "https://localhost:8080/"
        },
        "id": "wFYvD8axb5xW",
        "outputId": "a91ff321-176b-463e-ae70-0660e780c3f4"
      },
      "source": [
        "!pip install sentence-splitter"
      ],
      "execution_count": 5,
      "outputs": [
        {
          "output_type": "stream",
          "text": [
            "Collecting sentence-splitter\n",
            "\u001b[?25l  Downloading https://files.pythonhosted.org/packages/4a/ae/3bd609c760d57849d7ddf223762f1881f3c4df6467f4eadb3a33652b7e0d/sentence_splitter-1.4-py2.py3-none-any.whl (44kB)\n",
            "\r\u001b[K     |███████▎                        | 10kB 11.8MB/s eta 0:00:01\r\u001b[K     |██████████████▋                 | 20kB 18.3MB/s eta 0:00:01\r\u001b[K     |█████████████████████▉          | 30kB 19.2MB/s eta 0:00:01\r\u001b[K     |█████████████████████████████▏  | 40kB 17.5MB/s eta 0:00:01\r\u001b[K     |████████████████████████████████| 51kB 3.9MB/s \n",
            "\u001b[?25hRequirement already satisfied: regex>=2017.12.12 in /usr/local/lib/python3.6/dist-packages (from sentence-splitter) (2019.12.20)\n",
            "Installing collected packages: sentence-splitter\n",
            "Successfully installed sentence-splitter-1.4\n"
          ],
          "name": "stdout"
        }
      ]
    },
    {
      "cell_type": "code",
      "metadata": {
        "colab": {
          "base_uri": "https://localhost:8080/"
        },
        "id": "t2KL7hEucGfE",
        "outputId": "10e7f3e6-bc45-4dd0-82b4-5db659e84457"
      },
      "source": [
        "from google.colab import drive\n",
        "drive.mount('/content/drive')"
      ],
      "execution_count": 6,
      "outputs": [
        {
          "output_type": "stream",
          "text": [
            "Mounted at /content/drive\n"
          ],
          "name": "stdout"
        }
      ]
    },
    {
      "cell_type": "code",
      "metadata": {
        "id": "7D1USqNgcM-4"
      },
      "source": [
        "with open('/content/drive/MyDrive/eng_2.txt','r') as file:\r\n",
        "  content = file.read()"
      ],
      "execution_count": 11,
      "outputs": []
    },
    {
      "cell_type": "code",
      "metadata": {
        "id": "81NNA7PVb3gX"
      },
      "source": [
        "# Only for English\r\n",
        "import re \r\n",
        "from sentence_splitter import SentenceSplitter, split_text_into_sentences\r\n",
        "content = content.replace('\\n',' ')\r\n",
        "splitter = SentenceSplitter(language='en')\r\n",
        "sentences = splitter.split(content)\r\n",
        "\r\n",
        "# final = ''\r\n",
        "# for s in sentences:\r\n",
        "# \tfinal+=s\r\n",
        "# \tfinal+='\\n'\r\n",
        "# sentence_count=len(sentences)\r\n",
        "# print(sentence_count)\r\n"
      ],
      "execution_count": 12,
      "outputs": []
    },
    {
      "cell_type": "code",
      "metadata": {
        "colab": {
          "base_uri": "https://localhost:8080/"
        },
        "id": "HvFG4sRyipuC",
        "outputId": "b0dc0ffb-8e78-467d-9b23-4d7d3efc6e4b"
      },
      "source": [
        "len(sentences)"
      ],
      "execution_count": 17,
      "outputs": [
        {
          "output_type": "execute_result",
          "data": {
            "text/plain": [
              "813"
            ]
          },
          "metadata": {
            "tags": []
          },
          "execution_count": 17
        }
      ]
    },
    {
      "cell_type": "code",
      "metadata": {
        "id": "4BNbn3WPit5r"
      },
      "source": [
        "temp = sentences[0:20]"
      ],
      "execution_count": 19,
      "outputs": []
    },
    {
      "cell_type": "code",
      "metadata": {
        "id": "Sslng8IDDsDF"
      },
      "source": [
        "def phrase_aligner(src, tgtp):\n",
        "      '''\n",
        "      This function is meant to align src phrases with best possible tgt phrase using LABSE model\n",
        "      '''\n",
        "      out = {}\n",
        "      aligned_phrases = {}\n",
        "      print(\"Performing phrase alignenment using LABSE\")\n",
        "      print(src,tgtp)\n",
        "      src_phrases, tgt = src, tgtp\n",
        "      \n",
        "      for src_phrase in src_phrases:\n",
        "          length_src_phrase = len(src_phrase.split())           \n",
        "          tgt_token_list = split_tgt(length_src_phrase,tgt)\n",
        "          embeddings_src_phrase, embeddings_tgt_tokens = generate_embeddings([src_phrase],tgt_token_list)\n",
        "          alignments = get_target_sentence(embeddings_tgt_tokens, embeddings_src_phrase, length_src_phrase)\n",
        "      \n",
        "          if alignments is not None and alignments[2] is \"MATCH\":\n",
        "              aligned_phrases[src_phrase] = tgt_token_list[alignments[0]]\n",
        "          elif alignments is not None and alignments[2] is \"NOMATCH\": \n",
        "              print(\"No exact match found for:{} . Possible alignment {}\".format(src_phrase,tgt_token_list[alignments[0]]))  \n",
        "                      \n",
        "      print(\"Aligned Phrases: {}\".format(aligned_phrases))\n",
        "      out = {\"tgt\":tgt,\"src_phrases\":src_phrases,\"aligned_phrases\":aligned_phrases}     \n",
        "\n",
        "      return out\n",
        "\n",
        "def split_tgt(length_src_phrase,tgt):\n",
        "  tgt_token_list = list()\n",
        "  tokenised_tgt = tgt.split()\n",
        "  tgt_token_list = [tokenised_tgt[i:i+length_src_phrase] for i in range(len(tokenised_tgt)) if (i + length_src_phrase) <= len(tokenised_tgt)]\n",
        "  tgt_token_list_plus = [tokenised_tgt[i:i+length_src_phrase+1] for i in range(len(tokenised_tgt)) if (i + length_src_phrase+1) <= len(tokenised_tgt)]\n",
        "  tgt_token_list_minus = [tokenised_tgt[i:i+length_src_phrase-1] for i in range(len(tokenised_tgt)) if (i + length_src_phrase-1) <= len(tokenised_tgt) and \n",
        "                          length_src_phrase != 1]\n",
        "  tgt_token_list = tgt_token_list + tgt_token_list_plus + tgt_token_list_minus\n",
        "  tgt_token_list = [\" \".join(j) for j in tgt_token_list]\n",
        "  return tgt_token_list\n",
        "      \n",
        "def generate_embeddings(input_1, input_2):\n",
        "  '''\n",
        "  Generate LABSE embeddings\n",
        "  Note: Inputs are array of strings\n",
        "  '''           \n",
        "  embeddings_input_1 = model.encode(input_1,show_progress_bar=True)\n",
        "  embeddings_input_2 = model.encode(input_2,show_progress_bar=True)    \n",
        "  print(\"LABSE embedding generation finished\")\n",
        "  return embeddings_input_1, embeddings_input_2\n",
        "  \n",
        "def get_target_sentence(target_embeddings, source_embedding, length_src_phrase):\n",
        "  '''\n",
        "  Calculate cosine similarity using scipy distance method\n",
        "  '''\n",
        "  distances = distance.cdist(source_embedding, target_embeddings, \"cosine\")[0]\n",
        "  min_index = np.argmin(distances)\n",
        "  min_distance = 1 - distances[min_index]\n",
        "  print(\"Match score: {}\".format(min_distance))\n",
        "  if min_distance >= 0.5:\n",
        "      return min_index, min_distance, \"MATCH\"\n",
        "  else:\n",
        "      return min_index, min_distance, \"NOMATCH\"     \n",
        "      \n"
      ],
      "execution_count": 15,
      "outputs": []
    },
    {
      "cell_type": "code",
      "metadata": {
        "id": "qMhIUCV8i3s1"
      },
      "source": [
        "print(content)"
      ],
      "execution_count": null,
      "outputs": []
    },
    {
      "cell_type": "code",
      "metadata": {
        "id": "YReBoIx5jGL0"
      },
      "source": [
        "tgtp = '''ஆன்மாவின்‌ முன்‌ தலைவணங்கி, 2018-2019 ஆம்‌ ஆண்டிற்கான\r\n",
        "நிதிநிலை அறிக்கையை இந்தப்‌ பேரவையின்‌ முன்‌ சமர்ப்பிக்க\r\n",
        "விழைகிறேன்‌.\r\n",
        "\r\n",
        "2. மக்களின்‌ உள்ளங்களில்‌ நீங்கா இடம்‌ பெற்று, அவர்களின்‌\r\n",
        "பேரன்பைப்‌ பெற்ற மாபெரும்‌ தலைவியாக விளங்கிய புரட்சித்‌ தலைவி\r\n",
        "அம்மா அவர்கள்‌ தொடங்கி வைத்த அனைத்து திட்டங்களையும்‌\r\n",
        "தொடர்ந்து செயல்படுத்துவதில்‌ இந்த அரசு உறுதியாக உள்ளது.\r\n",
        "தொலைநோக்குப்‌ பார்வையும்‌, மதிநுட்பமும்‌ வாய்ந்த புரட்சித்‌ தலைவி\r\n",
        "அம்மா அவர்களின்‌ “அமைதி, வளம்‌, வளர்ச்சி! என்ற கொள்கை முழக்கம்‌,\r\n",
        "இந்த மாநிலத்தை முன்னேற்றப்‌ பாதையில்‌ கொண்டு செல்வதற்கான\r\n",
        "வழிகாட்டும்‌ அடிப்படை கொள்கையாக தொடர்ந்து விளங்கும்‌. பொது\r\n",
        "சுகாதாரம்‌, கல்வி, சமூகப்‌ பாதுகாப்பு போன்ற துறைகளில்‌\r\n",
        "செயல்படுத்தப்பட்டு வரும்‌ பல்வேறு திட்டங்கள்‌, நமது மாநிலத்தின்‌\r\n",
        "மனிதவள மேம்பாட்டுக்‌ குறியீடுகளை உயர்த்தி, நாட்டிலேயே\r\n",
        "சமூகநலத்தைப்‌ பேணிப்‌ போற்றும்‌ முன்மாதிரி மாநிலமாகத்‌ தமிழ்நாட்டை\r\n",
        "உருவாக்கியுள்ளது என்பதை யாராலும்‌ மறுக்க முடியாது. கடல்‌ அலை\r\n",
        "உயரும்போது அனைத்துப்‌ படகுகளும்‌ ஒருசேர உயர்வது போல்‌,\r\n",
        "மாநிலத்தின்‌ துரிதமான பொருளாதார வளர்ச்சி, அனைத்துக்‌\r\n",
        "குடும்பங்களின்‌ பொருளாதார நிலையையும்‌ ஒருசேர உயர்த்தும்‌ என்பதில்‌\r\n",
        "ஐயமில்லை. எனினும்‌, சமுதாயத்தில்‌ அனைத்து மக்களின்‌ வாழ்வையும்‌\r\n",
        "மேம்படுத்தி, ஏற்றத்தாழ்வுகளைக்‌ களைந்து, பொருளாதாரச்‌ சம\r\n",
        "நிலையைக்‌ கொண்டு வருவதற்காக, பல்வேறு நலத்திட்டங்களை,\r\n",
        "குறிப்பாக ஏழை எளிய மக்களின்‌ மேம்பாட்டிற்கான திட்டங்களை\r\n",
        "இந்த அரசு தொடர்ந்து செயல்படுத்தும்‌. எனவே, பொருளாதார\r\n",
        "மேம்பாட்டிற்கு பெரும்‌ ஊக்கம்‌ தரும்‌ அதே வேளையில்‌, நலத்திட்டப்‌\r\n",
        "\fபணிகளும்‌ இந்த அரசின்‌ வளர்ச்சிக்‌ கொள்கையில்‌ தொடர்ந்து\r\n",
        "\r\n",
        "முக்கியத்துவத்தைப்‌ பெறும்‌.\r\n",
        "\r\n",
        "3. பல சவாலான சூழ்நிலைகளுக்கிடையே, இந்த வரவு-செலவுத்‌\r\n",
        "\r\n",
        "திட்ட அறிக்கை சமர்ப்பிக்கப்படுகிறது. பணமதிப்பிழப்பு, பொருட்கள்‌\r\n",
        "\r\n",
        "மற்றும்‌ சேவைகள்‌ வரி விதிப்பு முறை நடைமுறைக்கு வந்த பிறகு\r\n",
        "\r\n",
        "ஏற்பட்டுள்ள பெருத்த மாற்றங்களைக்‌ கடந்து, தொடர்ந்து முன்னேற\r\n",
        "\r\n",
        "வேண்டிய முக்கியக்‌ கட்டத்தில்‌ நமது பொருளாதாரம்‌ உள்ளது. இந்த\r\n",
        "\r\n",
        "முக்கியத்‌ தருணத்தில்‌, மாநிலம்‌ சந்தித்து வரும்‌ பல்வேறு சவால்கள்‌:\r\n",
        "\r\n",
        ",\r\n",
        "க\r\n",
        "\r\n",
        "5,\r\n",
        "te\r\n",
        "\r\n",
        "o,\r\n",
        "te\r\n",
        "\r\n",
        "°,\r\n",
        "og\r\n",
        "\r\n",
        "°,\r\n",
        "8\r\n",
        "\r\n",
        "முதலீடுகளை ஈர்த்து, அதிக வேலைவாய்ப்புகளை உருவாக்குதல்‌\r\n",
        "\r\n",
        "இளைஞர்களுக்குத்‌ திறன்‌ பயிற்சி அளித்து,\r\n",
        "\r\n",
        "வேலைவாய்ப்பிற்கான தகுதியை அவர்கள்‌ பெறச்‌ செய்தல்‌\r\n",
        "\r\n",
        "விவசாய உற்பத்தித்‌ திறனையும்‌, விவசாயிகளின்‌ வருவாயையும்‌\r\n",
        "பெருக்குதல்‌\r\n",
        "\r\n",
        "நகர்ப்புரங்களில்‌ அடிப்படை வசதிகளையும்‌, உட்கட்டமைப்பையும்‌\r\n",
        "\r\n",
        "மேம்படுத்துதல்‌\r\n",
        "\r\n",
        "அனைவருக்கும்‌ வீட்டுவசதி என்ற இலக்கை அடைய\r\n",
        "\r\n",
        "ஏழைகளுக்கு வீட்டுவசதி வழங்குதல்‌\r\n",
        "\r\n",
        "நீர்நிலை உள்ளிட்ட இயற்கை ஆதாரங்களை பாதுகாத்துப்‌\r\n",
        "\r\n",
        "பராமரித்தல்‌\r\n",
        "நகர்ப்புரங்களிலும்‌, ஊரகப்‌ பகுதிகளிலும்‌ வறுமை ஒழிப்பு\r\n",
        "\r\n",
        "கல்வி, சுகாதாரம்‌, மருத்துவ வசதிகளின்‌ தரத்தை மேம்படுத்தி,\r\n",
        "அவற்றை அனைவரும்‌ எளிதாகப்‌ பெற வழிவகை செய்தல்‌\r\n",
        "\fபருவநிலை மாற்றத்தால்‌ ஏற்படும்‌ தாக்கத்தைக்‌ குறைப்பதுடன்‌,\r\n",
        "கடல்‌ அரிப்பிலிருந்து கடலோரப்‌ பகுதிகளைப்‌ பாதுகாத்தல்‌\r\n",
        "\r\n",
        "குறைந்து வரும்‌ மத்திய வரிப்‌ பகிர்வு, சொந்த வரி, வரியல்லாத\r\n",
        "வருவாய்‌ வரவினங்களில்‌ உள்ள தற்போதைய சூழ்நிலையை\r\n",
        "\r\n",
        "சமாளித்து, நிதிநிலையை திறம்பட மேலாண்மை செய்தல்‌\r\n",
        "\r\n",
        "இந்த பத்து முக்கியச்‌ சவால்களையும்‌ எதிர்கொண்டு\r\n",
        "பொருளாதார வளர்ச்சியை ஊக்குவித்து, தமிழ்நாட்டை வளமான\r\n",
        "மாநிலமாக மாற்றச்‌ செய்வதற்கான உத்திகளை உள்ளடக்கி இந்த\r\n",
        "\r\n",
        "நிதிநிலை அறிக்கை தயாரிக்கப்பட்டுள்ளது.\r\n",
        "பொருளாதார வளர்ச்சி\r\n",
        "\r\n",
        "மாண்புமிகு பேரவைத்‌ தலைவர்‌ அவர்களே,\r\n",
        "\r\n",
        "4. மாநிலத்தின்‌ பொருளாதாரத்தில்‌ நிலவி வந்த மந்தநிலையில்‌\r\n",
        "மாற்றம்‌ ஏற்பட்டு, 2017-2018 ஆம்‌ ஆண்டில்‌ பொருளாதார வளர்ச்சி\r\n",
        "ஒரளவு உயர்ந்துள்ள நிலையில்‌, 2018-2019 ஆம்‌ ஆண்டில்‌ இது மேலும்‌\r\n",
        "உயரும்‌ எனக்‌ கருதப்படுகிறது. தமிழ்நாட்டின்‌ மாநில மொத்த\r\n",
        "உற்பத்தியின்‌ வளர்ச்சி விகிதம்‌, நிலையான விலைகளின்‌ அடிப்படையில்‌,\r\n",
        "2017-2018 ஆம்‌ ஆண்டில்‌ 8.03 சதவீதமாக இருக்கும்‌ என\r\n",
        "கணிக்கப்பட்டுள்ளது. மாநிலப்‌ பொருளாதாரத்தில்‌ காணப்படும்‌\r\n",
        "இத்தகைய சாதகமான சூழ்நிலையில்‌, முதன்மைத்‌ துறையில்‌ இந்த அரசு\r\n",
        "தொடர்ந்து செய்து வரும்‌ நீடித்த முதலீடுகளாலும்‌, மாநிலத்தில்‌ தொழில்‌\r\n",
        "துறை முதலீடுகளை ஊக்குவிப்பதற்கு அரசால்‌ மேற்கொள்ளப்பட்டு வரும்‌\r\n",
        "நடவடிக்கைகளாலும்‌, 2018-2019 ஆம்‌ ஆண்டில்‌ மாநிலப்‌ பொருளாதார\r\n",
        "வளர்ச்சி விகிதம்‌ 9 சதவீதமாக உயரும்‌ எனக்‌ கருதப்படுகிறது.\r\n",
        "\fபொருட்கள்‌ மற்றும்‌ சேவைகள்‌ வரி\r\n",
        "\r\n",
        "5. பொருட்கள்‌ மற்றும்‌ சேவைகள்‌ வரி (6851) விதிப்பு முறை,\r\n",
        "2017 ஆம்‌ ஆண்டு ஜூலை மாதம்‌ 1ஆம்‌ தேதி முதல்‌, நாட்டில்‌\r\n",
        "அறிமுகப்படுத்தப்பட்டுள்ளதை மாண்புமிகு உறுப்பினர்கள்‌ அறிவீர்கள்‌.\r\n",
        "புதிய வரி விதிப்பு முறையை நடைமுறைப்படுத்தும்போது மாநிலங்களுக்கு\r\n",
        "ஏற்படக்கூடிய வரி வருவாய்‌ இழப்பினை ஐந்தாண்டுகள்‌ வரை\r\n",
        "மத்திய அரசு ஈடுசெய்யும்‌. பொருட்கள்‌ மற்றும்‌ சேவைகள்‌ வரியின்‌ கீழ்‌,\r\n",
        "2017 ஆம்‌ ஆண்டு ஜூலை மாதம்‌ முதல்‌ பிப்ரவரி 2018 வரை 632 கோடி\r\n",
        "ரூபாயினை இழப்பீடாக தமிழ்நாடு மத்திய அரசிடமிருந்து பெற்றுள்ளது.\r\n",
        "கடந்த எட்டுமாத காலத்தில்‌, 14 சதவீத வளர்ச்சி விகிதத்துடன்‌\r\n",
        "எதிர்பார்க்கப்படும்‌ உறுதி செய்யப்பட்ட வருவாய்க்கும்‌, கிடைக்கப்பெற்ற\r\n",
        "வருவாய்க்கும்‌ இடையேயான இடைவெளி கணிசமாகக்‌ குறைந்து\r\n",
        "வருவதால்‌, பொருட்கள்‌ மற்றும்‌ சேவைகள்‌ வரி விதிப்பு முறையினால்‌\r\n",
        "நமது மாநிலம்‌ நல்ல பலனைப்‌ பெற்றுள்ளது என்பதைத்‌ தெரிவித்துக்‌\r\n",
        "கொள்கிறேன்‌.\r\n",
        "'''"
      ],
      "execution_count": 21,
      "outputs": []
    },
    {
      "cell_type": "code",
      "metadata": {
        "colab": {
          "base_uri": "https://localhost:8080/",
          "height": 1000,
          "referenced_widgets": [
            "ca8832a3c61e48d8890136cb76444956",
            "a46a4e862d574848ad304221c0bfa1b8",
            "39e2720b73da44db9357b4421007872f",
            "117303b2c57c4a3692f2c11116774edc",
            "6b7faeef26374bf6a6dca07e2964aacb",
            "115e6696e6064a2596c2e631dd00c91d",
            "80014355b02946faadc25dea32a5b446",
            "ac718fab1ab147a7ab72f153a0f42d21",
            "a3603cc0d0c448eba7b1a79642cfc3ba",
            "2877b14861f048dc91cbfaf3b9d84dd6",
            "dc6ecd59a85740078668cf23ffda80bd",
            "e6a3093ea5bf45c29e1cf947735549cb",
            "9fa2ee274fff44f6afd0a58ab2546c24",
            "ac0fb620f0f64f55b3bc25cd844d2dd7",
            "97cb19054b5d46c9b735013288603662",
            "68772fd5e5b94fd3866f7beecdd52961"
          ]
        },
        "id": "Ry8XNs18Dzno",
        "outputId": "5e4e81d0-43ae-443e-ba3a-b9a92dc0d2c5"
      },
      "source": [
        "# with open('/content/drive/MyDrive/tam_0_2.txt','r') as file:\n",
        "#   content = file.read()\n",
        "src = temp \n",
        "# tgtp = content\n",
        "res = phrase_aligner(src, tgtp)"
      ],
      "execution_count": 23,
      "outputs": [
        {
          "output_type": "stream",
          "text": [
            "Performing phrase alignenment using LABSE\n",
            "['Speech of Thiru D. Jayakumar, Hon’ble Minister for Fisheries, Finance and _ Personnel’ and Administrative Reforms, Government of Tamil Nadu, presenting the Budget for the year 2017-2018 to the _ Legislative Assembly on 16\" March, 2017 Hon’ble Speaker Sir, QT MT 2 WHFS! 9 wiiihS YSipsvevrrd Qurrett pg) H\\\\HuG sett Med (Gps 233) Save praise alone that soars on high, Nought lives on earth that shall not die (Kural 233) There is nothing that stands forth in the world imperishable, except fame, exalted in solitary greatness.', 'This eternal wisdom of the Divine Poet Thiruvalluvar was aptly fulfilled through the life of our revered leader the late Chief Minister Puratchi Thalaivi J Jayalalithaa.', 'Today, her fame has reached worldwide through her commitment to the well being of the people whom she loved and for the progress of the State she made into a model welfare State in the country.', 'We are proud, honoured and privileged to have lived during the times of our beloved leader Puratchi Thalaivi Amma, to have served the people under her sagacious leadership and to have got the opportunity by her grace to take her \\x0cmission forward.', 'With her image in our hearts, in this august House, where she shone in all her glory, we re-dedicate our lives to realise her dream of making Tamil Nadu, the numero uno State in the country.', 'With this resolve in mind, come what may, this Government is committed to fulfilling the aspirations of the people of Tamil Nadu, who have reposed their faith in our late leader and have given their mandate for continuity and stability.', 'With the blessings of our beloved leader Puratchi Thalaivi Amma, I rise to present the Budget Estimates for 2017-2018.', '2.', 'A responsive Government must formulate and implement schemes aimed at enhancing the well being of the people, alleviating their hardships and protecting the vulnerable among them.', 'At the same time, it must also create an environment needed to enable high levels of economic growth that is inclusive and equitable.', 'Thus, this Government has spelt out peace, progress and prosperity as its development goal.', 'Following this cardinal principle, since assuming charge, this Government has been formulating and implementing several socio-economic development programmes and infrastructure projects.', 'The five priority missions formulated by the Government headed by our beloved leader Amma in its last budget speech, namely, water resource management, poverty reduction, housing for the poor, skill building and \\x0cclean Tamil Nadu campaign along with eleven focus areas of development will continue to form the bedrock of this Government’s strategy for development.', 'Keeping these priorities in mind, this Budget has been formulated for the overall development of the State and the welfare of the people.', '3.', 'On the very day of assuming office, our beloved leader late Chief Minister J Jayalalithaa had fulfilled five important electoral promises.', 'Altogether, 164 electoral promises have been implemented already and action is underway on 55 promises.', 'Immediately upon assuming charge, the Hon’ble Chief Minister has also issued Government orders to fulfill five more electoral promises, namely, * Enhancing the maternity assistance for pregnant women from’ Rs.12,000_ to Rs.18,000 * Closing 500 more TASMAC retail outlets * Distributing one lakh two wheelers to working women at 50 percent subsidy, not exceeding Rs.20,000 * Doubling the financial assistance to the unemployed youth * Constructing 5,000 houses for fishermen \\x0cLet me assure this august House that this Government is committed to fulfilling the remaining electoral promises.', '4.', 'The Economic Survey 2016-2017 has revised the Gross Domestic Product growth rate of India for the year 2016-2017 to 7.1 percent and has projected the growth rate for 2017-2018 between 6.5 percent to 7.5 percent.'] ஆன்மாவின்‌ முன்‌ தலைவணங்கி, 2018-2019 ஆம்‌ ஆண்டிற்கான\n",
            "நிதிநிலை அறிக்கையை இந்தப்‌ பேரவையின்‌ முன்‌ சமர்ப்பிக்க\n",
            "விழைகிறேன்‌.\n",
            "\n",
            "2. மக்களின்‌ உள்ளங்களில்‌ நீங்கா இடம்‌ பெற்று, அவர்களின்‌\n",
            "பேரன்பைப்‌ பெற்ற மாபெரும்‌ தலைவியாக விளங்கிய புரட்சித்‌ தலைவி\n",
            "அம்மா அவர்கள்‌ தொடங்கி வைத்த அனைத்து திட்டங்களையும்‌\n",
            "தொடர்ந்து செயல்படுத்துவதில்‌ இந்த அரசு உறுதியாக உள்ளது.\n",
            "தொலைநோக்குப்‌ பார்வையும்‌, மதிநுட்பமும்‌ வாய்ந்த புரட்சித்‌ தலைவி\n",
            "அம்மா அவர்களின்‌ “அமைதி, வளம்‌, வளர்ச்சி! என்ற கொள்கை முழக்கம்‌,\n",
            "இந்த மாநிலத்தை முன்னேற்றப்‌ பாதையில்‌ கொண்டு செல்வதற்கான\n",
            "வழிகாட்டும்‌ அடிப்படை கொள்கையாக தொடர்ந்து விளங்கும்‌. பொது\n",
            "சுகாதாரம்‌, கல்வி, சமூகப்‌ பாதுகாப்பு போன்ற துறைகளில்‌\n",
            "செயல்படுத்தப்பட்டு வரும்‌ பல்வேறு திட்டங்கள்‌, நமது மாநிலத்தின்‌\n",
            "மனிதவள மேம்பாட்டுக்‌ குறியீடுகளை உயர்த்தி, நாட்டிலேயே\n",
            "சமூகநலத்தைப்‌ பேணிப்‌ போற்றும்‌ முன்மாதிரி மாநிலமாகத்‌ தமிழ்நாட்டை\n",
            "உருவாக்கியுள்ளது என்பதை யாராலும்‌ மறுக்க முடியாது. கடல்‌ அலை\n",
            "உயரும்போது அனைத்துப்‌ படகுகளும்‌ ஒருசேர உயர்வது போல்‌,\n",
            "மாநிலத்தின்‌ துரிதமான பொருளாதார வளர்ச்சி, அனைத்துக்‌\n",
            "குடும்பங்களின்‌ பொருளாதார நிலையையும்‌ ஒருசேர உயர்த்தும்‌ என்பதில்‌\n",
            "ஐயமில்லை. எனினும்‌, சமுதாயத்தில்‌ அனைத்து மக்களின்‌ வாழ்வையும்‌\n",
            "மேம்படுத்தி, ஏற்றத்தாழ்வுகளைக்‌ களைந்து, பொருளாதாரச்‌ சம\n",
            "நிலையைக்‌ கொண்டு வருவதற்காக, பல்வேறு நலத்திட்டங்களை,\n",
            "குறிப்பாக ஏழை எளிய மக்களின்‌ மேம்பாட்டிற்கான திட்டங்களை\n",
            "இந்த அரசு தொடர்ந்து செயல்படுத்தும்‌. எனவே, பொருளாதார\n",
            "மேம்பாட்டிற்கு பெரும்‌ ஊக்கம்‌ தரும்‌ அதே வேளையில்‌, நலத்திட்டப்‌\n",
            "\n",
            "பணிகளும்‌ இந்த அரசின்‌ வளர்ச்சிக்‌ கொள்கையில்‌ தொடர்ந்து\n",
            "\n",
            "முக்கியத்துவத்தைப்‌ பெறும்‌.\n",
            "\n",
            "3. பல சவாலான சூழ்நிலைகளுக்கிடையே, இந்த வரவு-செலவுத்‌\n",
            "\n",
            "திட்ட அறிக்கை சமர்ப்பிக்கப்படுகிறது. பணமதிப்பிழப்பு, பொருட்கள்‌\n",
            "\n",
            "மற்றும்‌ சேவைகள்‌ வரி விதிப்பு முறை நடைமுறைக்கு வந்த பிறகு\n",
            "\n",
            "ஏற்பட்டுள்ள பெருத்த மாற்றங்களைக்‌ கடந்து, தொடர்ந்து முன்னேற\n",
            "\n",
            "வேண்டிய முக்கியக்‌ கட்டத்தில்‌ நமது பொருளாதாரம்‌ உள்ளது. இந்த\n",
            "\n",
            "முக்கியத்‌ தருணத்தில்‌, மாநிலம்‌ சந்தித்து வரும்‌ பல்வேறு சவால்கள்‌:\n",
            "\n",
            ",\n",
            "க\n",
            "\n",
            "5,\n",
            "te\n",
            "\n",
            "o,\n",
            "te\n",
            "\n",
            "°,\n",
            "og\n",
            "\n",
            "°,\n",
            "8\n",
            "\n",
            "முதலீடுகளை ஈர்த்து, அதிக வேலைவாய்ப்புகளை உருவாக்குதல்‌\n",
            "\n",
            "இளைஞர்களுக்குத்‌ திறன்‌ பயிற்சி அளித்து,\n",
            "\n",
            "வேலைவாய்ப்பிற்கான தகுதியை அவர்கள்‌ பெறச்‌ செய்தல்‌\n",
            "\n",
            "விவசாய உற்பத்தித்‌ திறனையும்‌, விவசாயிகளின்‌ வருவாயையும்‌\n",
            "பெருக்குதல்‌\n",
            "\n",
            "நகர்ப்புரங்களில்‌ அடிப்படை வசதிகளையும்‌, உட்கட்டமைப்பையும்‌\n",
            "\n",
            "மேம்படுத்துதல்‌\n",
            "\n",
            "அனைவருக்கும்‌ வீட்டுவசதி என்ற இலக்கை அடைய\n",
            "\n",
            "ஏழைகளுக்கு வீட்டுவசதி வழங்குதல்‌\n",
            "\n",
            "நீர்நிலை உள்ளிட்ட இயற்கை ஆதாரங்களை பாதுகாத்துப்‌\n",
            "\n",
            "பராமரித்தல்‌\n",
            "நகர்ப்புரங்களிலும்‌, ஊரகப்‌ பகுதிகளிலும்‌ வறுமை ஒழிப்பு\n",
            "\n",
            "கல்வி, சுகாதாரம்‌, மருத்துவ வசதிகளின்‌ தரத்தை மேம்படுத்தி,\n",
            "அவற்றை அனைவரும்‌ எளிதாகப்‌ பெற வழிவகை செய்தல்‌\n",
            "\n",
            "பருவநிலை மாற்றத்தால்‌ ஏற்படும்‌ தாக்கத்தைக்‌ குறைப்பதுடன்‌,\n",
            "கடல்‌ அரிப்பிலிருந்து கடலோரப்‌ பகுதிகளைப்‌ பாதுகாத்தல்‌\n",
            "\n",
            "குறைந்து வரும்‌ மத்திய வரிப்‌ பகிர்வு, சொந்த வரி, வரியல்லாத\n",
            "வருவாய்‌ வரவினங்களில்‌ உள்ள தற்போதைய சூழ்நிலையை\n",
            "\n",
            "சமாளித்து, நிதிநிலையை திறம்பட மேலாண்மை செய்தல்‌\n",
            "\n",
            "இந்த பத்து முக்கியச்‌ சவால்களையும்‌ எதிர்கொண்டு\n",
            "பொருளாதார வளர்ச்சியை ஊக்குவித்து, தமிழ்நாட்டை வளமான\n",
            "மாநிலமாக மாற்றச்‌ செய்வதற்கான உத்திகளை உள்ளடக்கி இந்த\n",
            "\n",
            "நிதிநிலை அறிக்கை தயாரிக்கப்பட்டுள்ளது.\n",
            "பொருளாதார வளர்ச்சி\n",
            "\n",
            "மாண்புமிகு பேரவைத்‌ தலைவர்‌ அவர்களே,\n",
            "\n",
            "4. மாநிலத்தின்‌ பொருளாதாரத்தில்‌ நிலவி வந்த மந்தநிலையில்‌\n",
            "மாற்றம்‌ ஏற்பட்டு, 2017-2018 ஆம்‌ ஆண்டில்‌ பொருளாதார வளர்ச்சி\n",
            "ஒரளவு உயர்ந்துள்ள நிலையில்‌, 2018-2019 ஆம்‌ ஆண்டில்‌ இது மேலும்‌\n",
            "உயரும்‌ எனக்‌ கருதப்படுகிறது. தமிழ்நாட்டின்‌ மாநில மொத்த\n",
            "உற்பத்தியின்‌ வளர்ச்சி விகிதம்‌, நிலையான விலைகளின்‌ அடிப்படையில்‌,\n",
            "2017-2018 ஆம்‌ ஆண்டில்‌ 8.03 சதவீதமாக இருக்கும்‌ என\n",
            "கணிக்கப்பட்டுள்ளது. மாநிலப்‌ பொருளாதாரத்தில்‌ காணப்படும்‌\n",
            "இத்தகைய சாதகமான சூழ்நிலையில்‌, முதன்மைத்‌ துறையில்‌ இந்த அரசு\n",
            "தொடர்ந்து செய்து வரும்‌ நீடித்த முதலீடுகளாலும்‌, மாநிலத்தில்‌ தொழில்‌\n",
            "துறை முதலீடுகளை ஊக்குவிப்பதற்கு அரசால்‌ மேற்கொள்ளப்பட்டு வரும்‌\n",
            "நடவடிக்கைகளாலும்‌, 2018-2019 ஆம்‌ ஆண்டில்‌ மாநிலப்‌ பொருளாதார\n",
            "வளர்ச்சி விகிதம்‌ 9 சதவீதமாக உயரும்‌ எனக்‌ கருதப்படுகிறது.\n",
            "\n",
            "பொருட்கள்‌ மற்றும்‌ சேவைகள்‌ வரி\n",
            "\n",
            "5. பொருட்கள்‌ மற்றும்‌ சேவைகள்‌ வரி (6851) விதிப்பு முறை,\n",
            "2017 ஆம்‌ ஆண்டு ஜூலை மாதம்‌ 1ஆம்‌ தேதி முதல்‌, நாட்டில்‌\n",
            "அறிமுகப்படுத்தப்பட்டுள்ளதை மாண்புமிகு உறுப்பினர்கள்‌ அறிவீர்கள்‌.\n",
            "புதிய வரி விதிப்பு முறையை நடைமுறைப்படுத்தும்போது மாநிலங்களுக்கு\n",
            "ஏற்படக்கூடிய வரி வருவாய்‌ இழப்பினை ஐந்தாண்டுகள்‌ வரை\n",
            "மத்திய அரசு ஈடுசெய்யும்‌. பொருட்கள்‌ மற்றும்‌ சேவைகள்‌ வரியின்‌ கீழ்‌,\n",
            "2017 ஆம்‌ ஆண்டு ஜூலை மாதம்‌ முதல்‌ பிப்ரவரி 2018 வரை 632 கோடி\n",
            "ரூபாயினை இழப்பீடாக தமிழ்நாடு மத்திய அரசிடமிருந்து பெற்றுள்ளது.\n",
            "கடந்த எட்டுமாத காலத்தில்‌, 14 சதவீத வளர்ச்சி விகிதத்துடன்‌\n",
            "எதிர்பார்க்கப்படும்‌ உறுதி செய்யப்பட்ட வருவாய்க்கும்‌, கிடைக்கப்பெற்ற\n",
            "வருவாய்க்கும்‌ இடையேயான இடைவெளி கணிசமாகக்‌ குறைந்து\n",
            "வருவதால்‌, பொருட்கள்‌ மற்றும்‌ சேவைகள்‌ வரி விதிப்பு முறையினால்‌\n",
            "நமது மாநிலம்‌ நல்ல பலனைப்‌ பெற்றுள்ளது என்பதைத்‌ தெரிவித்துக்‌\n",
            "கொள்கிறேன்‌.\n",
            "\n"
          ],
          "name": "stdout"
        },
        {
          "output_type": "display_data",
          "data": {
            "application/vnd.jupyter.widget-view+json": {
              "model_id": "ca8832a3c61e48d8890136cb76444956",
              "version_minor": 0,
              "version_major": 2
            },
            "text/plain": [
              "HBox(children=(FloatProgress(value=0.0, description='Batches', max=1.0, style=ProgressStyle(description_width=…"
            ]
          },
          "metadata": {
            "tags": []
          }
        },
        {
          "output_type": "stream",
          "text": [
            "\n"
          ],
          "name": "stdout"
        },
        {
          "output_type": "display_data",
          "data": {
            "application/vnd.jupyter.widget-view+json": {
              "model_id": "a3603cc0d0c448eba7b1a79642cfc3ba",
              "version_minor": 0,
              "version_major": 2
            },
            "text/plain": [
              "HBox(children=(FloatProgress(value=0.0, description='Batches', max=38.0, style=ProgressStyle(description_width…"
            ]
          },
          "metadata": {
            "tags": []
          }
        },
        {
          "output_type": "error",
          "ename": "KeyboardInterrupt",
          "evalue": "ignored",
          "traceback": [
            "\u001b[0;31m---------------------------------------------------------------------------\u001b[0m",
            "\u001b[0;31mKeyboardInterrupt\u001b[0m                         Traceback (most recent call last)",
            "\u001b[0;32m<ipython-input-23-a5c35c54df91>\u001b[0m in \u001b[0;36m<module>\u001b[0;34m()\u001b[0m\n\u001b[1;32m      3\u001b[0m \u001b[0msrc\u001b[0m \u001b[0;34m=\u001b[0m \u001b[0mtemp\u001b[0m\u001b[0;34m\u001b[0m\u001b[0;34m\u001b[0m\u001b[0m\n\u001b[1;32m      4\u001b[0m \u001b[0;31m# tgtp = content\u001b[0m\u001b[0;34m\u001b[0m\u001b[0;34m\u001b[0m\u001b[0;34m\u001b[0m\u001b[0m\n\u001b[0;32m----> 5\u001b[0;31m \u001b[0mres\u001b[0m \u001b[0;34m=\u001b[0m \u001b[0mphrase_aligner\u001b[0m\u001b[0;34m(\u001b[0m\u001b[0msrc\u001b[0m\u001b[0;34m,\u001b[0m \u001b[0mtgtp\u001b[0m\u001b[0;34m)\u001b[0m\u001b[0;34m\u001b[0m\u001b[0;34m\u001b[0m\u001b[0m\n\u001b[0m",
            "\u001b[0;32m<ipython-input-15-6ce6ff892ffe>\u001b[0m in \u001b[0;36mphrase_aligner\u001b[0;34m(src, tgtp)\u001b[0m\n\u001b[1;32m     12\u001b[0m           \u001b[0mlength_src_phrase\u001b[0m \u001b[0;34m=\u001b[0m \u001b[0mlen\u001b[0m\u001b[0;34m(\u001b[0m\u001b[0msrc_phrase\u001b[0m\u001b[0;34m.\u001b[0m\u001b[0msplit\u001b[0m\u001b[0;34m(\u001b[0m\u001b[0;34m)\u001b[0m\u001b[0;34m)\u001b[0m\u001b[0;34m\u001b[0m\u001b[0;34m\u001b[0m\u001b[0m\n\u001b[1;32m     13\u001b[0m           \u001b[0mtgt_token_list\u001b[0m \u001b[0;34m=\u001b[0m \u001b[0msplit_tgt\u001b[0m\u001b[0;34m(\u001b[0m\u001b[0mlength_src_phrase\u001b[0m\u001b[0;34m,\u001b[0m\u001b[0mtgt\u001b[0m\u001b[0;34m)\u001b[0m\u001b[0;34m\u001b[0m\u001b[0;34m\u001b[0m\u001b[0m\n\u001b[0;32m---> 14\u001b[0;31m           \u001b[0membeddings_src_phrase\u001b[0m\u001b[0;34m,\u001b[0m \u001b[0membeddings_tgt_tokens\u001b[0m \u001b[0;34m=\u001b[0m \u001b[0mgenerate_embeddings\u001b[0m\u001b[0;34m(\u001b[0m\u001b[0;34m[\u001b[0m\u001b[0msrc_phrase\u001b[0m\u001b[0;34m]\u001b[0m\u001b[0;34m,\u001b[0m\u001b[0mtgt_token_list\u001b[0m\u001b[0;34m)\u001b[0m\u001b[0;34m\u001b[0m\u001b[0;34m\u001b[0m\u001b[0m\n\u001b[0m\u001b[1;32m     15\u001b[0m           \u001b[0malignments\u001b[0m \u001b[0;34m=\u001b[0m \u001b[0mget_target_sentence\u001b[0m\u001b[0;34m(\u001b[0m\u001b[0membeddings_tgt_tokens\u001b[0m\u001b[0;34m,\u001b[0m \u001b[0membeddings_src_phrase\u001b[0m\u001b[0;34m,\u001b[0m \u001b[0mlength_src_phrase\u001b[0m\u001b[0;34m)\u001b[0m\u001b[0;34m\u001b[0m\u001b[0;34m\u001b[0m\u001b[0m\n\u001b[1;32m     16\u001b[0m \u001b[0;34m\u001b[0m\u001b[0m\n",
            "\u001b[0;32m<ipython-input-15-6ce6ff892ffe>\u001b[0m in \u001b[0;36mgenerate_embeddings\u001b[0;34m(input_1, input_2)\u001b[0m\n\u001b[1;32m     42\u001b[0m   '''           \n\u001b[1;32m     43\u001b[0m   \u001b[0membeddings_input_1\u001b[0m \u001b[0;34m=\u001b[0m \u001b[0mmodel\u001b[0m\u001b[0;34m.\u001b[0m\u001b[0mencode\u001b[0m\u001b[0;34m(\u001b[0m\u001b[0minput_1\u001b[0m\u001b[0;34m,\u001b[0m\u001b[0mshow_progress_bar\u001b[0m\u001b[0;34m=\u001b[0m\u001b[0;32mTrue\u001b[0m\u001b[0;34m)\u001b[0m\u001b[0;34m\u001b[0m\u001b[0;34m\u001b[0m\u001b[0m\n\u001b[0;32m---> 44\u001b[0;31m   \u001b[0membeddings_input_2\u001b[0m \u001b[0;34m=\u001b[0m \u001b[0mmodel\u001b[0m\u001b[0;34m.\u001b[0m\u001b[0mencode\u001b[0m\u001b[0;34m(\u001b[0m\u001b[0minput_2\u001b[0m\u001b[0;34m,\u001b[0m\u001b[0mshow_progress_bar\u001b[0m\u001b[0;34m=\u001b[0m\u001b[0;32mTrue\u001b[0m\u001b[0;34m)\u001b[0m\u001b[0;34m\u001b[0m\u001b[0;34m\u001b[0m\u001b[0m\n\u001b[0m\u001b[1;32m     45\u001b[0m   \u001b[0mprint\u001b[0m\u001b[0;34m(\u001b[0m\u001b[0;34m\"LABSE embedding generation finished\"\u001b[0m\u001b[0;34m)\u001b[0m\u001b[0;34m\u001b[0m\u001b[0;34m\u001b[0m\u001b[0m\n\u001b[1;32m     46\u001b[0m   \u001b[0;32mreturn\u001b[0m \u001b[0membeddings_input_1\u001b[0m\u001b[0;34m,\u001b[0m \u001b[0membeddings_input_2\u001b[0m\u001b[0;34m\u001b[0m\u001b[0;34m\u001b[0m\u001b[0m\n",
            "\u001b[0;32m/usr/local/lib/python3.6/dist-packages/sentence_transformers/SentenceTransformer.py\u001b[0m in \u001b[0;36mencode\u001b[0;34m(self, sentences, batch_size, show_progress_bar, output_value, convert_to_numpy, convert_to_tensor, is_pretokenized, device, num_workers)\u001b[0m\n\u001b[1;32m    179\u001b[0m \u001b[0;34m\u001b[0m\u001b[0m\n\u001b[1;32m    180\u001b[0m             \u001b[0;32mwith\u001b[0m \u001b[0mtorch\u001b[0m\u001b[0;34m.\u001b[0m\u001b[0mno_grad\u001b[0m\u001b[0;34m(\u001b[0m\u001b[0;34m)\u001b[0m\u001b[0;34m:\u001b[0m\u001b[0;34m\u001b[0m\u001b[0;34m\u001b[0m\u001b[0m\n\u001b[0;32m--> 181\u001b[0;31m                 \u001b[0mout_features\u001b[0m \u001b[0;34m=\u001b[0m \u001b[0mself\u001b[0m\u001b[0;34m.\u001b[0m\u001b[0mforward\u001b[0m\u001b[0;34m(\u001b[0m\u001b[0mfeatures\u001b[0m\u001b[0;34m)\u001b[0m\u001b[0;34m\u001b[0m\u001b[0;34m\u001b[0m\u001b[0m\n\u001b[0m\u001b[1;32m    182\u001b[0m                 \u001b[0membeddings\u001b[0m \u001b[0;34m=\u001b[0m \u001b[0mout_features\u001b[0m\u001b[0;34m[\u001b[0m\u001b[0moutput_value\u001b[0m\u001b[0;34m]\u001b[0m\u001b[0;34m\u001b[0m\u001b[0;34m\u001b[0m\u001b[0m\n\u001b[1;32m    183\u001b[0m \u001b[0;34m\u001b[0m\u001b[0m\n",
            "\u001b[0;32m/usr/local/lib/python3.6/dist-packages/torch/nn/modules/container.py\u001b[0m in \u001b[0;36mforward\u001b[0;34m(self, input)\u001b[0m\n\u001b[1;32m    115\u001b[0m     \u001b[0;32mdef\u001b[0m \u001b[0mforward\u001b[0m\u001b[0;34m(\u001b[0m\u001b[0mself\u001b[0m\u001b[0;34m,\u001b[0m \u001b[0minput\u001b[0m\u001b[0;34m)\u001b[0m\u001b[0;34m:\u001b[0m\u001b[0;34m\u001b[0m\u001b[0;34m\u001b[0m\u001b[0m\n\u001b[1;32m    116\u001b[0m         \u001b[0;32mfor\u001b[0m \u001b[0mmodule\u001b[0m \u001b[0;32min\u001b[0m \u001b[0mself\u001b[0m\u001b[0;34m:\u001b[0m\u001b[0;34m\u001b[0m\u001b[0;34m\u001b[0m\u001b[0m\n\u001b[0;32m--> 117\u001b[0;31m             \u001b[0minput\u001b[0m \u001b[0;34m=\u001b[0m \u001b[0mmodule\u001b[0m\u001b[0;34m(\u001b[0m\u001b[0minput\u001b[0m\u001b[0;34m)\u001b[0m\u001b[0;34m\u001b[0m\u001b[0;34m\u001b[0m\u001b[0m\n\u001b[0m\u001b[1;32m    118\u001b[0m         \u001b[0;32mreturn\u001b[0m \u001b[0minput\u001b[0m\u001b[0;34m\u001b[0m\u001b[0;34m\u001b[0m\u001b[0m\n\u001b[1;32m    119\u001b[0m \u001b[0;34m\u001b[0m\u001b[0m\n",
            "\u001b[0;32m/usr/local/lib/python3.6/dist-packages/torch/nn/modules/module.py\u001b[0m in \u001b[0;36m_call_impl\u001b[0;34m(self, *input, **kwargs)\u001b[0m\n\u001b[1;32m    725\u001b[0m             \u001b[0mresult\u001b[0m \u001b[0;34m=\u001b[0m \u001b[0mself\u001b[0m\u001b[0;34m.\u001b[0m\u001b[0m_slow_forward\u001b[0m\u001b[0;34m(\u001b[0m\u001b[0;34m*\u001b[0m\u001b[0minput\u001b[0m\u001b[0;34m,\u001b[0m \u001b[0;34m**\u001b[0m\u001b[0mkwargs\u001b[0m\u001b[0;34m)\u001b[0m\u001b[0;34m\u001b[0m\u001b[0;34m\u001b[0m\u001b[0m\n\u001b[1;32m    726\u001b[0m         \u001b[0;32melse\u001b[0m\u001b[0;34m:\u001b[0m\u001b[0;34m\u001b[0m\u001b[0;34m\u001b[0m\u001b[0m\n\u001b[0;32m--> 727\u001b[0;31m             \u001b[0mresult\u001b[0m \u001b[0;34m=\u001b[0m \u001b[0mself\u001b[0m\u001b[0;34m.\u001b[0m\u001b[0mforward\u001b[0m\u001b[0;34m(\u001b[0m\u001b[0;34m*\u001b[0m\u001b[0minput\u001b[0m\u001b[0;34m,\u001b[0m \u001b[0;34m**\u001b[0m\u001b[0mkwargs\u001b[0m\u001b[0;34m)\u001b[0m\u001b[0;34m\u001b[0m\u001b[0;34m\u001b[0m\u001b[0m\n\u001b[0m\u001b[1;32m    728\u001b[0m         for hook in itertools.chain(\n\u001b[1;32m    729\u001b[0m                 \u001b[0m_global_forward_hooks\u001b[0m\u001b[0;34m.\u001b[0m\u001b[0mvalues\u001b[0m\u001b[0;34m(\u001b[0m\u001b[0;34m)\u001b[0m\u001b[0;34m,\u001b[0m\u001b[0;34m\u001b[0m\u001b[0;34m\u001b[0m\u001b[0m\n",
            "\u001b[0;32m/usr/local/lib/python3.6/dist-packages/sentence_transformers/models/Transformer.py\u001b[0m in \u001b[0;36mforward\u001b[0;34m(self, features)\u001b[0m\n\u001b[1;32m     38\u001b[0m             \u001b[0mtrans_features\u001b[0m\u001b[0;34m[\u001b[0m\u001b[0;34m'token_type_ids'\u001b[0m\u001b[0;34m]\u001b[0m \u001b[0;34m=\u001b[0m \u001b[0mfeatures\u001b[0m\u001b[0;34m[\u001b[0m\u001b[0;34m'token_type_ids'\u001b[0m\u001b[0;34m]\u001b[0m\u001b[0;34m\u001b[0m\u001b[0;34m\u001b[0m\u001b[0m\n\u001b[1;32m     39\u001b[0m \u001b[0;34m\u001b[0m\u001b[0m\n\u001b[0;32m---> 40\u001b[0;31m         \u001b[0moutput_states\u001b[0m \u001b[0;34m=\u001b[0m \u001b[0mself\u001b[0m\u001b[0;34m.\u001b[0m\u001b[0mauto_model\u001b[0m\u001b[0;34m(\u001b[0m\u001b[0;34m**\u001b[0m\u001b[0mtrans_features\u001b[0m\u001b[0;34m,\u001b[0m \u001b[0mreturn_dict\u001b[0m\u001b[0;34m=\u001b[0m\u001b[0;32mFalse\u001b[0m\u001b[0;34m)\u001b[0m\u001b[0;34m\u001b[0m\u001b[0;34m\u001b[0m\u001b[0m\n\u001b[0m\u001b[1;32m     41\u001b[0m         \u001b[0moutput_tokens\u001b[0m \u001b[0;34m=\u001b[0m \u001b[0moutput_states\u001b[0m\u001b[0;34m[\u001b[0m\u001b[0;36m0\u001b[0m\u001b[0;34m]\u001b[0m\u001b[0;34m\u001b[0m\u001b[0;34m\u001b[0m\u001b[0m\n\u001b[1;32m     42\u001b[0m \u001b[0;34m\u001b[0m\u001b[0m\n",
            "\u001b[0;32m/usr/local/lib/python3.6/dist-packages/torch/nn/modules/module.py\u001b[0m in \u001b[0;36m_call_impl\u001b[0;34m(self, *input, **kwargs)\u001b[0m\n\u001b[1;32m    725\u001b[0m             \u001b[0mresult\u001b[0m \u001b[0;34m=\u001b[0m \u001b[0mself\u001b[0m\u001b[0;34m.\u001b[0m\u001b[0m_slow_forward\u001b[0m\u001b[0;34m(\u001b[0m\u001b[0;34m*\u001b[0m\u001b[0minput\u001b[0m\u001b[0;34m,\u001b[0m \u001b[0;34m**\u001b[0m\u001b[0mkwargs\u001b[0m\u001b[0;34m)\u001b[0m\u001b[0;34m\u001b[0m\u001b[0;34m\u001b[0m\u001b[0m\n\u001b[1;32m    726\u001b[0m         \u001b[0;32melse\u001b[0m\u001b[0;34m:\u001b[0m\u001b[0;34m\u001b[0m\u001b[0;34m\u001b[0m\u001b[0m\n\u001b[0;32m--> 727\u001b[0;31m             \u001b[0mresult\u001b[0m \u001b[0;34m=\u001b[0m \u001b[0mself\u001b[0m\u001b[0;34m.\u001b[0m\u001b[0mforward\u001b[0m\u001b[0;34m(\u001b[0m\u001b[0;34m*\u001b[0m\u001b[0minput\u001b[0m\u001b[0;34m,\u001b[0m \u001b[0;34m**\u001b[0m\u001b[0mkwargs\u001b[0m\u001b[0;34m)\u001b[0m\u001b[0;34m\u001b[0m\u001b[0;34m\u001b[0m\u001b[0m\n\u001b[0m\u001b[1;32m    728\u001b[0m         for hook in itertools.chain(\n\u001b[1;32m    729\u001b[0m                 \u001b[0m_global_forward_hooks\u001b[0m\u001b[0;34m.\u001b[0m\u001b[0mvalues\u001b[0m\u001b[0;34m(\u001b[0m\u001b[0;34m)\u001b[0m\u001b[0;34m,\u001b[0m\u001b[0;34m\u001b[0m\u001b[0;34m\u001b[0m\u001b[0m\n",
            "\u001b[0;32m/usr/local/lib/python3.6/dist-packages/transformers/models/bert/modeling_bert.py\u001b[0m in \u001b[0;36mforward\u001b[0;34m(self, input_ids, attention_mask, token_type_ids, position_ids, head_mask, inputs_embeds, encoder_hidden_states, encoder_attention_mask, past_key_values, use_cache, output_attentions, output_hidden_states, return_dict)\u001b[0m\n\u001b[1;32m    966\u001b[0m             \u001b[0moutput_attentions\u001b[0m\u001b[0;34m=\u001b[0m\u001b[0moutput_attentions\u001b[0m\u001b[0;34m,\u001b[0m\u001b[0;34m\u001b[0m\u001b[0;34m\u001b[0m\u001b[0m\n\u001b[1;32m    967\u001b[0m             \u001b[0moutput_hidden_states\u001b[0m\u001b[0;34m=\u001b[0m\u001b[0moutput_hidden_states\u001b[0m\u001b[0;34m,\u001b[0m\u001b[0;34m\u001b[0m\u001b[0;34m\u001b[0m\u001b[0m\n\u001b[0;32m--> 968\u001b[0;31m             \u001b[0mreturn_dict\u001b[0m\u001b[0;34m=\u001b[0m\u001b[0mreturn_dict\u001b[0m\u001b[0;34m,\u001b[0m\u001b[0;34m\u001b[0m\u001b[0;34m\u001b[0m\u001b[0m\n\u001b[0m\u001b[1;32m    969\u001b[0m         )\n\u001b[1;32m    970\u001b[0m         \u001b[0msequence_output\u001b[0m \u001b[0;34m=\u001b[0m \u001b[0mencoder_outputs\u001b[0m\u001b[0;34m[\u001b[0m\u001b[0;36m0\u001b[0m\u001b[0;34m]\u001b[0m\u001b[0;34m\u001b[0m\u001b[0;34m\u001b[0m\u001b[0m\n",
            "\u001b[0;32m/usr/local/lib/python3.6/dist-packages/torch/nn/modules/module.py\u001b[0m in \u001b[0;36m_call_impl\u001b[0;34m(self, *input, **kwargs)\u001b[0m\n\u001b[1;32m    725\u001b[0m             \u001b[0mresult\u001b[0m \u001b[0;34m=\u001b[0m \u001b[0mself\u001b[0m\u001b[0;34m.\u001b[0m\u001b[0m_slow_forward\u001b[0m\u001b[0;34m(\u001b[0m\u001b[0;34m*\u001b[0m\u001b[0minput\u001b[0m\u001b[0;34m,\u001b[0m \u001b[0;34m**\u001b[0m\u001b[0mkwargs\u001b[0m\u001b[0;34m)\u001b[0m\u001b[0;34m\u001b[0m\u001b[0;34m\u001b[0m\u001b[0m\n\u001b[1;32m    726\u001b[0m         \u001b[0;32melse\u001b[0m\u001b[0;34m:\u001b[0m\u001b[0;34m\u001b[0m\u001b[0;34m\u001b[0m\u001b[0m\n\u001b[0;32m--> 727\u001b[0;31m             \u001b[0mresult\u001b[0m \u001b[0;34m=\u001b[0m \u001b[0mself\u001b[0m\u001b[0;34m.\u001b[0m\u001b[0mforward\u001b[0m\u001b[0;34m(\u001b[0m\u001b[0;34m*\u001b[0m\u001b[0minput\u001b[0m\u001b[0;34m,\u001b[0m \u001b[0;34m**\u001b[0m\u001b[0mkwargs\u001b[0m\u001b[0;34m)\u001b[0m\u001b[0;34m\u001b[0m\u001b[0;34m\u001b[0m\u001b[0m\n\u001b[0m\u001b[1;32m    728\u001b[0m         for hook in itertools.chain(\n\u001b[1;32m    729\u001b[0m                 \u001b[0m_global_forward_hooks\u001b[0m\u001b[0;34m.\u001b[0m\u001b[0mvalues\u001b[0m\u001b[0;34m(\u001b[0m\u001b[0;34m)\u001b[0m\u001b[0;34m,\u001b[0m\u001b[0;34m\u001b[0m\u001b[0;34m\u001b[0m\u001b[0m\n",
            "\u001b[0;32m/usr/local/lib/python3.6/dist-packages/transformers/models/bert/modeling_bert.py\u001b[0m in \u001b[0;36mforward\u001b[0;34m(self, hidden_states, attention_mask, head_mask, encoder_hidden_states, encoder_attention_mask, past_key_values, use_cache, output_attentions, output_hidden_states, return_dict)\u001b[0m\n\u001b[1;32m    564\u001b[0m                     \u001b[0mencoder_attention_mask\u001b[0m\u001b[0;34m,\u001b[0m\u001b[0;34m\u001b[0m\u001b[0;34m\u001b[0m\u001b[0m\n\u001b[1;32m    565\u001b[0m                     \u001b[0mpast_key_value\u001b[0m\u001b[0;34m,\u001b[0m\u001b[0;34m\u001b[0m\u001b[0;34m\u001b[0m\u001b[0m\n\u001b[0;32m--> 566\u001b[0;31m                     \u001b[0moutput_attentions\u001b[0m\u001b[0;34m,\u001b[0m\u001b[0;34m\u001b[0m\u001b[0;34m\u001b[0m\u001b[0m\n\u001b[0m\u001b[1;32m    567\u001b[0m                 )\n\u001b[1;32m    568\u001b[0m \u001b[0;34m\u001b[0m\u001b[0m\n",
            "\u001b[0;32m/usr/local/lib/python3.6/dist-packages/torch/nn/modules/module.py\u001b[0m in \u001b[0;36m_call_impl\u001b[0;34m(self, *input, **kwargs)\u001b[0m\n\u001b[1;32m    725\u001b[0m             \u001b[0mresult\u001b[0m \u001b[0;34m=\u001b[0m \u001b[0mself\u001b[0m\u001b[0;34m.\u001b[0m\u001b[0m_slow_forward\u001b[0m\u001b[0;34m(\u001b[0m\u001b[0;34m*\u001b[0m\u001b[0minput\u001b[0m\u001b[0;34m,\u001b[0m \u001b[0;34m**\u001b[0m\u001b[0mkwargs\u001b[0m\u001b[0;34m)\u001b[0m\u001b[0;34m\u001b[0m\u001b[0;34m\u001b[0m\u001b[0m\n\u001b[1;32m    726\u001b[0m         \u001b[0;32melse\u001b[0m\u001b[0;34m:\u001b[0m\u001b[0;34m\u001b[0m\u001b[0;34m\u001b[0m\u001b[0m\n\u001b[0;32m--> 727\u001b[0;31m             \u001b[0mresult\u001b[0m \u001b[0;34m=\u001b[0m \u001b[0mself\u001b[0m\u001b[0;34m.\u001b[0m\u001b[0mforward\u001b[0m\u001b[0;34m(\u001b[0m\u001b[0;34m*\u001b[0m\u001b[0minput\u001b[0m\u001b[0;34m,\u001b[0m \u001b[0;34m**\u001b[0m\u001b[0mkwargs\u001b[0m\u001b[0;34m)\u001b[0m\u001b[0;34m\u001b[0m\u001b[0;34m\u001b[0m\u001b[0m\n\u001b[0m\u001b[1;32m    728\u001b[0m         for hook in itertools.chain(\n\u001b[1;32m    729\u001b[0m                 \u001b[0m_global_forward_hooks\u001b[0m\u001b[0;34m.\u001b[0m\u001b[0mvalues\u001b[0m\u001b[0;34m(\u001b[0m\u001b[0;34m)\u001b[0m\u001b[0;34m,\u001b[0m\u001b[0;34m\u001b[0m\u001b[0;34m\u001b[0m\u001b[0m\n",
            "\u001b[0;32m/usr/local/lib/python3.6/dist-packages/transformers/models/bert/modeling_bert.py\u001b[0m in \u001b[0;36mforward\u001b[0;34m(self, hidden_states, attention_mask, head_mask, encoder_hidden_states, encoder_attention_mask, past_key_value, output_attentions)\u001b[0m\n\u001b[1;32m    458\u001b[0m             \u001b[0mhead_mask\u001b[0m\u001b[0;34m,\u001b[0m\u001b[0;34m\u001b[0m\u001b[0;34m\u001b[0m\u001b[0m\n\u001b[1;32m    459\u001b[0m             \u001b[0moutput_attentions\u001b[0m\u001b[0;34m=\u001b[0m\u001b[0moutput_attentions\u001b[0m\u001b[0;34m,\u001b[0m\u001b[0;34m\u001b[0m\u001b[0;34m\u001b[0m\u001b[0m\n\u001b[0;32m--> 460\u001b[0;31m             \u001b[0mpast_key_value\u001b[0m\u001b[0;34m=\u001b[0m\u001b[0mself_attn_past_key_value\u001b[0m\u001b[0;34m,\u001b[0m\u001b[0;34m\u001b[0m\u001b[0;34m\u001b[0m\u001b[0m\n\u001b[0m\u001b[1;32m    461\u001b[0m         )\n\u001b[1;32m    462\u001b[0m         \u001b[0mattention_output\u001b[0m \u001b[0;34m=\u001b[0m \u001b[0mself_attention_outputs\u001b[0m\u001b[0;34m[\u001b[0m\u001b[0;36m0\u001b[0m\u001b[0;34m]\u001b[0m\u001b[0;34m\u001b[0m\u001b[0;34m\u001b[0m\u001b[0m\n",
            "\u001b[0;32m/usr/local/lib/python3.6/dist-packages/torch/nn/modules/module.py\u001b[0m in \u001b[0;36m_call_impl\u001b[0;34m(self, *input, **kwargs)\u001b[0m\n\u001b[1;32m    725\u001b[0m             \u001b[0mresult\u001b[0m \u001b[0;34m=\u001b[0m \u001b[0mself\u001b[0m\u001b[0;34m.\u001b[0m\u001b[0m_slow_forward\u001b[0m\u001b[0;34m(\u001b[0m\u001b[0;34m*\u001b[0m\u001b[0minput\u001b[0m\u001b[0;34m,\u001b[0m \u001b[0;34m**\u001b[0m\u001b[0mkwargs\u001b[0m\u001b[0;34m)\u001b[0m\u001b[0;34m\u001b[0m\u001b[0;34m\u001b[0m\u001b[0m\n\u001b[1;32m    726\u001b[0m         \u001b[0;32melse\u001b[0m\u001b[0;34m:\u001b[0m\u001b[0;34m\u001b[0m\u001b[0;34m\u001b[0m\u001b[0m\n\u001b[0;32m--> 727\u001b[0;31m             \u001b[0mresult\u001b[0m \u001b[0;34m=\u001b[0m \u001b[0mself\u001b[0m\u001b[0;34m.\u001b[0m\u001b[0mforward\u001b[0m\u001b[0;34m(\u001b[0m\u001b[0;34m*\u001b[0m\u001b[0minput\u001b[0m\u001b[0;34m,\u001b[0m \u001b[0;34m**\u001b[0m\u001b[0mkwargs\u001b[0m\u001b[0;34m)\u001b[0m\u001b[0;34m\u001b[0m\u001b[0;34m\u001b[0m\u001b[0m\n\u001b[0m\u001b[1;32m    728\u001b[0m         for hook in itertools.chain(\n\u001b[1;32m    729\u001b[0m                 \u001b[0m_global_forward_hooks\u001b[0m\u001b[0;34m.\u001b[0m\u001b[0mvalues\u001b[0m\u001b[0;34m(\u001b[0m\u001b[0;34m)\u001b[0m\u001b[0;34m,\u001b[0m\u001b[0;34m\u001b[0m\u001b[0;34m\u001b[0m\u001b[0m\n",
            "\u001b[0;32m/usr/local/lib/python3.6/dist-packages/transformers/models/bert/modeling_bert.py\u001b[0m in \u001b[0;36mforward\u001b[0;34m(self, hidden_states, attention_mask, head_mask, encoder_hidden_states, encoder_attention_mask, past_key_value, output_attentions)\u001b[0m\n\u001b[1;32m    393\u001b[0m             \u001b[0moutput_attentions\u001b[0m\u001b[0;34m,\u001b[0m\u001b[0;34m\u001b[0m\u001b[0;34m\u001b[0m\u001b[0m\n\u001b[1;32m    394\u001b[0m         )\n\u001b[0;32m--> 395\u001b[0;31m         \u001b[0mattention_output\u001b[0m \u001b[0;34m=\u001b[0m \u001b[0mself\u001b[0m\u001b[0;34m.\u001b[0m\u001b[0moutput\u001b[0m\u001b[0;34m(\u001b[0m\u001b[0mself_outputs\u001b[0m\u001b[0;34m[\u001b[0m\u001b[0;36m0\u001b[0m\u001b[0;34m]\u001b[0m\u001b[0;34m,\u001b[0m \u001b[0mhidden_states\u001b[0m\u001b[0;34m)\u001b[0m\u001b[0;34m\u001b[0m\u001b[0;34m\u001b[0m\u001b[0m\n\u001b[0m\u001b[1;32m    396\u001b[0m         \u001b[0moutputs\u001b[0m \u001b[0;34m=\u001b[0m \u001b[0;34m(\u001b[0m\u001b[0mattention_output\u001b[0m\u001b[0;34m,\u001b[0m\u001b[0;34m)\u001b[0m \u001b[0;34m+\u001b[0m \u001b[0mself_outputs\u001b[0m\u001b[0;34m[\u001b[0m\u001b[0;36m1\u001b[0m\u001b[0;34m:\u001b[0m\u001b[0;34m]\u001b[0m  \u001b[0;31m# add attentions if we output them\u001b[0m\u001b[0;34m\u001b[0m\u001b[0;34m\u001b[0m\u001b[0m\n\u001b[1;32m    397\u001b[0m         \u001b[0;32mreturn\u001b[0m \u001b[0moutputs\u001b[0m\u001b[0;34m\u001b[0m\u001b[0;34m\u001b[0m\u001b[0m\n",
            "\u001b[0;32m/usr/local/lib/python3.6/dist-packages/torch/nn/modules/module.py\u001b[0m in \u001b[0;36m_call_impl\u001b[0;34m(self, *input, **kwargs)\u001b[0m\n\u001b[1;32m    725\u001b[0m             \u001b[0mresult\u001b[0m \u001b[0;34m=\u001b[0m \u001b[0mself\u001b[0m\u001b[0;34m.\u001b[0m\u001b[0m_slow_forward\u001b[0m\u001b[0;34m(\u001b[0m\u001b[0;34m*\u001b[0m\u001b[0minput\u001b[0m\u001b[0;34m,\u001b[0m \u001b[0;34m**\u001b[0m\u001b[0mkwargs\u001b[0m\u001b[0;34m)\u001b[0m\u001b[0;34m\u001b[0m\u001b[0;34m\u001b[0m\u001b[0m\n\u001b[1;32m    726\u001b[0m         \u001b[0;32melse\u001b[0m\u001b[0;34m:\u001b[0m\u001b[0;34m\u001b[0m\u001b[0;34m\u001b[0m\u001b[0m\n\u001b[0;32m--> 727\u001b[0;31m             \u001b[0mresult\u001b[0m \u001b[0;34m=\u001b[0m \u001b[0mself\u001b[0m\u001b[0;34m.\u001b[0m\u001b[0mforward\u001b[0m\u001b[0;34m(\u001b[0m\u001b[0;34m*\u001b[0m\u001b[0minput\u001b[0m\u001b[0;34m,\u001b[0m \u001b[0;34m**\u001b[0m\u001b[0mkwargs\u001b[0m\u001b[0;34m)\u001b[0m\u001b[0;34m\u001b[0m\u001b[0;34m\u001b[0m\u001b[0m\n\u001b[0m\u001b[1;32m    728\u001b[0m         for hook in itertools.chain(\n\u001b[1;32m    729\u001b[0m                 \u001b[0m_global_forward_hooks\u001b[0m\u001b[0;34m.\u001b[0m\u001b[0mvalues\u001b[0m\u001b[0;34m(\u001b[0m\u001b[0;34m)\u001b[0m\u001b[0;34m,\u001b[0m\u001b[0;34m\u001b[0m\u001b[0;34m\u001b[0m\u001b[0m\n",
            "\u001b[0;32m/usr/local/lib/python3.6/dist-packages/transformers/models/bert/modeling_bert.py\u001b[0m in \u001b[0;36mforward\u001b[0;34m(self, hidden_states, input_tensor)\u001b[0m\n\u001b[1;32m    343\u001b[0m \u001b[0;34m\u001b[0m\u001b[0m\n\u001b[1;32m    344\u001b[0m     \u001b[0;32mdef\u001b[0m \u001b[0mforward\u001b[0m\u001b[0;34m(\u001b[0m\u001b[0mself\u001b[0m\u001b[0;34m,\u001b[0m \u001b[0mhidden_states\u001b[0m\u001b[0;34m,\u001b[0m \u001b[0minput_tensor\u001b[0m\u001b[0;34m)\u001b[0m\u001b[0;34m:\u001b[0m\u001b[0;34m\u001b[0m\u001b[0;34m\u001b[0m\u001b[0m\n\u001b[0;32m--> 345\u001b[0;31m         \u001b[0mhidden_states\u001b[0m \u001b[0;34m=\u001b[0m \u001b[0mself\u001b[0m\u001b[0;34m.\u001b[0m\u001b[0mdense\u001b[0m\u001b[0;34m(\u001b[0m\u001b[0mhidden_states\u001b[0m\u001b[0;34m)\u001b[0m\u001b[0;34m\u001b[0m\u001b[0;34m\u001b[0m\u001b[0m\n\u001b[0m\u001b[1;32m    346\u001b[0m         \u001b[0mhidden_states\u001b[0m \u001b[0;34m=\u001b[0m \u001b[0mself\u001b[0m\u001b[0;34m.\u001b[0m\u001b[0mdropout\u001b[0m\u001b[0;34m(\u001b[0m\u001b[0mhidden_states\u001b[0m\u001b[0;34m)\u001b[0m\u001b[0;34m\u001b[0m\u001b[0;34m\u001b[0m\u001b[0m\n\u001b[1;32m    347\u001b[0m         \u001b[0mhidden_states\u001b[0m \u001b[0;34m=\u001b[0m \u001b[0mself\u001b[0m\u001b[0;34m.\u001b[0m\u001b[0mLayerNorm\u001b[0m\u001b[0;34m(\u001b[0m\u001b[0mhidden_states\u001b[0m \u001b[0;34m+\u001b[0m \u001b[0minput_tensor\u001b[0m\u001b[0;34m)\u001b[0m\u001b[0;34m\u001b[0m\u001b[0;34m\u001b[0m\u001b[0m\n",
            "\u001b[0;32m/usr/local/lib/python3.6/dist-packages/torch/nn/modules/module.py\u001b[0m in \u001b[0;36m_call_impl\u001b[0;34m(self, *input, **kwargs)\u001b[0m\n\u001b[1;32m    725\u001b[0m             \u001b[0mresult\u001b[0m \u001b[0;34m=\u001b[0m \u001b[0mself\u001b[0m\u001b[0;34m.\u001b[0m\u001b[0m_slow_forward\u001b[0m\u001b[0;34m(\u001b[0m\u001b[0;34m*\u001b[0m\u001b[0minput\u001b[0m\u001b[0;34m,\u001b[0m \u001b[0;34m**\u001b[0m\u001b[0mkwargs\u001b[0m\u001b[0;34m)\u001b[0m\u001b[0;34m\u001b[0m\u001b[0;34m\u001b[0m\u001b[0m\n\u001b[1;32m    726\u001b[0m         \u001b[0;32melse\u001b[0m\u001b[0;34m:\u001b[0m\u001b[0;34m\u001b[0m\u001b[0;34m\u001b[0m\u001b[0m\n\u001b[0;32m--> 727\u001b[0;31m             \u001b[0mresult\u001b[0m \u001b[0;34m=\u001b[0m \u001b[0mself\u001b[0m\u001b[0;34m.\u001b[0m\u001b[0mforward\u001b[0m\u001b[0;34m(\u001b[0m\u001b[0;34m*\u001b[0m\u001b[0minput\u001b[0m\u001b[0;34m,\u001b[0m \u001b[0;34m**\u001b[0m\u001b[0mkwargs\u001b[0m\u001b[0;34m)\u001b[0m\u001b[0;34m\u001b[0m\u001b[0;34m\u001b[0m\u001b[0m\n\u001b[0m\u001b[1;32m    728\u001b[0m         for hook in itertools.chain(\n\u001b[1;32m    729\u001b[0m                 \u001b[0m_global_forward_hooks\u001b[0m\u001b[0;34m.\u001b[0m\u001b[0mvalues\u001b[0m\u001b[0;34m(\u001b[0m\u001b[0;34m)\u001b[0m\u001b[0;34m,\u001b[0m\u001b[0;34m\u001b[0m\u001b[0;34m\u001b[0m\u001b[0m\n",
            "\u001b[0;32m/usr/local/lib/python3.6/dist-packages/torch/nn/modules/linear.py\u001b[0m in \u001b[0;36mforward\u001b[0;34m(self, input)\u001b[0m\n\u001b[1;32m     91\u001b[0m \u001b[0;34m\u001b[0m\u001b[0m\n\u001b[1;32m     92\u001b[0m     \u001b[0;32mdef\u001b[0m \u001b[0mforward\u001b[0m\u001b[0;34m(\u001b[0m\u001b[0mself\u001b[0m\u001b[0;34m,\u001b[0m \u001b[0minput\u001b[0m\u001b[0;34m:\u001b[0m \u001b[0mTensor\u001b[0m\u001b[0;34m)\u001b[0m \u001b[0;34m->\u001b[0m \u001b[0mTensor\u001b[0m\u001b[0;34m:\u001b[0m\u001b[0;34m\u001b[0m\u001b[0;34m\u001b[0m\u001b[0m\n\u001b[0;32m---> 93\u001b[0;31m         \u001b[0;32mreturn\u001b[0m \u001b[0mF\u001b[0m\u001b[0;34m.\u001b[0m\u001b[0mlinear\u001b[0m\u001b[0;34m(\u001b[0m\u001b[0minput\u001b[0m\u001b[0;34m,\u001b[0m \u001b[0mself\u001b[0m\u001b[0;34m.\u001b[0m\u001b[0mweight\u001b[0m\u001b[0;34m,\u001b[0m \u001b[0mself\u001b[0m\u001b[0;34m.\u001b[0m\u001b[0mbias\u001b[0m\u001b[0;34m)\u001b[0m\u001b[0;34m\u001b[0m\u001b[0;34m\u001b[0m\u001b[0m\n\u001b[0m\u001b[1;32m     94\u001b[0m \u001b[0;34m\u001b[0m\u001b[0m\n\u001b[1;32m     95\u001b[0m     \u001b[0;32mdef\u001b[0m \u001b[0mextra_repr\u001b[0m\u001b[0;34m(\u001b[0m\u001b[0mself\u001b[0m\u001b[0;34m)\u001b[0m \u001b[0;34m->\u001b[0m \u001b[0mstr\u001b[0m\u001b[0;34m:\u001b[0m\u001b[0;34m\u001b[0m\u001b[0;34m\u001b[0m\u001b[0m\n",
            "\u001b[0;32m/usr/local/lib/python3.6/dist-packages/torch/nn/functional.py\u001b[0m in \u001b[0;36mlinear\u001b[0;34m(input, weight, bias)\u001b[0m\n\u001b[1;32m   1690\u001b[0m         \u001b[0mret\u001b[0m \u001b[0;34m=\u001b[0m \u001b[0mtorch\u001b[0m\u001b[0;34m.\u001b[0m\u001b[0maddmm\u001b[0m\u001b[0;34m(\u001b[0m\u001b[0mbias\u001b[0m\u001b[0;34m,\u001b[0m \u001b[0minput\u001b[0m\u001b[0;34m,\u001b[0m \u001b[0mweight\u001b[0m\u001b[0;34m.\u001b[0m\u001b[0mt\u001b[0m\u001b[0;34m(\u001b[0m\u001b[0;34m)\u001b[0m\u001b[0;34m)\u001b[0m\u001b[0;34m\u001b[0m\u001b[0;34m\u001b[0m\u001b[0m\n\u001b[1;32m   1691\u001b[0m     \u001b[0;32melse\u001b[0m\u001b[0;34m:\u001b[0m\u001b[0;34m\u001b[0m\u001b[0;34m\u001b[0m\u001b[0m\n\u001b[0;32m-> 1692\u001b[0;31m         \u001b[0moutput\u001b[0m \u001b[0;34m=\u001b[0m \u001b[0minput\u001b[0m\u001b[0;34m.\u001b[0m\u001b[0mmatmul\u001b[0m\u001b[0;34m(\u001b[0m\u001b[0mweight\u001b[0m\u001b[0;34m.\u001b[0m\u001b[0mt\u001b[0m\u001b[0;34m(\u001b[0m\u001b[0;34m)\u001b[0m\u001b[0;34m)\u001b[0m\u001b[0;34m\u001b[0m\u001b[0;34m\u001b[0m\u001b[0m\n\u001b[0m\u001b[1;32m   1693\u001b[0m         \u001b[0;32mif\u001b[0m \u001b[0mbias\u001b[0m \u001b[0;32mis\u001b[0m \u001b[0;32mnot\u001b[0m \u001b[0;32mNone\u001b[0m\u001b[0;34m:\u001b[0m\u001b[0;34m\u001b[0m\u001b[0;34m\u001b[0m\u001b[0m\n\u001b[1;32m   1694\u001b[0m             \u001b[0moutput\u001b[0m \u001b[0;34m+=\u001b[0m \u001b[0mbias\u001b[0m\u001b[0;34m\u001b[0m\u001b[0;34m\u001b[0m\u001b[0m\n",
            "\u001b[0;31mKeyboardInterrupt\u001b[0m: "
          ]
        }
      ]
    },
    {
      "cell_type": "code",
      "metadata": {
        "colab": {
          "base_uri": "https://localhost:8080/"
        },
        "id": "ZRe9VNFCdJDS",
        "outputId": "17c26aea-d77e-4b95-f81b-40fb2578fcf8"
      },
      "source": [
        "print(res)"
      ],
      "execution_count": null,
      "outputs": [
        {
          "output_type": "stream",
          "text": [
            "{'tgt': 'भारत का संविधान अप्रैल,  को यथाविद्यमान संसद्\\u200c द्वारा समयसमय पर यथा संशोधित भारत केसंविधान के पाठ को उद्धृत करता है । संसद्\\u200c द्वारा, संविधान (एक सौ तीनवां संशोधन) अधिनियम, तक और उसको सम्मिलित करते हुए, किए गए सभी संशोधन, इस संस्करण मैं सम्मिलित किए गएहै । पाठ के नीचे दिए गए पाद टिप्पण, संविधान संशोधन अधिनियमों, जिसके द्वारा ऐसे संशोधन किएगए है, को उपदर्शित करता है ।', 'src_phrases': ['This edition of the Constitution of India reproduces the text of the Constitution of India as amended by Parliament from time to time', ' All amendments made by the Parliament up to and including the Constitution (One Hundred and Third Amendment) Act, 2019 are incorporated in this edition', 'The foot notes below the text indicate the Constitution Amendment Acts by which such amendments have been made', ''], 'aligned_phrases': {'This edition of the Constitution of India reproduces the text of the Constitution of India as amended by Parliament from time to time': 'को यथाविद्यमान संसद्\\u200c द्वारा समयसमय पर यथा संशोधित भारत केसंविधान के पाठ को उद्धृत करता है । संसद्\\u200c द्वारा, संविधान (एक सौ', ' All amendments made by the Parliament up to and including the Constitution (One Hundred and Third Amendment) Act, 2019 are incorporated in this edition': 'है । संसद्\\u200c द्वारा, संविधान (एक सौ तीनवां संशोधन) अधिनियम, तक और उसको सम्मिलित करते हुए, किए गए सभी संशोधन, इस संस्करण मैं सम्मिलित', 'The foot notes below the text indicate the Constitution Amendment Acts by which such amendments have been made': 'पाठ के नीचे दिए गए पाद टिप्पण, संविधान संशोधन अधिनियमों, जिसके द्वारा ऐसे संशोधन किएगए है, को उपदर्शित करता', '': ''}}\n"
          ],
          "name": "stdout"
        }
      ]
    },
    {
      "cell_type": "code",
      "metadata": {
        "colab": {
          "base_uri": "https://localhost:8080/"
        },
        "id": "Qr_cbzdqPEwZ",
        "outputId": "2679b945-8b9a-49df-c6f4-8100fb5ecb2c"
      },
      "source": [
        "print(res['aligned_phrases'])"
      ],
      "execution_count": null,
      "outputs": [
        {
          "output_type": "stream",
          "text": [
            "{'This edition of the Constitution of India reproduces the text of the Constitution of India as amended by Parliament from time to time': 'को यथाविद्यमान संसद्\\u200c द्वारा समयसमय पर यथा संशोधित भारत केसंविधान के पाठ को उद्धृत करता है । संसद्\\u200c द्वारा, संविधान (एक सौ', ' All amendments made by the Parliament up to and including the Constitution (One Hundred and Third Amendment) Act, 2019 are incorporated in this edition': 'है । संसद्\\u200c द्वारा, संविधान (एक सौ तीनवां संशोधन) अधिनियम, तक और उसको सम्मिलित करते हुए, किए गए सभी संशोधन, इस संस्करण मैं सम्मिलित', 'The foot notes below the text indicate the Constitution Amendment Acts by which such amendments have been made': 'पाठ के नीचे दिए गए पाद टिप्पण, संविधान संशोधन अधिनियमों, जिसके द्वारा ऐसे संशोधन किएगए है, को उपदर्शित करता', '': ''}\n"
          ],
          "name": "stdout"
        }
      ]
    },
    {
      "cell_type": "code",
      "metadata": {
        "id": "u_3yt0PHdy-L"
      },
      "source": [
        ""
      ],
      "execution_count": null,
      "outputs": []
    },
    {
      "cell_type": "code",
      "metadata": {
        "colab": {
          "base_uri": "https://localhost:8080/"
        },
        "id": "TAX_20nBcWKa",
        "outputId": "41ed5ace-5045-41bc-9b8e-843eb0f774e0"
      },
      "source": [
        "for key in res['aligned_phrases']:\n",
        "  print(key)\n",
        "  print(res['aligned_phrases'][key])\n",
        "  "
      ],
      "execution_count": null,
      "outputs": [
        {
          "output_type": "stream",
          "text": [
            "This edition of the Constitution of India reproduces the text of the Constitution of India as amended by Parliament from time to time\n",
            "को यथाविद्यमान संसद्‌ द्वारा समयसमय पर यथा संशोधित भारत केसंविधान के पाठ को उद्धृत करता है । संसद्‌ द्वारा, संविधान (एक सौ\n",
            " All amendments made by the Parliament up to and including the Constitution (One Hundred and Third Amendment) Act, 2019 are incorporated in this edition\n",
            "है । संसद्‌ द्वारा, संविधान (एक सौ तीनवां संशोधन) अधिनियम, तक और उसको सम्मिलित करते हुए, किए गए सभी संशोधन, इस संस्करण मैं सम्मिलित\n",
            "The foot notes below the text indicate the Constitution Amendment Acts by which such amendments have been made\n",
            "पाठ के नीचे दिए गए पाद टिप्पण, संविधान संशोधन अधिनियमों, जिसके द्वारा ऐसे संशोधन किएगए है, को उपदर्शित करता\n",
            "\n",
            "\n"
          ],
          "name": "stdout"
        }
      ]
    },
    {
      "cell_type": "code",
      "metadata": {
        "id": "r12nG251cha3"
      },
      "source": [
        ""
      ],
      "execution_count": null,
      "outputs": []
    }
  ]
}