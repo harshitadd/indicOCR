{
  "nbformat": 4,
  "nbformat_minor": 0,
  "metadata": {
    "colab": {
      "name": "PDFSourceNameScraper_Parallel.ipynb",
      "provenance": [],
      "collapsed_sections": [],
      "authorship_tag": "ABX9TyOioXQhWdjLq5E4wN8igzog",
      "include_colab_link": true
    },
    "kernelspec": {
      "display_name": "Python 3",
      "name": "python3"
    }
  },
  "cells": [
    {
      "cell_type": "markdown",
      "metadata": {
        "id": "view-in-github",
        "colab_type": "text"
      },
      "source": [
        "<a href=\"https://colab.research.google.com/github/harshitadd/AI4BharatTranslation/blob/main/PDFSourceNameScraper_Parallel.ipynb\" target=\"_parent\"><img src=\"https://colab.research.google.com/assets/colab-badge.svg\" alt=\"Open In Colab\"/></a>"
      ]
    },
    {
      "cell_type": "code",
      "metadata": {
        "colab": {
          "base_uri": "https://localhost:8080/"
        },
        "id": "mBecux7M6VAg",
        "outputId": "8b34da47-0384-4997-885c-e7a5c0f85f33"
      },
      "source": [
        "from google.colab import drive\n",
        "drive.mount('/content/gdrive')"
      ],
      "execution_count": 1,
      "outputs": [
        {
          "output_type": "stream",
          "text": [
            "Drive already mounted at /content/gdrive; to attempt to forcibly remount, call drive.mount(\"/content/gdrive\", force_remount=True).\n"
          ],
          "name": "stdout"
        }
      ]
    },
    {
      "cell_type": "code",
      "metadata": {
        "colab": {
          "base_uri": "https://localhost:8080/"
        },
        "id": "m5X-kG99f6np",
        "outputId": "0f4deacc-b3c1-4733-e16a-c9755a5d1a5d"
      },
      "source": [
        "import os\n",
        "import requests\n",
        "from urllib.parse import urljoin\n",
        "from bs4 import BeautifulSoup\n",
        "from time import sleep\n",
        "import ssl\n",
        "from collections import OrderedDict\n",
        "ssl._create_default_https_context = ssl._create_unverified_context\n",
        "# lang_ids = {'Assamese', 'Bengali', 'Gujarati', 'Kannada', 'Malayalam', 'Marathi', 'Odia', 'Punjabi', 'Tamil', 'Telugu'}\n",
        "page_limit = 0\n",
        "page_count = 0\n",
        "parent_links = []\n",
        "ordered_urls = OrderedDict()\n",
        "while(page_count<=page_limit):\n",
        "     url = \"https://gandhi.gov.in/gandhian-literature.html\" \n",
        "     response = requests.get(url, verify = False)\n",
        "     sleep(0.5)\n",
        "     soup= BeautifulSoup(response.text, \"html.parser\")\n",
        "     links = soup.find_all('a')   \n",
        "     print(\"Total Links Found:\",links.__len__())\n",
        "     print(\"Page Number:\" + str(page_count))\n",
        "     for link in links:\n",
        "       try:\n",
        "            parent_links.append(link.get('href')) \n",
        "       except:\n",
        "         pass\n",
        "       \n",
        "          #      ordered_urls[ str(link.get('href'))] = '' \n",
        "     page_count+=1\n"
      ],
      "execution_count": 2,
      "outputs": [
        {
          "output_type": "stream",
          "text": [
            "/usr/local/lib/python3.7/dist-packages/urllib3/connectionpool.py:847: InsecureRequestWarning: Unverified HTTPS request is being made. Adding certificate verification is strongly advised. See: https://urllib3.readthedocs.io/en/latest/advanced-usage.html#ssl-warnings\n",
            "  InsecureRequestWarning)\n"
          ],
          "name": "stderr"
        },
        {
          "output_type": "stream",
          "text": [
            "Total Links Found: 1\n",
            "Page Number:0\n"
          ],
          "name": "stdout"
        }
      ]
    },
    {
      "cell_type": "code",
      "metadata": {
        "id": "XpjgVvVo_JMj",
        "colab": {
          "base_uri": "https://localhost:8080/"
        },
        "outputId": "3212edd4-5877-40ec-8d1e-25b98b1a52aa"
      },
      "source": [
        "parent_links"
      ],
      "execution_count": 5,
      "outputs": [
        {
          "output_type": "execute_result",
          "data": {
            "text/plain": [
              "['ebook.html']"
            ]
          },
          "metadata": {
            "tags": []
          },
          "execution_count": 5
        }
      ]
    },
    {
      "cell_type": "code",
      "metadata": {
        "colab": {
          "base_uri": "https://localhost:8080/"
        },
        "id": "baj203C1QB4v",
        "outputId": "7aa8ec3a-5de8-447e-f4b9-8ec6678a56e1"
      },
      "source": [
        "url = \"https://gandhi.gov.in/gandhian-literature.html\" \n",
        "response = requests.get(url, verify = False)\n",
        "soup= BeautifulSoup(response.text, \"html.parser\")\n"
      ],
      "execution_count": 6,
      "outputs": [
        {
          "output_type": "stream",
          "text": [
            "/usr/local/lib/python3.7/dist-packages/urllib3/connectionpool.py:847: InsecureRequestWarning: Unverified HTTPS request is being made. Adding certificate verification is strongly advised. See: https://urllib3.readthedocs.io/en/latest/advanced-usage.html#ssl-warnings\n",
            "  InsecureRequestWarning)\n"
          ],
          "name": "stderr"
        }
      ]
    },
    {
      "cell_type": "code",
      "metadata": {
        "id": "2gxWNNffQJJF"
      },
      "source": [
        ""
      ],
      "execution_count": null,
      "outputs": []
    },
    {
      "cell_type": "code",
      "metadata": {
        "id": "PfPIRzsDQedX"
      },
      "source": [
        "parents = soup.find_all('td')  \n"
      ],
      "execution_count": 60,
      "outputs": []
    },
    {
      "cell_type": "code",
      "metadata": {
        "id": "olVMfH76bHAs"
      },
      "source": [
        "print(parents)"
      ],
      "execution_count": null,
      "outputs": []
    },
    {
      "cell_type": "code",
      "metadata": {
        "id": "eY6fwWZuXE_Q"
      },
      "source": [
        "eng = []\n",
        "for link in parents:\n",
        "  span = link.find('span')\n",
        "  if span:\n",
        "    eng.append(span)"
      ],
      "execution_count": 39,
      "outputs": []
    },
    {
      "cell_type": "code",
      "metadata": {
        "colab": {
          "base_uri": "https://localhost:8080/"
        },
        "id": "rf2fWykLYKxD",
        "outputId": "a2ee5f5c-68fe-409b-d598-b162d85e840a"
      },
      "source": [
        "print(eng)"
      ],
      "execution_count": 40,
      "outputs": [
        {
          "output_type": "stream",
          "text": [
            "[<span ng-click=\"loadNewFile('CWMG-v001-I-MC-BETA.pdf')\"> English </span>, <span ng-click=\"loadNewFile('CWMG-v002-II-MC-BETA.pdf')\"> English </span>, <span ng-click=\"loadNewFile('CWMG-v003-III-MC-BETA.pdf')\"> English </span>, <span ng-click=\"loadNewFile('CWMG-v004-IV-MC-BETA.pdf')\"> English </span>, <span ng-click=\"loadNewFile('CWMG-v005-V-MC-BETA.pdf')\"> English </span>, <span ng-click=\"loadNewFile('CWMG-v006-VI-MC-BETA')\"> English </span>, <span ng-click=\"loadNewFile('CWMG-v007-VII-MC-BETA.pdf')\"> English </span>, <span ng-click=\"loadNewFile('CWMG-v008-VIII-MC-BETA.pdf')\"> English </span>, <span ng-click=\"loadNewFile('CWMG-v009-IX-MC-BETA.pdf')\"> English </span>, <span ng-click=\"loadNewFile('CWMG-v010-X-MC-BETA.pdf')\"> English </span>, <span ng-click=\"loadNewFile('CWMG-v011-XI-MC-BETA.pdf')\"> English </span>, <span ng-click=\"loadNewFile('CWMG-v012-XII-MC-BETA.pdf')\"> English </span>, <span ng-click=\"loadNewFile('CWMG-v013-XIII-MC-BETA.pdf')\"> English </span>, <span ng-click=\"loadNewFile('CWMG-v014-XIV-MC-BETA.pdf')\"> English </span>, <span ng-click=\"loadNewFile('CWMG-v015-XV-MC-BETA.pdf')\"> English </span>, <span ng-click=\"loadNewFile('CWMG-v016-XVI-MC-BETA.pdf')\"> English </span>, <span ng-click=\"loadNewFile('CWMG-v017-XVII-MC-BETA.pdf')\"> English </span>, <span ng-click=\"loadNewFile('CWMG-v018-XVIII-MC-BETA.pdf')\"> English </span>, <span ng-click=\"loadNewFile('CWMG-v019-XIX-MC-BETA.pdf')\"> English </span>, <span ng-click=\"loadNewFile('CWMG-v020-XX-MC-BETA.pdf')\"> English </span>, <span ng-click=\"loadNewFile('CWMG-v021-XXI-MC-BETA.pdf')\"> English </span>, <span ng-click=\"loadNewFile('CWMG-v022-XXII-MC-BETA.pdf')\"> English </span>, <span ng-click=\"loadNewFile('CWMG-v023-XXIII-MC-BETA.pdf')\"> English </span>, <span ng-click=\"loadNewFile('CWMG-v024-XXIV-MC-BETA.pdf')\"> English </span>, <span ng-click=\"loadNewFile('CWMG-v025-XXV-MC-BETA.pdf')\"> English </span>, <span ng-click=\"loadNewFile('CWMG-v026-XXVI-MC-BETA.pdf')\"> English </span>, <span ng-click=\"loadNewFile('CWMG-v027-XXVII-MC-BETA.pdf')\"> English </span>, <span ng-click=\"loadNewFile('CWMG-v028-XXVIII-MC-BETA.pdf')\"> English </span>, <span ng-click=\"loadNewFile('CWMG-v029-XXIX-MC-BETA.pdf')\"> English </span>, <span ng-click=\"loadNewFile('CWMG-v030-XXX-MC-BETA.pdf')\"> English </span>, <span ng-click=\"loadNewFile('CWMG-v031-XXXI-MC-BETA.pdf')\"> English </span>, <span ng-click=\"loadNewFile('CWMG-v032-XXXII-MC-BETA.pdf')\"> English </span>, <span ng-click=\"loadNewFile('CWMG-v033-XXXIII-MC-BETA.pdf')\"> English </span>, <span ng-click=\"loadNewFile('CWMG-v034-XXXIV-MC-BETA.pdf')\"> English </span>, <span ng-click=\"loadNewFile('CWMG-v035-XXXV-MC-BETA.pdf')\"> English </span>, <span ng-click=\"loadNewFile('CWMG-v036-XXXVI-MC-BETA.pdf')\"> English </span>, <span ng-click=\"loadNewFile('CWMG-v037-XXXVII-MC-BETA.pdf')\"> English </span>, <span ng-click=\"loadNewFile('CWMG-v038-XXXVIII-MC-BETA.pdf')\"> English </span>, <span ng-click=\"loadNewFile('CWMG-v039-XXXIX-MC-BETA.pdf')\"> English </span>, <span ng-click=\"loadNewFile('CWMG-v040-XL-MC-BETA.pdf')\"> English </span>, <span ng-click=\"loadNewFile('CWMG-v041-XLI-MC-BETA.pdf')\"> English </span>, <span ng-click=\"loadNewFile('CWMG-v042-XLII-MC-BETA.pdf')\"> English </span>, <span ng-click=\"loadNewFile('CWMG-v043-XLIII-MC-BETA.pdf')\"> English </span>, <span ng-click=\"loadNewFile('CWMG-v044-XLIV-MC-BETA.pdf')\"> English </span>, <span ng-click=\"loadNewFile('CWMG-v045-XLV-MC-BETA.pdf')\"> English </span>, <span ng-click=\"loadNewFile('CWMG-v046-XLVI-MC-BETA.pdf')\"> English </span>, <span ng-click=\"loadNewFile('CWMG-v047-XLVII-MC-BETA.pdf')\"> English </span>, <span ng-click=\"loadNewFile('CWMG-v048-XLVIII-MC-BETA.pdf')\"> English </span>, <span ng-click=\"loadNewFile('CWMG-v049-XLIX-MC-BETA.pdf')\"> English </span>, <span ng-click=\"loadNewFile('CWMG-v050-L-MC-BETA.pdf')\"> English </span>, <span ng-click=\"loadNewFile('CWMG-v051-LI-MC-BETA.pdf')\"> English </span>, <span ng-click=\"loadNewFile('CWMG-v052-LII-MC-BETA.pdf')\"> English </span>, <span ng-click=\"loadNewFile('CWMG-v053-LIII-MC-BETA.pdf')\"> English </span>, <span ng-click=\"loadNewFile('CWMG-v054-LIV-MC-BETA.pdf')\"> English </span>, <span ng-click=\"loadNewFile('CWMG-v055-LV-MC-BETA.pdf')\"> English </span>, <span ng-click=\"loadNewFile('CWMG-v056-LVI-MC-BETA.pdf')\"> English </span>, <span ng-click=\"loadNewFile('CWMG-v057-LVII-MC-BETA.pdf')\"> English </span>, <span ng-click=\"loadNewFile('CWMG-v058-LVIII-MC-BETA.pdf')\"> English </span>, <span ng-click=\"loadNewFile('CWMG-v059-LIX-MC-BETA.pdf')\"> English </span>, <span ng-click=\"loadNewFile('CWMG-v060-LX-MC-BETA.pdf')\"> English </span>, <span ng-click=\"loadNewFile('CWMG-v061-LXI-MC-BETA.pdf')\"> English </span>, <span ng-click=\"loadNewFile('CWMG-v062-LXII-MC-BETA.pdf')\"> English </span>, <span ng-click=\"loadNewFile('CWMG-v063-LXIII-MC-BETA.pdf')\"> English </span>, <span ng-click=\"loadNewFile('CWMG-v064-LXIV-MC-BETA.pdf')\"> English </span>, <span ng-click=\"loadNewFile('CWMG-v065-LXV-MC-BETA.pdf')\"> English </span>, <span ng-click=\"loadNewFile('CWMG-v066-LXVI-MC-BETA.pdf')\"> English </span>, <span ng-click=\"loadNewFile('CWMG-v067-LXVII-MC-BETA.pdf')\"> English </span>, <span ng-click=\"loadNewFile('CWMG-v068-LXVIII-MC-BETA.pdf')\"> English </span>, <span ng-click=\"loadNewFile('CWMG-v069-LXIX-MC-BETA.pdf')\"> English </span>, <span ng-click=\"loadNewFile('CWMG-v070-LXX-MC-BETA.pdf')\"> English </span>, <span ng-click=\"loadNewFile('CWMG-v071-LXXI-MC-BETA.pdf')\"> English </span>, <span ng-click=\"loadNewFile('CWMG-v072-LXXII-MC-BETA.pdf')\"> English </span>, <span ng-click=\"loadNewFile('CWMG-v073-LXXIII-MC-BETA.pdf')\"> English </span>, <span ng-click=\"loadNewFile('CWMG-v074-LXXIV-MC-BETA.pdf')\"> English </span>, <span ng-click=\"loadNewFile('CWMG-v075-LXXV-MC-BETA.pdf')\"> English </span>, <span ng-click=\"loadNewFile('CWMG-v076-LXXVI-MC-BETA.pdf')\"> English </span>, <span ng-click=\"loadNewFile('CWMG-v077-LXXVII-MC-BETA.pdf')\"> English </span>, <span ng-click=\"loadNewFile('CWMG-v078-LXXVIII-MC-BETA.pdf')\"> English </span>, <span ng-click=\"loadNewFile('CWMG-v079-LXXIX-MC-BETA.pdf')\"> English </span>, <span ng-click=\"loadNewFile('CWMG-v080-LXXX-MC-BETA.pdf')\"> English </span>, <span ng-click=\"loadNewFile('CWMG-v081-LXXXI-MC-BETA.pdf')\"> English </span>, <span ng-click=\"loadNewFile('CWMG-v082-LXXXII-MC-BETA.pdf')\"> English </span>, <span ng-click=\"loadNewFile('CWMG-v083-LXXXIII-MC-BETA.pdf')\"> English </span>, <span ng-click=\"loadNewFile('CWMG-v084-LXXXIV-MC-BETA.pdf')\"> English </span>, <span ng-click=\"loadNewFile('CWMG-v085-LXXXV-MC-BETA.pdf')\"> English </span>, <span ng-click=\"loadNewFile('CWMG-v086-LXXXVI-MC-BETA.pdf')\"> English </span>, <span ng-click=\"loadNewFile('CWMG-v087-LXXXVII-MC-BETA.pdf')\"> English </span>, <span ng-click=\"loadNewFile('CWMG-v088-LXXXVIII-MC-BETA.pdf')\"> English </span>, <span ng-click=\"loadNewFile('CWMG-v089-LXXXIX-MC-BETA.pdf')\"> English </span>, <span ng-click=\"loadNewFile('CWMG-v090-XC-MC-BETA.pdf')\"> English </span>, <span ng-click=\"loadNewFile('CWMG-v091-XCI-MC-BETA.pdf')\"> English </span>, <span ng-click=\"loadNewFile('CWMG-v092-XCII-MC-BETA.pdf')\"> English </span>, <span ng-click=\"loadNewFile('CWMG-v093-XCIII-MC-BETA.pdf')\"> English </span>, <span ng-click=\"loadNewFile('CWMG-v094-XCIV-MC-BETA.pdf')\"> English </span>, <span ng-click=\"loadNewFile('CWMG-v095-XCV-MC-BETA.pdf')\"> English </span>, <span ng-click=\"loadNewFile('CWMG-v096-XCVI-MC-BETA.pdf')\"> English </span>, <span ng-click=\"loadNewFile('CWMG-v097-XCVII-MC-BETA.pdf')\"> English </span>, <span ng-click=\"loadNewFile('CWMG-v098-XCVIII-MC-BETA.pdf')\"> English </span>, <span ng-click=\"loadNewFile('CWMG-v099-XCIX-MC-BETA.pdf')\"> English </span>, <span ng-click=\"loadNewFile('CWMG-v100-C-MC-BETA.pdf')\"> English </span>]\n"
          ],
          "name": "stdout"
        }
      ]
    },
    {
      "cell_type": "code",
      "metadata": {
        "id": "_yQ5FtsLYjsJ"
      },
      "source": [
        "for link in eng:\n",
        "  # filename=link.find('span ng-click')\n",
        "  print(link)"
      ],
      "execution_count": null,
      "outputs": []
    },
    {
      "cell_type": "code",
      "metadata": {
        "id": "OHjp-bgEaRn9"
      },
      "source": [
        "spans = '''\n",
        "<span ng-click=\"loadNewFile('CWMG-v001-I-MC-BETA.pdf')\"> English </span>\n",
        "<span ng-click=\"loadNewFile('CWMG-v002-II-MC-BETA.pdf')\"> English </span>\n",
        "<span ng-click=\"loadNewFile('CWMG-v003-III-MC-BETA.pdf')\"> English </span>\n",
        "<span ng-click=\"loadNewFile('CWMG-v004-IV-MC-BETA.pdf')\"> English </span>\n",
        "<span ng-click=\"loadNewFile('CWMG-v005-V-MC-BETA.pdf')\"> English </span>\n",
        "<span ng-click=\"loadNewFile('CWMG-v006-VI-MC-BETA')\"> English </span>\n",
        "<span ng-click=\"loadNewFile('CWMG-v007-VII-MC-BETA.pdf')\"> English </span>\n",
        "<span ng-click=\"loadNewFile('CWMG-v008-VIII-MC-BETA.pdf')\"> English </span>\n",
        "<span ng-click=\"loadNewFile('CWMG-v009-IX-MC-BETA.pdf')\"> English </span>\n",
        "<span ng-click=\"loadNewFile('CWMG-v010-X-MC-BETA.pdf')\"> English </span>\n",
        "<span ng-click=\"loadNewFile('CWMG-v011-XI-MC-BETA.pdf')\"> English </span>\n",
        "<span ng-click=\"loadNewFile('CWMG-v012-XII-MC-BETA.pdf')\"> English </span>\n",
        "<span ng-click=\"loadNewFile('CWMG-v013-XIII-MC-BETA.pdf')\"> English </span>\n",
        "<span ng-click=\"loadNewFile('CWMG-v014-XIV-MC-BETA.pdf')\"> English </span>\n",
        "<span ng-click=\"loadNewFile('CWMG-v015-XV-MC-BETA.pdf')\"> English </span>\n",
        "<span ng-click=\"loadNewFile('CWMG-v016-XVI-MC-BETA.pdf')\"> English </span>\n",
        "<span ng-click=\"loadNewFile('CWMG-v017-XVII-MC-BETA.pdf')\"> English </span>\n",
        "<span ng-click=\"loadNewFile('CWMG-v018-XVIII-MC-BETA.pdf')\"> English </span>\n",
        "<span ng-click=\"loadNewFile('CWMG-v019-XIX-MC-BETA.pdf')\"> English </span>\n",
        "<span ng-click=\"loadNewFile('CWMG-v020-XX-MC-BETA.pdf')\"> English </span>\n",
        "<span ng-click=\"loadNewFile('CWMG-v021-XXI-MC-BETA.pdf')\"> English </span>\n",
        "<span ng-click=\"loadNewFile('CWMG-v022-XXII-MC-BETA.pdf')\"> English </span>\n",
        "<span ng-click=\"loadNewFile('CWMG-v023-XXIII-MC-BETA.pdf')\"> English </span>\n",
        "<span ng-click=\"loadNewFile('CWMG-v024-XXIV-MC-BETA.pdf')\"> English </span>\n",
        "<span ng-click=\"loadNewFile('CWMG-v025-XXV-MC-BETA.pdf')\"> English </span>\n",
        "<span ng-click=\"loadNewFile('CWMG-v026-XXVI-MC-BETA.pdf')\"> English </span>\n",
        "<span ng-click=\"loadNewFile('CWMG-v027-XXVII-MC-BETA.pdf')\"> English </span>\n",
        "<span ng-click=\"loadNewFile('CWMG-v028-XXVIII-MC-BETA.pdf')\"> English </span>\n",
        "<span ng-click=\"loadNewFile('CWMG-v029-XXIX-MC-BETA.pdf')\"> English </span>\n",
        "<span ng-click=\"loadNewFile('CWMG-v030-XXX-MC-BETA.pdf')\"> English </span>\n",
        "<span ng-click=\"loadNewFile('CWMG-v031-XXXI-MC-BETA.pdf')\"> English </span>\n",
        "<span ng-click=\"loadNewFile('CWMG-v032-XXXII-MC-BETA.pdf')\"> English </span>\n",
        "<span ng-click=\"loadNewFile('CWMG-v033-XXXIII-MC-BETA.pdf')\"> English </span>\n",
        "<span ng-click=\"loadNewFile('CWMG-v034-XXXIV-MC-BETA.pdf')\"> English </span>\n",
        "<span ng-click=\"loadNewFile('CWMG-v035-XXXV-MC-BETA.pdf')\"> English </span>\n",
        "<span ng-click=\"loadNewFile('CWMG-v036-XXXVI-MC-BETA.pdf')\"> English </span>\n",
        "<span ng-click=\"loadNewFile('CWMG-v037-XXXVII-MC-BETA.pdf')\"> English </span>\n",
        "<span ng-click=\"loadNewFile('CWMG-v038-XXXVIII-MC-BETA.pdf')\"> English </span>\n",
        "<span ng-click=\"loadNewFile('CWMG-v039-XXXIX-MC-BETA.pdf')\"> English </span>\n",
        "<span ng-click=\"loadNewFile('CWMG-v040-XL-MC-BETA.pdf')\"> English </span>\n",
        "<span ng-click=\"loadNewFile('CWMG-v041-XLI-MC-BETA.pdf')\"> English </span>\n",
        "<span ng-click=\"loadNewFile('CWMG-v042-XLII-MC-BETA.pdf')\"> English </span>\n",
        "<span ng-click=\"loadNewFile('CWMG-v043-XLIII-MC-BETA.pdf')\"> English </span>\n",
        "<span ng-click=\"loadNewFile('CWMG-v044-XLIV-MC-BETA.pdf')\"> English </span>\n",
        "<span ng-click=\"loadNewFile('CWMG-v045-XLV-MC-BETA.pdf')\"> English </span>\n",
        "<span ng-click=\"loadNewFile('CWMG-v046-XLVI-MC-BETA.pdf')\"> English </span>\n",
        "<span ng-click=\"loadNewFile('CWMG-v047-XLVII-MC-BETA.pdf')\"> English </span>\n",
        "<span ng-click=\"loadNewFile('CWMG-v048-XLVIII-MC-BETA.pdf')\"> English </span>\n",
        "<span ng-click=\"loadNewFile('CWMG-v049-XLIX-MC-BETA.pdf')\"> English </span>\n",
        "<span ng-click=\"loadNewFile('CWMG-v050-L-MC-BETA.pdf')\"> English </span>\n",
        "<span ng-click=\"loadNewFile('CWMG-v051-LI-MC-BETA.pdf')\"> English </span>\n",
        "<span ng-click=\"loadNewFile('CWMG-v052-LII-MC-BETA.pdf')\"> English </span>\n",
        "<span ng-click=\"loadNewFile('CWMG-v053-LIII-MC-BETA.pdf')\"> English </span>\n",
        "<span ng-click=\"loadNewFile('CWMG-v054-LIV-MC-BETA.pdf')\"> English </span>\n",
        "<span ng-click=\"loadNewFile('CWMG-v055-LV-MC-BETA.pdf')\"> English </span>\n",
        "<span ng-click=\"loadNewFile('CWMG-v056-LVI-MC-BETA.pdf')\"> English </span>\n",
        "<span ng-click=\"loadNewFile('CWMG-v057-LVII-MC-BETA.pdf')\"> English </span>\n",
        "<span ng-click=\"loadNewFile('CWMG-v058-LVIII-MC-BETA.pdf')\"> English </span>\n",
        "<span ng-click=\"loadNewFile('CWMG-v059-LIX-MC-BETA.pdf')\"> English </span>\n",
        "<span ng-click=\"loadNewFile('CWMG-v060-LX-MC-BETA.pdf')\"> English </span>\n",
        "<span ng-click=\"loadNewFile('CWMG-v061-LXI-MC-BETA.pdf')\"> English </span>\n",
        "<span ng-click=\"loadNewFile('CWMG-v062-LXII-MC-BETA.pdf')\"> English </span>\n",
        "<span ng-click=\"loadNewFile('CWMG-v063-LXIII-MC-BETA.pdf')\"> English </span>\n",
        "<span ng-click=\"loadNewFile('CWMG-v064-LXIV-MC-BETA.pdf')\"> English </span>\n",
        "<span ng-click=\"loadNewFile('CWMG-v065-LXV-MC-BETA.pdf')\"> English </span>\n",
        "<span ng-click=\"loadNewFile('CWMG-v066-LXVI-MC-BETA.pdf')\"> English </span>\n",
        "<span ng-click=\"loadNewFile('CWMG-v067-LXVII-MC-BETA.pdf')\"> English </span>\n",
        "<span ng-click=\"loadNewFile('CWMG-v068-LXVIII-MC-BETA.pdf')\"> English </span>\n",
        "<span ng-click=\"loadNewFile('CWMG-v069-LXIX-MC-BETA.pdf')\"> English </span>\n",
        "<span ng-click=\"loadNewFile('CWMG-v070-LXX-MC-BETA.pdf')\"> English </span>\n",
        "<span ng-click=\"loadNewFile('CWMG-v071-LXXI-MC-BETA.pdf')\"> English </span>\n",
        "<span ng-click=\"loadNewFile('CWMG-v072-LXXII-MC-BETA.pdf')\"> English </span>\n",
        "<span ng-click=\"loadNewFile('CWMG-v073-LXXIII-MC-BETA.pdf')\"> English </span>\n",
        "<span ng-click=\"loadNewFile('CWMG-v074-LXXIV-MC-BETA.pdf')\"> English </span>\n",
        "<span ng-click=\"loadNewFile('CWMG-v075-LXXV-MC-BETA.pdf')\"> English </span>\n",
        "<span ng-click=\"loadNewFile('CWMG-v076-LXXVI-MC-BETA.pdf')\"> English </span>\n",
        "<span ng-click=\"loadNewFile('CWMG-v077-LXXVII-MC-BETA.pdf')\"> English </span>\n",
        "<span ng-click=\"loadNewFile('CWMG-v078-LXXVIII-MC-BETA.pdf')\"> English </span>\n",
        "<span ng-click=\"loadNewFile('CWMG-v079-LXXIX-MC-BETA.pdf')\"> English </span>\n",
        "<span ng-click=\"loadNewFile('CWMG-v080-LXXX-MC-BETA.pdf')\"> English </span>\n",
        "<span ng-click=\"loadNewFile('CWMG-v081-LXXXI-MC-BETA.pdf')\"> English </span>\n",
        "<span ng-click=\"loadNewFile('CWMG-v082-LXXXII-MC-BETA.pdf')\"> English </span>\n",
        "<span ng-click=\"loadNewFile('CWMG-v083-LXXXIII-MC-BETA.pdf')\"> English </span>\n",
        "<span ng-click=\"loadNewFile('CWMG-v084-LXXXIV-MC-BETA.pdf')\"> English </span>\n",
        "<span ng-click=\"loadNewFile('CWMG-v085-LXXXV-MC-BETA.pdf')\"> English </span>\n",
        "<span ng-click=\"loadNewFile('CWMG-v086-LXXXVI-MC-BETA.pdf')\"> English </span>\n",
        "<span ng-click=\"loadNewFile('CWMG-v087-LXXXVII-MC-BETA.pdf')\"> English </span>\n",
        "<span ng-click=\"loadNewFile('CWMG-v088-LXXXVIII-MC-BETA.pdf')\"> English </span>\n",
        "<span ng-click=\"loadNewFile('CWMG-v089-LXXXIX-MC-BETA.pdf')\"> English </span>\n",
        "<span ng-click=\"loadNewFile('CWMG-v090-XC-MC-BETA.pdf')\"> English </span>\n",
        "<span ng-click=\"loadNewFile('CWMG-v091-XCI-MC-BETA.pdf')\"> English </span>\n",
        "<span ng-click=\"loadNewFile('CWMG-v092-XCII-MC-BETA.pdf')\"> English </span>\n",
        "<span ng-click=\"loadNewFile('CWMG-v093-XCIII-MC-BETA.pdf')\"> English </span>\n",
        "<span ng-click=\"loadNewFile('CWMG-v094-XCIV-MC-BETA.pdf')\"> English </span>\n",
        "<span ng-click=\"loadNewFile('CWMG-v095-XCV-MC-BETA.pdf')\"> English </span>\n",
        "<span ng-click=\"loadNewFile('CWMG-v096-XCVI-MC-BETA.pdf')\"> English </span>\n",
        "<span ng-click=\"loadNewFile('CWMG-v097-XCVII-MC-BETA.pdf')\"> English </span>\n",
        "<span ng-click=\"loadNewFile('CWMG-v098-XCVIII-MC-BETA.pdf')\"> English </span>\n",
        "<span ng-click=\"loadNewFile('CWMG-v099-XCIX-MC-BETA.pdf')\"> English </span>\n",
        "<span ng-click=\"loadNewFile('CWMG-v100-C-MC-BETA.pdf')\"> English </span>\n",
        "'''"
      ],
      "execution_count": 8,
      "outputs": []
    },
    {
      "cell_type": "code",
      "metadata": {
        "id": "brM3vw_TaXfG"
      },
      "source": [
        "spans = spans.split('</span>')"
      ],
      "execution_count": 9,
      "outputs": []
    },
    {
      "cell_type": "code",
      "metadata": {
        "id": "OGXV90HpawK5"
      },
      "source": [
        "eng = []"
      ],
      "execution_count": 10,
      "outputs": []
    },
    {
      "cell_type": "code",
      "metadata": {
        "colab": {
          "base_uri": "https://localhost:8080/"
        },
        "id": "IrkKmKfTadBw",
        "outputId": "87a7077e-b5b7-4508-b71a-2219c229c957"
      },
      "source": [
        "for span in spans:\n",
        "  try:\n",
        "    span = span.split('(')[1]\n",
        "    span = span.split(')')[0]\n",
        "    span = span.replace(\"'\",'')\n",
        "    eng.append('https://gandhi.gov.in/' + span)\n",
        "  except:\n",
        "    print(span)"
      ],
      "execution_count": 11,
      "outputs": [
        {
          "output_type": "stream",
          "text": [
            "\n",
            "\n"
          ],
          "name": "stdout"
        }
      ]
    },
    {
      "cell_type": "code",
      "metadata": {
        "id": "g130JmXta3dz"
      },
      "source": [
        "eng = eng[:30]"
      ],
      "execution_count": 12,
      "outputs": []
    },
    {
      "cell_type": "code",
      "metadata": {
        "colab": {
          "base_uri": "https://localhost:8080/"
        },
        "id": "sY_zMnOTgi8I",
        "outputId": "b277c232-c2bb-45e9-b6a5-e1a2e3052c9f"
      },
      "source": [
        "eng"
      ],
      "execution_count": 13,
      "outputs": [
        {
          "output_type": "execute_result",
          "data": {
            "text/plain": [
              "['https://gandhi.gov.in/CWMG-v001-I-MC-BETA.pdf',\n",
              " 'https://gandhi.gov.in/CWMG-v002-II-MC-BETA.pdf',\n",
              " 'https://gandhi.gov.in/CWMG-v003-III-MC-BETA.pdf',\n",
              " 'https://gandhi.gov.in/CWMG-v004-IV-MC-BETA.pdf',\n",
              " 'https://gandhi.gov.in/CWMG-v005-V-MC-BETA.pdf',\n",
              " 'https://gandhi.gov.in/CWMG-v006-VI-MC-BETA',\n",
              " 'https://gandhi.gov.in/CWMG-v007-VII-MC-BETA.pdf',\n",
              " 'https://gandhi.gov.in/CWMG-v008-VIII-MC-BETA.pdf',\n",
              " 'https://gandhi.gov.in/CWMG-v009-IX-MC-BETA.pdf',\n",
              " 'https://gandhi.gov.in/CWMG-v010-X-MC-BETA.pdf',\n",
              " 'https://gandhi.gov.in/CWMG-v011-XI-MC-BETA.pdf',\n",
              " 'https://gandhi.gov.in/CWMG-v012-XII-MC-BETA.pdf',\n",
              " 'https://gandhi.gov.in/CWMG-v013-XIII-MC-BETA.pdf',\n",
              " 'https://gandhi.gov.in/CWMG-v014-XIV-MC-BETA.pdf',\n",
              " 'https://gandhi.gov.in/CWMG-v015-XV-MC-BETA.pdf',\n",
              " 'https://gandhi.gov.in/CWMG-v016-XVI-MC-BETA.pdf',\n",
              " 'https://gandhi.gov.in/CWMG-v017-XVII-MC-BETA.pdf',\n",
              " 'https://gandhi.gov.in/CWMG-v018-XVIII-MC-BETA.pdf',\n",
              " 'https://gandhi.gov.in/CWMG-v019-XIX-MC-BETA.pdf',\n",
              " 'https://gandhi.gov.in/CWMG-v020-XX-MC-BETA.pdf',\n",
              " 'https://gandhi.gov.in/CWMG-v021-XXI-MC-BETA.pdf',\n",
              " 'https://gandhi.gov.in/CWMG-v022-XXII-MC-BETA.pdf',\n",
              " 'https://gandhi.gov.in/CWMG-v023-XXIII-MC-BETA.pdf',\n",
              " 'https://gandhi.gov.in/CWMG-v024-XXIV-MC-BETA.pdf',\n",
              " 'https://gandhi.gov.in/CWMG-v025-XXV-MC-BETA.pdf',\n",
              " 'https://gandhi.gov.in/CWMG-v026-XXVI-MC-BETA.pdf',\n",
              " 'https://gandhi.gov.in/CWMG-v027-XXVII-MC-BETA.pdf',\n",
              " 'https://gandhi.gov.in/CWMG-v028-XXVIII-MC-BETA.pdf',\n",
              " 'https://gandhi.gov.in/CWMG-v029-XXIX-MC-BETA.pdf',\n",
              " 'https://gandhi.gov.in/CWMG-v030-XXX-MC-BETA.pdf']"
            ]
          },
          "metadata": {
            "tags": []
          },
          "execution_count": 13
        }
      ]
    },
    {
      "cell_type": "code",
      "metadata": {
        "id": "FYLUggX4bYss"
      },
      "source": [
        "hin = []\n",
        "for i in range(1,101):\n",
        "  url = 'https://gandhi.gov.in/hindipdf/volume' + str(i) + '.pdf'\n",
        "  hin.append(url)"
      ],
      "execution_count": 63,
      "outputs": []
    },
    {
      "cell_type": "code",
      "metadata": {
        "id": "mFLIQv56bm9S"
      },
      "source": [
        "hin"
      ],
      "execution_count": null,
      "outputs": []
    },
    {
      "cell_type": "code",
      "metadata": {
        "id": "DSdZworVdCiR"
      },
      "source": [
        "ctr = 1\n",
        "for i in range(len(eng)):\n",
        "    en = requests.get(eng[i], verify = False)\n",
        "    en_dest = '/content/gdrive/MyDrive/OCR Sources/Hi/Gandhipedia/' + str(ctr) + '_en.pdf'\n",
        "    with open(en_dest,'wb') as e:\n",
        "      e.write(en.content)\n",
        "    # hi = requests.get(i[1], verify = False)\n",
        "    # hi_dest = '/content/gdrive/MyDrive/OCR Sources/Hi/Gandhipedia/' + str(ctr) + '_hi.pdf'\n",
        "    # with open(hi_dest,'wb') as h:\n",
        "    #   h.write(hi.content, verify = False)\n",
        "    ctr+=1\n",
        "    print(ctr)\n",
        "\n",
        "    # print('Failed for ' + str(i))\n"
      ],
      "execution_count": null,
      "outputs": []
    },
    {
      "cell_type": "code",
      "metadata": {
        "id": "VlVSWEuWCpIi"
      },
      "source": [
        "final_en = []\n",
        "for link in parent_links:\n",
        "  l = link \n",
        "  l = l.split('/')[-1]\n",
        "  l = l.split('?')[0]\n",
        "  if int(l) > 3964:\n",
        "    final_en.append(link)\n"
      ],
      "execution_count": null,
      "outputs": []
    },
    {
      "cell_type": "code",
      "metadata": {
        "id": "NOU666iqT7oU"
      },
      "source": [
        "final_hi = []\n",
        "for link in parent_links_hi:\n",
        "  l = link \n",
        "  l = l.split('/')[-1]\n",
        "  l = l.split('?')[0]\n",
        "  if int(l) > 3964:\n",
        "    final_hi.append(link)\n"
      ],
      "execution_count": null,
      "outputs": []
    },
    {
      "cell_type": "code",
      "metadata": {
        "colab": {
          "base_uri": "https://localhost:8080/"
        },
        "id": "Z-1ByFb4QRRy",
        "outputId": "21d20a12-28b9-4f38-e82e-9ee991c88522"
      },
      "source": [
        "print(len(parent_links))"
      ],
      "execution_count": null,
      "outputs": [
        {
          "output_type": "stream",
          "text": [
            "111\n"
          ],
          "name": "stdout"
        }
      ]
    },
    {
      "cell_type": "code",
      "metadata": {
        "colab": {
          "base_uri": "https://localhost:8080/"
        },
        "id": "xjKD0jCgSxe8",
        "outputId": "d0eed333-bca8-41a8-9222-e1414800284c"
      },
      "source": [
        "print(len(final_en))"
      ],
      "execution_count": null,
      "outputs": [
        {
          "output_type": "stream",
          "text": [
            "81\n"
          ],
          "name": "stdout"
        }
      ]
    },
    {
      "cell_type": "code",
      "metadata": {
        "id": "am92qH9qTfrg"
      },
      "source": [
        "final_en = final_en[9:]"
      ],
      "execution_count": null,
      "outputs": []
    },
    {
      "cell_type": "code",
      "metadata": {
        "id": "k0uZqM0oQFFl"
      },
      "source": [
        "final_en"
      ],
      "execution_count": null,
      "outputs": []
    },
    {
      "cell_type": "code",
      "metadata": {
        "id": "R9OJaxgAQBLN"
      },
      "source": [
        "final_hi"
      ],
      "execution_count": null,
      "outputs": []
    },
    {
      "cell_type": "code",
      "metadata": {
        "colab": {
          "base_uri": "https://localhost:8080/"
        },
        "id": "Qt3L4cVoUBZB",
        "outputId": "1224e3be-6ed8-415e-bcdd-32e256c0fe64"
      },
      "source": [
        "print(len(final_en))\n",
        "print(len(final_hi))"
      ],
      "execution_count": null,
      "outputs": [
        {
          "output_type": "stream",
          "text": [
            "81\n",
            "92\n"
          ],
          "name": "stdout"
        }
      ]
    },
    {
      "cell_type": "code",
      "metadata": {
        "id": "X6eTUgl8UGkS"
      },
      "source": [
        "final_hi = final_hi[:-11]"
      ],
      "execution_count": null,
      "outputs": []
    },
    {
      "cell_type": "code",
      "metadata": {
        "id": "ctckQw33TSN8"
      },
      "source": [
        "final_hi"
      ],
      "execution_count": null,
      "outputs": []
    },
    {
      "cell_type": "markdown",
      "metadata": {
        "id": "TnEIt4gDYDuV"
      },
      "source": [
        "Getting PDFs"
      ]
    },
    {
      "cell_type": "code",
      "metadata": {
        "id": "fNcbHyyNYDfQ"
      },
      "source": [
        "filtered_en = []\n",
        "for link in final_en:\n",
        "     url = link \n",
        "     response = requests.get(url, verify = False)\n",
        "     soup= BeautifulSoup(response.text, \"html.parser\")\n",
        "     links = soup.find_all('a')   \n",
        "     for l in links:\n",
        "          if '.pdf' in str(l.get('href')):\n",
        "               filtered_en.append(l.get('href'))"
      ],
      "execution_count": null,
      "outputs": []
    },
    {
      "cell_type": "code",
      "metadata": {
        "id": "NYOEj2CKYDb9"
      },
      "source": [
        "filtered_en"
      ],
      "execution_count": null,
      "outputs": []
    },
    {
      "cell_type": "code",
      "metadata": {
        "id": "jVtD-c0eSCWM"
      },
      "source": [
        "matched_documents = {}\n",
        "for e,h in zip(filtered_en,filtered_hi):\n",
        "  e_name = e.split('/')[-1]\n",
        "  h_name = h.split('/')[-1]\n",
        "  matched_documents[e]=''"
      ],
      "execution_count": null,
      "outputs": []
    },
    {
      "cell_type": "code",
      "metadata": {
        "colab": {
          "base_uri": "https://localhost:8080/"
        },
        "id": "IEFPlGtgW035",
        "outputId": "5f3ecb7f-0c66-4dc1-937d-fb292d6eb087"
      },
      "source": [
        "print('23-02-2000')"
      ],
      "execution_count": null,
      "outputs": [
        {
          "output_type": "stream",
          "text": [
            "23-02-2000\n"
          ],
          "name": "stdout"
        }
      ]
    },
    {
      "cell_type": "code",
      "metadata": {
        "id": "9me_15pOSwET"
      },
      "source": [
        "final_matched_documents = {}\n",
        "for e in matched_documents:\n",
        "  e_date = e.split('/')[-1]\n",
        "  e_date = e_date.replace('-','')\n",
        "  e_date = e_date.replace('_','')\n",
        "  for h in filtered_hi:\n",
        "    h_name = h.split('/')[-1]\n",
        "    h_name = h_name.replace('_hindi','')\n",
        "    h_name = h_name.replace('_','')\n",
        "    h_name = h_name.replace('-','')\n",
        "    if h_name == e_date:\n",
        "      final_matched_documents['https://eparlib.nic.in/' + e]= 'https://eparlib.nic.in/' + h\n"
      ],
      "execution_count": null,
      "outputs": []
    },
    {
      "cell_type": "code",
      "metadata": {
        "id": "t0PVEt1FTbGb"
      },
      "source": [
        "print(matched_documents)"
      ],
      "execution_count": null,
      "outputs": []
    },
    {
      "cell_type": "code",
      "metadata": {
        "id": "qfCkncn0UK3v"
      },
      "source": [
        "for key in final_matched_documents:\n",
        "    print(final_matched_documents[key])"
      ],
      "execution_count": null,
      "outputs": []
    },
    {
      "cell_type": "markdown",
      "metadata": {
        "id": "1G6NVuEn5ny0"
      },
      "source": [
        "DOWNLOADING"
      ]
    },
    {
      "cell_type": "code",
      "metadata": {
        "id": "tw0eT6k0ROYb"
      },
      "source": [
        "ctr = 0\n",
        "for key in final_matched_documents:\n",
        "  en = requests.get(key)\n",
        "  en_dest = '/content/gdrive/MyDrive/OCR Sources/Hi/PDL_Presidential_Speech/' + str(ctr) + '_en.pdf'\n",
        "  with open(en_dest,'wb') as e:\n",
        "    e.write(en.content)\n",
        "  hi = requests.get(final_matched_documents[key])\n",
        "  hi_dest = '/content/gdrive/MyDrive/OCR Sources/Hi/PDL_Presidential_Speech/' + str(ctr) + '_hi.pdf'\n",
        "  with open(hi_dest,'wb') as h:\n",
        "    h.write(hi.content)\n",
        "  ctr+=1\n"
      ],
      "execution_count": null,
      "outputs": []
    },
    {
      "cell_type": "code",
      "metadata": {
        "id": "82sf4tgZZlpk"
      },
      "source": [
        "ctr = 0\n",
        "for link in parent_links:\n",
        "  inter = requests.get(link)\n",
        "  dest = '/content/gdrive/MyDrive/OCR Sources/Hi/Subordinate Legislations/' + str(ctr) + '.pdf'\n",
        "  with open(dest,'wb') as e:\n",
        "    e.write(inter.content)\n",
        "  ctr+=1"
      ],
      "execution_count": null,
      "outputs": []
    },
    {
      "cell_type": "markdown",
      "metadata": {
        "id": "-aD0lznx47PF"
      },
      "source": [
        "Debates "
      ]
    },
    {
      "cell_type": "code",
      "metadata": {
        "id": "42DM1yrg4686"
      },
      "source": [
        ""
      ],
      "execution_count": null,
      "outputs": []
    },
    {
      "cell_type": "code",
      "metadata": {
        "id": "LBb_ANb746gy"
      },
      "source": [
        ""
      ],
      "execution_count": null,
      "outputs": []
    },
    {
      "cell_type": "code",
      "metadata": {
        "id": "9tmoRWn7AFC8"
      },
      "source": [
        ""
      ],
      "execution_count": null,
      "outputs": []
    }
  ]
}