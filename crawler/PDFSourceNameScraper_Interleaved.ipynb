{
  "nbformat": 4,
  "nbformat_minor": 0,
  "metadata": {
    "colab": {
      "name": "PDFSourceNameScraper_Interleaved.ipynb",
      "provenance": [],
      "collapsed_sections": [],
      "authorship_tag": "ABX9TyNHGWWW8QS0JcgaS4Hn56aA",
      "include_colab_link": true
    },
    "kernelspec": {
      "display_name": "Python 3",
      "name": "python3"
    }
  },
  "cells": [
    {
      "cell_type": "markdown",
      "metadata": {
        "id": "view-in-github",
        "colab_type": "text"
      },
      "source": [
        "<a href=\"https://colab.research.google.com/github/harshitadd/AI4BharatTranslation/blob/main/PDFSourceNameScraper_Interleaved.ipynb\" target=\"_parent\"><img src=\"https://colab.research.google.com/assets/colab-badge.svg\" alt=\"Open In Colab\"/></a>"
      ]
    },
    {
      "cell_type": "code",
      "metadata": {
        "colab": {
          "base_uri": "https://localhost:8080/"
        },
        "id": "mBecux7M6VAg",
        "outputId": "1b071383-24a7-4f1d-b6de-f71cbeee5c5d"
      },
      "source": [
        "from google.colab import drive\n",
        "drive.mount('/content/gdrive')"
      ],
      "execution_count": 1,
      "outputs": [
        {
          "output_type": "stream",
          "text": [
            "Mounted at /content/gdrive\n"
          ],
          "name": "stdout"
        }
      ]
    },
    {
      "cell_type": "code",
      "metadata": {
        "colab": {
          "base_uri": "https://localhost:8080/",
          "height": 394
        },
        "id": "m5X-kG99f6np",
        "outputId": "907210b2-98a1-4c8a-a64b-a51e87d58960"
      },
      "source": [
        "import os\n",
        "import requests\n",
        "from urllib.parse import urljoin\n",
        "from bs4 import BeautifulSoup\n",
        "from time import sleep\n",
        "import ssl\n",
        "from collections import OrderedDict\n",
        "ssl._create_default_https_context = ssl._create_unverified_context\n",
        "# lang_ids = {'Assamese', 'Bengali', 'Gujarati', 'Kannada', 'Malayalam', 'Marathi', 'Odia', 'Punjabi', 'Tamil', 'Telugu'}\n",
        "page_limit = 0\n",
        "page_count = 0\n",
        "ordered_urls = OrderedDict()\n",
        "while(page_count<=page_limit):\n",
        "     url = \"https://budget.odisha.gov.in/previous-budget\" \n",
        "     response = requests.get(url, verify = False)\n",
        "     sleep(0.5)\n",
        "     soup= BeautifulSoup(response.text, \"html.parser\")\n",
        "     links = soup.find_all('a')   \n",
        "     print(\"Total Links Found:\",links.__len__())\n",
        "     print(\"Page Number:\" + str(page_count))\n",
        "     for link in links:\n",
        "       if 'previous-yearly-budget' in link.get('href'):\n",
        "          l = []\n",
        "          url = link.get('href') \n",
        "          response = requests.get(url, verify = False)\n",
        "          soup= BeautifulSoup(response.text, \"html.parser\")\n",
        "          links = soup.find_all('a')   \n",
        "          print(\"Total Links Found:\",links.__len__())\n",
        "          print(\"Page Number:\" + str(page_count))\n",
        "          for u in links:\n",
        "            if 'eng' in u.lower() or 'odia' in u.lower():\n",
        "              print(u)\n",
        "              l.append(u)\n",
        "          urls.append(l) \n",
        "     page_count+=1\n"
      ],
      "execution_count": 47,
      "outputs": [
        {
          "output_type": "stream",
          "text": [
            "/usr/local/lib/python3.7/dist-packages/urllib3/connectionpool.py:847: InsecureRequestWarning: Unverified HTTPS request is being made. Adding certificate verification is strongly advised. See: https://urllib3.readthedocs.io/en/latest/advanced-usage.html#ssl-warnings\n",
            "  InsecureRequestWarning)\n"
          ],
          "name": "stderr"
        },
        {
          "output_type": "stream",
          "text": [
            "Total Links Found: 39\n",
            "Page Number:0\n"
          ],
          "name": "stdout"
        },
        {
          "output_type": "stream",
          "text": [
            "/usr/local/lib/python3.7/dist-packages/urllib3/connectionpool.py:847: InsecureRequestWarning: Unverified HTTPS request is being made. Adding certificate verification is strongly advised. See: https://urllib3.readthedocs.io/en/latest/advanced-usage.html#ssl-warnings\n",
            "  InsecureRequestWarning)\n"
          ],
          "name": "stderr"
        },
        {
          "output_type": "stream",
          "text": [
            "Total Links Found: 136\n",
            "Page Number:0\n"
          ],
          "name": "stdout"
        },
        {
          "output_type": "error",
          "ename": "TypeError",
          "evalue": "ignored",
          "traceback": [
            "\u001b[0;31m---------------------------------------------------------------------------\u001b[0m",
            "\u001b[0;31mTypeError\u001b[0m                                 Traceback (most recent call last)",
            "\u001b[0;32m<ipython-input-47-72f293b5f099>\u001b[0m in \u001b[0;36m<module>\u001b[0;34m()\u001b[0m\n\u001b[1;32m     29\u001b[0m           \u001b[0mprint\u001b[0m\u001b[0;34m(\u001b[0m\u001b[0;34m\"Page Number:\"\u001b[0m \u001b[0;34m+\u001b[0m \u001b[0mstr\u001b[0m\u001b[0;34m(\u001b[0m\u001b[0mpage_count\u001b[0m\u001b[0;34m)\u001b[0m\u001b[0;34m)\u001b[0m\u001b[0;34m\u001b[0m\u001b[0;34m\u001b[0m\u001b[0m\n\u001b[1;32m     30\u001b[0m           \u001b[0;32mfor\u001b[0m \u001b[0mu\u001b[0m \u001b[0;32min\u001b[0m \u001b[0mlinks\u001b[0m\u001b[0;34m:\u001b[0m\u001b[0;34m\u001b[0m\u001b[0;34m\u001b[0m\u001b[0m\n\u001b[0;32m---> 31\u001b[0;31m             \u001b[0;32mif\u001b[0m \u001b[0;34m'eng'\u001b[0m \u001b[0;32min\u001b[0m \u001b[0mu\u001b[0m\u001b[0;34m.\u001b[0m\u001b[0mlower\u001b[0m\u001b[0;34m(\u001b[0m\u001b[0;34m)\u001b[0m \u001b[0;32mor\u001b[0m \u001b[0;34m'odia'\u001b[0m \u001b[0;32min\u001b[0m \u001b[0mu\u001b[0m\u001b[0;34m.\u001b[0m\u001b[0mlower\u001b[0m\u001b[0;34m(\u001b[0m\u001b[0;34m)\u001b[0m\u001b[0;34m:\u001b[0m\u001b[0;34m\u001b[0m\u001b[0;34m\u001b[0m\u001b[0m\n\u001b[0m\u001b[1;32m     32\u001b[0m               \u001b[0mprint\u001b[0m\u001b[0;34m(\u001b[0m\u001b[0mu\u001b[0m\u001b[0;34m)\u001b[0m\u001b[0;34m\u001b[0m\u001b[0;34m\u001b[0m\u001b[0m\n\u001b[1;32m     33\u001b[0m               \u001b[0ml\u001b[0m\u001b[0;34m.\u001b[0m\u001b[0mappend\u001b[0m\u001b[0;34m(\u001b[0m\u001b[0mu\u001b[0m\u001b[0;34m)\u001b[0m\u001b[0;34m\u001b[0m\u001b[0;34m\u001b[0m\u001b[0m\n",
            "\u001b[0;31mTypeError\u001b[0m: 'NoneType' object is not callable"
          ]
        }
      ]
    },
    {
      "cell_type": "markdown",
      "metadata": {
        "id": "TnEIt4gDYDuV"
      },
      "source": [
        "Getting PDFs"
      ]
    },
    {
      "cell_type": "code",
      "metadata": {
        "id": "8DmA6SMENr5K"
      },
      "source": [
        "print(ordered_urls)"
      ],
      "execution_count": null,
      "outputs": []
    },
    {
      "cell_type": "markdown",
      "metadata": {
        "id": "1G6NVuEn5ny0"
      },
      "source": [
        "DOWNLOADING"
      ]
    },
    {
      "cell_type": "code",
      "metadata": {
        "id": "_X_2lU6EDqEv"
      },
      "source": [
        "final = []\n",
        "for key in ordered_urls:\n",
        "  final.append(key)"
      ],
      "execution_count": 17,
      "outputs": []
    },
    {
      "cell_type": "code",
      "metadata": {
        "colab": {
          "base_uri": "https://localhost:8080/"
        },
        "id": "j4F4lnT8Dun3",
        "outputId": "135ac3af-a83f-41a7-f874-8367c7ea413b"
      },
      "source": [
        "print(len(final))"
      ],
      "execution_count": 18,
      "outputs": [
        {
          "output_type": "stream",
          "text": [
            "146\n"
          ],
          "name": "stdout"
        }
      ]
    },
    {
      "cell_type": "code",
      "metadata": {
        "colab": {
          "base_uri": "https://localhost:8080/"
        },
        "id": "dy3qWuK_KLhM",
        "outputId": "6be59e80-1234-41d6-9f95-614a1d409044"
      },
      "source": [
        "# te_source"
      ],
      "execution_count": 10,
      "outputs": [
        {
          "output_type": "execute_result",
          "data": {
            "text/plain": [
              "[['https://finance.telangana.gov.in/downloads/FM-Budget-Speech/2018-19/telugu.pdf',\n",
              "  'https://finance.telangana.gov.in/downloads/FM-Budget-Speech/2018-19/english.pdf'],\n",
              " ['https://finance.telangana.gov.in/downloads/FM-Budget-Speech/2019-20/telugu.pdf',\n",
              "  'https://finance.telangana.gov.in/downloads/FM-Budget-Speech/2019-20/english.pdf'],\n",
              " ['https://finance.telangana.gov.in/downloads/FM-Budget-Speech/2017-18/telugu.pdf',\n",
              "  'https://finance.telangana.gov.in/downloads/FM-Budget-Speech/2017-18/english.pdf'],\n",
              " ['https://finance.telangana.gov.in/downloads/FM-Budget-Speech/2016-17/telugu.pdf',\n",
              "  'https://finance.telangana.gov.in/downloads/FM-Budget-Speech/2016-17/english.pdf'],\n",
              " ['https://finance.telangana.gov.in/downloads/FM-Budget-Speech/2015-16/telugu.pdf',\n",
              "  'https://finance.telangana.gov.in/downloads/FM-Budget-Speech/2015-16/english.pdf'],\n",
              " ['https://finance.telangana.gov.in/downloads/FM-Budget-Speech/2014-15/telugu.pdf',\n",
              "  'https://finance.telangana.gov.in/downloads/FM-Budget-Speech/2014-15/english.pdf']]"
            ]
          },
          "metadata": {
            "tags": []
          },
          "execution_count": 10
        }
      ]
    },
    {
      "cell_type": "code",
      "metadata": {
        "id": "I1TAVIniPN0j"
      },
      "source": [
        "final_filtered = [ file for file in final if 'Revised' in file ]"
      ],
      "execution_count": 29,
      "outputs": []
    },
    {
      "cell_type": "code",
      "metadata": {
        "id": "0DZHbWmF8RI_"
      },
      "source": [
        "ctr=0\n",
        "for url in final_filtered:\n",
        "  response = requests.get(url)\n",
        "  dest = '/content/gdrive/MyDrive/OCR Sources/Hi/' + str(ctr) + '.pdf'\n",
        "  with open(dest,'wb') as file:\n",
        "    file.write(response.content)\n",
        "    print(str(ctr))\n",
        "  ctr+=1"
      ],
      "execution_count": null,
      "outputs": []
    },
    {
      "cell_type": "code",
      "metadata": {
        "id": "liedlTZy6Fs6"
      },
      "source": [
        "failed=[]\n",
        "for idx,url in enumerate(urls):\n",
        "    # url = 'https://www.apfinance.gov.in/' + url\n",
        "    try: \n",
        "      response = requests.get(url, headers=headers)\n",
        "      # dest = '/content/gdrive/MyDrive/OCR Sources/Ml/Bills/' + str(idx) + '.pdf'\n",
        "      # with open(dest,'wb') as file:\n",
        "      #   file.write(response.content)\n",
        "      #   print(str(idx))\n",
        "    except:\n",
        "     val = 'http://niyamasabha.org/codes/' + url\n",
        "     failed.append(val)\n"
      ],
      "execution_count": null,
      "outputs": []
    },
    {
      "cell_type": "code",
      "metadata": {
        "id": "Ys-kbdh2u2p1"
      },
      "source": [
        "urls = set(urls)\n",
        "with open(filename, 'w') as f:\n",
        "     f.write('\\n'.join(urls))"
      ],
      "execution_count": null,
      "outputs": []
    },
    {
      "cell_type": "code",
      "metadata": {
        "id": "_umEQxwNzxcR"
      },
      "source": [
        ""
      ],
      "execution_count": null,
      "outputs": []
    }
  ]
}