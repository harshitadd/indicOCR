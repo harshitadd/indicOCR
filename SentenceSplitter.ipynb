{
  "nbformat": 4,
  "nbformat_minor": 0,
  "metadata": {
    "colab": {
      "name": "SentenceSplitter.ipynb",
      "provenance": [],
      "authorship_tag": "ABX9TyM3J5OqPoxzANKVD5JrGb80",
      "include_colab_link": true
    },
    "kernelspec": {
      "name": "python3",
      "display_name": "Python 3"
    }
  },
  "cells": [
    {
      "cell_type": "markdown",
      "metadata": {
        "id": "view-in-github",
        "colab_type": "text"
      },
      "source": [
        "<a href=\"https://colab.research.google.com/github/harshitadd/AI4BharatTranslation/blob/main/SentenceSplitter.ipynb\" target=\"_parent\"><img src=\"https://colab.research.google.com/assets/colab-badge.svg\" alt=\"Open In Colab\"/></a>"
      ]
    },
    {
      "cell_type": "code",
      "metadata": {
        "id": "8KSwb3PE1mDx"
      },
      "source": [
        "# https://www.loc.gov/standards/iso639-2/php/code_list.php"
      ],
      "execution_count": 1,
      "outputs": []
    },
    {
      "cell_type": "code",
      "metadata": {
        "colab": {
          "base_uri": "https://localhost:8080/"
        },
        "id": "cEfy9ZF4xVwD",
        "outputId": "df7a35e5-6e5c-427d-fec9-27a41177b1fc"
      },
      "source": [
        "!pip install indic-nlp-library\r\n"
      ],
      "execution_count": 2,
      "outputs": [
        {
          "output_type": "stream",
          "text": [
            "Requirement already satisfied: indic-nlp-library in /usr/local/lib/python3.6/dist-packages (0.71)\n",
            "Requirement already satisfied: numpy in /usr/local/lib/python3.6/dist-packages (from indic-nlp-library) (1.19.4)\n",
            "Requirement already satisfied: morfessor in /usr/local/lib/python3.6/dist-packages (from indic-nlp-library) (2.0.6)\n",
            "Requirement already satisfied: pandas in /usr/local/lib/python3.6/dist-packages (from indic-nlp-library) (1.1.5)\n",
            "Requirement already satisfied: pytz>=2017.2 in /usr/local/lib/python3.6/dist-packages (from pandas->indic-nlp-library) (2018.9)\n",
            "Requirement already satisfied: python-dateutil>=2.7.3 in /usr/local/lib/python3.6/dist-packages (from pandas->indic-nlp-library) (2.8.1)\n",
            "Requirement already satisfied: six>=1.5 in /usr/local/lib/python3.6/dist-packages (from python-dateutil>=2.7.3->pandas->indic-nlp-library) (1.15.0)\n"
          ],
          "name": "stdout"
        }
      ]
    },
    {
      "cell_type": "code",
      "metadata": {
        "id": "PdqeJAE0xa_w"
      },
      "source": [
        "\r\n",
        "from indicnlp.tokenize import sentence_tokenize"
      ],
      "execution_count": 47,
      "outputs": []
    },
    {
      "cell_type": "code",
      "metadata": {
        "id": "dFO-nCXd3dWD"
      },
      "source": [
        "base = open('/content/outhin.txt','r')\r\n",
        "# Making it a single blob of text \r\n",
        "content = base.read()\r\n"
      ],
      "execution_count": 67,
      "outputs": []
    },
    {
      "cell_type": "code",
      "metadata": {
        "colab": {
          "base_uri": "https://localhost:8080/"
        },
        "id": "s-tCtfag5KdT",
        "outputId": "40a854d1-0f19-4a51-c1ce-09d317c61848"
      },
      "source": [
        "print(content[:500])"
      ],
      "execution_count": 69,
      "outputs": [
        {
          "output_type": "stream",
          "text": [
            " \n",
            "\n",
            "भारत का संविधान\n",
            "\n",
            "[1 अप्रैल, 2019 को यथाविद्यमान]\n",
            "\n",
            "The Constitution of India\n",
            "[As on Ist April, 2019]\n",
            "\fप्राककथन\n",
            "\n",
            "भारत के संविधान का यह संस्करण, संसद्‌ द्वारा समय-समय पर यथा संशोधित भारत के\n",
            "संविधान के पाठ को उद्धृत करता है । संसद्‌ द्वारा, संविधान (एक सौ तीनवां संशोधन) अधिनियम, 2019\n",
            "तक और उसको सम्मिलित करते हुए, किए गए सभी संशोधन, इस संस्करण मैं सम्मिलित किए गए\n",
            "है । पाठ के नीचे दिए गए पाद टिप्पण, संविधान संशोधन अधिनियमों, जिसके द्वारा ऐसे संशोधन किए\n",
            "गए है, को उपदर्शित करता है |\n",
            "\n",
            "संविधान, जम्मू-क\n"
          ],
          "name": "stdout"
        }
      ]
    },
    {
      "cell_type": "code",
      "metadata": {
        "id": "jbiVXkeY1Mwl"
      },
      "source": [
        "content = content.replace('\\n',' ')"
      ],
      "execution_count": 70,
      "outputs": []
    },
    {
      "cell_type": "code",
      "metadata": {
        "colab": {
          "base_uri": "https://localhost:8080/"
        },
        "id": "S_7-LszMBUGX",
        "outputId": "f8e441ea-1583-44d9-bbb2-f342b26e5d7d"
      },
      "source": [
        "print(content[:500])"
      ],
      "execution_count": 74,
      "outputs": [
        {
          "output_type": "stream",
          "text": [
            "   भारत का संविधान  [1 अप्रैल, 2019 को यथाविद्यमान]  The Constitution of India [As on Ist April, 2019] \fप्राककथन  भारत के संविधान का यह संस्करण, संसद्‌ द्वारा समय-समय पर यथा संशोधित भारत के संविधान के पाठ को उद्धृत करता है । संसद्‌ द्वारा, संविधान (एक सौ तीनवां संशोधन) अधिनियम, 2019 तक और उसको सम्मिलित करते हुए, किए गए सभी संशोधन, इस संस्करण मैं सम्मिलित किए गए है । पाठ के नीचे दिए गए पाद टिप्पण, संविधान संशोधन अधिनियमों, जिसके द्वारा ऐसे संशोधन किए गए है, को उपदर्शित करता है |  संविधान, जम्मू-क\n"
          ],
          "name": "stdout"
        }
      ]
    },
    {
      "cell_type": "code",
      "metadata": {
        "id": "1S8SjLC_1L_v"
      },
      "source": [
        "sentences=sentence_tokenize.sentence_split(content, lang='hi')"
      ],
      "execution_count": 72,
      "outputs": []
    },
    {
      "cell_type": "code",
      "metadata": {
        "colab": {
          "base_uri": "https://localhost:8080/"
        },
        "id": "I2mOWQs27Zmp",
        "outputId": "1efb2c36-84a9-4783-95d4-964cb953bb59"
      },
      "source": [
        "print(len(sentences))"
      ],
      "execution_count": 73,
      "outputs": [
        {
          "output_type": "stream",
          "text": [
            "1449\n"
          ],
          "name": "stdout"
        }
      ]
    },
    {
      "cell_type": "code",
      "metadata": {
        "id": "nW1odtbWBzD7"
      },
      "source": [
        ""
      ],
      "execution_count": null,
      "outputs": []
    }
  ]
}