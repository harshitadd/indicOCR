{
  "nbformat": 4,
  "nbformat_minor": 0,
  "metadata": {
    "colab": {
      "name": "PDFSourceNameScraper.ipynb",
      "provenance": [],
      "authorship_tag": "ABX9TyN9NHz5+XyxYlPu7QJW2wAv",
      "include_colab_link": true
    },
    "kernelspec": {
      "name": "python3",
      "display_name": "Python 3"
    }
  },
  "cells": [
    {
      "cell_type": "markdown",
      "metadata": {
        "id": "view-in-github",
        "colab_type": "text"
      },
      "source": [
        "<a href=\"https://colab.research.google.com/github/harshitadd/AI4BharatTranslation/blob/main/PDFSourceNameScraper.ipynb\" target=\"_parent\"><img src=\"https://colab.research.google.com/assets/colab-badge.svg\" alt=\"Open In Colab\"/></a>"
      ]
    },
    {
      "cell_type": "code",
      "metadata": {
        "colab": {
          "base_uri": "https://localhost:8080/"
        },
        "id": "u4nKS_nzvulT",
        "outputId": "57461ad1-9f83-4bf7-dcc1-b5ad005cfd28"
      },
      "source": [
        "!pip install --upgrade certifi"
      ],
      "execution_count": 13,
      "outputs": [
        {
          "output_type": "stream",
          "text": [
            "Requirement already up-to-date: certifi in /usr/local/lib/python3.7/dist-packages (2020.12.5)\n"
          ],
          "name": "stdout"
        }
      ]
    },
    {
      "cell_type": "code",
      "metadata": {
        "id": "m5X-kG99f6np"
      },
      "source": [
        "import os\n",
        "import requests\n",
        "from urllib.parse import urljoin\n",
        "from bs4 import BeautifulSoup\n",
        "from time import sleep\n",
        "import ssl\n",
        "ssl._create_default_https_context = ssl._create_unverified_context\n",
        "lang_ids = {'Assamese', 'Bengali', 'Gujarati', 'Kannada', 'Malayalam', 'Marathi', 'Odia', 'Punjabi', 'Tamil', 'Telugu'}\n",
        "page_limit = 0\n",
        "page_count = 0\n",
        "urls = []\n",
        "# filename = '/content/Oriya_links.txt'\n",
        "while(page_count<=page_limit):\n",
        "     url = \"https://mahakosh.maharashtra.gov.in/index.php/en/performance-budget\" \n",
        "     response = requests.get(url, verify = False)\n",
        "     sleep(0.5)\n",
        "     soup= BeautifulSoup(response.text, \"html.parser\")\n",
        "     links = soup.find_all('a')   \n",
        "     print(\"Total Links Found:\",links.__len__())\n",
        "     print(\"Page Number:\" + str(page_count))\n",
        "     for link in links: \n",
        "          if '.pdf' in str(link.get('href'))  :\n",
        "               urls.append(str(link.get('href')))   \n",
        "               print(link)   \n",
        "     page_count+=1\n",
        "print(len(urls))\n"
      ],
      "execution_count": null,
      "outputs": []
    },
    {
      "cell_type": "code",
      "metadata": {
        "id": "r0doS8hu0VXm"
      },
      "source": [
        "urls"
      ],
      "execution_count": null,
      "outputs": []
    },
    {
      "cell_type": "code",
      "metadata": {
        "id": "k3VmFRkM0Zun"
      },
      "source": [
        "urls = urls[1:]"
      ],
      "execution_count": 22,
      "outputs": []
    },
    {
      "cell_type": "code",
      "metadata": {
        "id": "iNaSNae-0c_C"
      },
      "source": [
        "final_urls = []\n",
        "for url in urls:\n",
        "  final_urls.append('https://mahakosh.maharashtra.gov.in/'+url)"
      ],
      "execution_count": 27,
      "outputs": []
    },
    {
      "cell_type": "code",
      "metadata": {
        "id": "dNTo6lgO0gjL"
      },
      "source": [
        "# final_urls = []\n",
        "# for url in range(0,len(urls),2):\n",
        "#   final_urls.append(urls[url])"
      ],
      "execution_count": 6,
      "outputs": []
    },
    {
      "cell_type": "code",
      "metadata": {
        "colab": {
          "base_uri": "https://localhost:8080/"
        },
        "id": "NtMGTS_d3UAp",
        "outputId": "55d9dd0e-c795-4453-83f1-132cbf2b0971"
      },
      "source": [
        "len(final_urls)"
      ],
      "execution_count": 28,
      "outputs": [
        {
          "output_type": "execute_result",
          "data": {
            "text/plain": [
              "12"
            ]
          },
          "metadata": {
            "tags": []
          },
          "execution_count": 28
        }
      ]
    },
    {
      "cell_type": "code",
      "metadata": {
        "colab": {
          "base_uri": "https://localhost:8080/"
        },
        "id": "Ma_hlRwV5wjZ",
        "outputId": "ed335526-71c6-452f-ddeb-2e3857c0438d"
      },
      "source": [
        "final_urls "
      ],
      "execution_count": 34,
      "outputs": [
        {
          "output_type": "execute_result",
          "data": {
            "text/plain": [
              "['https://mahakosh.maharashtra.gov.in//images/stories/performance/prog_budget_2019_2020_eng.pdf',\n",
              " 'https://mahakosh.maharashtra.gov.in//images/stories/performance/porg_budget_2019_2020_mar.pdf',\n",
              " 'https://mahakosh.maharashtra.gov.in//images/stories/performance/prog_budget_2018_2019_eng.pdf',\n",
              " 'https://mahakosh.maharashtra.gov.in//images/stories/performance/prog_budget_2018_2019_mar.pdf',\n",
              " 'https://mahakosh.maharashtra.gov.in//images/stories/performance/prog_budget_2017_2018_eng.pdf',\n",
              " 'https://mahakosh.maharashtra.gov.in//images/stories/performance/prog_budget_2017_2018_mar.pdf',\n",
              " 'https://mahakosh.maharashtra.gov.in//images/stories/performance/prog_budget_2016_2017_eng.pdf',\n",
              " 'https://mahakosh.maharashtra.gov.in//images/stories/performance/prog_budget_2016_2017_mar.pdf',\n",
              " 'https://mahakosh.maharashtra.gov.in//images/stories/performance/rev_prog_budget_2015_2016_eng.pdf',\n",
              " 'https://mahakosh.maharashtra.gov.in//images/stories/performance/rev_prog_budget_2015_2016_mar.pdf',\n",
              " 'https://mahakosh.maharashtra.gov.in//images/stories/performance/performance_budget_english_2014_2015.pdf',\n",
              " 'https://mahakosh.maharashtra.gov.in//images/stories/performance/performance_budget_marathi_2014_2015.pdf']"
            ]
          },
          "metadata": {
            "tags": []
          },
          "execution_count": 34
        }
      ]
    },
    {
      "cell_type": "markdown",
      "metadata": {
        "id": "1G6NVuEn5ny0"
      },
      "source": [
        "DOWNLOADING"
      ]
    },
    {
      "cell_type": "code",
      "metadata": {
        "colab": {
          "base_uri": "https://localhost:8080/"
        },
        "id": "mBecux7M6VAg",
        "outputId": "dbd3a015-aecc-48f6-edf2-8a9ba33698a8"
      },
      "source": [
        "from google.colab import drive\n",
        "drive.mount('/content/gdrive')"
      ],
      "execution_count": 32,
      "outputs": [
        {
          "output_type": "stream",
          "text": [
            "Drive already mounted at /content/gdrive; to attempt to forcibly remount, call drive.mount(\"/content/gdrive\", force_remount=True).\n"
          ],
          "name": "stdout"
        }
      ]
    },
    {
      "cell_type": "code",
      "metadata": {
        "id": "liedlTZy6Fs6"
      },
      "source": [
        "for idx,url in enumerate(final_urls):\n",
        "    response = requests.get(url, verify=False)\n",
        "    dest = '/content/gdrive/MyDrive/OCR Sources/Mr/' + str(idx) + '.pdf'\n",
        "    with open(dest,'wb') as file:\n",
        "      file.write(response.content)\n",
        "      print('Done')\n"
      ],
      "execution_count": null,
      "outputs": []
    },
    {
      "cell_type": "code",
      "metadata": {
        "id": "Ys-kbdh2u2p1"
      },
      "source": [
        "urls = set(urls)\n",
        "with open(filename, 'w') as f:\n",
        "     f.write('\\n'.join(urls))"
      ],
      "execution_count": 15,
      "outputs": []
    },
    {
      "cell_type": "code",
      "metadata": {
        "id": "_umEQxwNzxcR"
      },
      "source": [
        ""
      ],
      "execution_count": null,
      "outputs": []
    }
  ]
}