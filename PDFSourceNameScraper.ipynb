{
  "nbformat": 4,
  "nbformat_minor": 0,
  "metadata": {
    "colab": {
      "name": "PDFSourceNameScraper.ipynb",
      "provenance": [],
      "collapsed_sections": [],
      "authorship_tag": "ABX9TyPWkD3TXDXop+WRj+T6P4U/",
      "include_colab_link": true
    },
    "kernelspec": {
      "display_name": "Python 3",
      "name": "python3"
    }
  },
  "cells": [
    {
      "cell_type": "markdown",
      "metadata": {
        "id": "view-in-github",
        "colab_type": "text"
      },
      "source": [
        "<a href=\"https://colab.research.google.com/github/harshitadd/AI4BharatTranslation/blob/main/PDFSourceNameScraper.ipynb\" target=\"_parent\"><img src=\"https://colab.research.google.com/assets/colab-badge.svg\" alt=\"Open In Colab\"/></a>"
      ]
    },
    {
      "cell_type": "code",
      "metadata": {
        "colab": {
          "base_uri": "https://localhost:8080/"
        },
        "id": "u4nKS_nzvulT",
        "outputId": "9fd4d27e-2b8c-4760-bf29-dc5736d05132"
      },
      "source": [
        "!pip install --upgrade certifi"
      ],
      "execution_count": null,
      "outputs": [
        {
          "output_type": "stream",
          "text": [
            "Requirement already up-to-date: certifi in /usr/local/lib/python3.7/dist-packages (2020.12.5)\n"
          ],
          "name": "stdout"
        }
      ]
    },
    {
      "cell_type": "code",
      "metadata": {
        "id": "S8xcDd4E_5k9"
      },
      "source": [
        "with open('/content/source_links_guj_budget.txt','r') as file:\n",
        "  links = file.read()"
      ],
      "execution_count": null,
      "outputs": []
    },
    {
      "cell_type": "code",
      "metadata": {
        "id": "RsvmmvziCGB9"
      },
      "source": [
        "urls = links.split('\\n')"
      ],
      "execution_count": null,
      "outputs": []
    },
    {
      "cell_type": "code",
      "metadata": {
        "id": "YLZb2XCbAZUy"
      },
      "source": [
        "import os\n",
        "import requests\n",
        "from urllib.parse import urljoin\n",
        "from bs4 import BeautifulSoup\n",
        "from time import sleep\n",
        "import ssl\n",
        "headers = {'User-Agent': 'Mozilla/5.0 (Windows NT 6.1; WOW64) AppleWebKit/537.36 (KHTML, like Gecko) Chrome/56.0.2924.76 Safari/537.36', \"Upgrade-Insecure-Requests\": \"1\",\"DNT\": \"1\",\"Accept\": \"text/html,application/xhtml+xml,application/xml;q=0.9,*/*;q=0.8\",\"Accept-Language\": \"en-US,en;q=0.5\",\"Accept-Encoding\": \"gzip, deflate\"}\n",
        "# urls = []\n",
        "# for url in urls: \n",
        "#      response = requests.get(url, verify = False)\n",
        "#      sleep(0.5)\n",
        "#      soup= BeautifulSoup(response.text, \"html.parser\")\n",
        "#      links = soup.find_all('a')   \n",
        "#      print(\"Total Links Found:\",links.__len__())\n",
        "#      print(\"Page Number:\" + str(page_count))\n",
        "#      for link in links: \n",
        "#           if '.pdf' in str(link.get('href'))  :\n",
        "#                urls.append(str(link.get('href')))   \n",
        "#                print(link)   \n",
        "#      page_count+=1\n",
        "# print(len(urls))\n"
      ],
      "execution_count": null,
      "outputs": []
    },
    {
      "cell_type": "code",
      "metadata": {
        "colab": {
          "base_uri": "https://localhost:8080/"
        },
        "id": "m5X-kG99f6np",
        "outputId": "d2f55e01-d168-47c4-93e9-f711dc33838e"
      },
      "source": [
        "import os\n",
        "import requests\n",
        "from urllib.parse import urljoin\n",
        "from bs4 import BeautifulSoup\n",
        "from time import sleep\n",
        "import ssl\n",
        "ssl._create_default_https_context = ssl._create_unverified_context\n",
        "# lang_ids = {'Assamese', 'Bengali', 'Gujarati', 'Kannada', 'Malayalam', 'Marathi', 'Odia', 'Punjabi', 'Tamil', 'Telugu'}\n",
        "page_limit = 0\n",
        "page_count = 0\n",
        "urls = []\n",
        "\n",
        "while(page_count<=page_limit):\n",
        "     url = \"http://niyamasabha.org/codes/bills_opinion.htm\" \n",
        "     response = requests.get(url, verify = False)\n",
        "     sleep(0.5)\n",
        "     soup= BeautifulSoup(response.text, \"html.parser\")\n",
        "     links = soup.find_all('a')   \n",
        "     print(\"Total Links Found:\",links.__len__())\n",
        "     print(\"Page Number:\" + str(page_count))\n",
        "     for link in links: \n",
        "          if '.pdf' in str(link.get('href')):\n",
        "               url = str(link.get('href'))\n",
        "               urls.append(url)    \n",
        "     page_count+=1\n",
        "print(len(urls))\n"
      ],
      "execution_count": 25,
      "outputs": [
        {
          "output_type": "stream",
          "text": [
            "Total Links Found: 149\n",
            "Page Number:0\n",
            "105\n"
          ],
          "name": "stdout"
        }
      ]
    },
    {
      "cell_type": "code",
      "metadata": {
        "colab": {
          "base_uri": "https://localhost:8080/"
        },
        "id": "JWST15gr1AC4",
        "outputId": "28d3baad-efc1-4d69-9dc2-5c5a307712e7"
      },
      "source": [
        "print(urls)"
      ],
      "execution_count": 26,
      "outputs": [
        {
          "output_type": "stream",
          "text": [
            "['http://niyamasabha.org/codes/14kla/bills/Bill%20No.%20286%20pub.pdf', 'http://niyamasabha.org/codes/14kla/bills/Bill%20No.%20285%20pub.pdf', 'http://niyamasabha.org/codes/14kla/bills/bill%20Pub.%20No.%20283-eng.pdf', 'http://niyamasabha.org/codes/14kla/bills/bill%20Pub.%20No.%20282-eng.pdf', 'http://niyamasabha.org/codes/14kla/bills/Bill%20Published%20No.%20281-mal.pdf', 'http://niyamasabha.org/codes/14kla/bills/Bill%20Published%20No.%20281-eng.pdf', 'http://niyamasabha.org/codes/14kla/bills/Bill%20Published%20No.%20280-eng.pdf', 'http://niyamasabha.org/codes/14kla/bills/279-mal-Kerala%20appropriation(Vote%20on%20account)%20bill%2021-%20No.%20279-mal.pdf', 'http://niyamasabha.org/codes/14kla/bills/279-eng-Kerala%20appropriation(Vote%20on%20account)%20bill%2021-%20No.%20279-eng.pdf', 'http://niyamasabha.org/codes/14kla/bills/278-eng-Kerala%20appropriation%20bill%2021-%20No.%20278-eng.pdf', 'http://niyamasabha.org/codes/14kla/bills/278-mal-Kerala%20appropriation%20bill%2021-%20No.%20278-mal.pdf', 'http://niyamasabha.org/codes/14kla/bills/Bill%20NO.%20277.pdf', 'http://niyamasabha.org/codes/14kla/bills/276-eng-Kerala%20GST(amt)%20bill%2021-%20No.%20276-eng.pdf', 'http://niyamasabha.org/codes/14kla/bills/bills%20pub%20no.%20275.pdf', 'http://niyamasabha.org/codes/14kla/bills/bills%20pub%20no.%20275%20english.pdf', 'http://niyamasabha.org/codes/14kla/bills/Bills%20pub%20No.274.pdf', 'http://niyamasabha.org/codes/14kla/bills/bills%20pub%20no.%20273.pdf', 'http://niyamasabha.org/codes/14kla/bills/Bill%20pub%20272%20-%20eng.pdf', 'http://niyamasabha.org/codes/14kla/bills/pub/Bill%20No.%20271%20-%20mal.pdf', 'http://niyamasabha.org/codes/14kla/bills/pub/Bill%20No.%20270-eng.pdf', 'http://niyamasabha.org/codes/14kla/bills/pub/bill%20269-mal.pdf', 'http://niyamasabha.org/codes/14kla/bills/pub/bill%20269-eng.pdf', '14kla/bills/Bill%20No-268%20published.pdf', '14kla/bills/pub/Bill-264-mal.pdf', '14kla/bills/Bill%20263-eng.pdf', '14kla/bills/Bill%20No-263%20published.pdf', '14kla/bills/pub/Bill-262-eng.pdf', '14kla/bills/Bill%20No.256-eng.pdf', '14kla/bills/Bill%20No.253-mal.pdf', '14kla/bills/Bill%20250.pdf', '14kla/bills/249.pdf', '14kla/bills/bill%20248.pdf', '14kla/bills/244.pdf', '14kla/bills/Bill%20No.241.pdf', '14kla/bills/Bill%20No.240.pdf', '14kla/bills/Bill%20No.237.pdf', '14kla/bills/bill%20237-eng.pdf', '14kla/bills/bill%20no.%20236%20-mal.pdf', '14kla/bills/pub/Bill%20No.235.pdf', '14kla/bills/pub/Bill-223-mal.pdf', '14kla/bills/pub/bill-212-eng.pdf', '14kla/bills/pub/bill-211-eng.pdf', '14kla/bills/pub/bill%20210%20mal.pdf', '14kla/bills/pub/Bill%20No.%20208%20-%20eng.pdf', '14kla/bills/pub/Bill%20207%20-%20eng.pdf', '14kla/bills/pub/Bill%20No.%20206%20-mal.pdf', '14kla/bills/pub/Bill%20No.%20189%20-%20mal.pdf', '14kla/bills/pub/Bill%20189%20eng.pdf', '14kla/bills/pub/bill%20187%20-%20mal.pdf', '14kla/bills/pub/bill%20186%20-%20mal.pdf', '14kla/bills/pub/Bill%20No.%20183%20-%20mal.pdf', '14kla/bills/pub/Bill%20No.%20183%20-%20mal.pdf', '14kla/bills/pub/Bill%20No.%20182-%20eng.pdf', '14kla/bills/pub/Bill%20182%20-%20mal.pdf', '14kla/bills/pub/179%20-%20mal.pdf', '14kla/bills/pub/Bill%20No.%20179%20-%20eng.pdf', '14kla/bills/pub/177%20-%20Eng.pdf', '14kla/bills/pub/176%20-%20Mal.pdf', '14kla/bills/pub/175%20-%20Eng.pdf', '14kla/bills/pub/174%20eng.pdf', '14kla/bills/pub/bill%20174%20-%20mal.pdf', '14kla/bills/pub/172%20(m).pdf', '14kla/bills/pub/168%20eng.pdf', '14kla/bills/pub/167%20mal.pdf', '14kla/bills/pub/158%20eng.pdf', '14kla/bills/pub/157%20mal.pdf', '14kla/bills/pub/156%20-%20eng.pdf', '14kla/bills/pub/154%20-%20mal.pdf', '14kla/bills/pub/154%20eng.pdf', '14kla/bills/pub/152%20-%20mal.pdf', '14kla/bills/pub/No.%20146%20mal.pdf', '14kla/bills/pub/146%20eng.pdf', '14kla/bills/pub/No.%20133%20eng..pdf', '14kla/bills/pub/No.%20132%20mal.pdf', '14kla/bills/pub/132%20eng.pdf', '14kla/bills/pub/Bill%20No.%20106%20eng.pdf', '14kla/bills/pub/Bill%20No.106%20-%20Mal.pdf', '14kla/bills/pub/Bill%20No.86.eng.pdf', '14kla/bills/pub/Bill%20No.86(mal).pdf', '14kla/bills/pub/bill%20No.%2085.pdf', '14kla/bills/pub/Bill%20No.%2085%20mal.pdf', '14kla/bills/pub/Bill%20No.%2084%20mal.pdf', '14kla/bills/pub/bill%20No.%2084.pdf', '14kla/bills/pub/Bill%20No.%2083%20eng.pdf', '14kla/bills/pub/bill%20No.%2083(mal)-2017.pdf', '14kla/bills/pub/Bill.No.%2070%20eng.pdf', '14kla/bills/pub/Bill%20No.%2069%20(eng).pdf', '14kla/bills/pub/Bill%20no.%2069%20(mal).pdf', '14kla/bills/pub/Bill.No.%2068.eng.pdf', '14kla/bills/pub/Bill%20No.68%20(mal).pdf', '14kla/bills/pub/BIll%20No.%2054%20Kerala%20Abkari%20Workers%20Welfare%20Fund(Amendment)%20%20Mal.pdf', '14kla/bills/pub/Bill%20No.%2052%20The%20Kerala%20Industrial%20Establishments%20(National%20and%20Festival%20Holidays)%20Amendment%20Eng.pdf', '14kla/bills/pub/Bill%20No.%2051%20(Eng).pdf', '14kla/bills/pub/Bill%20No.%2051%20(mal).pdf', '14kla/bills/pub/Bill%20No.%2050%20(Eng).pdf', '14kla/bills/pub/Bill%20No.50%20Kerala%20Advocates%20Welfare%20Fund%20(Amendment)%20Mal.pdf', '14kla/bills/pub/Bill%20No.%2049%20(Eng).pdf', '14kla/bills/pub/Bill%20No.%2038%20eng.pdf', '14kla/bills/pub/Bill%20No.%2038%20mal.pdf', '14kla/bills/pub/Bill%20No.%2037%20Eng.pdf', '14kla/bills/pub/Bill%20No.%2037%20(Mal).pdf', '14kla/bills/pub/Bill%20No.%2036%20Eng.pdf', '14kla/bills/pub/Bill%20No.%2036%20(Mal).pdf', '14kla/bills/pub/Bill%20No.%2034%20Eng.pdf', '14kla/bills/pub/Bill%20No.%2034%20mal.pdf']\n"
          ],
          "name": "stdout"
        }
      ]
    },
    {
      "cell_type": "code",
      "metadata": {
        "id": "NtVulnNZlNEo"
      },
      "source": [
        "urls_set = set(urls)"
      ],
      "execution_count": 27,
      "outputs": []
    },
    {
      "cell_type": "code",
      "metadata": {
        "colab": {
          "base_uri": "https://localhost:8080/"
        },
        "id": "j0jahzXwlPEC",
        "outputId": "e0621a62-3ac0-4ceb-f1d7-cf9fc59b9aba"
      },
      "source": [
        "print(len(urls_set))"
      ],
      "execution_count": 28,
      "outputs": [
        {
          "output_type": "stream",
          "text": [
            "104\n"
          ],
          "name": "stdout"
        }
      ]
    },
    {
      "cell_type": "markdown",
      "metadata": {
        "id": "1G6NVuEn5ny0"
      },
      "source": [
        "DOWNLOADING"
      ]
    },
    {
      "cell_type": "code",
      "metadata": {
        "id": "NPYnyiHz09U_"
      },
      "source": [
        "print()"
      ],
      "execution_count": null,
      "outputs": []
    },
    {
      "cell_type": "code",
      "metadata": {
        "colab": {
          "base_uri": "https://localhost:8080/"
        },
        "id": "mBecux7M6VAg",
        "outputId": "3d64450b-7b66-436a-ceea-48ccf814e227"
      },
      "source": [
        "from google.colab import drive\n",
        "drive.mount('/content/gdrive')"
      ],
      "execution_count": 30,
      "outputs": [
        {
          "output_type": "stream",
          "text": [
            "Drive already mounted at /content/gdrive; to attempt to forcibly remount, call drive.mount(\"/content/gdrive\", force_remount=True).\n"
          ],
          "name": "stdout"
        }
      ]
    },
    {
      "cell_type": "code",
      "metadata": {
        "id": "nREzoFNOcmBV"
      },
      "source": [
        "# urls = [ 'https://financedepartment.gujarat.gov.in/Documents/Bud-Eng_1010_2020-2-26_475.pdf', 'https://financedepartment.gujarat.gov.in/Documents/Bud-Guj_1010_2020-2-26_475.pdf', 'https://financedepartment.gujarat.gov.in/Documents/Bud-Eng_1009_2020-2-26_296.pdf', 'https://financedepartment.gujarat.gov.in/Documents/Bud-Guj_1009_2020-2-26_296.pdf', 'https://financedepartment.gujarat.gov.in/Documents/Bud-Eng_888_2019-2-19_211.pdf', 'https://financedepartment.gujarat.gov.in/Documents/Bud-Guj_888_2019-2-19_211.pdf', 'https://financedepartment.gujarat.gov.in/Documents/Bud-Eng_897_2019-7-2_647.pdf', 'https://financedepartment.gujarat.gov.in/Documents/Bud-Guj_897_2019-7-2_647.pdf', 'https://financedepartment.gujarat.gov.in/Documents/Bud-Eng_754_2018-2-20_246.pdf', 'https://financedepartment.gujarat.gov.in/Documents/Bud-Guj_754_2018-2-20_246.pdf', 'https://financedepartment.gujarat.gov.in/Documents/Bud-Eng_707_2017-2-22_544.pdf', 'https://financedepartment.gujarat.gov.in/Documents/Bud-Guj_707_2017-2-22_544.pdf', 'https://financedepartment.gujarat.gov.in/Documents/Bud-Eng_703_2016-2-23_623.pdf', 'https://financedepartment.gujarat.gov.in/Documents/Bud-Guj_703_2016-2-23_623.pdf', 'https://financedepartment.gujarat.gov.in/Documents/Bud-Eng_638_2015-2-24_145.pdf', 'https://financedepartment.gujarat.gov.in/Documents/Bud-Guj_638_2015-2-24_145.pdf', 'https://financedepartment.gujarat.gov.in/Documents/Bud-Eng_580_2014-10-1_607.pdf', 'https://financedepartment.gujarat.gov.in/Documents/Bud-Guj_580_2014-10-1_607.pdf', 'https://financedepartment.gujarat.gov.in/Documents/Bud-Eng_481_2014-7-5_401.pdf', 'https://financedepartment.gujarat.gov.in/Documents/Bud-Guj_481_2014-7-5_401.pdf', 'https://financedepartment.gujarat.gov.in/Documents/Bud-Eng_578_2014-10-1_469.pdf', 'https://financedepartment.gujarat.gov.in/Documents/Bud-Guj_578_2014-10-1_469.pdf', 'https://financedepartment.gujarat.gov.in/Documents/Bud-Eng_576_2014-10-1_442.pdf', 'https://financedepartment.gujarat.gov.in/Documents/Bud-Guj_576_2014-10-1_442.pdf']"
      ],
      "execution_count": null,
      "outputs": []
    },
    {
      "cell_type": "code",
      "metadata": {
        "id": "BSViA1yodGZk"
      },
      "source": [
        "# HEADERS = {\n",
        "#     'User-Agent': 'Mozilla/5.0 (X11; Linux x86_64) AppleWebKit/537.36 (KHTML, like Gecko) Chrome/67.0.3396.87 Safari/537.36',\n",
        "# }"
      ],
      "execution_count": null,
      "outputs": []
    },
    {
      "cell_type": "code",
      "metadata": {
        "id": "t-h7XRgPcyiw"
      },
      "source": [
        "# response = requests.get('https://financedepartment.gujarat.gov.in/Documents/Bud-Guj_1012_2021-3-3_72.pdf', headers= HEADERS)"
      ],
      "execution_count": null,
      "outputs": []
    },
    {
      "cell_type": "code",
      "metadata": {
        "id": "db42xj5Oidb5"
      },
      "source": [
        "# requests.get('https://financedepartment.gujarat.gov.in/Documents/Bud-Guj_1012_2021-3-3_72.pdf', timeout=20.0)"
      ],
      "execution_count": null,
      "outputs": []
    },
    {
      "cell_type": "code",
      "metadata": {
        "colab": {
          "base_uri": "https://localhost:8080/"
        },
        "id": "Tc9oxuD7osZL",
        "outputId": "5f0fb068-cb9d-40e2-8d18-31e9e8274500"
      },
      "source": [
        "print(len(urls))"
      ],
      "execution_count": null,
      "outputs": [
        {
          "output_type": "stream",
          "text": [
            "272\n"
          ],
          "name": "stdout"
        }
      ]
    },
    {
      "cell_type": "code",
      "metadata": {
        "colab": {
          "base_uri": "https://localhost:8080/"
        },
        "id": "9S-IAvq6o18y",
        "outputId": "618947d7-d4d8-449b-ae4a-cd2983add2b3"
      },
      "source": [
        "print(urls)"
      ],
      "execution_count": null,
      "outputs": [
        {
          "output_type": "stream",
          "text": [
            "{'uploads/budget-2017-18-books/Volume-III-12.pdf', 'uploads/budget-2020-21-books/Volume-VII-2.pdf', 'uploads/budget-2014-15-books/Volume-VII-3.pdf', 'uploads/budget-2018-19-books/Volume-III-15.pdf', 'uploads/budget-2020-21-books/Volume-III-8.pdf', 'uploads/budget-2017-18-books/Volume-X.pdf', 'uploads/budget-2016-17-books/Volume-III-10.pdf', 'uploads/budget-2020-21-books/Volume-VI.pdf', 'uploads/budget-2018-19-books/Volume-VIII-1.pdf', 'uploads/budget-2016-17-books/Volume-VIII-1.pdf', 'uploads/budget-2014-15-books/Volume-III-11.pdf', 'uploads/budget-2013-14-books/budget-estimates-2013-14-v-3-14.pdf', 'uploads/budget-2020-21-books/Volume-X.pdf', 'uploads/budget-2018-19-books/Volume-III-12.pdf', 'uploads/budget-2018-19-books/Volume-II.pdf', 'uploads/budget-2013-14-books/annual-plan-2013-14-v7-3.pdf', 'uploads/budget-2013-14-books/budget-estimates-2013-14-v8-2.pdf', 'uploads/budget-2014-15-books/Volume-III-13.pdf', 'uploads/budget-2018-19-books/Volume-III-1.pdf', 'uploads/budget-2018-19-books/Volume-III-10.pdf', 'uploads/budget-2017-18-books/Volume-II.pdf', 'uploads/budget-2013-14-books/ap-budget-in-brief-2013-14-v-6.pdf', 'uploads/budget-2014-15-voteon-books/VoteONAccount2014_Doc.4.pdf', 'uploads/budget-2020-21-books/Volume-I-1.pdf', 'uploads/budget-2013-14-books/annual-plan-2013-14-v7-2.pdf', 'uploads/budget-2016-17-books/Volume-X.pdf', 'uploads/budget-2018-19-books/Volume-VIII-2.pdf', 'uploads/budget-2020-21-books/Volume-VIII-2.pdf', 'uploads/budget-2015-16-books/Volume-III-13.pdf', 'uploads/budget-2016-17-books/Volume-VII-1.pdf', 'uploads/budget-2014-15-books/Volume-IV.pdf', 'uploads/budget-2014-15-books/Volume-VII-1.pdf', 'uploads/budget-2014-15-books/Volume-III-17.pdf', 'uploads/budget-2018-19-books/Volume-III-3.pdf', 'uploads/budget-2018-19-books/Volume-X.pdf', 'uploads/budget-2019-20-books/Volume-VII-2.pdf', 'uploads/budget-2017-18-books/Volume-III-2.pdf', 'uploads/budget-2013-14-books/budget-estimates-2013-14-v-3-10.pdf', 'uploads/budget-2020-21-books/Volume-III-1.pdf', 'uploads/budget-2017-18-books/Volume-VI.pdf', 'uploads/budget-2020-21-books/Volume-IX.pdf', 'uploads/budget-2014-15-books/Volume-III-3.pdf', 'uploads/budget-2019-20-voteon-books/Vote_on_account.pdf', 'uploads/budget-2019-20-books/Volume-III-17.pdf', 'uploads/budget-2017-18-books/Volume-III-9.pdf', 'uploads/budget-2014-15-books/Volume-I-2.pdf', 'uploads/budget-2014-15-books/Volume-X.pdf', 'uploads/budget-2013-14-books/budget-estimates-2013-14-v3-13.pdf', 'uploads/budget-2013-14-books/demands-advance-grants-2013-14.pdf', 'uploads/budget-2018-19-books/Volume-III-17.pdf', 'uploads/budget-2014-15-books/Volume-III-4.pdf', 'uploads/budget-2016-17-books/Volume-III-9.pdf', 'uploads/budget-2014-15-books/Volume-III-8.pdf', 'uploads/budget-2013-14-books/budget-estimates-2013-14-v-3-9.pdf', 'uploads/budget-2013-14-books/budget-estimates-2013-14-v-10.pdf', 'uploads/budget-2017-18-books/Volume-III-10.pdf', 'uploads/budget-2017-18-books/Volume-III-16.pdf', 'uploads/budget-2020-21-books/Volume-III-3.pdf', 'uploads/budget-2020-21-books/Volume-V-1.pdf', 'uploads/budget-2015-16-books/Volume-V-1.pdf', 'uploads/budget-2016-17-books/Volume-I-2.pdf', 'uploads/budget-2020-21-books/Volume-VII-3.pdf', 'uploads/budget-2019-20-books/Volume-VIII-2.pdf', 'downloads/Suppl_2018-19_Book_Prtg.pdf', 'uploads/budget-2019-20-books/Volume-VII-3.pdf', 'uploads/budget-2014-15-voteon-books/VoteOnAct.Vol.I_2014-15.I1-Doc.1.pdf', 'uploads/budget-2019-20-books/Volume-III-11.pdf', 'uploads/budget-2018-19-books/Volume-III-9.pdf', 'uploads/budget-2018-19-books/Volume-III-7.pdf', 'uploads/budget-2013-14-books/vote-on-account-2013-14.pdf', 'uploads/budget-2017-18-books/Volume-IX.pdf', 'uploads/budget-2014-15-books/Volume-III-16.pdf', 'uploads/budget-2019-20-books/Volume-I-1.pdf', 'uploads/budget-2020-21-books/Volume-III-15.pdf', 'uploads/budget-2016-17-books/Volume-VIII-2.pdf', 'uploads/budget-2015-16-books/Supplementary-Estimates-2014-15-Book.pdf', 'uploads/budget-2018-19-books/Volume-III-6.pdf', 'uploads/budget-2020-21-books/Volume-III-16.pdf', 'uploads/budget-2013-14-books/demands-grants-2013-14.pdf', 'uploads/budget-2014-15-books/Volume-III-6.pdf', 'uploads/budget-2015-16-books/Volume-I-2.pdf', 'uploads/budget-2019-20-books/Volume-III-12.pdf', 'uploads/budget-2018-19-books/Volume-III-8.pdf', 'uploads/budget-2018-19-books/Supplementary-Estimates-2017-18-Book.pdf', 'uploads/budget-2014-15-books/Volume-III-10.pdf', 'uploads/budget-2016-17-books/Volume-III-3.pdf', 'uploads/budget-2019-20-books/Volume-I-2.pdf', 'uploads/budget-2015-16-books/Volume-VI.pdf', 'uploads/budget-2015-16-books/Volume-III-3.pdf', 'uploads/budget-2017-18-books/Volume-V-1.pdf', 'uploads/budget-2013-14-books/agriculture-budget-speech-2013-14-tel.pdf', 'uploads/budget-2020-21-books/Volume-VII-1.pdf', 'uploads/budget-2019-20-books/Volume-III-9.pdf', 'https://www.apfinance.gov.in/uploads/budget-2019-20-books/Notice_for_Demands_2019-20.pdf', 'uploads/budget-2018-19-books/Volume-III-2.pdf', 'uploads/budget-2020-21-books/Volume-III-7.pdf', 'uploads/budget-2014-15-books/Volume-III-14.pdf', 'uploads/budget-2018-19-books/Volume-IV.pdf', 'uploads/budget-2016-17-books/Volume-IV.pdf', 'uploads/budget-2015-16-books/Volume-II.pdf', 'uploads/budget-2020-21-books/Volume-III-6.pdf', 'uploads/budget-2014-15-voteon-books/VoteOnAct.Glance_2014-15.I1-Doc.5.pdf', 'uploads/budget-2014-15-voteon-books/VoteOnAct.Vol.2_2014-15.I1-Doc.2.pdf', 'uploads/budget-2015-16-books/Volume-III-10.pdf', 'uploads/budget-2013-14-books/annual-plan-2013-14-v7-1.pdf', 'uploads/budget-2020-21-books/Volume-III-2.pdf', 'uploads/budget-2015-16-books/Volume-VII-2.pdf', 'uploads/budget-2016-17-books/Volume-VI.pdf', 'uploads/budget-2014-15-voteon-books/VoteOnAct.Plan_2014-15.I1-Doc.3.pdf', 'uploads/budget-2017-18-books/Volume-VII-2.pdf', 'uploads/budget-2020-21-books/Volume-III-17.pdf', 'uploads/budget-2015-16-books/Volume-X.pdf', 'uploads/budget-2017-18-books/Volume-VIII-2.pdf', 'uploads/budget-2019-20-books/Volume-III-16.pdf', 'uploads/budget-2018-19-books/Volume-III-13.pdf', 'uploads/budget-2016-17-books/Volume-I-1.pdf', 'uploads/budget-2016-17-books/Volume-VII-3.pdf', 'uploads/budget-2015-16-books/Volume-III-1.pdf', 'uploads/budget-2014-15-books/Volume-V-1.pdf', 'uploads/budget-2014-15-books/Volume-IX.pdf', 'https://www.apfinance.gov.in/uploads/budget-2020-21-books/Suppl.Book-2020-December.pdf', 'uploads/budget-2017-18-books/Volume-III-5.pdf', 'uploads/budget-2014-15-books/Volume-III-2.pdf', 'uploads/budget-2013-14-books/budget-estimates-2013-14-v-3-5.pdf', 'uploads/budget-2017-18-books/Volume-III-14.pdf', 'uploads/budget-2015-16-books/Volume-VIII-1.pdf', 'uploads/budget-2015-16-books/Volume-III-6.pdf', 'uploads/budget-2015-16-books/Volume-VIII-2.pdf', 'uploads/budget-2018-19-books/Volume-III-14.pdf', 'uploads/budget-2017-18-books/Volume-III-3.pdf', 'uploads/budget-2014-15-books/Volume-III-12.pdf', 'uploads/budget-2014-15-books/Volume-III-1.pdf', 'uploads/budget-2013-14-books/budget-estimates-2013-14-v-1-2.pdf', 'uploads/budget-2013-14-books/budget-estimates-2013-14-v-3-6.pdf', 'uploads/budget-2018-19-books/Volume-VII-3.pdf', 'uploads/budget-2015-16-books/Volume-III-12.pdf', 'uploads/budget-2017-18-books/Volume-V-2.pdf', 'uploads/budget-2013-14-books/budget-estimates-2013-14-v-1-1.pdf', 'uploads/budget-2020-21-books/Volume-III-12.pdf', 'uploads/budget-2019-20-books/Volume-VIII-1.pdf', 'uploads/budget-2017-18-books/Volume-I-1.pdf', 'uploads/budget-2015-16-books/Volume-III-16.pdf', 'uploads/budget-2015-16-books/Volume-VII-1.pdf', 'uploads/budget-2015-16-books/Volume-III-4.pdf', 'uploads/budget-2015-16-books/Volume-III-11.pdf', 'uploads/budget-2015-16-books/Volume-III-7.pdf', 'uploads/budget-2019-20-books/Volume-III-4.pdf', 'uploads/budget-2020-21-books/Volume-II.pdf', 'uploads/budget-2015-16-books/Volume-I-1.pdf', 'uploads/budget-2013-14-books/budget-estimates-2013-14-v3-7.pdf', 'uploads/budget-2017-18-books/Volume-III-1.pdf', 'uploads/budget-2018-19-books/Volume-I-2.pdf', 'uploads/budget-2019-20-books/Volume-III-1.pdf', 'uploads/budget-2017-18-books/Volume-IV.pdf', 'uploads/budget-2013-14-books/budget-estimates-2013-14-v3-1.pdf', 'uploads/budget-2013-14-books/budget-estimates-2013-14-v-3-11.pdf', 'uploads/budget-2018-19-books/Volume-VII-1.pdf', 'uploads/budget-2019-20-books/Volume-III-10.pdf', 'uploads/budget-2014-15-books/Volume-II.pdf', 'uploads/budget-2019-20-books/Volume-III-15.pdf', 'uploads/budget-2018-19-books/Volume-IX.pdf', 'uploads/budget-2016-17-books/Supplementary-Estimates-2015-16-Book.pdf', 'uploads/budget-2018-19-books/Volume-III-4.pdf', 'uploads/budget-2013-14-books/annual-plan-2013-14-v7-4.pdf', 'uploads/budget-2016-17-books/Volume-V-2.pdf', 'uploads/budget-2013-14-books/budget-estimates-2013-14-v8-1.pdf', 'uploads/budget-2017-18-books/Volume-III-13.pdf', 'uploads/budget-2016-17-books/Volume-III-16.pdf', 'https://www.apfinance.gov.in/uploads/budget-2020-21-books/Suppl-19-20-Printing.pdf', 'uploads/budget-2017-18-books/Volume-III-15.pdf', 'uploads/budget-2013-14-books/budget-estimates-2013-14-v-3-17.pdf', 'uploads/budget-2017-18-books/Volume-III-6.pdf', 'uploads/budget-2015-16-books/Volume-III-14.pdf', 'uploads/budget-2014-15-books/Volume-VI.pdf', 'uploads/budget-2019-20-books/Volume-IV.pdf', 'uploads/budget-2019-20-books/Volume-IX.pdf', 'uploads/budget-2016-17-books/Volume-III-8.pdf', 'uploads/budget-2016-17-books/Volume-III-17.pdf', 'uploads/budget-2017-18-books/Volume-VIII-1.pdf', 'uploads/budget-2016-17-books/Volume-III-14.pdf', 'uploads/budget-2016-17-books/Volume-V-1.pdf', 'uploads/budget-2013-14-books/budget-estimates-2013-14-v-5-2.pdf', 'uploads/budget-2016-17-books/Volume-III-4.pdf', 'uploads/budget-2016-17-books/annual-plan-2014-15-v7-2.pdf', 'uploads/budget-2016-17-books/Volume-III-5.pdf', 'uploads/budget-2019-20-books/Volume-III-6.pdf', 'uploads/budget-2018-19-books/Volume-I-1.pdf', 'uploads/budget-2014-15-books/annual-plan-2014-15-v7-2.pdf', 'uploads/budget-2020-21-books/Volume-I-2.pdf', 'uploads/budget-2014-15-books/Volume-III-9.pdf', 'uploads/budget-2016-17-books/Volume-III-12.pdf', 'uploads/budget-2016-17-books/Volume-III-1.pdf', 'uploads/budget-2014-15-books/Volume-V-2.pdf', 'uploads/budget-2013-14-books/budget-estimates-2013-14-v-3-4.pdf', 'uploads/budget-2019-20-books/Volume-III-7.pdf', 'uploads/budget-2019-20-books/Volume-VI.pdf', 'uploads/budget-2014-15-books/Volume-III-15.pdf', 'uploads/budget-2017-18-books/Volume-VII-3.pdf', 'uploads/budget-2018-19-books/Volume-VI.pdf', 'uploads/budget-2019-20-books/Volume-V-2.pdf', 'uploads/budget-2016-17-books/Volume-III-15.pdf', 'uploads/budget-2015-16-books/Volume-III-2.pdf', 'uploads/budget-2019-20-books/Volume-III-13.pdf', 'uploads/budget-2020-21-books/Volume-III-13.pdf', 'uploads/budget-2017-18-books/Volume-I-2.pdf', 'uploads/budget-2015-16-books/Volume-III-15.pdf', 'uploads/budget-2013-14-books/budget-estimates-2013-14-v-5-1.pdf', 'uploads/budget-2019-20-books/Volume-III-2.pdf', 'uploads/budget-2019-20-books/Volume-V-1.pdf', 'uploads/budget-2016-17-books/Volume-II.pdf', 'uploads/budget-2016-17-books/Volume-IX.pdf', 'uploads/budget-2020-21-books/Volume-IV.pdf', 'uploads/budget-2015-16-books/Volume-III-9.pdf', 'uploads/budget-2013-14-books/budget-estimates-2013-14-v-9.pdf', 'uploads/budget-2015-16-books/Volume-V-2.pdf', 'uploads/budget-2014-15-books/Volume-I-1.pdf', 'uploads/budget-2018-19-books/Volume-V-1.pdf', 'uploads/budget-2018-19-books/Volume-V-2.pdf', 'uploads/budget-2017-18-books/Volume-III-17.pdf', 'uploads/budget-2019-20-books/Volume-VII-1.pdf', 'uploads/budget-2013-14-books/budget-estimates-2013-14-v-3-15.pdf', 'uploads/budget-2018-19-books/Volume-III-16.pdf', 'uploads/budget-2018-19-books/Volume-VII-2.pdf', 'uploads/budget-2015-16-books/annual-plan-2014-15-v7-2.pdf', 'uploads/budget-2013-14-books/budget-estimates-2013-14-v-3-16.pdf', 'uploads/budget-2013-14-books/agriculture-budget-speech-2013-14-eng.pdf', 'downloads/Suppl_Book_Prtg.Feb.2019.pdf', 'uploads/budget-2013-14-books/budget-estimates-2013-14-v-3-8.pdf', 'uploads/budget-2020-21-books/Volume-III-10.pdf', 'uploads/budget-2015-16-books/Volume-III-8.pdf', 'uploads/budget-2019-20-books/Volume-III-14.pdf', 'uploads/budget-2013-14-books/budget-estimates-2013-14-v-3-12.pdf', 'uploads/budget-2015-16-books/Volume-IV.pdf', 'uploads/budget-2020-21-books/Volume-III-14.pdf', 'uploads/budget-2016-17-books/Volume-III-13.pdf', 'uploads/budget-2019-20-books/Volume-III-5.pdf', 'uploads/budget-2016-17-books/Volume-III-2.pdf', 'uploads/budget-2019-20-books/Volume-III-3.pdf', 'uploads/budget-2016-17-books/Volume-VII-2.pdf', 'uploads/budget-2015-16-books/Volume-III-5.pdf', 'uploads/budget-2015-16-books/Volume-VII-3.pdf', 'uploads/budget-2013-14-books/budget-estimates-2013-14-v-4.pdf', 'uploads/budget-2017-18-books/Volume-III-4.pdf', 'uploads/budget-2014-15-books/Volume-VIII-2.pdf', 'uploads/budget-2016-17-books/Volume-III-6.pdf', 'uploads/budget-2013-14-books/budget-estimates-2013-14-v3-3.pdf', 'uploads/budget-2020-21-books/Volume-III-5.pdf', 'uploads/budget-2016-17-books/Volume-III-11.pdf', 'uploads/budget-2014-15-books/Volume-VIII-1.pdf', 'uploads/budget-2017-18-books/Supplementary-Estimates-2016-17-Book.pdf', 'uploads/budget-2014-15-books/Volume-III-5.pdf', 'uploads/budget-2020-21-books/Volume-III-4.pdf', 'uploads/budget-2020-21-books/Volume-VIII-1.pdf', 'uploads/budget-2019-20-books/Volume-II.pdf', 'uploads/budget-2020-21-books/Volume-III-11.pdf', 'uploads/budget-2019-20-books/Volume-X.pdf', 'uploads/budget-2018-19-books/Volume-III-5.pdf', 'uploads/budget-2014-15-books/Volume-III-7.pdf', 'uploads/budget-2017-18-books/Volume-III-8.pdf', 'uploads/budget-2017-18-books/Volume-III-7.pdf', 'uploads/budget-2016-17-books/Volume-III-7.pdf', 'uploads/budget-2015-16-books/Volume-IX.pdf', 'uploads/budget-2017-18-books/Volume-III-11.pdf', 'uploads/budget-2018-19-books/Volume-III-11.pdf', 'uploads/budget-2020-21-books/Volume-III-9.pdf', 'uploads/budget-2015-16-books/Volume-III-17.pdf', 'uploads/budget-2014-15-books/Volume-VII-2.pdf', 'uploads/budget-2013-14-books/budget-estimates-2013-14-v-2.pdf', 'uploads/budget-2013-14-books/budget-estimates-2013-14-v-3-2.pdf', 'uploads/budget-2017-18-books/Volume-VII-1.pdf', 'uploads/budget-2019-20-books/Volume-III-8.pdf', 'uploads/budget-2020-21-books/Volume-V-2.pdf'}\n"
          ],
          "name": "stdout"
        }
      ]
    },
    {
      "cell_type": "code",
      "metadata": {
        "colab": {
          "base_uri": "https://localhost:8080/"
        },
        "id": "RibQuyOB2hPV",
        "outputId": "58c2c47a-9284-4077-d975-7708442aac74"
      },
      "source": [
        "print(len(urls))"
      ],
      "execution_count": 21,
      "outputs": [
        {
          "output_type": "stream",
          "text": [
            "96\n"
          ],
          "name": "stdout"
        }
      ]
    },
    {
      "cell_type": "code",
      "metadata": {
        "id": "liedlTZy6Fs6"
      },
      "source": [
        "failed=[]\n",
        "for idx,url in enumerate(urls):\n",
        "    # url = 'https://www.apfinance.gov.in/' + url\n",
        "    try: \n",
        "      response = requests.get(url, headers=headers)\n",
        "      # dest = '/content/gdrive/MyDrive/OCR Sources/Ml/Bills/' + str(idx) + '.pdf'\n",
        "      # with open(dest,'wb') as file:\n",
        "      #   file.write(response.content)\n",
        "      #   print(str(idx))\n",
        "    except:\n",
        "     val = 'http://niyamasabha.org/codes/' + url\n",
        "     failed.append(val)\n"
      ],
      "execution_count": 33,
      "outputs": []
    },
    {
      "cell_type": "code",
      "metadata": {
        "id": "0DZHbWmF8RI_"
      },
      "source": [
        "ctr = 22\n",
        "for i in range(len(failed)):\n",
        "    try: \n",
        "      response = requests.get(failed[i], headers=headers)\n",
        "      dest = '/content/gdrive/MyDrive/OCR Sources/Ml/Bills/' + str(ctr) + '.pdf'\n",
        "      ctr+=1\n",
        "      with open(dest,'wb') as file:\n",
        "        file.write(response.content)\n",
        "        print(str(idx))\n",
        "    except:\n",
        "     print(failed[i])"
      ],
      "execution_count": null,
      "outputs": []
    },
    {
      "cell_type": "code",
      "metadata": {
        "id": "Ys-kbdh2u2p1"
      },
      "source": [
        "urls = set(urls)\n",
        "with open(filename, 'w') as f:\n",
        "     f.write('\\n'.join(urls))"
      ],
      "execution_count": null,
      "outputs": []
    },
    {
      "cell_type": "code",
      "metadata": {
        "id": "_umEQxwNzxcR"
      },
      "source": [
        ""
      ],
      "execution_count": null,
      "outputs": []
    }
  ]
}