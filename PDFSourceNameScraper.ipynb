{
  "nbformat": 4,
  "nbformat_minor": 0,
  "metadata": {
    "colab": {
      "name": "PDFSourceNameScraper.ipynb",
      "provenance": [],
      "collapsed_sections": [],
      "authorship_tag": "ABX9TyOgJgr3uf3G8Qfm1CeZ4It8",
      "include_colab_link": true
    },
    "kernelspec": {
      "display_name": "Python 3",
      "name": "python3"
    }
  },
  "cells": [
    {
      "cell_type": "markdown",
      "metadata": {
        "id": "view-in-github",
        "colab_type": "text"
      },
      "source": [
        "<a href=\"https://colab.research.google.com/github/harshitadd/AI4BharatTranslation/blob/main/PDFSourceNameScraper.ipynb\" target=\"_parent\"><img src=\"https://colab.research.google.com/assets/colab-badge.svg\" alt=\"Open In Colab\"/></a>"
      ]
    },
    {
      "cell_type": "code",
      "metadata": {
        "colab": {
          "base_uri": "https://localhost:8080/"
        },
        "id": "mBecux7M6VAg",
        "outputId": "f8757b1b-cc37-424c-cbbb-6757ce380553"
      },
      "source": [
        "from google.colab import drive\n",
        "drive.mount('/content/gdrive')"
      ],
      "execution_count": 1,
      "outputs": [
        {
          "output_type": "stream",
          "text": [
            "Mounted at /content/gdrive\n"
          ],
          "name": "stdout"
        }
      ]
    },
    {
      "cell_type": "code",
      "metadata": {
        "colab": {
          "base_uri": "https://localhost:8080/"
        },
        "id": "m5X-kG99f6np",
        "outputId": "4d2b61d5-1617-444a-f11d-9f27c652a97c"
      },
      "source": [
        "import os\n",
        "import requests\n",
        "from urllib.parse import urljoin\n",
        "from bs4 import BeautifulSoup\n",
        "from time import sleep\n",
        "import ssl\n",
        "from collections import OrderedDict\n",
        "ssl._create_default_https_context = ssl._create_unverified_context\n",
        "# lang_ids = {'Assamese', 'Bengali', 'Gujarati', 'Kannada', 'Malayalam', 'Marathi', 'Odia', 'Punjabi', 'Tamil', 'Telugu'}\n",
        "page_limit = 0\n",
        "page_count = 0\n",
        "ordered_urls = OrderedDict()\n",
        "while(page_count<=page_limit):\n",
        "     url = \"http://niyamasabha.org/codes/bills_opinion.htm\" \n",
        "     response = requests.get(url, verify = False)\n",
        "     sleep(0.5)\n",
        "     soup= BeautifulSoup(response.text, \"html.parser\")\n",
        "     links = soup.find_all('a')   \n",
        "     print(\"Total Links Found:\",links.__len__())\n",
        "     print(\"Page Number:\" + str(page_count))\n",
        "     for link in links: \n",
        "          if '.pdf' in str(link.get('href')):\n",
        "               ordered_urls[ str(link.get('href'))] = '' \n",
        "     page_count+=1\n"
      ],
      "execution_count": 44,
      "outputs": [
        {
          "output_type": "stream",
          "text": [
            "Total Links Found: 149\n",
            "Page Number:0\n",
            "49\n"
          ],
          "name": "stdout"
        }
      ]
    },
    {
      "cell_type": "code",
      "metadata": {
        "colab": {
          "base_uri": "https://localhost:8080/"
        },
        "id": "JWST15gr1AC4",
        "outputId": "6682e6c3-5753-4f49-b6cd-99cb6da48916"
      },
      "source": [
        "print(ordered_urls)"
      ],
      "execution_count": 45,
      "outputs": [
        {
          "output_type": "stream",
          "text": [
            "OrderedDict([('http://niyamasabha.org/codes/14kla/bills/Bill%20No.%20286%20pub.pdf', ''), ('http://niyamasabha.org/codes/14kla/bills/Bill%20No.%20285%20pub.pdf', ''), ('http://niyamasabha.org/codes/14kla/bills/bill%20Pub.%20No.%20283-eng.pdf', ''), ('http://niyamasabha.org/codes/14kla/bills/bill%20Pub.%20No.%20282-eng.pdf', ''), ('http://niyamasabha.org/codes/14kla/bills/Bill%20Published%20No.%20281-mal.pdf', ''), ('http://niyamasabha.org/codes/14kla/bills/Bill%20Published%20No.%20281-eng.pdf', ''), ('http://niyamasabha.org/codes/14kla/bills/Bill%20Published%20No.%20280-eng.pdf', ''), ('http://niyamasabha.org/codes/14kla/bills/279-mal-Kerala%20appropriation(Vote%20on%20account)%20bill%2021-%20No.%20279-mal.pdf', ''), ('http://niyamasabha.org/codes/14kla/bills/279-eng-Kerala%20appropriation(Vote%20on%20account)%20bill%2021-%20No.%20279-eng.pdf', ''), ('http://niyamasabha.org/codes/14kla/bills/278-eng-Kerala%20appropriation%20bill%2021-%20No.%20278-eng.pdf', ''), ('http://niyamasabha.org/codes/14kla/bills/278-mal-Kerala%20appropriation%20bill%2021-%20No.%20278-mal.pdf', ''), ('http://niyamasabha.org/codes/14kla/bills/Bill%20NO.%20277.pdf', ''), ('http://niyamasabha.org/codes/14kla/bills/276-eng-Kerala%20GST(amt)%20bill%2021-%20No.%20276-eng.pdf', ''), ('http://niyamasabha.org/codes/14kla/bills/bills%20pub%20no.%20275.pdf', ''), ('http://niyamasabha.org/codes/14kla/bills/bills%20pub%20no.%20275%20english.pdf', ''), ('http://niyamasabha.org/codes/14kla/bills/Bills%20pub%20No.274.pdf', ''), ('http://niyamasabha.org/codes/14kla/bills/bills%20pub%20no.%20273.pdf', ''), ('http://niyamasabha.org/codes/14kla/bills/Bill%20pub%20272%20-%20eng.pdf', ''), ('http://niyamasabha.org/codes/14kla/bills/pub/Bill%20No.%20271%20-%20mal.pdf', ''), ('http://niyamasabha.org/codes/14kla/bills/pub/Bill%20No.%20270-eng.pdf', ''), ('http://niyamasabha.org/codes/14kla/bills/pub/bill%20269-mal.pdf', ''), ('http://niyamasabha.org/codes/14kla/bills/pub/bill%20269-eng.pdf', ''), ('14kla/bills/Bill%20No-268%20published.pdf', ''), ('14kla/bills/pub/Bill-264-mal.pdf', ''), ('14kla/bills/Bill%20263-eng.pdf', ''), ('14kla/bills/Bill%20No-263%20published.pdf', ''), ('14kla/bills/pub/Bill-262-eng.pdf', ''), ('14kla/bills/Bill%20No.256-eng.pdf', ''), ('14kla/bills/Bill%20No.253-mal.pdf', ''), ('14kla/bills/Bill%20250.pdf', ''), ('14kla/bills/249.pdf', ''), ('14kla/bills/bill%20248.pdf', ''), ('14kla/bills/244.pdf', ''), ('14kla/bills/Bill%20No.241.pdf', ''), ('14kla/bills/Bill%20No.240.pdf', ''), ('14kla/bills/Bill%20No.237.pdf', ''), ('14kla/bills/bill%20237-eng.pdf', ''), ('14kla/bills/bill%20no.%20236%20-mal.pdf', ''), ('14kla/bills/pub/Bill%20No.235.pdf', ''), ('14kla/bills/pub/Bill-223-mal.pdf', ''), ('14kla/bills/pub/bill-212-eng.pdf', ''), ('14kla/bills/pub/bill-211-eng.pdf', ''), ('14kla/bills/pub/bill%20210%20mal.pdf', ''), ('14kla/bills/pub/Bill%20No.%20208%20-%20eng.pdf', ''), ('14kla/bills/pub/Bill%20207%20-%20eng.pdf', ''), ('14kla/bills/pub/Bill%20No.%20206%20-mal.pdf', ''), ('14kla/bills/pub/Bill%20No.%20189%20-%20mal.pdf', ''), ('14kla/bills/pub/Bill%20189%20eng.pdf', ''), ('14kla/bills/pub/bill%20187%20-%20mal.pdf', ''), ('14kla/bills/pub/bill%20186%20-%20mal.pdf', ''), ('14kla/bills/pub/Bill%20No.%20183%20-%20mal.pdf', ''), ('14kla/bills/pub/Bill%20No.%20182-%20eng.pdf', ''), ('14kla/bills/pub/Bill%20182%20-%20mal.pdf', ''), ('14kla/bills/pub/179%20-%20mal.pdf', ''), ('14kla/bills/pub/Bill%20No.%20179%20-%20eng.pdf', ''), ('14kla/bills/pub/177%20-%20Eng.pdf', ''), ('14kla/bills/pub/176%20-%20Mal.pdf', ''), ('14kla/bills/pub/175%20-%20Eng.pdf', ''), ('14kla/bills/pub/174%20eng.pdf', ''), ('14kla/bills/pub/bill%20174%20-%20mal.pdf', ''), ('14kla/bills/pub/172%20(m).pdf', ''), ('14kla/bills/pub/168%20eng.pdf', ''), ('14kla/bills/pub/167%20mal.pdf', ''), ('14kla/bills/pub/158%20eng.pdf', ''), ('14kla/bills/pub/157%20mal.pdf', ''), ('14kla/bills/pub/156%20-%20eng.pdf', ''), ('14kla/bills/pub/154%20-%20mal.pdf', ''), ('14kla/bills/pub/154%20eng.pdf', ''), ('14kla/bills/pub/152%20-%20mal.pdf', ''), ('14kla/bills/pub/No.%20146%20mal.pdf', ''), ('14kla/bills/pub/146%20eng.pdf', ''), ('14kla/bills/pub/No.%20133%20eng..pdf', ''), ('14kla/bills/pub/No.%20132%20mal.pdf', ''), ('14kla/bills/pub/132%20eng.pdf', ''), ('14kla/bills/pub/Bill%20No.%20106%20eng.pdf', ''), ('14kla/bills/pub/Bill%20No.106%20-%20Mal.pdf', ''), ('14kla/bills/pub/Bill%20No.86.eng.pdf', ''), ('14kla/bills/pub/Bill%20No.86(mal).pdf', ''), ('14kla/bills/pub/bill%20No.%2085.pdf', ''), ('14kla/bills/pub/Bill%20No.%2085%20mal.pdf', ''), ('14kla/bills/pub/Bill%20No.%2084%20mal.pdf', ''), ('14kla/bills/pub/bill%20No.%2084.pdf', ''), ('14kla/bills/pub/Bill%20No.%2083%20eng.pdf', ''), ('14kla/bills/pub/bill%20No.%2083(mal)-2017.pdf', ''), ('14kla/bills/pub/Bill.No.%2070%20eng.pdf', ''), ('14kla/bills/pub/Bill%20No.%2069%20(eng).pdf', ''), ('14kla/bills/pub/Bill%20no.%2069%20(mal).pdf', ''), ('14kla/bills/pub/Bill.No.%2068.eng.pdf', ''), ('14kla/bills/pub/Bill%20No.68%20(mal).pdf', ''), ('14kla/bills/pub/BIll%20No.%2054%20Kerala%20Abkari%20Workers%20Welfare%20Fund(Amendment)%20%20Mal.pdf', ''), ('14kla/bills/pub/Bill%20No.%2052%20The%20Kerala%20Industrial%20Establishments%20(National%20and%20Festival%20Holidays)%20Amendment%20Eng.pdf', ''), ('14kla/bills/pub/Bill%20No.%2051%20(Eng).pdf', ''), ('14kla/bills/pub/Bill%20No.%2051%20(mal).pdf', ''), ('14kla/bills/pub/Bill%20No.%2050%20(Eng).pdf', ''), ('14kla/bills/pub/Bill%20No.50%20Kerala%20Advocates%20Welfare%20Fund%20(Amendment)%20Mal.pdf', ''), ('14kla/bills/pub/Bill%20No.%2049%20(Eng).pdf', ''), ('14kla/bills/pub/Bill%20No.%2038%20eng.pdf', ''), ('14kla/bills/pub/Bill%20No.%2038%20mal.pdf', ''), ('14kla/bills/pub/Bill%20No.%2037%20Eng.pdf', ''), ('14kla/bills/pub/Bill%20No.%2037%20(Mal).pdf', ''), ('14kla/bills/pub/Bill%20No.%2036%20Eng.pdf', ''), ('14kla/bills/pub/Bill%20No.%2036%20(Mal).pdf', ''), ('14kla/bills/pub/Bill%20No.%2034%20Eng.pdf', ''), ('14kla/bills/pub/Bill%20No.%2034%20mal.pdf', '')])\n"
          ],
          "name": "stdout"
        }
      ]
    },
    {
      "cell_type": "markdown",
      "metadata": {
        "id": "1G6NVuEn5ny0"
      },
      "source": [
        "DOWNLOADING"
      ]
    },
    {
      "cell_type": "code",
      "metadata": {
        "id": "_X_2lU6EDqEv"
      },
      "source": [
        "final = []\n",
        "for key in ordered_urls:\n",
        "  final.append(key)"
      ],
      "execution_count": 46,
      "outputs": []
    },
    {
      "cell_type": "code",
      "metadata": {
        "colab": {
          "base_uri": "https://localhost:8080/"
        },
        "id": "j4F4lnT8Dun3",
        "outputId": "d52ce5de-4011-4a90-d82c-3cf346da59d3"
      },
      "source": [
        "print(len(final))"
      ],
      "execution_count": 47,
      "outputs": [
        {
          "output_type": "stream",
          "text": [
            "104\n"
          ],
          "name": "stdout"
        }
      ]
    },
    {
      "cell_type": "code",
      "metadata": {
        "id": "vCeUkuoZGFXB"
      },
      "source": [
        "final"
      ],
      "execution_count": null,
      "outputs": []
    },
    {
      "cell_type": "code",
      "metadata": {
        "id": "0DZHbWmF8RI_"
      },
      "source": [
        "ctr=0\n",
        "for i in range(len(final)):\n",
        "    response = requests.get(final[i])\n",
        "    if i%2==0:\n",
        "      dest = '/content/gdrive/MyDrive/OCR Sources/Ml/Bills/' + str(ctr) + '_en.pdf'\n",
        "    else:\n",
        "      dest = '/content/gdrive/MyDrive/OCR Sources/Ml/Bills/' + str(ctr) + '_ml.pdf'\n",
        "    if i%2==0:\n",
        "      ctr+=1\n",
        "    with open(dest,'wb') as file:\n",
        "      file.write(response.content)\n",
        "      print(final[i])"
      ],
      "execution_count": null,
      "outputs": []
    },
    {
      "cell_type": "code",
      "metadata": {
        "id": "liedlTZy6Fs6"
      },
      "source": [
        "failed=[]\n",
        "for idx,url in enumerate(urls):\n",
        "    # url = 'https://www.apfinance.gov.in/' + url\n",
        "    try: \n",
        "      response = requests.get(url, headers=headers)\n",
        "      # dest = '/content/gdrive/MyDrive/OCR Sources/Ml/Bills/' + str(idx) + '.pdf'\n",
        "      # with open(dest,'wb') as file:\n",
        "      #   file.write(response.content)\n",
        "      #   print(str(idx))\n",
        "    except:\n",
        "     val = 'http://niyamasabha.org/codes/' + url\n",
        "     failed.append(val)\n"
      ],
      "execution_count": null,
      "outputs": []
    },
    {
      "cell_type": "code",
      "metadata": {
        "id": "Ys-kbdh2u2p1"
      },
      "source": [
        "urls = set(urls)\n",
        "with open(filename, 'w') as f:\n",
        "     f.write('\\n'.join(urls))"
      ],
      "execution_count": null,
      "outputs": []
    },
    {
      "cell_type": "code",
      "metadata": {
        "id": "_umEQxwNzxcR"
      },
      "source": [
        ""
      ],
      "execution_count": null,
      "outputs": []
    }
  ]
}