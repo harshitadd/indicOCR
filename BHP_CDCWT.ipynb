{
  "nbformat": 4,
  "nbformat_minor": 0,
  "metadata": {
    "colab": {
      "name": "BHP_CDCWT",
      "provenance": [],
      "collapsed_sections": [],
      "authorship_tag": "ABX9TyM4UGMtz4T0TPPhfpxxjD4M",
      "include_colab_link": true
    },
    "kernelspec": {
      "name": "python3",
      "display_name": "Python 3"
    }
  },
  "cells": [
    {
      "cell_type": "markdown",
      "metadata": {
        "id": "view-in-github",
        "colab_type": "text"
      },
      "source": [
        "<a href=\"https://colab.research.google.com/github/harshitadd/AI4BharatTranslation/blob/main/BHP_CDCWT.ipynb\" target=\"_parent\"><img src=\"https://colab.research.google.com/assets/colab-badge.svg\" alt=\"Open In Colab\"/></a>"
      ]
    },
    {
      "cell_type": "code",
      "metadata": {
        "id": "EwZ72eK_TmbT"
      },
      "source": [
        "#!pip install shap \n",
        "from sklearn.datasets import load_boston\n",
        "import pandas as pd\n",
        "import numpy as np \n",
        "import matplotlib.pyplot as plt \n",
        "import tensorflow as tf\n",
        "from sklearn.model_selection import train_test_split\n",
        "from tensorflow.keras.models import Sequential\n",
        "from tensorflow.keras.layers import Dense\n",
        "from plotly.subplots import make_subplots\n",
        "import plotly.graph_objects as go\n",
        "import math"
      ],
      "execution_count": 1,
      "outputs": []
    },
    {
      "cell_type": "code",
      "metadata": {
        "id": "1cu-bA6xEw7J"
      },
      "source": [
        "def global_data():\n",
        "  boston_dataset = load_boston()\n",
        "  df = pd.DataFrame(boston_dataset.data, columns=boston_dataset.feature_names)\n",
        "  df['MEDV'] = boston_dataset.target\n",
        "  df=df.sample(frac=1) #shuffling the dataframe to remove sequentially identical data\n",
        "  return df \n",
        "\n",
        "\n",
        "def make_dataset(df, start, end, drop_columns=[]): \n",
        "  \n",
        "  df=df.drop(columns=drop_columns)\n",
        "  df=df[start:end]\n",
        "  X = df.loc[:, df.columns != 'MEDV']\n",
        "  y = df.loc[:, df.columns == 'MEDV']\n",
        "  X_train, X_test, y_train, y_test = train_test_split(X, y, test_size=0.3, random_state=123)\n",
        "  \n",
        "  #Normalizing data \n",
        "  mean = X_train.mean(axis=0)\n",
        "  std = X_train.std(axis=0)\n",
        "  X_train = (X_train - mean) / std\n",
        "  X_test = (X_test - mean) / std\n",
        "  \n",
        "  return X_train, X_test, y_train, y_test"
      ],
      "execution_count": 2,
      "outputs": []
    },
    {
      "cell_type": "code",
      "metadata": {
        "id": "EIwRdUyot67k"
      },
      "source": [
        "opt = tf.keras.optimizers.Adam(learning_rate=0.0021)"
      ],
      "execution_count": 3,
      "outputs": []
    },
    {
      "cell_type": "code",
      "metadata": {
        "id": "joEqHgenjsgE"
      },
      "source": [
        "df = global_data()"
      ],
      "execution_count": 4,
      "outputs": []
    },
    {
      "cell_type": "code",
      "metadata": {
        "id": "c-a_u7tAj9kG",
        "colab": {
          "base_uri": "https://localhost:8080/"
        },
        "outputId": "79067b61-9f55-4486-ff6d-6e529ed34e64"
      },
      "source": [
        "df.keys()  "
      ],
      "execution_count": 5,
      "outputs": [
        {
          "output_type": "execute_result",
          "data": {
            "text/plain": [
              "Index(['CRIM', 'ZN', 'INDUS', 'CHAS', 'NOX', 'RM', 'AGE', 'DIS', 'RAD', 'TAX',\n",
              "       'PTRATIO', 'B', 'LSTAT', 'MEDV'],\n",
              "      dtype='object')"
            ]
          },
          "metadata": {
            "tags": []
          },
          "execution_count": 5
        }
      ]
    },
    {
      "cell_type": "code",
      "metadata": {
        "id": "iI3BzOma1190"
      },
      "source": [
        "K = 13 "
      ],
      "execution_count": 6,
      "outputs": []
    },
    {
      "cell_type": "code",
      "metadata": {
        "id": "ZP7mp6tyE-Cw"
      },
      "source": [
        "model1 = Sequential(name='Client_1')\n",
        "model1.add(Dense(128, input_shape=(13, ), activation='relu', name='client_dense_1'))\n",
        "model1.add(Dense(64, activation='relu', name='dense_2'))\n",
        "model1.add(Dense(1, activation='linear', name='dense_output'))\n",
        "model1.compile(optimizer=opt, loss='mse', metrics=['mae'])"
      ],
      "execution_count": 7,
      "outputs": []
    },
    {
      "cell_type": "code",
      "metadata": {
        "id": "ASHUA3tJkjre"
      },
      "source": [
        "#Custom callback for deactivating feature specific neurons - for Client 1 we are assuming : 0:3 are the only active input neurons. \n",
        "class My_Callback(tf.keras.callbacks.Callback):\n",
        "\n",
        "    def __init__(self, m):\n",
        "      self.m = m\n",
        "    def on_epoch_begin(self,epoch,logs={}):\n",
        "      return\n",
        "\n",
        "    def on_epoch_end(self, epoch, logs={}):\n",
        "      new_weights_dense = list(self.model.layers[0].weights[0][:self.m].numpy())\n",
        "      new_weights_bias = np.zeros((128,))\n",
        "      \n",
        "      for i in range(K-self.m):\n",
        "        new_weights_dense.append(np.zeros((128)))\n",
        "        \n",
        "      dropout_layer_weights=[]\n",
        "      dropout_layer_weights.append(np.array(new_weights_dense))\n",
        "      dropout_layer_weights.append(np.array(new_weights_bias)) \n",
        "\n",
        "      for weights in self.model.weights[2:]:\n",
        "                dropout_layer_weights.append(weights.numpy())\n",
        "      self.model.set_weights(dropout_layer_weights)   \n",
        "      return self.m"
      ],
      "execution_count": 8,
      "outputs": []
    },
    {
      "cell_type": "code",
      "metadata": {
        "id": "JCVnyZiZ9VTA"
      },
      "source": [
        "model2 = Sequential(name='Client_2')\n",
        "model2.add(Dense(128, input_shape=(13, ), activation='relu', name='client2_dense_1'))\n",
        "model2.add(Dense(64, activation='relu', name='dense_2'))\n",
        "model2.add(Dense(1, activation='linear', name='dense_output'))\n",
        "model2.compile(optimizer=opt, loss='mse', metrics=['mae'])\n"
      ],
      "execution_count": 9,
      "outputs": []
    },
    {
      "cell_type": "code",
      "metadata": {
        "id": "Fr4VW1aw95eW"
      },
      "source": [
        "class My_NEWCallback(tf.keras.callbacks.Callback):\n",
        "\n",
        "    def __init__(self, m):\n",
        "      self.m = m\n",
        "    def on_epoch_begin(self,epoch,logs={}):\n",
        "      return\n",
        "\n",
        "    def on_epoch_end(self, epoch, logs={}):\n",
        "      new_weights_dense=[]\n",
        "  \n",
        "      new_weights_dense = list(self.model.layers[0].weights[0][:self.m].numpy())\n",
        "      new_weights_bias = np.zeros((128,))\n",
        "      \n",
        "      for i in range(K-self.m):\n",
        "        new_weights_dense.append(np.zeros((128)))\n",
        "\n",
        "      new_weights_bias = np.zeros((128,))\n",
        "      \n",
        "      dropout_layer_weights=[]\n",
        "      dropout_layer_weights.append(np.array(new_weights_dense))\n",
        "      dropout_layer_weights.append(np.array(new_weights_bias)) \n",
        "\n",
        "      for weights in self.model.weights[2:]:\n",
        "                dropout_layer_weights.append(weights.numpy())\n",
        "      \n",
        "      self.model.set_weights(dropout_layer_weights)   \n",
        "      return self.m "
      ],
      "execution_count": 10,
      "outputs": []
    },
    {
      "cell_type": "code",
      "metadata": {
        "id": "u93lPe-otWX2"
      },
      "source": [
        "client_models = [model1,model2]"
      ],
      "execution_count": 11,
      "outputs": []
    },
    {
      "cell_type": "code",
      "metadata": {
        "id": "SZ7LSik4l5Na"
      },
      "source": [
        "# model_features = {model1:['CRIM', 'ZN', 'INDUS', 'CHAS', 'NOX', 'RM', 'AGE'], \n",
        "#                   model2:['DIS', 'RAD', 'TAX','PTRATIO', 'B', 'LSTAT']}   # No Overlap Case \n",
        "# model_features = {model1: ['CRIM', 'ZN', 'INDUS', 'CHAS', 'NOX', 'RM', 'AGE', 'DIS', 'RAD','LSTAT','PTRATIO','TAX'],\n",
        "#                   model2: ['CRIM', 'ZN', 'INDUS', 'CHAS', 'NOX', 'RM', 'AGE', 'DIS', 'RAD','LSTAT','PTRATIO','B']}  # Partial Overlap \n",
        "model_features = {model1:['CRIM', 'ZN', 'INDUS', 'CHAS', 'NOX', 'RM', 'AGE', 'DIS', 'RAD', 'TAX','PTRATIO', 'B', 'LSTAT'],\n",
        "                 model2:['CRIM', 'ZN', 'INDUS', 'CHAS', 'NOX', 'RM', 'AGE', 'DIS', 'RAD', 'TAX','PTRATIO', 'B', 'LSTAT']} #Complete Overlap\n",
        "\n",
        "#Comparison with CDFL - Partial Overlap Case "
      ],
      "execution_count": 12,
      "outputs": []
    },
    {
      "cell_type": "code",
      "metadata": {
        "id": "V7Sl68gw2qFm"
      },
      "source": [
        "m_mapping = {model1:len(model_features[model1]), model2: len(model_features[model2])}"
      ],
      "execution_count": 13,
      "outputs": []
    },
    {
      "cell_type": "code",
      "metadata": {
        "id": "0EQmkEa4tPH8"
      },
      "source": [
        "def make_CDFL_client_data(df=df,client_models=client_models):\n",
        "  client_datasets={}  #Client Name mapped with full dataset - needs to separated into labels and training set \n",
        "  for client in client_models:\n",
        "    print(client.name)\n",
        "    temp = df \n",
        "    drop_columns = [x for x in df.keys() if x not in model_features[client] and x!='MEDV']\n",
        "    temp=temp.drop(columns=drop_columns)\n",
        "    X = temp.loc[:, temp.columns != 'MEDV']\n",
        "    y = temp.loc[:, temp.columns == 'MEDV']\n",
        "    X_train, X_test, y_train, y_test = train_test_split(X, y, test_size=0.2, random_state=123)\n",
        "    \n",
        "    #Normalizing data \n",
        "    mean = X_train.mean(axis=0)\n",
        "    std = X_train.std(axis=0)\n",
        "    X_train = (X_train - mean) / std\n",
        "    X_test = (X_test - mean) / std\n",
        "\n",
        "    for i in range(len(drop_columns)):\n",
        "      X_train[drop_columns[i]]=0.0   \n",
        "    for i in range(len(drop_columns)):\n",
        "      X_test[drop_columns[i]]=0.0\n",
        "    \n",
        "    client_datasets[client]=X_train, X_test, y_train, y_test\n",
        "  \n",
        "  return client_datasets"
      ],
      "execution_count": 14,
      "outputs": []
    },
    {
      "cell_type": "code",
      "metadata": {
        "id": "M9NBhVvlQrRf",
        "colab": {
          "base_uri": "https://localhost:8080/"
        },
        "outputId": "477f5a85-1833-409f-bb7b-5dac6069bcf4"
      },
      "source": [
        "## CDCWT \n",
        "## Making the federated iteration loop \n",
        "\n",
        "client_datasets=make_CDFL_client_data()\n",
        "import time\n",
        "original_weights = {} \n",
        "def run_federated_iterations(iterations, visualize):\n",
        "  k=0 \n",
        "\n",
        "  global_losses=[]\n",
        "  client_losses=[]\n",
        "  checked=0\n",
        "\n",
        "  for i in range(iterations):\n",
        "    j=0\n",
        "    start_time = time.time()\n",
        "    c=0\n",
        "    for ctr in range(len(client_models)):    \n",
        "      X_train,X_test, y_train, y_test = client_datasets[client_models[ctr]]\n",
        "      X_train=X_train[k:k+2]\n",
        "      y_train=y_train[k:k+2]\n",
        "      k+=2\n",
        "      # print('These are preserved weights - ', original_weights[client_models[ctr]][0])  \n",
        "      # original_weights[client_models[ctr]] = client_models[ctr].get_weights()  # Will be used to reconstruct weights before transferring \n",
        "\n",
        "      # Before setting weights of the next model with the weights of the current model - the zeroed weights of the current model ( because of CD ) are replaced by its original weights before they were zeroed \n",
        "      if ctr == 1: \n",
        "        neighbour = 0\n",
        "      else:\n",
        "        neighbour = 1  \n",
        "      # try:\n",
        "      # # client_models[ctr-1].get_weights() # Preceeding clients weights - that are actually zeroed \n",
        "      # Reconstructed_weights \n",
        "      n = m_mapping[client_models[neighbour]] #Take the neighbour's weights and reconstruct the weights that would have been used had the weights not been zeroed \n",
        "      m = m_mapping[client_models[ctr]]\n",
        "      reconstructed_weights = []\n",
        "      reconstructed_first_layer_weights = []\n",
        "      original_weights[client_models[ctr]] = client_models[ctr].get_weights()  # Will be used to reconstruct weights before transferring - Original Weights of the model to which new weights are going to be transferred\n",
        "      original_initial_layer_weights = original_weights[client_models[ctr]][0]\n",
        "      reconstructed_first_layer_weights.append(np.vstack((np.asarray(client_models[neighbour].weights[0][0:n]),np.asarray(original_initial_layer_weights[n:]))))\n",
        "      print(np.shape(original_initial_layer_weights))\n",
        "      reconstructed_first_layer_weights = np.reshape(reconstructed_first_layer_weights, (K,128))\n",
        "      reconstructed_weights.append(np.asarray(reconstructed_first_layer_weights))\n",
        "      for i in range(1,len(client_models[ctr].weights)):\n",
        "        reconstructed_weights.append(client_models[ctr].weights[i].numpy())\n",
        "      client_models[ctr].set_weights(reconstructed_weights)  # Here the reconstructed weights will be transferred \n",
        "    # except:\n",
        "      #   print('Failed for ' + str(client_models[ctr].name))\n",
        "\n",
        "      client_models[ctr].fit(X_train, y_train, epochs=1, validation_split=0.05, shuffle=True, callbacks=None,verbose=0) # For Complete Overlap \n",
        "      # client_models[ctr].fit(X_train, y_train, epochs=1, validation_split=0.05, shuffle=True, callbacks=callbacks[j],verbose=0) # For No Overlap/Partial Overlap \n",
        "      # print('Weights right after training - ', client_models[ctr].weights[0])\n",
        "\n",
        "      j+=1\n",
        "      res = client_models[ctr].evaluate(X_test,y_test)\n",
        "      client_losses.append(res[0])\n",
        "\n",
        "      # if(visualize==True):\n",
        "      #   explainer = shap.DeepExplainer(client_models[ctr], X_train[:50].values)\n",
        "      #   shap_values = explainer.shap_values(X_test[:50].values)\n",
        "      #   shap.summary_plot(shap_values, X_test, plot_type='bar',show=True)\n",
        "\n",
        "  total_time = time.time() - start_time\n",
        "  return global_losses, total_time, client_losses"
      ],
      "execution_count": 15,
      "outputs": [
        {
          "output_type": "stream",
          "text": [
            "Client_1\n",
            "Client_2\n"
          ],
          "name": "stdout"
        }
      ]
    },
    {
      "cell_type": "code",
      "metadata": {
        "id": "7vIaG6_1ZaTe"
      },
      "source": [
        "client_models = [model1,model2]\n",
        "callbacks = [My_Callback(m = len(model_features[model1])),My_NEWCallback(m = len(model_features[model2]))]"
      ],
      "execution_count": 16,
      "outputs": []
    },
    {
      "cell_type": "code",
      "metadata": {
        "id": "rPoc9xo3IRuw",
        "colab": {
          "base_uri": "https://localhost:8080/"
        },
        "outputId": "2f4ebceb-fd29-4c4c-f31c-b4ff8d15b248"
      },
      "source": [
        "losses = run_federated_iterations(90,visualize=False)"
      ],
      "execution_count": 17,
      "outputs": [
        {
          "output_type": "stream",
          "text": [
            "(13, 128)\n",
            "4/4 [==============================] - 0s 4ms/step - loss: 553.6288 - mae: 21.6741\n",
            "(13, 128)\n",
            "4/4 [==============================] - 0s 3ms/step - loss: 541.3972 - mae: 21.3773\n",
            "(13, 128)\n",
            "4/4 [==============================] - 0s 3ms/step - loss: 549.0856 - mae: 21.5533\n",
            "(13, 128)\n",
            "4/4 [==============================] - 0s 3ms/step - loss: 536.9901 - mae: 21.2845\n",
            "(13, 128)\n",
            "4/4 [==============================] - 0s 3ms/step - loss: 544.5245 - mae: 21.4416\n",
            "(13, 128)\n",
            "4/4 [==============================] - 0s 3ms/step - loss: 532.3897 - mae: 21.1779\n",
            "(13, 128)\n",
            "4/4 [==============================] - 0s 2ms/step - loss: 540.2966 - mae: 21.3377\n",
            "(13, 128)\n",
            "4/4 [==============================] - 0s 3ms/step - loss: 527.5452 - mae: 21.0667\n",
            "(13, 128)\n",
            "4/4 [==============================] - 0s 3ms/step - loss: 535.6791 - mae: 21.2302\n",
            "(13, 128)\n",
            "4/4 [==============================] - 0s 3ms/step - loss: 522.5699 - mae: 20.9489\n",
            "(13, 128)\n",
            "4/4 [==============================] - 0s 3ms/step - loss: 531.1506 - mae: 21.1182\n",
            "(13, 128)\n",
            "4/4 [==============================] - 0s 3ms/step - loss: 517.4816 - mae: 20.8269\n",
            "(13, 128)\n",
            "4/4 [==============================] - 0s 3ms/step - loss: 526.5634 - mae: 20.9994\n",
            "(13, 128)\n",
            "4/4 [==============================] - 0s 3ms/step - loss: 511.5424 - mae: 20.6669\n",
            "(13, 128)\n",
            "4/4 [==============================] - 0s 3ms/step - loss: 522.0025 - mae: 20.8799\n",
            "(13, 128)\n",
            "4/4 [==============================] - 0s 3ms/step - loss: 505.3994 - mae: 20.5018\n",
            "(13, 128)\n",
            "4/4 [==============================] - 0s 3ms/step - loss: 517.0208 - mae: 20.7554\n",
            "(13, 128)\n",
            "4/4 [==============================] - 0s 3ms/step - loss: 498.9284 - mae: 20.3309\n",
            "(13, 128)\n",
            "4/4 [==============================] - 0s 3ms/step - loss: 511.8194 - mae: 20.6287\n",
            "(13, 128)\n",
            "4/4 [==============================] - 0s 4ms/step - loss: 492.1730 - mae: 20.1533\n",
            "(13, 128)\n",
            "4/4 [==============================] - 0s 3ms/step - loss: 506.7900 - mae: 20.5051\n",
            "(13, 128)\n",
            "4/4 [==============================] - 0s 3ms/step - loss: 484.6530 - mae: 19.9648\n",
            "(13, 128)\n",
            "4/4 [==============================] - 0s 3ms/step - loss: 501.5756 - mae: 20.3787\n",
            "(13, 128)\n",
            "4/4 [==============================] - 0s 3ms/step - loss: 476.5566 - mae: 19.7651\n",
            "(13, 128)\n",
            "4/4 [==============================] - 0s 4ms/step - loss: 496.3223 - mae: 20.2525\n",
            "(13, 128)\n",
            "4/4 [==============================] - 0s 4ms/step - loss: 467.8759 - mae: 19.5519\n",
            "(13, 128)\n",
            "4/4 [==============================] - 0s 3ms/step - loss: 490.9846 - mae: 20.1265\n",
            "(13, 128)\n",
            "4/4 [==============================] - 0s 3ms/step - loss: 458.5498 - mae: 19.3266\n",
            "(13, 128)\n",
            "4/4 [==============================] - 0s 3ms/step - loss: 485.5106 - mae: 19.9969\n",
            "(13, 128)\n",
            "4/4 [==============================] - 0s 4ms/step - loss: 448.4329 - mae: 19.0859\n",
            "(13, 128)\n",
            "4/4 [==============================] - 0s 3ms/step - loss: 479.9128 - mae: 19.8649\n",
            "(13, 128)\n",
            "4/4 [==============================] - 0s 3ms/step - loss: 437.8389 - mae: 18.8167\n",
            "(13, 128)\n",
            "4/4 [==============================] - 0s 3ms/step - loss: 473.2329 - mae: 19.7101\n",
            "(13, 128)\n",
            "4/4 [==============================] - 0s 3ms/step - loss: 426.0381 - mae: 18.5237\n",
            "(13, 128)\n",
            "4/4 [==============================] - 0s 3ms/step - loss: 465.8731 - mae: 19.5417\n",
            "(13, 128)\n",
            "4/4 [==============================] - 0s 2ms/step - loss: 414.2816 - mae: 18.2212\n",
            "(13, 128)\n",
            "4/4 [==============================] - 0s 3ms/step - loss: 458.3131 - mae: 19.3659\n",
            "(13, 128)\n",
            "4/4 [==============================] - 0s 3ms/step - loss: 401.4240 - mae: 17.8945\n",
            "(13, 128)\n",
            "4/4 [==============================] - 0s 3ms/step - loss: 449.8274 - mae: 19.1702\n",
            "(13, 128)\n",
            "4/4 [==============================] - 0s 3ms/step - loss: 387.3902 - mae: 17.5382\n",
            "(13, 128)\n",
            "4/4 [==============================] - 0s 3ms/step - loss: 441.0945 - mae: 18.9651\n",
            "(13, 128)\n",
            "4/4 [==============================] - 0s 4ms/step - loss: 372.8430 - mae: 17.1641\n",
            "(13, 128)\n",
            "4/4 [==============================] - 0s 3ms/step - loss: 432.0392 - mae: 18.7469\n",
            "(13, 128)\n",
            "4/4 [==============================] - 0s 3ms/step - loss: 357.0809 - mae: 16.7567\n",
            "(13, 128)\n",
            "4/4 [==============================] - 0s 3ms/step - loss: 421.5090 - mae: 18.4992\n",
            "(13, 128)\n",
            "4/4 [==============================] - 0s 2ms/step - loss: 341.0610 - mae: 16.3395\n",
            "(13, 128)\n",
            "4/4 [==============================] - 0s 3ms/step - loss: 410.8633 - mae: 18.2355\n",
            "(13, 128)\n",
            "4/4 [==============================] - 0s 3ms/step - loss: 324.4469 - mae: 15.9008\n",
            "(13, 128)\n",
            "4/4 [==============================] - 0s 3ms/step - loss: 400.1976 - mae: 17.9628\n",
            "(13, 128)\n",
            "4/4 [==============================] - 0s 4ms/step - loss: 305.7029 - mae: 15.3994\n",
            "(13, 128)\n",
            "4/4 [==============================] - 0s 3ms/step - loss: 389.0172 - mae: 17.6752\n",
            "(13, 128)\n",
            "4/4 [==============================] - 0s 3ms/step - loss: 287.0644 - mae: 14.8760\n",
            "(13, 128)\n",
            "4/4 [==============================] - 0s 3ms/step - loss: 377.4926 - mae: 17.3667\n",
            "(13, 128)\n",
            "4/4 [==============================] - 0s 4ms/step - loss: 268.8316 - mae: 14.3340\n",
            "(13, 128)\n",
            "4/4 [==============================] - 0s 3ms/step - loss: 364.3156 - mae: 17.0124\n",
            "(13, 128)\n",
            "4/4 [==============================] - 0s 4ms/step - loss: 249.8119 - mae: 13.7455\n",
            "(13, 128)\n",
            "4/4 [==============================] - 0s 3ms/step - loss: 351.1429 - mae: 16.6517\n",
            "(13, 128)\n",
            "4/4 [==============================] - 0s 3ms/step - loss: 231.7477 - mae: 13.1547\n",
            "(13, 128)\n",
            "4/4 [==============================] - 0s 3ms/step - loss: 336.4768 - mae: 16.2498\n",
            "(13, 128)\n",
            "4/4 [==============================] - 0s 3ms/step - loss: 210.9521 - mae: 12.4945\n",
            "(13, 128)\n",
            "4/4 [==============================] - 0s 2ms/step - loss: 319.5638 - mae: 15.8031\n",
            "(13, 128)\n",
            "4/4 [==============================] - 0s 3ms/step - loss: 190.5748 - mae: 11.8126\n",
            "(13, 128)\n",
            "4/4 [==============================] - 0s 3ms/step - loss: 301.3869 - mae: 15.3133\n",
            "(13, 128)\n",
            "4/4 [==============================] - 0s 3ms/step - loss: 171.1565 - mae: 11.1140\n",
            "(13, 128)\n",
            "4/4 [==============================] - 0s 3ms/step - loss: 283.1885 - mae: 14.8056\n",
            "(13, 128)\n",
            "4/4 [==============================] - 0s 3ms/step - loss: 153.2262 - mae: 10.4366\n",
            "(13, 128)\n",
            "4/4 [==============================] - 0s 4ms/step - loss: 265.4597 - mae: 14.2749\n",
            "(13, 128)\n",
            "4/4 [==============================] - 0s 4ms/step - loss: 137.3763 - mae: 9.8027\n",
            "(13, 128)\n",
            "4/4 [==============================] - 0s 3ms/step - loss: 245.8929 - mae: 13.6892\n",
            "(13, 128)\n",
            "4/4 [==============================] - 0s 4ms/step - loss: 120.0307 - mae: 9.0613\n",
            "(13, 128)\n",
            "4/4 [==============================] - 0s 3ms/step - loss: 226.4230 - mae: 13.0861\n",
            "(13, 128)\n",
            "4/4 [==============================] - 0s 4ms/step - loss: 104.4445 - mae: 8.3610\n",
            "(13, 128)\n",
            "4/4 [==============================] - 0s 4ms/step - loss: 207.8022 - mae: 12.4877\n",
            "(13, 128)\n",
            "4/4 [==============================] - 0s 4ms/step - loss: 89.9986 - mae: 7.6842\n",
            "(13, 128)\n",
            "4/4 [==============================] - 0s 3ms/step - loss: 189.6423 - mae: 11.8672\n",
            "(13, 128)\n",
            "4/4 [==============================] - 0s 3ms/step - loss: 79.0300 - mae: 7.1111\n",
            "(13, 128)\n",
            "4/4 [==============================] - 0s 4ms/step - loss: 172.2915 - mae: 11.2479\n",
            "(13, 128)\n",
            "4/4 [==============================] - 0s 2ms/step - loss: 70.3021 - mae: 6.6375\n",
            "(13, 128)\n",
            "4/4 [==============================] - 0s 4ms/step - loss: 155.8014 - mae: 10.6355\n",
            "(13, 128)\n",
            "4/4 [==============================] - 0s 3ms/step - loss: 63.5393 - mae: 6.2049\n",
            "(13, 128)\n",
            "4/4 [==============================] - 0s 4ms/step - loss: 139.3868 - mae: 9.9846\n",
            "(13, 128)\n",
            "4/4 [==============================] - 0s 4ms/step - loss: 58.8217 - mae: 5.8814\n",
            "(13, 128)\n",
            "4/4 [==============================] - 0s 3ms/step - loss: 123.5019 - mae: 9.2977\n",
            "(13, 128)\n",
            "4/4 [==============================] - 0s 4ms/step - loss: 56.4226 - mae: 5.7230\n",
            "(13, 128)\n",
            "4/4 [==============================] - 0s 3ms/step - loss: 107.4791 - mae: 8.5700\n",
            "(13, 128)\n",
            "4/4 [==============================] - 0s 3ms/step - loss: 56.3554 - mae: 5.7219\n",
            "(13, 128)\n",
            "4/4 [==============================] - 0s 3ms/step - loss: 93.8348 - mae: 7.9314\n",
            "(13, 128)\n",
            "4/4 [==============================] - 0s 3ms/step - loss: 59.4209 - mae: 5.9129\n",
            "(13, 128)\n",
            "4/4 [==============================] - 0s 3ms/step - loss: 82.7660 - mae: 7.3807\n",
            "(13, 128)\n",
            "4/4 [==============================] - 0s 4ms/step - loss: 66.4810 - mae: 6.3391\n",
            "(13, 128)\n",
            "4/4 [==============================] - 0s 3ms/step - loss: 73.7211 - mae: 6.8707\n",
            "(13, 128)\n",
            "4/4 [==============================] - 0s 3ms/step - loss: 75.8040 - mae: 6.8693\n",
            "(13, 128)\n",
            "4/4 [==============================] - 0s 3ms/step - loss: 66.4329 - mae: 6.4173\n",
            "(13, 128)\n",
            "4/4 [==============================] - 0s 2ms/step - loss: 85.0276 - mae: 7.3054\n",
            "(13, 128)\n",
            "4/4 [==============================] - 0s 3ms/step - loss: 62.1033 - mae: 6.1166\n",
            "(13, 128)\n",
            "4/4 [==============================] - 0s 3ms/step - loss: 91.7163 - mae: 7.6316\n",
            "(13, 128)\n",
            "4/4 [==============================] - 0s 3ms/step - loss: 59.7524 - mae: 5.9755\n",
            "(13, 128)\n",
            "4/4 [==============================] - 0s 5ms/step - loss: 88.7318 - mae: 7.4855\n",
            "(13, 128)\n",
            "4/4 [==============================] - 0s 3ms/step - loss: 58.1702 - mae: 5.9037\n",
            "(13, 128)\n",
            "4/4 [==============================] - 0s 3ms/step - loss: 84.7961 - mae: 7.2709\n",
            "(13, 128)\n",
            "4/4 [==============================] - 0s 3ms/step - loss: 56.9265 - mae: 5.8447\n",
            "(13, 128)\n",
            "4/4 [==============================] - 0s 4ms/step - loss: 79.8531 - mae: 7.0195\n",
            "(13, 128)\n",
            "4/4 [==============================] - 0s 3ms/step - loss: 55.7999 - mae: 5.7922\n",
            "(13, 128)\n",
            "4/4 [==============================] - 0s 4ms/step - loss: 74.8847 - mae: 6.7471\n",
            "(13, 128)\n",
            "4/4 [==============================] - 0s 3ms/step - loss: 54.6810 - mae: 5.7374\n",
            "(13, 128)\n",
            "4/4 [==============================] - 0s 4ms/step - loss: 70.9059 - mae: 6.5184\n",
            "(13, 128)\n",
            "4/4 [==============================] - 0s 3ms/step - loss: 53.4648 - mae: 5.6755\n",
            "(13, 128)\n",
            "4/4 [==============================] - 0s 3ms/step - loss: 67.6513 - mae: 6.3165\n",
            "(13, 128)\n",
            "4/4 [==============================] - 0s 2ms/step - loss: 51.7021 - mae: 5.5873\n",
            "(13, 128)\n",
            "4/4 [==============================] - 0s 3ms/step - loss: 64.9989 - mae: 6.1420\n",
            "(13, 128)\n",
            "4/4 [==============================] - 0s 3ms/step - loss: 50.1252 - mae: 5.5050\n",
            "(13, 128)\n",
            "4/4 [==============================] - 0s 4ms/step - loss: 62.9890 - mae: 5.9962\n",
            "(13, 128)\n",
            "4/4 [==============================] - 0s 4ms/step - loss: 48.6860 - mae: 5.4273\n",
            "(13, 128)\n",
            "4/4 [==============================] - 0s 3ms/step - loss: 61.0313 - mae: 5.8362\n",
            "(13, 128)\n",
            "4/4 [==============================] - 0s 4ms/step - loss: 47.5013 - mae: 5.3601\n",
            "(13, 128)\n",
            "4/4 [==============================] - 0s 3ms/step - loss: 59.6668 - mae: 5.7279\n",
            "(13, 128)\n",
            "4/4 [==============================] - 0s 3ms/step - loss: 46.4058 - mae: 5.2924\n",
            "(13, 128)\n",
            "4/4 [==============================] - 0s 4ms/step - loss: 58.1217 - mae: 5.5959\n",
            "(13, 128)\n",
            "4/4 [==============================] - 0s 3ms/step - loss: 45.0893 - mae: 5.2104\n",
            "(13, 128)\n",
            "4/4 [==============================] - 0s 4ms/step - loss: 56.5720 - mae: 5.4632\n",
            "(13, 128)\n",
            "4/4 [==============================] - 0s 2ms/step - loss: 43.8816 - mae: 5.1389\n",
            "(13, 128)\n",
            "4/4 [==============================] - 0s 3ms/step - loss: 55.2766 - mae: 5.3579\n",
            "(13, 128)\n",
            "4/4 [==============================] - 0s 3ms/step - loss: 43.0701 - mae: 5.0977\n",
            "(13, 128)\n",
            "4/4 [==============================] - 0s 3ms/step - loss: 54.1506 - mae: 5.2767\n",
            "(13, 128)\n",
            "4/4 [==============================] - 0s 4ms/step - loss: 41.8680 - mae: 5.0321\n",
            "(13, 128)\n",
            "4/4 [==============================] - 0s 3ms/step - loss: 52.4203 - mae: 5.1881\n",
            "(13, 128)\n",
            "4/4 [==============================] - 0s 4ms/step - loss: 40.3940 - mae: 4.9484\n",
            "(13, 128)\n",
            "4/4 [==============================] - 0s 4ms/step - loss: 51.0337 - mae: 5.1271\n",
            "(13, 128)\n",
            "4/4 [==============================] - 0s 3ms/step - loss: 39.1298 - mae: 4.8788\n",
            "(13, 128)\n",
            "4/4 [==============================] - 0s 4ms/step - loss: 50.1777 - mae: 5.1027\n",
            "(13, 128)\n",
            "4/4 [==============================] - 0s 3ms/step - loss: 38.2315 - mae: 4.8304\n",
            "(13, 128)\n",
            "4/4 [==============================] - 0s 3ms/step - loss: 49.3034 - mae: 5.0899\n",
            "(13, 128)\n",
            "4/4 [==============================] - 0s 3ms/step - loss: 37.3722 - mae: 4.7805\n",
            "(13, 128)\n",
            "4/4 [==============================] - 0s 2ms/step - loss: 48.5658 - mae: 5.0883\n",
            "(13, 128)\n",
            "4/4 [==============================] - 0s 4ms/step - loss: 37.0429 - mae: 4.7720\n",
            "(13, 128)\n",
            "4/4 [==============================] - 0s 4ms/step - loss: 48.1910 - mae: 5.1147\n",
            "(13, 128)\n",
            "4/4 [==============================] - 0s 3ms/step - loss: 36.5447 - mae: 4.7405\n",
            "(13, 128)\n",
            "4/4 [==============================] - 0s 4ms/step - loss: 47.5616 - mae: 5.1211\n",
            "(13, 128)\n",
            "4/4 [==============================] - 0s 4ms/step - loss: 35.3968 - mae: 4.6890\n",
            "(13, 128)\n",
            "4/4 [==============================] - 0s 3ms/step - loss: 45.5603 - mae: 5.0490\n",
            "(13, 128)\n",
            "4/4 [==============================] - 0s 3ms/step - loss: 34.0700 - mae: 4.6063\n",
            "(13, 128)\n",
            "4/4 [==============================] - 0s 3ms/step - loss: 42.8059 - mae: 4.9360\n",
            "(13, 128)\n",
            "4/4 [==============================] - 0s 3ms/step - loss: 32.6825 - mae: 4.5131\n",
            "(13, 128)\n",
            "4/4 [==============================] - 0s 4ms/step - loss: 40.6151 - mae: 4.8360\n",
            "(13, 128)\n",
            "4/4 [==============================] - 0s 2ms/step - loss: 31.2701 - mae: 4.4015\n",
            "(13, 128)\n",
            "4/4 [==============================] - 0s 3ms/step - loss: 39.1602 - mae: 4.7664\n",
            "(13, 128)\n",
            "4/4 [==============================] - 0s 4ms/step - loss: 30.1687 - mae: 4.3157\n",
            "(13, 128)\n",
            "4/4 [==============================] - 0s 3ms/step - loss: 37.8388 - mae: 4.6950\n",
            "(13, 128)\n",
            "4/4 [==============================] - 0s 3ms/step - loss: 29.1063 - mae: 4.2341\n",
            "(13, 128)\n",
            "4/4 [==============================] - 0s 2ms/step - loss: 36.2972 - mae: 4.6059\n",
            "(13, 128)\n",
            "4/4 [==============================] - 0s 4ms/step - loss: 28.1404 - mae: 4.1621\n",
            "(13, 128)\n",
            "4/4 [==============================] - 0s 3ms/step - loss: 34.8731 - mae: 4.5213\n",
            "(13, 128)\n",
            "4/4 [==============================] - 0s 3ms/step - loss: 27.1812 - mae: 4.0901\n",
            "(13, 128)\n",
            "4/4 [==============================] - 0s 3ms/step - loss: 32.1909 - mae: 4.3167\n",
            "(13, 128)\n",
            "4/4 [==============================] - 0s 3ms/step - loss: 26.4420 - mae: 4.0355\n",
            "(13, 128)\n",
            "4/4 [==============================] - 0s 4ms/step - loss: 27.7752 - mae: 4.0240\n",
            "(13, 128)\n",
            "4/4 [==============================] - 0s 4ms/step - loss: 25.1575 - mae: 3.9282\n",
            "(13, 128)\n",
            "4/4 [==============================] - 0s 3ms/step - loss: 24.5422 - mae: 3.7966\n",
            "(13, 128)\n",
            "4/4 [==============================] - 0s 4ms/step - loss: 24.3192 - mae: 3.8595\n",
            "(13, 128)\n",
            "4/4 [==============================] - 0s 4ms/step - loss: 21.9791 - mae: 3.6038\n",
            "(13, 128)\n",
            "4/4 [==============================] - 0s 3ms/step - loss: 23.6614 - mae: 3.8021\n",
            "(13, 128)\n",
            "4/4 [==============================] - 0s 4ms/step - loss: 20.0431 - mae: 3.4457\n",
            "(13, 128)\n",
            "4/4 [==============================] - 0s 4ms/step - loss: 23.7864 - mae: 3.8066\n",
            "(13, 128)\n",
            "4/4 [==============================] - 0s 3ms/step - loss: 18.7193 - mae: 3.3410\n",
            "(13, 128)\n",
            "4/4 [==============================] - 0s 3ms/step - loss: 24.0359 - mae: 3.8207\n",
            "(13, 128)\n",
            "4/4 [==============================] - 0s 4ms/step - loss: 17.7178 - mae: 3.2646\n",
            "(13, 128)\n",
            "4/4 [==============================] - 0s 3ms/step - loss: 23.9389 - mae: 3.8008\n",
            "(13, 128)\n",
            "4/4 [==============================] - 0s 4ms/step - loss: 16.7677 - mae: 3.1870\n",
            "(13, 128)\n",
            "4/4 [==============================] - 0s 3ms/step - loss: 22.9649 - mae: 3.7080\n",
            "(13, 128)\n",
            "4/4 [==============================] - 0s 3ms/step - loss: 16.0095 - mae: 3.1241\n",
            "(13, 128)\n",
            "4/4 [==============================] - 0s 3ms/step - loss: 22.0412 - mae: 3.6136\n",
            "(13, 128)\n",
            "4/4 [==============================] - 0s 4ms/step - loss: 15.4895 - mae: 3.0811\n",
            "(13, 128)\n",
            "4/4 [==============================] - 0s 3ms/step - loss: 21.5175 - mae: 3.5507\n",
            "(13, 128)\n",
            "4/4 [==============================] - 0s 4ms/step - loss: 15.2128 - mae: 3.0464\n",
            "(13, 128)\n",
            "4/4 [==============================] - 0s 4ms/step - loss: 21.1459 - mae: 3.5008\n",
            "(13, 128)\n",
            "4/4 [==============================] - 0s 4ms/step - loss: 15.1259 - mae: 3.0390\n",
            "(13, 128)\n",
            "4/4 [==============================] - 0s 2ms/step - loss: 21.0213 - mae: 3.4735\n",
            "(13, 128)\n",
            "4/4 [==============================] - 0s 4ms/step - loss: 15.1769 - mae: 3.0482\n",
            "(13, 128)\n",
            "4/4 [==============================] - 0s 3ms/step - loss: 20.6975 - mae: 3.4202\n",
            "(13, 128)\n",
            "4/4 [==============================] - 0s 3ms/step - loss: 15.3081 - mae: 3.0786\n"
          ],
          "name": "stdout"
        }
      ]
    },
    {
      "cell_type": "code",
      "metadata": {
        "id": "-cjoQ_E267V0"
      },
      "source": [
        "c1=[]\r\n",
        "c2=[]\r\n",
        "\r\n",
        "for i in range(len(losses[2])):\r\n",
        "  if i%2:\r\n",
        "    c1.append(losses[2][i])\r\n",
        "  else:\r\n",
        "    c2.append(losses[2][i])\r\n",
        "  "
      ],
      "execution_count": 22,
      "outputs": []
    },
    {
      "cell_type": "code",
      "metadata": {
        "colab": {
          "base_uri": "https://localhost:8080/",
          "height": 282
        },
        "id": "4tiLS4om_pv4",
        "outputId": "b3a2ff9d-bd6c-413e-8919-dad44465b42c"
      },
      "source": [
        "plt.plot(c1, label = 'Complete  Overlap')\r\n",
        "plt.plot(c2)"
      ],
      "execution_count": null,
      "outputs": [
        {
          "output_type": "execute_result",
          "data": {
            "text/plain": [
              "[<matplotlib.lines.Line2D at 0x7fdc1fc69eb8>]"
            ]
          },
          "metadata": {
            "tags": []
          },
          "execution_count": 17
        },
        {
          "output_type": "display_data",
          "data": {
            "image/png": "[encoded data removed]",
            "text/plain": [
              "<Figure size 432x288 with 1 Axes>"
            ]
          },
          "metadata": {
            "tags": [],
            "needs_background": "light"
          }
        }
      ]
    },
    {
      "cell_type": "code",
      "metadata": {
        "id": "FWmSs-ueaSu-"
      },
      "source": [
        "plt.plot(c1, label = 'Complete  Overlap')\r\n",
        "plt.plot(c2)"
      ],
      "execution_count": null,
      "outputs": []
    },
    {
      "cell_type": "code",
      "metadata": {
        "colab": {
          "base_uri": "https://localhost:8080/",
          "height": 282
        },
        "id": "dXKwkb2F7DSk",
        "outputId": "7578ad72-dda4-49c2-d38d-9460f2ea219d"
      },
      "source": [
        "plt.plot(c1, label = 'Partial Overlap')\r\n",
        "plt.plot(c2)"
      ],
      "execution_count": null,
      "outputs": [
        {
          "output_type": "execute_result",
          "data": {
            "text/plain": [
              "[<matplotlib.lines.Line2D at 0x7f84c834aef0>]"
            ]
          },
          "metadata": {
            "tags": []
          },
          "execution_count": 17
        },
        {
          "output_type": "display_data",
          "data": {
            "image/png": "[encoded data removed]",
            "text/plain": [
              "<Figure size 432x288 with 1 Axes>"
            ]
          },
          "metadata": {
            "tags": [],
            "needs_background": "light"
          }
        }
      ]
    },
    {
      "cell_type": "code",
      "metadata": {
        "colab": {
          "base_uri": "https://localhost:8080/",
          "height": 283
        },
        "id": "qq9lOnacXI_R",
        "outputId": "c647bea4-0dea-4cea-b7e1-dd84d1f94178"
      },
      "source": [
        "plt.plot(c1, label = 'Partial Overlap')\r\n",
        "plt.plot(c2)"
      ],
      "execution_count": 19,
      "outputs": [
        {
          "output_type": "execute_result",
          "data": {
            "text/plain": [
              "[<matplotlib.lines.Line2D at 0x7f0cc85d27d0>]"
            ]
          },
          "metadata": {
            "tags": []
          },
          "execution_count": 19
        },
        {
          "output_type": "display_data",
          "data": {
            "image/png": "[encoded data removed]",
            "text/plain": [
              "<Figure size 432x288 with 1 Axes>"
            ]
          },
          "metadata": {
            "tags": [],
            "needs_background": "light"
          }
        }
      ]
    },
    {
      "cell_type": "code",
      "metadata": {
        "colab": {
          "base_uri": "https://localhost:8080/",
          "height": 282
        },
        "id": "fWB7RqDW7A0j",
        "outputId": "8d7e65bf-bece-4299-de70-acfa48f92efe"
      },
      "source": [
        "plt.plot(c1, label = 'No Overlap')\r\n",
        "plt.plot(c2)"
      ],
      "execution_count": null,
      "outputs": [
        {
          "output_type": "execute_result",
          "data": {
            "text/plain": [
              "[<matplotlib.lines.Line2D at 0x7fd659f10ef0>]"
            ]
          },
          "metadata": {
            "tags": []
          },
          "execution_count": 19
        },
        {
          "output_type": "display_data",
          "data": {
            "image/png": "[encoded data removed]",
            "text/plain": [
              "<Figure size 432x288 with 1 Axes>"
            ]
          },
          "metadata": {
            "tags": [],
            "needs_background": "light"
          }
        }
      ]
    },
    {
      "cell_type": "code",
      "metadata": {
        "id": "_TaQmEPVnFE5"
      },
      "source": [
        "import pickle\n",
        "with open('BHP_CDWCT_Complete_Overlap_with_Reconstruction.bin','wb') as file:\n",
        "  pickle.dump(losses,file)"
      ],
      "execution_count": 20,
      "outputs": []
    },
    {
      "cell_type": "code",
      "metadata": {
        "id": "sPORoosJn9FI"
      },
      "source": [
        ""
      ],
      "execution_count": null,
      "outputs": []
    }
  ]
}